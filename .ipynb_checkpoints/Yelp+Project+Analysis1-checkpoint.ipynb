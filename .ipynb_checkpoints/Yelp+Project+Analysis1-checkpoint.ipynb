{
 "cells": [
  {
   "cell_type": "code",
   "execution_count": 1,
   "metadata": {
    "collapsed": false
   },
   "outputs": [],
   "source": [
    "import requests_cache\n",
    "import requests\n",
    "import pandas as pd\n",
    "from matplotlib import pyplot as plt\n",
    "plt.style.use('ggplot')\n",
    "%matplotlib inline\n",
    "from pandas.tools.plotting import scatter_matrix\n",
    "import numpy as np\n",
    "import seaborn as sns\n",
    "from requests_oauthlib import OAuth1Session\n",
    "import glob\n",
    "import json\n",
    "import os\n",
    "import urllib2\n",
    "from urllib2 import Request, urlopen\n",
    "from requests_oauthlib import OAuth1Session\n",
    "from bs4 import BeautifulSoup"
   ]
  },
  {
   "cell_type": "markdown",
   "metadata": {
    "collapsed": false,
    "scrolled": true
   },
   "source": [
    "### Data Wrangling Part 2 (From yelp dataset challenge):"
   ]
  },
  {
   "cell_type": "code",
   "execution_count": null,
   "metadata": {
    "collapsed": false
   },
   "outputs": [],
   "source": [
    "path = \"/Users/Stephanie/Desktop/yelp_dataset_challenge_round9\"\n",
    "files = glob.glob(os.path.join(path,\"*.json\"))\n",
    "files"
   ]
  },
  {
   "cell_type": "code",
   "execution_count": null,
   "metadata": {
    "collapsed": false
   },
   "outputs": [],
   "source": [
    "############# Copy from online(not sure if it works or not yet) ##########\n",
    "\n",
    "#Convert Yelp Academic Dataset from JSON to CSV\n",
    "import csv\n",
    "def convert(line):\n",
    "    ''' Convert a json string to a flat python dictionary\n",
    "    which can be passed into Pandas. '''\n",
    "    data = json.loads(line)\n",
    "    for k, v in data.items():\n",
    "        if isinstance(v, list):\n",
    "            data[k] = ','.join(v)\n",
    "        elif isinstance(v, dict):\n",
    "            for kk, vv in v.items():\n",
    "                data['%s_%s' % (k, kk)] = vv\n",
    "            del data[k]\n",
    "    return line\n",
    "\n",
    "\n",
    "csv_filename = 'review.csv'\n",
    "df = pd.DataFrame([convert(line) for line in file(files[2])])\n",
    "df.to_csv(csv_filename, index=False)\n"
   ]
  },
  {
   "cell_type": "code",
   "execution_count": null,
   "metadata": {
    "collapsed": false
   },
   "outputs": [],
   "source": [
    "def readfile(files):\n",
    "    # read the file into a python array\n",
    "    with open(files, 'rb') as f:\n",
    "        data = f.readlines()\n",
    "        # remove the trailing \"\\n\" from each line\n",
    "        data = map(lambda x: x.rstrip(), data)\n",
    "        data_str = \"[\" + ','.join(data) + \"]\"\n",
    "        df = pd.read_json(data_str)\n",
    "        \n",
    "        f.close()\n",
    "        return df\n",
    "     \n",
    "def fixdf(newlist):\n",
    "    new_df = pd.concat(newlist, axis = 0)\n",
    "    return new_df\n",
    "\n",
    "yelplist = []"
   ]
  },
  {
   "cell_type": "code",
   "execution_count": null,
   "metadata": {
    "collapsed": false
   },
   "outputs": [],
   "source": [
    "review_data = readfile(files[2])"
   ]
  },
  {
   "cell_type": "code",
   "execution_count": null,
   "metadata": {
    "collapsed": true
   },
   "outputs": [],
   "source": [
    "review_data.head()"
   ]
  },
  {
   "cell_type": "code",
   "execution_count": null,
   "metadata": {
    "collapsed": true
   },
   "outputs": [],
   "source": []
  },
  {
   "cell_type": "markdown",
   "metadata": {},
   "source": [
    "### Data Wrangling "
   ]
  },
  {
   "cell_type": "code",
   "execution_count": 2,
   "metadata": {
    "collapsed": true
   },
   "outputs": [],
   "source": [
    "import requests_cache\n",
    "import requests\n",
    "import pandas as pd\n",
    "from matplotlib import pyplot as plt\n",
    "plt.style.use('ggplot')\n",
    "%matplotlib inline\n",
    "from pandas.tools.plotting import scatter_matrix\n",
    "import numpy as np\n",
    "import seaborn as sns\n",
    "from requests_oauthlib import OAuth1Session\n",
    "from bs4 import BeautifulSoup\n",
    "import pandas as pd"
   ]
  },
  {
   "cell_type": "code",
   "execution_count": 3,
   "metadata": {
    "collapsed": false
   },
   "outputs": [],
   "source": [
    "requests_cache.install_cache(\"cache\")\n",
    "\n",
    "# criteria: 1=Distance, 2=Highest Rated\n",
    "\n",
    "def yelp_search(term, location, criteria):\n",
    "    \"\"\"\n",
    "    makes a search request\n",
    "    \n",
    "    Argument: search term, location\n",
    "    \n",
    "    Return: search result items as a list (for 0 items, return an empty list)\n",
    "    \"\"\"\n",
    "    consumer_key = \"uFKYftN0fu4pD6guW2cYng\"\n",
    "    consumer_secret = \"iUYQ2Hk3-vTQVd0zOFnvloWPivA\"\n",
    "    token = \"FZnep4FiFmwrrifuNm6M-_K661Wb3J02\"\n",
    "    token_secret = \"CRvBo_fO-r4pE_-p2UrnN_mxBlc\"\n",
    "   \n",
    "    urlbase = \"http://api.yelp.com/v2/search\"\n",
    "    params = ({\"term\": term})\n",
    "    \n",
    "    criteria = criteria.lower()\n",
    "    \n",
    "    if criteria == \"distance\":\n",
    "        params.update({\"location\": location, \"sort\": \"1\", \"cll\" : \"latitude,longitude\"})\n",
    "    else:\n",
    "        params.update({\"location\": location, \"sort\": \"2\", \"cll\" : \"latitude,longitude\"})\n",
    "    session = OAuth1Session(consumer_key, consumer_secret,token,token_secret)\n",
    "     \n",
    "    request = session.get(urlbase,params=params)\n",
    "   \n",
    "    #Transforms JSON API response into dictionary\n",
    "    data = request.json()\n",
    "    session.close()\n",
    "    output = data\n",
    "    \n",
    "    if \"businesses\" not in output:\n",
    "        return {}\n",
    "    \n",
    "    else:\n",
    "        return output[\"businesses\"]\n"
   ]
  },
  {
   "cell_type": "code",
   "execution_count": 4,
   "metadata": {
    "collapsed": true
   },
   "outputs": [],
   "source": [
    "def extract(url):\n",
    "    \"\"\"\n",
    "    extract\n",
    "    \"\"\"\n",
    "    info = requests.get(url).content\n",
    "    wikisoup = BeautifulSoup(info, 'lxml')\n",
    "    city_data = wikisoup.findAll(\"th\", {\"scope\": \"row\"})\n",
    "    population_data = wikisoup.findAll(\"td\", {\"align\":\"right\"})\n",
    "    city = [city.text for city in city_data]\n",
    "    city = city[1:-8]\n",
    "    population_data = wikisoup.findAll(\"td\", {\"align\":\"right\"})\n",
    "    population_data = \"\\n\".join([population.text for population in population_data])\n",
    "    population_split = population_data.split(\"\\n\")\n",
    "    population = population_split[0::2]\n",
    "    info_dict = {\"city\": city, \"population\": population}\n",
    "    return info_dict"
   ]
  },
  {
   "cell_type": "code",
   "execution_count": 5,
   "metadata": {
    "collapsed": false
   },
   "outputs": [],
   "source": [
    "url = \"https://en.wikipedia.org/wiki/List_of_cities_and_towns_in_California\"\n",
    "url_output = extract(url)\n",
    "pd_scrape = pd.DataFrame(url_output)"
   ]
  },
  {
   "cell_type": "code",
   "execution_count": 6,
   "metadata": {
    "collapsed": false
   },
   "outputs": [],
   "source": [
    "# this excel provide latitude and longitude information\n",
    "pd_location = pd.read_excel(\"/Users/Stephanie/Desktop/calcities.xlsx\", header = 0)"
   ]
  },
  {
   "cell_type": "code",
   "execution_count": 7,
   "metadata": {
    "collapsed": false
   },
   "outputs": [],
   "source": [
    "pd_location_1 = pd_location.rename(columns = {'Name':'city'})\n",
    "pd_geo = pd.merge(pd_scrape, pd_location_1, on = \"city\")"
   ]
  },
  {
   "cell_type": "code",
   "execution_count": 8,
   "metadata": {
    "collapsed": false
   },
   "outputs": [],
   "source": [
    "pd_geo['city'] = pd_geo['city'] + ', CA'"
   ]
  },
  {
   "cell_type": "code",
   "execution_count": 9,
   "metadata": {
    "collapsed": true
   },
   "outputs": [],
   "source": [
    "def search(keyterm, city, criteria):\n",
    "    result = yelp_search(keyterm, city, criteria)\n",
    "    df_result = pd.DataFrame(result)\n",
    "    df_result[\"city\"] = city\n",
    "    return df_result\n",
    "\n",
    "#change category thats 'Nan' to 'Unknown'\n",
    "def nan_to_unknown(df):\n",
    "    for i in range(0,len(df)):\n",
    "        if type(df['categories'][i]) == float:\n",
    "            df['categories'][i] = [[u'Unknown']]\n",
    "    return df"
   ]
  },
  {
   "cell_type": "code",
   "execution_count": 295,
   "metadata": {
    "collapsed": false
   },
   "outputs": [
    {
     "name": "stderr",
     "output_type": "stream",
     "text": [
      "/Users/stephanie/anaconda/lib/python2.7/site-packages/ipykernel/__main__.py:5: SettingWithCopyWarning:\n",
      "\n",
      "\n",
      "A value is trying to be set on a copy of a slice from a DataFrame\n",
      "\n",
      "See the caveats in the documentation: http://pandas.pydata.org/pandas-docs/stable/indexing.html#indexing-view-versus-copy\n",
      "\n"
     ]
    }
   ],
   "source": [
    "def yelp_df(keyterm, criteria):\n",
    "    yelp_keyterm = [search(keyterm, \"%s, CA\" %city, criteria) for city in pd_scrape[\"city\"]]\n",
    "    df_keyterm = pd.concat(yelp_keyterm, ignore_index = True)\n",
    "    df_drop = df_keyterm.drop([\"deals\", \"gift_certificates\", \"location\", \"menu_date_updated\", \"menu_provider\", \"phone\", \"rating_img_url\", \"rating_img_url_large\", \"rating_img_url_small\", \"snippet_image_url\"], 1)\n",
    "    df_final = pd.merge(df_drop, pd_geo, on = \"city\", how = \"inner\")\n",
    "    df_final = nan_to_unknown(df_final)\n",
    "    return df_final\n",
    "\n",
    "df_food_final = yelp_df(\"restaurants\", \"Distance\")"
   ]
  },
  {
   "cell_type": "code",
   "execution_count": 296,
   "metadata": {
    "collapsed": false
   },
   "outputs": [
    {
     "name": "stderr",
     "output_type": "stream",
     "text": [
      "/Users/stephanie/anaconda/lib/python2.7/site-packages/ipykernel/__main__.py:5: SettingWithCopyWarning:\n",
      "\n",
      "\n",
      "A value is trying to be set on a copy of a slice from a DataFrame\n",
      "\n",
      "See the caveats in the documentation: http://pandas.pydata.org/pandas-docs/stable/indexing.html#indexing-view-versus-copy\n",
      "\n"
     ]
    }
   ],
   "source": [
    "df_hotels_final = yelp_df(\"hotels\", \"Distance\")"
   ]
  },
  {
   "cell_type": "markdown",
   "metadata": {},
   "source": [
    "### Analying data and plotting:"
   ]
  },
  {
   "cell_type": "code",
   "execution_count": 304,
   "metadata": {
    "collapsed": true
   },
   "outputs": [],
   "source": [
    "import plotly\n",
    "import plotly.plotly as py  \n",
    "import plotly.tools as tls   \n",
    "from plotly.graph_objs import *\n",
    "import numpy as np  \n",
    "import plotly.graph_objs as go\n",
    "\n",
    "tls.set_credentials_file(\n",
    "    username = 'stephanielam',\n",
    "    api_key = 'CnYmsvRY60Eq3YOOul8J')"
   ]
  },
  {
   "cell_type": "code",
   "execution_count": 19,
   "metadata": {
    "collapsed": false
   },
   "outputs": [],
   "source": [
    "from collections import Counter\n",
    "\n",
    "#get the most frequent category labels (Overall)\n",
    "def freq_cat(dataframe):\n",
    "    count = []\n",
    "    for i in range(0,len(dataframe)):\n",
    "        data = dataframe['categories'][i][0][0]\n",
    "        count.append(data)\n",
    "        freq = Counter(count)\n",
    "        \n",
    "    count_df = pd.DataFrame(freq.most_common()[0:10])\n",
    "    return count_df"
   ]
  },
  {
   "cell_type": "code",
   "execution_count": 231,
   "metadata": {
    "collapsed": false
   },
   "outputs": [
    {
     "data": {
      "text/html": [
       "<iframe id=\"igraph\" scrolling=\"no\" style=\"border:none;\" seamless=\"seamless\" src=\"https://plot.ly/~stephanielamm/50.embed\" height=\"525px\" width=\"100%\"></iframe>"
      ],
      "text/plain": [
       "<plotly.tools.PlotlyDisplay object>"
      ]
     },
     "execution_count": 231,
     "metadata": {},
     "output_type": "execute_result"
    }
   ],
   "source": [
    "count_df = freq_cat(df_food_final)\n",
    "\n",
    "#plot\n",
    "data = [go.Bar(x= count_df[0],y= count_df[1])]\n",
    "layout = go.Layout(title='Top 10 most frequent category for Restaurant')\n",
    "fig = go.Figure(data=data, layout=layout)\n",
    "py.iplot(fig, filename = 'Top 10 most frequent category1')"
   ]
  },
  {
   "cell_type": "code",
   "execution_count": 21,
   "metadata": {
    "collapsed": false
   },
   "outputs": [],
   "source": [
    "#get star count by each category\n",
    "def get_count(category):\n",
    "    count_list =[]\n",
    "    for i in range(len(df_food_final)):\n",
    "        if df_food_final['categories'][i][0][0] == category:\n",
    "            count_list.append(df_food_final['rating'][i])       \n",
    "    labels, values = zip(*Counter(count_list).items()) \n",
    "    count_list =[] \n",
    "    return labels, values\n",
    "\n",
    "cat_count = []\n",
    "def get_cat_count(dataframe):\n",
    "    for i in range(0, len(dataframe[0])):\n",
    "        count = get_count(dataframe[0][i])\n",
    "        cat_count.append(count)\n",
    "    \n",
    "    return cat_count\n",
    "\n",
    "cat_count = get_cat_count(count_df)"
   ]
  },
  {
   "cell_type": "code",
   "execution_count": 22,
   "metadata": {
    "collapsed": false
   },
   "outputs": [
    {
     "data": {
      "text/html": [
       "<iframe id=\"igraph\" scrolling=\"no\" style=\"border:none;\" seamless=\"seamless\" src=\"https://plot.ly/~stephanielamm/30.embed\" height=\"525px\" width=\"100%\"></iframe>"
      ],
      "text/plain": [
       "<plotly.tools.PlotlyDisplay object>"
      ]
     },
     "execution_count": 22,
     "metadata": {},
     "output_type": "execute_result"
    }
   ],
   "source": [
    "#plot of Distribution of stars(by category)\n",
    "\n",
    "for i in range(0, len(cat_count)):\n",
    "    locals()['trace%s' % i] = go.Bar(x = cat_count[i][0], y=cat_count[i][1], name= count_df[0][i])\n",
    "\n",
    "data = [trace0, trace1, trace2, trace3, trace4, trace5, trace6, trace7, trace8, trace9]\n",
    "layout = go.Layout(barmode = 'stack', title ='Rating stars distribution (by categeory)'\n",
    ")\n",
    "\n",
    "fig = go.Figure(data=data, layout=layout)\n",
    "py.iplot(fig, filename='Rating stars distribution (by categeory)')"
   ]
  },
  {
   "cell_type": "code",
   "execution_count": 38,
   "metadata": {
    "collapsed": false
   },
   "outputs": [
    {
     "data": {
      "text/html": [
       "<div>\n",
       "<table border=\"1\" class=\"dataframe\">\n",
       "  <thead>\n",
       "    <tr style=\"text-align: right;\">\n",
       "      <th></th>\n",
       "      <th>city</th>\n",
       "      <th>rating</th>\n",
       "      <th>review_count</th>\n",
       "      <th>population</th>\n",
       "      <th>Latitude</th>\n",
       "      <th>Longitude</th>\n",
       "    </tr>\n",
       "  </thead>\n",
       "  <tbody>\n",
       "    <tr>\n",
       "      <th>0</th>\n",
       "      <td>Adelanto, CA</td>\n",
       "      <td>3.575</td>\n",
       "      <td>27.95</td>\n",
       "      <td>31,765</td>\n",
       "      <td>34.582769</td>\n",
       "      <td>-117.409214</td>\n",
       "    </tr>\n",
       "    <tr>\n",
       "      <th>1</th>\n",
       "      <td>Agoura Hills, CA</td>\n",
       "      <td>4.050</td>\n",
       "      <td>231.50</td>\n",
       "      <td>20,330</td>\n",
       "      <td>34.153339</td>\n",
       "      <td>-118.761675</td>\n",
       "    </tr>\n",
       "    <tr>\n",
       "      <th>2</th>\n",
       "      <td>Alameda, CA</td>\n",
       "      <td>4.100</td>\n",
       "      <td>465.90</td>\n",
       "      <td>73,812</td>\n",
       "      <td>37.765206</td>\n",
       "      <td>-122.241636</td>\n",
       "    </tr>\n",
       "    <tr>\n",
       "      <th>3</th>\n",
       "      <td>Albany, CA</td>\n",
       "      <td>4.150</td>\n",
       "      <td>258.10</td>\n",
       "      <td>18,539</td>\n",
       "      <td>37.886869</td>\n",
       "      <td>-122.297747</td>\n",
       "    </tr>\n",
       "    <tr>\n",
       "      <th>4</th>\n",
       "      <td>Alhambra, CA</td>\n",
       "      <td>4.050</td>\n",
       "      <td>493.20</td>\n",
       "      <td>83,089</td>\n",
       "      <td>34.095286</td>\n",
       "      <td>-118.127014</td>\n",
       "    </tr>\n",
       "  </tbody>\n",
       "</table>\n",
       "</div>"
      ],
      "text/plain": [
       "               city  rating  review_count population  Latitude    Longitude\n",
       "0      Adelanto, CA   3.575         27.95     31,765  34.582769 -117.409214\n",
       "1  Agoura Hills, CA   4.050        231.50     20,330  34.153339 -118.761675\n",
       "2       Alameda, CA   4.100        465.90     73,812  37.765206 -122.241636\n",
       "3        Albany, CA   4.150        258.10     18,539  37.886869 -122.297747\n",
       "4      Alhambra, CA   4.050        493.20     83,089  34.095286 -118.127014"
      ]
     },
     "execution_count": 38,
     "metadata": {},
     "output_type": "execute_result"
    }
   ],
   "source": [
    "#get the average star rating (by City)\n",
    "def average_star_city(dataframe, category):\n",
    "    average_rate = dataframe.groupby('city')[category].mean()\n",
    "    average_rate = average_rate.reset_index()\n",
    "    average_rate = pd.DataFrame(average_rate)\n",
    "    return average_rate\n",
    "    \n",
    "rating_star = average_star_city(df_food_final, 'rating')\n",
    "average_review = average_star_city(df_food_final, 'review_count')\n",
    "rating_star = pd.merge(rating_star, average_review, on= 'city')\n",
    "rating_star = pd.merge(rating_star, pd_geo, on='city')\n",
    "rating_star.head()"
   ]
  },
  {
   "cell_type": "code",
   "execution_count": 260,
   "metadata": {
    "collapsed": false,
    "scrolled": false
   },
   "outputs": [
    {
     "data": {
      "text/html": [
       "<iframe id=\"igraph\" scrolling=\"no\" style=\"border:none;\" seamless=\"seamless\" src=\"https://plot.ly/~stephanielamm/54.embed\" height=\"525px\" width=\"100%\"></iframe>"
      ],
      "text/plain": [
       "<plotly.tools.PlotlyDisplay object>"
      ]
     },
     "execution_count": 260,
     "metadata": {},
     "output_type": "execute_result"
    }
   ],
   "source": [
    "def city_rating_map(df, keyterm, scale):\n",
    "    \"\"\"\n",
    "    df : dataframe\n",
    "    keyterm\n",
    "    scale : scale of markers(reflecting review count)\n",
    "    \n",
    "    \"\"\"\n",
    "    df['text'] = 'City: ' + df['city'] + ' <br>Rating: ' + df['rating'].astype(np.str) +' star' + '<br>Average Reviews count: ' + df['review_count'].astype(np.str)\n",
    "    limits = [(1,3),(3,3.5),(3.5,4),(4,4.5),(4.5,5)]\n",
    "    colors = [\"lightgrey\",\"lightgreen\",\"lightblue\",\"lightyellow\",\"red\"]\n",
    "    cities = []\n",
    "\n",
    "    for i in range(len(limits)):\n",
    "        lim = limits[i]\n",
    "        rate_sub = df.query('%f' %lim[0] +'<= rating < %f' %lim[1])\n",
    "        city = dict(\n",
    "            type = 'scattergeo',\n",
    "            locationmode = 'USA-states',\n",
    "            lon = rate_sub['Longitude'],\n",
    "            lat = rate_sub['Latitude '],\n",
    "            text = rate_sub['text'],\n",
    "            marker = dict(\n",
    "                size = rate_sub['review_count'] / scale,\n",
    "                color = colors[i],\n",
    "                line = dict(width=0.5, color='rgb(40,40,40)'),\n",
    "                sizemode = 'area'\n",
    "            ),\n",
    "            name = '{0} - {1} stars'.format(lim[0],lim[1]))\n",
    "        cities.append(city)\n",
    "\n",
    "    layout = dict(\n",
    "            title = '%s Average Rating by City<br>(Click legend to toggle traces)'%keyterm,\n",
    "            showlegend = True,\n",
    "            geo = dict(\n",
    "                scope='usa',\n",
    "                projection=dict( type='albers usa' ),\n",
    "                showland = True,\n",
    "                landcolor = 'rgb(217, 217, 217)',\n",
    "                subunitwidth=1,\n",
    "                countrywidth=1,\n",
    "                subunitcolor=\"rgb(255, 255, 255)\",\n",
    "                countrycolor=\"rgb(255, 255, 255)\"\n",
    "            ),\n",
    "        )\n",
    "\n",
    "    fig = dict( data=cities, layout=layout )\n",
    "    return py.iplot(fig, validate=False, filename='%s average rating by city'%keyterm)\n",
    "\n",
    "city_rating_map(rating_star,'Restaurant', 2.5)"
   ]
  },
  {
   "cell_type": "code",
   "execution_count": 40,
   "metadata": {
    "collapsed": false
   },
   "outputs": [
    {
     "data": {
      "text/html": [
       "<iframe id=\"igraph\" scrolling=\"no\" style=\"border:none;\" seamless=\"seamless\" src=\"https://plot.ly/~stephanielamm/34.embed\" height=\"525px\" width=\"100%\"></iframe>"
      ],
      "text/plain": [
       "<plotly.tools.PlotlyDisplay object>"
      ]
     },
     "execution_count": 40,
     "metadata": {},
     "output_type": "execute_result"
    }
   ],
   "source": [
    "#rating vs review_count\n",
    "data = go.Scatter(\n",
    "    x = df_food_final['rating'],\n",
    "    y = df_food_final['review_count'],\n",
    "    mode = 'markers'\n",
    ")\n",
    "\n",
    "layout = go.Layout(\n",
    "    title='Scatter plot of Restaurant\\'s rating vs review count',\n",
    "    xaxis=dict(\n",
    "        title='Rating',\n",
    "        gridcolor='rgb(255, 255, 255)',\n",
    "    ),\n",
    "    yaxis=dict(\n",
    "        title='Review Count',\n",
    "        gridcolor='rgb(255, 255, 255)',\n",
    "    ),\n",
    "    paper_bgcolor='rgb(243, 243, 243)',\n",
    "    plot_bgcolor='rgb(243, 243, 243)',\n",
    ")\n",
    "\n",
    "fig = dict(data=[data], layout=layout)\n",
    "py.iplot(fig, filename='Scatter plot of rating vs review count')"
   ]
  },
  {
   "cell_type": "code",
   "execution_count": 215,
   "metadata": {
    "collapsed": false,
    "scrolled": true
   },
   "outputs": [],
   "source": [
    "mapbox_access_token = 'pk.eyJ1Ijoic3RhMTQxcHJvamVjdCIsImEiOiJjaXpxYWUyOHEwMTZ1MzNuNHp6b21zY2Y5In0.Vr6h57ZVuRRgfJ4RwW9wGw'"
   ]
  },
  {
   "cell_type": "code",
   "execution_count": 223,
   "metadata": {
    "collapsed": false
   },
   "outputs": [],
   "source": [
    "def find_best_5(data, df):\n",
    "    df_best_5 = pd.DataFrame()\n",
    "    for i in range(0,len(data)):\n",
    "        if data['rating'][i] == 5.0:\n",
    "            top = df.iloc[[data['level_1'][i]]]\n",
    "            df_best_5 = pd.concat([top,df_best_5],ignore_index = True)\n",
    "            df_best_5 = df_best_5.drop_duplicates(['name'])\n",
    "            if len(df_best_5) == 5:\n",
    "                break\n",
    "    return df_best_5\n",
    "\n",
    "def best_5_map(dataframe, keyterm):\n",
    "    dataframe['text'] = 'Name: ' + dataframe['name'] + '<br>City:' + dataframe['city'] +'<br>Rating: ' + dataframe['rating'].astype(np.str)+ ' star' + '<br>Reviews count: ' + dataframe['review_count'].astype(np.str) + '<br>Category: ' + [dataframe['categories'][i][0][0] for i in reversed(range(0, len(dataframe['categories'])))]\n",
    "\n",
    "    data = Data([\n",
    "        Scattermapbox(\n",
    "            lat=dataframe['Latitude '],\n",
    "            lon=dataframe['Longitude'],\n",
    "            mode='markers',\n",
    "            marker=Marker(\n",
    "                size=17,\n",
    "                color='rgb(255, 0, 0)',\n",
    "                opacity=0.7\n",
    "            ),\n",
    "            text=dataframe['text'],\n",
    "        )\n",
    "    ])\n",
    "\n",
    "    layout = Layout(\n",
    "        title = 'Top 5 %s in California'%keyterm,\n",
    "        autosize=True,\n",
    "        hovermode='closest',\n",
    "        mapbox=dict(\n",
    "            accesstoken=mapbox_access_token,\n",
    "            bearing=0,\n",
    "            center=dict(\n",
    "                lat=35,\n",
    "                lon=-120\n",
    "            ),\n",
    "            pitch=0,\n",
    "            zoom=4.5\n",
    "        ),\n",
    "    )\n",
    "\n",
    "    fig = dict(data=data, layout=layout)\n",
    "    return py.iplot(fig, filename='Top 5 %s'%keyterm, validate=False)"
   ]
  },
  {
   "cell_type": "code",
   "execution_count": 225,
   "metadata": {
    "collapsed": true
   },
   "outputs": [
    {
     "data": {
      "text/html": [
       "<div>\n",
       "<table border=\"1\" class=\"dataframe\">\n",
       "  <thead>\n",
       "    <tr style=\"text-align: right;\">\n",
       "      <th></th>\n",
       "      <th>categories</th>\n",
       "      <th>city</th>\n",
       "      <th>display_phone</th>\n",
       "      <th>id</th>\n",
       "      <th>is_claimed</th>\n",
       "      <th>is_closed</th>\n",
       "      <th>mobile_url</th>\n",
       "      <th>name</th>\n",
       "      <th>rating</th>\n",
       "      <th>review_count</th>\n",
       "      <th>snippet_text</th>\n",
       "      <th>url</th>\n",
       "      <th>population</th>\n",
       "      <th>Latitude</th>\n",
       "      <th>Longitude</th>\n",
       "    </tr>\n",
       "  </thead>\n",
       "  <tbody>\n",
       "    <tr>\n",
       "      <th>4</th>\n",
       "      <td>[[Bakeries, bakeries], [Lebanese, lebanese], [...</td>\n",
       "      <td>Murrieta, CA</td>\n",
       "      <td>+1-951-894-4544</td>\n",
       "      <td>sultan-bakery-and-grill-murrieta-4</td>\n",
       "      <td>True</td>\n",
       "      <td>False</td>\n",
       "      <td>https://m.yelp.com/biz/sultan-bakery-and-grill...</td>\n",
       "      <td>Sultan Bakery and Grill</td>\n",
       "      <td>5.0</td>\n",
       "      <td>419</td>\n",
       "      <td>Came here with my mom and teenage son while vi...</td>\n",
       "      <td>https://www.yelp.com/biz/sultan-bakery-and-gri...</td>\n",
       "      <td>103,466</td>\n",
       "      <td>33.553914</td>\n",
       "      <td>-117.213922</td>\n",
       "    </tr>\n",
       "    <tr>\n",
       "      <th>3</th>\n",
       "      <td>[[Meat Shops, meats], [Halal, halal]]</td>\n",
       "      <td>Vernon, CA</td>\n",
       "      <td>+1-323-771-2400</td>\n",
       "      <td>fatimas-halal-meat-market-and-grill-bell</td>\n",
       "      <td>True</td>\n",
       "      <td>False</td>\n",
       "      <td>https://m.yelp.com/biz/fatimas-halal-meat-mark...</td>\n",
       "      <td>Fatima's Halal Meat Market &amp; Grill</td>\n",
       "      <td>5.0</td>\n",
       "      <td>322</td>\n",
       "      <td>Haven't even tried the food but I'm already in...</td>\n",
       "      <td>https://www.yelp.com/biz/fatimas-halal-meat-ma...</td>\n",
       "      <td>112</td>\n",
       "      <td>34.003903</td>\n",
       "      <td>-118.230072</td>\n",
       "    </tr>\n",
       "    <tr>\n",
       "      <th>2</th>\n",
       "      <td>[[Japanese, japanese]]</td>\n",
       "      <td>Rancho Mirage, CA</td>\n",
       "      <td>+1-760-779-5000</td>\n",
       "      <td>shabu-shabu-zen-and-sake-bar-rancho-mirage</td>\n",
       "      <td>True</td>\n",
       "      <td>False</td>\n",
       "      <td>https://m.yelp.com/biz/shabu-shabu-zen-and-sak...</td>\n",
       "      <td>Shabu Shabu Zen and Sake Bar</td>\n",
       "      <td>5.0</td>\n",
       "      <td>308</td>\n",
       "      <td>Totally lived up to the hype. \\n\\nThis is the ...</td>\n",
       "      <td>https://www.yelp.com/biz/shabu-shabu-zen-and-s...</td>\n",
       "      <td>17,218</td>\n",
       "      <td>33.739744</td>\n",
       "      <td>-116.412789</td>\n",
       "    </tr>\n",
       "    <tr>\n",
       "      <th>1</th>\n",
       "      <td>[[Tapas/Small Plates, tapasmallplates], [Ameri...</td>\n",
       "      <td>Santa Ana, CA</td>\n",
       "      <td>NaN</td>\n",
       "      <td>playground-2-0-santa-ana-3</td>\n",
       "      <td>True</td>\n",
       "      <td>False</td>\n",
       "      <td>https://m.yelp.com/biz/playground-2-0-santa-an...</td>\n",
       "      <td>Playground 2.0</td>\n",
       "      <td>5.0</td>\n",
       "      <td>299</td>\n",
       "      <td>Nobody does pairings like Rhett, and there's n...</td>\n",
       "      <td>https://www.yelp.com/biz/playground-2-0-santa-...</td>\n",
       "      <td>324,528</td>\n",
       "      <td>33.745572</td>\n",
       "      <td>-117.867833</td>\n",
       "    </tr>\n",
       "    <tr>\n",
       "      <th>0</th>\n",
       "      <td>[[Burgers, burgers], [Fast Food, hotdogs], [Am...</td>\n",
       "      <td>Irwindale, CA</td>\n",
       "      <td>+1-626-699-1188</td>\n",
       "      <td>bun-street-west-covina</td>\n",
       "      <td>True</td>\n",
       "      <td>False</td>\n",
       "      <td>https://m.yelp.com/biz/bun-street-west-covina?...</td>\n",
       "      <td>Bun Street</td>\n",
       "      <td>5.0</td>\n",
       "      <td>293</td>\n",
       "      <td>Went to check this place out for the first tim...</td>\n",
       "      <td>https://www.yelp.com/biz/bun-street-west-covin...</td>\n",
       "      <td>1,422</td>\n",
       "      <td>34.106953</td>\n",
       "      <td>-117.935342</td>\n",
       "    </tr>\n",
       "  </tbody>\n",
       "</table>\n",
       "</div>"
      ],
      "text/plain": [
       "                                          categories               city  \\\n",
       "4  [[Bakeries, bakeries], [Lebanese, lebanese], [...       Murrieta, CA   \n",
       "3              [[Meat Shops, meats], [Halal, halal]]         Vernon, CA   \n",
       "2                             [[Japanese, japanese]]  Rancho Mirage, CA   \n",
       "1  [[Tapas/Small Plates, tapasmallplates], [Ameri...      Santa Ana, CA   \n",
       "0  [[Burgers, burgers], [Fast Food, hotdogs], [Am...      Irwindale, CA   \n",
       "\n",
       "     display_phone                                          id is_claimed  \\\n",
       "4  +1-951-894-4544          sultan-bakery-and-grill-murrieta-4       True   \n",
       "3  +1-323-771-2400    fatimas-halal-meat-market-and-grill-bell       True   \n",
       "2  +1-760-779-5000  shabu-shabu-zen-and-sake-bar-rancho-mirage       True   \n",
       "1              NaN                  playground-2-0-santa-ana-3       True   \n",
       "0  +1-626-699-1188                      bun-street-west-covina       True   \n",
       "\n",
       "  is_closed                                         mobile_url  \\\n",
       "4     False  https://m.yelp.com/biz/sultan-bakery-and-grill...   \n",
       "3     False  https://m.yelp.com/biz/fatimas-halal-meat-mark...   \n",
       "2     False  https://m.yelp.com/biz/shabu-shabu-zen-and-sak...   \n",
       "1     False  https://m.yelp.com/biz/playground-2-0-santa-an...   \n",
       "0     False  https://m.yelp.com/biz/bun-street-west-covina?...   \n",
       "\n",
       "                                 name  rating  review_count  \\\n",
       "4             Sultan Bakery and Grill     5.0           419   \n",
       "3  Fatima's Halal Meat Market & Grill     5.0           322   \n",
       "2        Shabu Shabu Zen and Sake Bar     5.0           308   \n",
       "1                      Playground 2.0     5.0           299   \n",
       "0                          Bun Street     5.0           293   \n",
       "\n",
       "                                        snippet_text  \\\n",
       "4  Came here with my mom and teenage son while vi...   \n",
       "3  Haven't even tried the food but I'm already in...   \n",
       "2  Totally lived up to the hype. \\n\\nThis is the ...   \n",
       "1  Nobody does pairings like Rhett, and there's n...   \n",
       "0  Went to check this place out for the first tim...   \n",
       "\n",
       "                                                 url population  Latitude   \\\n",
       "4  https://www.yelp.com/biz/sultan-bakery-and-gri...    103,466  33.553914   \n",
       "3  https://www.yelp.com/biz/fatimas-halal-meat-ma...        112  34.003903   \n",
       "2  https://www.yelp.com/biz/shabu-shabu-zen-and-s...     17,218  33.739744   \n",
       "1  https://www.yelp.com/biz/playground-2-0-santa-...    324,528  33.745572   \n",
       "0  https://www.yelp.com/biz/bun-street-west-covin...      1,422  34.106953   \n",
       "\n",
       "    Longitude  \n",
       "4 -117.213922  \n",
       "3 -118.230072  \n",
       "2 -116.412789  \n",
       "1 -117.867833  \n",
       "0 -117.935342  "
      ]
     },
     "execution_count": 225,
     "metadata": {},
     "output_type": "execute_result"
    }
   ],
   "source": [
    "#top 5 restaurants:\n",
    "best_5 = df_food_final.groupby('rating')['review_count'].nlargest(10).reset_index()\n",
    "best_5 = pd.DataFrame(best_5)\n",
    "df_best_5 = find_best_5(best_5, df_food_final)\n",
    "df_best_5 = df_best_5.iloc[::-1]\n",
    "df_best_5"
   ]
  },
  {
   "cell_type": "code",
   "execution_count": 221,
   "metadata": {
    "collapsed": false,
    "scrolled": false
   },
   "outputs": [
    {
     "data": {
      "text/html": [
       "<iframe id=\"igraph\" scrolling=\"no\" style=\"border:none;\" seamless=\"seamless\" src=\"https://plot.ly/~stephanielamm/36.embed\" height=\"525px\" width=\"100%\"></iframe>"
      ],
      "text/plain": [
       "<plotly.tools.PlotlyDisplay object>"
      ]
     },
     "execution_count": 221,
     "metadata": {},
     "output_type": "execute_result"
    }
   ],
   "source": [
    "#top 5 plot\n",
    "best_5_map(df_best_5, 'Restaurant')"
   ]
  },
  {
   "cell_type": "markdown",
   "metadata": {},
   "source": [
    "### Hotels"
   ]
  },
  {
   "cell_type": "code",
   "execution_count": 302,
   "metadata": {
    "collapsed": true
   },
   "outputs": [],
   "source": [
    "#get the most frequent category labels (Overall)\n",
    "count_df = freq_cat(df_hotels_final)"
   ]
  },
  {
   "cell_type": "code",
   "execution_count": 305,
   "metadata": {
    "collapsed": false
   },
   "outputs": [
    {
     "data": {
      "text/html": [
       "<iframe id=\"igraph\" scrolling=\"no\" style=\"border:none;\" seamless=\"seamless\" src=\"https://plot.ly/~stephanielam/6.embed\" height=\"525px\" width=\"100%\"></iframe>"
      ],
      "text/plain": [
       "<plotly.tools.PlotlyDisplay object>"
      ]
     },
     "execution_count": 305,
     "metadata": {},
     "output_type": "execute_result"
    }
   ],
   "source": [
    "#plot\n",
    "data = [go.Bar(x= count_df[0],y= count_df[1],\n",
    "        marker=dict(\n",
    "            color=['rgba(222,45,38,0.8)', 'grey', 'grey', 'grey', 'grey', 'grey',\n",
    "                   'grey', 'grey','grey', 'grey',]))]\n",
    "layout = go.Layout(title='Top 10 most frequent category')\n",
    "fig = go.Figure(data=data, layout=layout)\n",
    "py.iplot(fig, filename = 'Top 10 most frequent category')"
   ]
  },
  {
   "cell_type": "code",
   "execution_count": 306,
   "metadata": {
    "collapsed": false
   },
   "outputs": [],
   "source": [
    "#restrict to only the category 'Hotels'\n",
    "df_limit_hotels = pd.DataFrame()\n",
    "for i in range(0, len(df_hotels_final)):\n",
    "    for j in range(0, len(df_hotels_final['categories'][i])):\n",
    "        if df_hotels_final['categories'][i][j] == [u'Hotels', u'hotels']:\n",
    "            df_limit_hotels = pd.concat([df_hotels_final.iloc[[i]],df_limit_hotels], ignore_index = True)"
   ]
  },
  {
   "cell_type": "code",
   "execution_count": 307,
   "metadata": {
    "collapsed": false
   },
   "outputs": [
    {
     "data": {
      "text/html": [
       "<iframe id=\"igraph\" scrolling=\"no\" style=\"border:none;\" seamless=\"seamless\" src=\"https://plot.ly/~stephanielam/22.embed\" height=\"525px\" width=\"100%\"></iframe>"
      ],
      "text/plain": [
       "<plotly.tools.PlotlyDisplay object>"
      ]
     },
     "execution_count": 307,
     "metadata": {},
     "output_type": "execute_result"
    }
   ],
   "source": [
    "#star distribution in the category 'Hotels'\n",
    "labels, values = zip(*Counter(df_limit_hotels['rating']).items()) \n",
    "\n",
    "fig = {'data': [{'labels': labels,\n",
    "              'values': values,\n",
    "              'type': 'pie',\n",
    "             }],\n",
    "    'layout': {'title': \"Pie chart of star distribution in the category 'Hotels'\"}\n",
    "     }\n",
    "py.iplot(fig, filename = \"star distribution in the category Hotels\")"
   ]
  },
  {
   "cell_type": "code",
   "execution_count": 308,
   "metadata": {
    "collapsed": false
   },
   "outputs": [],
   "source": [
    "#get the average star rating (by City)\n",
    "hotel_rating = average_star_city(df_limit_hotels, 'rating')\n",
    "average_review = average_star_city(df_limit_hotels, 'review_count')"
   ]
  },
  {
   "cell_type": "code",
   "execution_count": 309,
   "metadata": {
    "collapsed": false
   },
   "outputs": [],
   "source": [
    "hotel_rating = pd.merge(hotel_rating, average_review, on= 'city')\n",
    "hotel_rating = pd.merge(hotel_rating, pd_geo, on='city')"
   ]
  },
  {
   "cell_type": "code",
   "execution_count": null,
   "metadata": {
    "collapsed": false
   },
   "outputs": [],
   "source": []
  },
  {
   "cell_type": "code",
   "execution_count": 310,
   "metadata": {
    "collapsed": false
   },
   "outputs": [
    {
     "data": {
      "text/html": [
       "<iframe id=\"igraph\" scrolling=\"no\" style=\"border:none;\" seamless=\"seamless\" src=\"https://plot.ly/~stephanielam/26.embed\" height=\"525px\" width=\"100%\"></iframe>"
      ],
      "text/plain": [
       "<plotly.tools.PlotlyDisplay object>"
      ]
     },
     "execution_count": 310,
     "metadata": {},
     "output_type": "execute_result"
    }
   ],
   "source": [
    "city_rating_map(hotel_rating,'Restaurant', 1)"
   ]
  },
  {
   "cell_type": "code",
   "execution_count": 311,
   "metadata": {
    "collapsed": false
   },
   "outputs": [
    {
     "data": {
      "text/html": [
       "<iframe id=\"igraph\" scrolling=\"no\" style=\"border:none;\" seamless=\"seamless\" src=\"https://plot.ly/~stephanielam/16.embed\" height=\"525px\" width=\"100%\"></iframe>"
      ],
      "text/plain": [
       "<plotly.tools.PlotlyDisplay object>"
      ]
     },
     "execution_count": 311,
     "metadata": {},
     "output_type": "execute_result"
    }
   ],
   "source": [
    "#rating vs review_count\n",
    "data = go.Scatter(\n",
    "    x = df_hotels_final['rating'],\n",
    "    y = df_hotels_final['review_count'],\n",
    "    mode = 'markers'\n",
    ")\n",
    "\n",
    "layout = go.Layout(\n",
    "    title='Scatter plot of Restaurant\\'s rating vs review count',\n",
    "    xaxis=dict(\n",
    "        title='Rating',\n",
    "        gridcolor='rgb(255, 255, 255)',\n",
    "    ),\n",
    "    yaxis=dict(\n",
    "        title='Review Count',\n",
    "        gridcolor='rgb(255, 255, 255)',\n",
    "    ),\n",
    "    paper_bgcolor='rgb(243, 243, 243)',\n",
    "    plot_bgcolor='rgb(243, 243, 243)',\n",
    ")\n",
    "\n",
    "fig = dict(data=[data], layout=layout)\n",
    "py.iplot(fig, filename='Scatter plot of rating vs review count2')"
   ]
  },
  {
   "cell_type": "code",
   "execution_count": 312,
   "metadata": {
    "collapsed": false,
    "scrolled": true
   },
   "outputs": [],
   "source": [
    "#Top five hotels:\n",
    "hotel_best_5 = df_limit_hotels.groupby('rating')['review_count'].nlargest(5).reset_index()\n",
    "hotel_best_5 = pd.DataFrame(hotel_best_5)\n",
    "\n",
    "df_hotel_best_5 = pd.DataFrame()\n",
    "df_hotel_best_5 = find_best_5(hotel_best_5, df_limit_hotels)\n",
    "df_hotel_best_5 = df_hotel_best_5.iloc[::-1]"
   ]
  },
  {
   "cell_type": "code",
   "execution_count": 356,
   "metadata": {
    "collapsed": false
   },
   "outputs": [
    {
     "data": {
      "text/html": [
       "<div>\n",
       "<table border=\"1\" class=\"dataframe\">\n",
       "  <thead>\n",
       "    <tr style=\"text-align: right;\">\n",
       "      <th></th>\n",
       "      <th>categories</th>\n",
       "      <th>city</th>\n",
       "      <th>display_phone</th>\n",
       "      <th>id</th>\n",
       "      <th>image_url</th>\n",
       "      <th>is_claimed</th>\n",
       "      <th>is_closed</th>\n",
       "      <th>mobile_url</th>\n",
       "      <th>name</th>\n",
       "      <th>rating</th>\n",
       "      <th>review_count</th>\n",
       "      <th>snippet_text</th>\n",
       "      <th>url</th>\n",
       "      <th>population</th>\n",
       "      <th>Latitude</th>\n",
       "      <th>Longitude</th>\n",
       "    </tr>\n",
       "  </thead>\n",
       "  <tbody>\n",
       "    <tr>\n",
       "      <th>4</th>\n",
       "      <td>[[Hotels, hotels], [Bed &amp; Breakfast, bedbreakf...</td>\n",
       "      <td>Napa, CA</td>\n",
       "      <td>+1-707-253-1331</td>\n",
       "      <td>the-inn-on-first-napa</td>\n",
       "      <td>https://s3-media1.fl.yelpcdn.com/bphoto/Pb2fIp...</td>\n",
       "      <td>True</td>\n",
       "      <td>False</td>\n",
       "      <td>https://m.yelp.com/biz/the-inn-on-first-napa?a...</td>\n",
       "      <td>The Inn On First</td>\n",
       "      <td>5.0</td>\n",
       "      <td>340</td>\n",
       "      <td>My boyfriend and I recently stayed one rainy, ...</td>\n",
       "      <td>https://www.yelp.com/biz/the-inn-on-first-napa...</td>\n",
       "      <td>76,915</td>\n",
       "      <td>38.297539</td>\n",
       "      <td>-122.286864</td>\n",
       "    </tr>\n",
       "    <tr>\n",
       "      <th>3</th>\n",
       "      <td>[[Hotels, hotels], [Venues &amp; Event Spaces, ven...</td>\n",
       "      <td>Palm Springs, CA</td>\n",
       "      <td>+1-760-325-7100</td>\n",
       "      <td>the-rossi-hotel-palm-springs</td>\n",
       "      <td>https://s3-media4.fl.yelpcdn.com/bphoto/zkSDEn...</td>\n",
       "      <td>True</td>\n",
       "      <td>False</td>\n",
       "      <td>https://m.yelp.com/biz/the-rossi-hotel-palm-sp...</td>\n",
       "      <td>The Rossi Hotel</td>\n",
       "      <td>5.0</td>\n",
       "      <td>127</td>\n",
       "      <td>I decided to spend 3 nights and 4 days here af...</td>\n",
       "      <td>https://www.yelp.com/biz/the-rossi-hotel-palm-...</td>\n",
       "      <td>44,552</td>\n",
       "      <td>33.830297</td>\n",
       "      <td>-116.545292</td>\n",
       "    </tr>\n",
       "    <tr>\n",
       "      <th>2</th>\n",
       "      <td>[[Hotels, hotels]]</td>\n",
       "      <td>South Lake Tahoe, CA</td>\n",
       "      <td>+1-530-544-5515</td>\n",
       "      <td>fireside-lodge-south-lake-tahoe</td>\n",
       "      <td>https://s3-media3.fl.yelpcdn.com/bphoto/MO9Tq1...</td>\n",
       "      <td>True</td>\n",
       "      <td>False</td>\n",
       "      <td>https://m.yelp.com/biz/fireside-lodge-south-la...</td>\n",
       "      <td>Fireside Lodge</td>\n",
       "      <td>5.0</td>\n",
       "      <td>123</td>\n",
       "      <td>We had the privilege of staying here again. An...</td>\n",
       "      <td>https://www.yelp.com/biz/fireside-lodge-south-...</td>\n",
       "      <td>21,403</td>\n",
       "      <td>38.939925</td>\n",
       "      <td>-119.977186</td>\n",
       "    </tr>\n",
       "    <tr>\n",
       "      <th>1</th>\n",
       "      <td>[[Hotels, hotels], [Bed &amp; Breakfast, bedbreakf...</td>\n",
       "      <td>Napa, CA</td>\n",
       "      <td>+1-707-252-8144</td>\n",
       "      <td>arbor-guest-house-napa</td>\n",
       "      <td>https://s3-media1.fl.yelpcdn.com/bphoto/X_87lj...</td>\n",
       "      <td>True</td>\n",
       "      <td>False</td>\n",
       "      <td>https://m.yelp.com/biz/arbor-guest-house-napa?...</td>\n",
       "      <td>Arbor Guest House</td>\n",
       "      <td>5.0</td>\n",
       "      <td>118</td>\n",
       "      <td>Magnificent Bed and Breakfast.\\n\\nThis was my ...</td>\n",
       "      <td>https://www.yelp.com/biz/arbor-guest-house-nap...</td>\n",
       "      <td>76,915</td>\n",
       "      <td>38.297539</td>\n",
       "      <td>-122.286864</td>\n",
       "    </tr>\n",
       "    <tr>\n",
       "      <th>0</th>\n",
       "      <td>[[Hotels, hotels], [Bed &amp; Breakfast, bedbreakf...</td>\n",
       "      <td>Sutter Creek, CA</td>\n",
       "      <td>+1-209-267-0747</td>\n",
       "      <td>hanford-house-inn-sutter-creek</td>\n",
       "      <td>https://s3-media2.fl.yelpcdn.com/bphoto/jaDVwK...</td>\n",
       "      <td>True</td>\n",
       "      <td>False</td>\n",
       "      <td>https://m.yelp.com/biz/hanford-house-inn-sutte...</td>\n",
       "      <td>Hanford House Inn</td>\n",
       "      <td>5.0</td>\n",
       "      <td>99</td>\n",
       "      <td>Wonderful accommodations.  Staff and service w...</td>\n",
       "      <td>https://www.yelp.com/biz/hanford-house-inn-sut...</td>\n",
       "      <td>2,501</td>\n",
       "      <td>38.392967</td>\n",
       "      <td>-120.802436</td>\n",
       "    </tr>\n",
       "  </tbody>\n",
       "</table>\n",
       "</div>"
      ],
      "text/plain": [
       "                                          categories                  city  \\\n",
       "4  [[Hotels, hotels], [Bed & Breakfast, bedbreakf...              Napa, CA   \n",
       "3  [[Hotels, hotels], [Venues & Event Spaces, ven...      Palm Springs, CA   \n",
       "2                                 [[Hotels, hotels]]  South Lake Tahoe, CA   \n",
       "1  [[Hotels, hotels], [Bed & Breakfast, bedbreakf...              Napa, CA   \n",
       "0  [[Hotels, hotels], [Bed & Breakfast, bedbreakf...      Sutter Creek, CA   \n",
       "\n",
       "     display_phone                               id  \\\n",
       "4  +1-707-253-1331            the-inn-on-first-napa   \n",
       "3  +1-760-325-7100     the-rossi-hotel-palm-springs   \n",
       "2  +1-530-544-5515  fireside-lodge-south-lake-tahoe   \n",
       "1  +1-707-252-8144           arbor-guest-house-napa   \n",
       "0  +1-209-267-0747   hanford-house-inn-sutter-creek   \n",
       "\n",
       "                                           image_url is_claimed is_closed  \\\n",
       "4  https://s3-media1.fl.yelpcdn.com/bphoto/Pb2fIp...       True     False   \n",
       "3  https://s3-media4.fl.yelpcdn.com/bphoto/zkSDEn...       True     False   \n",
       "2  https://s3-media3.fl.yelpcdn.com/bphoto/MO9Tq1...       True     False   \n",
       "1  https://s3-media1.fl.yelpcdn.com/bphoto/X_87lj...       True     False   \n",
       "0  https://s3-media2.fl.yelpcdn.com/bphoto/jaDVwK...       True     False   \n",
       "\n",
       "                                          mobile_url               name  \\\n",
       "4  https://m.yelp.com/biz/the-inn-on-first-napa?a...   The Inn On First   \n",
       "3  https://m.yelp.com/biz/the-rossi-hotel-palm-sp...    The Rossi Hotel   \n",
       "2  https://m.yelp.com/biz/fireside-lodge-south-la...     Fireside Lodge   \n",
       "1  https://m.yelp.com/biz/arbor-guest-house-napa?...  Arbor Guest House   \n",
       "0  https://m.yelp.com/biz/hanford-house-inn-sutte...  Hanford House Inn   \n",
       "\n",
       "   rating  review_count                                       snippet_text  \\\n",
       "4     5.0           340  My boyfriend and I recently stayed one rainy, ...   \n",
       "3     5.0           127  I decided to spend 3 nights and 4 days here af...   \n",
       "2     5.0           123  We had the privilege of staying here again. An...   \n",
       "1     5.0           118  Magnificent Bed and Breakfast.\\n\\nThis was my ...   \n",
       "0     5.0            99  Wonderful accommodations.  Staff and service w...   \n",
       "\n",
       "                                                 url population  Latitude   \\\n",
       "4  https://www.yelp.com/biz/the-inn-on-first-napa...     76,915  38.297539   \n",
       "3  https://www.yelp.com/biz/the-rossi-hotel-palm-...     44,552  33.830297   \n",
       "2  https://www.yelp.com/biz/fireside-lodge-south-...     21,403  38.939925   \n",
       "1  https://www.yelp.com/biz/arbor-guest-house-nap...     76,915  38.297539   \n",
       "0  https://www.yelp.com/biz/hanford-house-inn-sut...      2,501  38.392967   \n",
       "\n",
       "    Longitude  \n",
       "4 -122.286864  \n",
       "3 -116.545292  \n",
       "2 -119.977186  \n",
       "1 -122.286864  \n",
       "0 -120.802436  "
      ]
     },
     "execution_count": 356,
     "metadata": {},
     "output_type": "execute_result"
    }
   ],
   "source": [
    "df_hotel_best_5"
   ]
  },
  {
   "cell_type": "code",
   "execution_count": 364,
   "metadata": {
    "collapsed": false
   },
   "outputs": [
    {
     "data": {
      "image/png": "[encoded data removed]",
      "text/plain": [
       "<PIL.JpegImagePlugin.JpegImageFile image mode=RGB size=100x100 at 0x135FDA110>"
      ]
     },
     "execution_count": 364,
     "metadata": {},
     "output_type": "execute_result"
    }
   ],
   "source": [
    "from PIL import Image\n",
    "image_url = []\n",
    "for i in range(0, len(df_hotel_best_5)):\n",
    "    url = df_hotel_best_5['image_url'][i]\n",
    "    image_url.append(str(url))\n",
    "for image in image_url :\n",
    "    link = cStringIO.StringIO(urllib.urlopen(image).read())\n",
    "    img = Image.open(link) \n",
    "    img\n",
    "    \n",
    "#### how to show all img"
   ]
  },
  {
   "cell_type": "code",
   "execution_count": 365,
   "metadata": {
    "collapsed": false,
    "scrolled": false
   },
   "outputs": [
    {
     "data": {
      "text/html": [
       "<iframe id=\"igraph\" scrolling=\"no\" style=\"border:none;\" seamless=\"seamless\" src=\"https://plot.ly/~stephanielam/28.embed\" height=\"525px\" width=\"100%\"></iframe>"
      ],
      "text/plain": [
       "<plotly.tools.PlotlyDisplay object>"
      ]
     },
     "execution_count": 365,
     "metadata": {},
     "output_type": "execute_result"
    }
   ],
   "source": [
    "#Best 5 hotel map\n",
    "best_5_map(df_hotel_best_5, 'Hotels')"
   ]
  },
  {
   "cell_type": "code",
   "execution_count": 297,
   "metadata": {
    "collapsed": false
   },
   "outputs": [
    {
     "name": "stderr",
     "output_type": "stream",
     "text": [
      "/Users/stephanie/anaconda/lib/python2.7/site-packages/ipykernel/__main__.py:5: SettingWithCopyWarning:\n",
      "\n",
      "\n",
      "A value is trying to be set on a copy of a slice from a DataFrame\n",
      "\n",
      "See the caveats in the documentation: http://pandas.pydata.org/pandas-docs/stable/indexing.html#indexing-view-versus-copy\n",
      "\n"
     ]
    }
   ],
   "source": [
    "# Add Landmarks\n",
    "df_landmarks_final = yelp_df(\"landmarks\", \"Distance\")"
   ]
  },
  {
   "cell_type": "code",
   "execution_count": 298,
   "metadata": {
    "collapsed": false
   },
   "outputs": [
    {
     "name": "stderr",
     "output_type": "stream",
     "text": [
      "/Users/stephanie/anaconda/lib/python2.7/site-packages/ipykernel/__main__.py:5: SettingWithCopyWarning:\n",
      "\n",
      "\n",
      "A value is trying to be set on a copy of a slice from a DataFrame\n",
      "\n",
      "See the caveats in the documentation: http://pandas.pydata.org/pandas-docs/stable/indexing.html#indexing-view-versus-copy\n",
      "\n"
     ]
    }
   ],
   "source": [
    "#Add Nightlife\n",
    "df_nightlife_final = yelp_df(\"nightlife\", \"Distance\")"
   ]
  },
  {
   "cell_type": "code",
   "execution_count": 253,
   "metadata": {
    "collapsed": false
   },
   "outputs": [
    {
     "data": {
      "text/html": [
       "<iframe id=\"igraph\" scrolling=\"no\" style=\"border:none;\" seamless=\"seamless\" src=\"https://plot.ly/~stephanielamm/52.embed\" height=\"525px\" width=\"100%\"></iframe>"
      ],
      "text/plain": [
       "<plotly.tools.PlotlyDisplay object>"
      ]
     },
     "execution_count": 253,
     "metadata": {},
     "output_type": "execute_result"
    }
   ],
   "source": [
    "#get the most frequent category labels (Overall)\n",
    "count_df = freq_cat(df_landmarks_final)\n",
    "\n",
    "#plot\n",
    "data = [go.Bar(x= count_df[0],y= count_df[1],\n",
    "        marker=dict(\n",
    "            color=['rgba(222,45,38,0.8)', 'grey', 'grey', 'grey', 'grey', 'grey',\n",
    "                   'grey', 'grey','grey', 'grey',]))]\n",
    "layout = go.Layout(title='Top 10 most frequent category for Landmarks')\n",
    "fig = go.Figure(data=data, layout=layout)\n",
    "py.iplot(fig, filename = 'Top 10 most frequent category3')"
   ]
  },
  {
   "cell_type": "code",
   "execution_count": null,
   "metadata": {
    "collapsed": false
   },
   "outputs": [],
   "source": []
  },
  {
   "cell_type": "code",
   "execution_count": null,
   "metadata": {
    "collapsed": true
   },
   "outputs": [],
   "source": []
  },
  {
   "cell_type": "code",
   "execution_count": null,
   "metadata": {
    "collapsed": true
   },
   "outputs": [],
   "source": []
  },
  {
   "cell_type": "code",
   "execution_count": null,
   "metadata": {
    "collapsed": true
   },
   "outputs": [],
   "source": []
  },
  {
   "cell_type": "code",
   "execution_count": null,
   "metadata": {
    "collapsed": true
   },
   "outputs": [],
   "source": []
  },
  {
   "cell_type": "code",
   "execution_count": 75,
   "metadata": {
    "collapsed": true
   },
   "outputs": [],
   "source": [
    "import json, ast\n",
    "import pandas as pd\n",
    "from django.utils.encoding import smart_str, smart_unicode\n",
    "import re"
   ]
  },
  {
   "cell_type": "code",
   "execution_count": 68,
   "metadata": {
    "collapsed": true
   },
   "outputs": [],
   "source": [
    "def modify(city):\n",
    "    \"\"\"\n",
    "    modify the input\n",
    "    \n",
    "    Argument: city\n",
    "    \n",
    "    Return: soup from the url link\n",
    "    \"\"\"\n",
    "    # capitalize the first letter of each word in a string\n",
    "    city = city.title()\n",
    "    # replace the empty space with the _\n",
    "    city = city.strip().replace(' ', '_')\n",
    "    url = \"https://en.wikipedia.org/wiki/\" + str(city) +\",_California\"\n",
    "    info = requests.get(url).content\n",
    "    wikisoup = BeautifulSoup(info, 'lxml')\n",
    "    return wikisoup"
   ]
  },
  {
   "cell_type": "code",
   "execution_count": 69,
   "metadata": {
    "collapsed": false
   },
   "outputs": [],
   "source": [
    "def extract_overview(city):\n",
    "    \"\"\"\n",
    "    extract a brief overview from the wikipedia page\n",
    "    \n",
    "    Argument: city\n",
    "    \n",
    "    Return: print the overview description\n",
    "    \"\"\"\n",
    "    wikisoup = modify(city)\n",
    "    content = wikisoup.findAll(\"p\")\n",
    "    brief = content[0].text\n",
    "    brief = ast.literal_eval(json.dumps(brief))\n",
    "    print brief"
   ]
  },
  {
   "cell_type": "code",
   "execution_count": 182,
   "metadata": {
    "collapsed": false
   },
   "outputs": [],
   "source": [
    "def extract_info(city):\n",
    "    \"\"\"\n",
    "    extract the basic information of the city\n",
    "    \n",
    "    Argument: city\n",
    "    \n",
    "    Return: a dataframe with the basic information\n",
    "    \"\"\"\n",
    "    wikisoup = modify(city)\n",
    "    data1 = wikisoup.findAll(\"tr\", {\"class\": \"mergedrow\"})\n",
    "    data = [dat.text for dat in data1]\n",
    "    split = [dat.strip(\"\\n\") for dat in data]\n",
    "    pd_info = pd.DataFrame(split)\n",
    "    pd_info.rename(columns = {list(pd_info)[0]: 'info'}, inplace = True)\n",
    "\n",
    "    #remove []\n",
    "    pd_info['info'] = pd_info['info'].map(lambda x: re.sub(\"(\\[).*?([\\]])\", \"\", x))\n",
    "    #remove unwanted characters\n",
    "    pd_info['info'] = pd_info['info'].map(lambda x: re.sub(ur'[\\•]', ' ', x))\n",
    "    pd_info['info'] = pd_info['info'].str.strip(\"\\n\")\n",
    "    # how to only get one colon\n",
    "    pd_info['info'] = pd_info['info'].str.replace(\"\\n\", \" : \")\n",
    "    return pd_info"
   ]
  },
  {
   "cell_type": "code",
   "execution_count": null,
   "metadata": {
    "collapsed": true
   },
   "outputs": [],
   "source": []
  },
  {
   "cell_type": "code",
   "execution_count": 77,
   "metadata": {
    "collapsed": false
   },
   "outputs": [
    {
     "name": "stdout",
     "output_type": "stream",
     "text": [
      "California\n"
     ]
    }
   ],
   "source": [
    "output = extract_overview(\"San Francisco\")\n",
    "# how to change the \\u2013\n",
    "output"
   ]
  },
  {
   "cell_type": "code",
   "execution_count": 78,
   "metadata": {
    "collapsed": false
   },
   "outputs": [],
   "source": [
    "city = \"San Francisco\"\n",
    "wikisoup = modify(city)\n",
    "content = wikisoup.findAll(\"p\")\n",
    "#print content[0:1].text"
   ]
  },
  {
   "cell_type": "code",
   "execution_count": 79,
   "metadata": {
    "collapsed": true
   },
   "outputs": [],
   "source": [
    "brief = content[0].text\n",
    "brief = ast.literal_eval(json.dumps(brief))"
   ]
  },
  {
   "cell_type": "code",
   "execution_count": 183,
   "metadata": {
    "collapsed": false
   },
   "outputs": [
    {
     "data": {
      "text/html": [
       "<div>\n",
       "<table border=\"1\" class=\"dataframe\">\n",
       "  <thead>\n",
       "    <tr style=\"text-align: right;\">\n",
       "      <th></th>\n",
       "      <th>info</th>\n",
       "    </tr>\n",
       "  </thead>\n",
       "  <tbody>\n",
       "    <tr>\n",
       "      <th>0</th>\n",
       "      <td>Motto: Oro en Paz, Fierro en Guerra (Spanish) ...</td>\n",
       "    </tr>\n",
       "    <tr>\n",
       "      <th>1</th>\n",
       "      <td>State :  : California</td>\n",
       "    </tr>\n",
       "    <tr>\n",
       "      <th>2</th>\n",
       "      <td>CSA : San Jose–San Francisco–Oakland</td>\n",
       "    </tr>\n",
       "    <tr>\n",
       "      <th>3</th>\n",
       "      <td>Metro : San Francisco–Oakland–Hayward</td>\n",
       "    </tr>\n",
       "    <tr>\n",
       "      <th>4</th>\n",
       "      <td>Incorporated : April 15, 1850</td>\n",
       "    </tr>\n",
       "    <tr>\n",
       "      <th>5</th>\n",
       "      <td>Founded by : José Joaquin Moraga : Francisco P...</td>\n",
       "    </tr>\n",
       "    <tr>\n",
       "      <th>6</th>\n",
       "      <td>Named for : St. Francis of Assisi</td>\n",
       "    </tr>\n",
       "    <tr>\n",
       "      <th>7</th>\n",
       "      <td>Type : Mayor-council</td>\n",
       "    </tr>\n",
       "    <tr>\n",
       "      <th>8</th>\n",
       "      <td>Body : Board of Supervisors</td>\n",
       "    </tr>\n",
       "    <tr>\n",
       "      <th>9</th>\n",
       "      <td>Mayor : Edwin M. Lee (D)</td>\n",
       "    </tr>\n",
       "    <tr>\n",
       "      <th>10</th>\n",
       "      <td>Supervisors :  :  : List :  : Sandra Lee Fe...</td>\n",
       "    </tr>\n",
       "    <tr>\n",
       "      <th>11</th>\n",
       "      <td>Assembly members : David Chiu (D) : Phil Ti...</td>\n",
       "    </tr>\n",
       "    <tr>\n",
       "      <th>12</th>\n",
       "      <td>State senator : Scott Wiener (D)</td>\n",
       "    </tr>\n",
       "    <tr>\n",
       "      <th>13</th>\n",
       "      <td>United States Representatives : Nancy Pelos...</td>\n",
       "    </tr>\n",
       "    <tr>\n",
       "      <th>14</th>\n",
       "      <td>City and county : 231.89 sq mi (600.6 km2)</td>\n",
       "    </tr>\n",
       "    <tr>\n",
       "      <th>15</th>\n",
       "      <td>Land : 46.87 sq mi (121.4 km2)</td>\n",
       "    </tr>\n",
       "    <tr>\n",
       "      <th>16</th>\n",
       "      <td>Water : 185.02 sq mi (479.2 km2)  80.00%</td>\n",
       "    </tr>\n",
       "    <tr>\n",
       "      <th>17</th>\n",
       "      <td>Metro : 3,524.4 sq mi (9,128 km2)</td>\n",
       "    </tr>\n",
       "    <tr>\n",
       "      <th>18</th>\n",
       "      <td>City and county : 864,816</td>\n",
       "    </tr>\n",
       "    <tr>\n",
       "      <th>19</th>\n",
       "      <td>Rank : 13th, U.S.</td>\n",
       "    </tr>\n",
       "    <tr>\n",
       "      <th>20</th>\n",
       "      <td>Density : 18,451/sq mi (7,124/km2)</td>\n",
       "    </tr>\n",
       "    <tr>\n",
       "      <th>21</th>\n",
       "      <td>Metro : 4,656,132 (11th)</td>\n",
       "    </tr>\n",
       "    <tr>\n",
       "      <th>22</th>\n",
       "      <td>CSA : 8,713,914 (5th)</td>\n",
       "    </tr>\n",
       "    <tr>\n",
       "      <th>23</th>\n",
       "      <td>Summer (DST) : Pacific Daylight Time (UTC−7)</td>\n",
       "    </tr>\n",
       "    <tr>\n",
       "      <th>24</th>\n",
       "      <td>Area codes : 415/628</td>\n",
       "    </tr>\n",
       "    <tr>\n",
       "      <th>25</th>\n",
       "      <td>GNIS feature IDs : 277593, 2411786</td>\n",
       "    </tr>\n",
       "  </tbody>\n",
       "</table>\n",
       "</div>"
      ],
      "text/plain": [
       "                                                 info\n",
       "0   Motto: Oro en Paz, Fierro en Guerra (Spanish) ...\n",
       "1                               State :  : California\n",
       "2                CSA : San Jose–San Francisco–Oakland\n",
       "3               Metro : San Francisco–Oakland–Hayward\n",
       "4                       Incorporated : April 15, 1850\n",
       "5   Founded by : José Joaquin Moraga : Francisco P...\n",
       "6                   Named for : St. Francis of Assisi\n",
       "7                                Type : Mayor-council\n",
       "8                         Body : Board of Supervisors\n",
       "9                            Mayor : Edwin M. Lee (D)\n",
       "10     Supervisors :  :  : List :  : Sandra Lee Fe...\n",
       "11     Assembly members : David Chiu (D) : Phil Ti...\n",
       "12                   State senator : Scott Wiener (D)\n",
       "13     United States Representatives : Nancy Pelos...\n",
       "14         City and county : 231.89 sq mi (600.6 km2)\n",
       "15                     Land : 46.87 sq mi (121.4 km2)\n",
       "16           Water : 185.02 sq mi (479.2 km2)  80.00%\n",
       "17                  Metro : 3,524.4 sq mi (9,128 km2)\n",
       "18                          City and county : 864,816\n",
       "19                                  Rank : 13th, U.S.\n",
       "20                 Density : 18,451/sq mi (7,124/km2)\n",
       "21                           Metro : 4,656,132 (11th)\n",
       "22                              CSA : 8,713,914 (5th)\n",
       "23       Summer (DST) : Pacific Daylight Time (UTC−7)\n",
       "24                               Area codes : 415/628\n",
       "25                 GNIS feature IDs : 277593, 2411786"
      ]
     },
     "execution_count": 183,
     "metadata": {},
     "output_type": "execute_result"
    }
   ],
   "source": [
    "extract_info(\"san francisco\")"
   ]
  },
  {
   "cell_type": "code",
   "execution_count": null,
   "metadata": {
    "collapsed": true
   },
   "outputs": [],
   "source": []
  },
  {
   "cell_type": "code",
   "execution_count": 184,
   "metadata": {
    "collapsed": false
   },
   "outputs": [],
   "source": [
    "from IPython.display import display\n",
    "from ipywidgets import widgets\n",
    "\n",
    "inputText = widgets.Text()\n",
    "\n",
    "def modify_input(sender):\n",
    "    outputText.value = \"Welcome to The City of \" + inputText.value.title() + \"!\"\n",
    "\n",
    "inputText.on_submit(modify_input)\n",
    "inputText\n"
   ]
  },
  {
   "cell_type": "code",
   "execution_count": 185,
   "metadata": {
    "collapsed": true
   },
   "outputs": [],
   "source": [
    "outputText = widgets.Text()\n",
    "outputText"
   ]
  },
  {
   "cell_type": "markdown",
   "metadata": {
    "collapsed": false,
    "scrolled": true
   },
   "source": [
    "### Here is a brief overview of the city."
   ]
  },
  {
   "cell_type": "code",
   "execution_count": 186,
   "metadata": {
    "collapsed": false
   },
   "outputs": [
    {
     "name": "stdout",
     "output_type": "stream",
     "text": [
      "California\n"
     ]
    }
   ],
   "source": [
    "extract_overview(\"San Francisco\")"
   ]
  },
  {
   "cell_type": "code",
   "execution_count": 188,
   "metadata": {
    "collapsed": true
   },
   "outputs": [],
   "source": [
    "def ask_input():\n",
    "    city = raw_input(\"Please enter the city that you want to visit: \")\n",
    "    print \"\\nWelcome to The City of\", city.title(),\"\\n\\nHere is a brief overview of the city:\\n\"\n",
    "    input_city = city.title()\n",
    "    overview = extract_overview(input_city)\n",
    "    info = extract_info(input_city)\n",
    "    print overview\n",
    "    return info"
   ]
  },
  {
   "cell_type": "code",
   "execution_count": 192,
   "metadata": {
    "collapsed": false
   },
   "outputs": [
    {
     "name": "stdout",
     "output_type": "stream",
     "text": [
      "Please enter the city that you want to visit: Davis\n",
      "\n",
      "Welcome to The City of Davis \n",
      "\n",
      "Here is a brief overview of the city:\n",
      "\n",
      "Davis is a city in the U.S. state of California and the most populous city in Yolo County. It had a population of 65,622 in 2010,[9] not including the on-campus population of the University of California, Davis, which was 32,153 in 2009.\n",
      "None\n"
     ]
    },
    {
     "data": {
      "text/html": [
       "<div>\n",
       "<table border=\"1\" class=\"dataframe\">\n",
       "  <thead>\n",
       "    <tr style=\"text-align: right;\">\n",
       "      <th></th>\n",
       "      <th>info</th>\n",
       "    </tr>\n",
       "  </thead>\n",
       "  <tbody>\n",
       "    <tr>\n",
       "      <th>0</th>\n",
       "      <td>State : California</td>\n",
       "    </tr>\n",
       "    <tr>\n",
       "      <th>1</th>\n",
       "      <td>County : Yolo</td>\n",
       "    </tr>\n",
       "    <tr>\n",
       "      <th>2</th>\n",
       "      <td>Incorporated : March 28, 1917</td>\n",
       "    </tr>\n",
       "    <tr>\n",
       "      <th>3</th>\n",
       "      <td>Mayor : Robb Davis</td>\n",
       "    </tr>\n",
       "    <tr>\n",
       "      <th>4</th>\n",
       "      <td>State senator : Bill Dodd (D)</td>\n",
       "    </tr>\n",
       "    <tr>\n",
       "      <th>5</th>\n",
       "      <td>Assemblymember : Cecilia Aguiar-Curry (D)</td>\n",
       "    </tr>\n",
       "    <tr>\n",
       "      <th>6</th>\n",
       "      <td>U.S. rep. : John Garamendi (D)</td>\n",
       "    </tr>\n",
       "    <tr>\n",
       "      <th>7</th>\n",
       "      <td>Total : 9.919 sq mi (25.690 km2)</td>\n",
       "    </tr>\n",
       "    <tr>\n",
       "      <th>8</th>\n",
       "      <td>Land : 9.887 sq mi (25.608 km2)</td>\n",
       "    </tr>\n",
       "    <tr>\n",
       "      <th>9</th>\n",
       "      <td>Water : 0.032 sq mi (0.082 km2)  0.32%</td>\n",
       "    </tr>\n",
       "    <tr>\n",
       "      <th>10</th>\n",
       "      <td>Total : 65,622</td>\n",
       "    </tr>\n",
       "    <tr>\n",
       "      <th>11</th>\n",
       "      <td>Estimate (2013) : 66,205</td>\n",
       "    </tr>\n",
       "    <tr>\n",
       "      <th>12</th>\n",
       "      <td>Density : 6,600/sq mi (2,600/km2)</td>\n",
       "    </tr>\n",
       "    <tr>\n",
       "      <th>13</th>\n",
       "      <td>Summer (DST) : PDT (UTC−7)</td>\n",
       "    </tr>\n",
       "    <tr>\n",
       "      <th>14</th>\n",
       "      <td>Area code : 530</td>\n",
       "    </tr>\n",
       "    <tr>\n",
       "      <th>15</th>\n",
       "      <td>GNIS feature IDs : 277498, 2410296</td>\n",
       "    </tr>\n",
       "  </tbody>\n",
       "</table>\n",
       "</div>"
      ],
      "text/plain": [
       "                                            info\n",
       "0                             State : California\n",
       "1                                  County : Yolo\n",
       "2                  Incorporated : March 28, 1917\n",
       "3                             Mayor : Robb Davis\n",
       "4                  State senator : Bill Dodd (D)\n",
       "5      Assemblymember : Cecilia Aguiar-Curry (D)\n",
       "6                 U.S. rep. : John Garamendi (D)\n",
       "7               Total : 9.919 sq mi (25.690 km2)\n",
       "8                Land : 9.887 sq mi (25.608 km2)\n",
       "9         Water : 0.032 sq mi (0.082 km2)  0.32%\n",
       "10                                Total : 65,622\n",
       "11                      Estimate (2013) : 66,205\n",
       "12             Density : 6,600/sq mi (2,600/km2)\n",
       "13                    Summer (DST) : PDT (UTC−7)\n",
       "14                               Area code : 530\n",
       "15            GNIS feature IDs : 277498, 2410296"
      ]
     },
     "execution_count": 192,
     "metadata": {},
     "output_type": "execute_result"
    }
   ],
   "source": [
    "ask_input()"
   ]
  },
  {
   "cell_type": "code",
   "execution_count": null,
   "metadata": {
    "collapsed": true
   },
   "outputs": [],
   "source": []
  }
 ],
 "metadata": {
  "anaconda-cloud": {},
  "kernelspec": {
   "display_name": "Python 2",
   "language": "python",
   "name": "python2"
  },
  "language_info": {
   "codemirror_mode": {
    "name": "ipython",
    "version": 2
   },
   "file_extension": ".py",
   "mimetype": "text/x-python",
   "name": "python",
   "nbconvert_exporter": "python",
   "pygments_lexer": "ipython2",
   "version": "2.7.13"
  }
 },
 "nbformat": 4,
 "nbformat_minor": 1
}

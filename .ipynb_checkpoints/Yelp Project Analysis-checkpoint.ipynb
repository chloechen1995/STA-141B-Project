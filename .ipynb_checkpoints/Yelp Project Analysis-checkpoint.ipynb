{
 "cells": [
  {
   "cell_type": "code",
<<<<<<< HEAD
   "execution_count": 8,
=======
   "execution_count": 1,
>>>>>>> dae8a1793c2d98608ebdf7fb6ba67c9292137737
   "metadata": {
    "collapsed": false
   },
   "outputs": [],
   "source": [
    "import requests_cache\n",
    "import requests\n",
    "import pandas as pd\n",
    "from matplotlib import pyplot as plt\n",
    "plt.style.use('ggplot')\n",
    "%matplotlib inline\n",
    "from pandas.tools.plotting import scatter_matrix\n",
    "import numpy as np\n",
    "import seaborn as sns\n",
    "from requests_oauthlib import OAuth1Session\n",
    "import glob\n",
    "import json\n",
    "import os\n",
    "import urllib2\n",
    "from urllib2 import Request, urlopen\n",
    "from requests_oauthlib import OAuth1Session\n",
    "from bs4 import BeautifulSoup"
   ]
  },
  {
   "cell_type": "markdown",
   "metadata": {
    "collapsed": false,
    "scrolled": true
   },
   "source": [
    "### Data Wrangling Part 2 (From yelp dataset challenge):"
   ]
  },
  {
   "cell_type": "code",
   "execution_count": null,
   "metadata": {
    "collapsed": false
   },
   "outputs": [],
   "source": [
    "path = \"/Users/Stephanie/Desktop/yelp_dataset_challenge_round9\"\n",
    "files = glob.glob(os.path.join(path,\"*.json\"))\n",
    "files"
   ]
  },
  {
   "cell_type": "code",
   "execution_count": null,
   "metadata": {
    "collapsed": false
   },
   "outputs": [],
   "source": [
    "############# Copy from online(not sure if it works or not yet) ##########\n",
    "\n",
    "#Convert Yelp Academic Dataset from JSON to CSV\n",
    "import csv\n",
    "def convert(line):\n",
    "    ''' Convert a json string to a flat python dictionary\n",
    "    which can be passed into Pandas. '''\n",
    "    data = json.loads(line)\n",
    "    for k, v in data.items():\n",
    "        if isinstance(v, list):\n",
    "            data[k] = ','.join(v)\n",
    "        elif isinstance(v, dict):\n",
    "            for kk, vv in v.items():\n",
    "                data['%s_%s' % (k, kk)] = vv\n",
    "            del data[k]\n",
    "    return line\n",
    "\n",
    "\n",
    "csv_filename = 'review.csv'\n",
    "df = pd.DataFrame([convert(line) for line in file(files[2])])\n",
    "df.to_csv(csv_filename, index=False)\n"
   ]
  },
  {
   "cell_type": "code",
   "execution_count": null,
   "metadata": {
    "collapsed": false
   },
   "outputs": [],
   "source": [
    "def readfile(files):\n",
    "    # read the file into a python array\n",
    "    with open(files, 'rb') as f:\n",
    "        data = f.readlines()\n",
    "        # remove the trailing \"\\n\" from each line\n",
    "        data = map(lambda x: x.rstrip(), data)\n",
    "        data_str = \"[\" + ','.join(data) + \"]\"\n",
    "        df = pd.read_json(data_str)\n",
    "        \n",
    "        f.close()\n",
    "        return df\n",
    "     \n",
    "def fixdf(newlist):\n",
    "    new_df = pd.concat(newlist, axis = 0)\n",
    "    return new_df\n",
    "\n",
    "yelplist = []"
   ]
  },
  {
   "cell_type": "code",
   "execution_count": null,
   "metadata": {
    "collapsed": false
   },
   "outputs": [],
   "source": [
    "review_data = readfile(files[2])"
   ]
  },
  {
   "cell_type": "code",
   "execution_count": null,
   "metadata": {
    "collapsed": true
   },
   "outputs": [],
   "source": [
    "review_data.head()"
   ]
  },
  {
   "cell_type": "code",
   "execution_count": null,
   "metadata": {
    "collapsed": true
   },
   "outputs": [],
   "source": []
  },
  {
   "cell_type": "markdown",
   "metadata": {},
   "source": [
    "### Data Wrangling "
   ]
  },
  {
   "cell_type": "code",
   "execution_count": 2,
   "metadata": {
    "collapsed": true
   },
   "outputs": [],
   "source": [
    "import requests_cache\n",
    "import requests\n",
    "import pandas as pd\n",
    "from matplotlib import pyplot as plt\n",
    "plt.style.use('ggplot')\n",
    "%matplotlib inline\n",
    "from pandas.tools.plotting import scatter_matrix\n",
    "import numpy as np\n",
    "import seaborn as sns\n",
    "from requests_oauthlib import OAuth1Session\n",
    "from bs4 import BeautifulSoup\n",
    "import pandas as pd"
   ]
  },
  {
   "cell_type": "code",
   "execution_count": 3,
   "metadata": {
    "collapsed": false
   },
   "outputs": [],
   "source": [
    "requests_cache.install_cache(\"cache\")\n",
    "\n",
    "# criteria: 1=Distance, 2=Highest Rated\n",
    "\n",
    "def yelp_search(term, location, criteria):\n",
    "    \"\"\"\n",
    "    makes a search request\n",
    "    \n",
    "    Argument: search term, location\n",
    "    \n",
    "    Return: search result items as a list (for 0 items, return an empty list)\n",
    "    \"\"\"\n",
    "    consumer_key = \"uFKYftN0fu4pD6guW2cYng\"\n",
    "    consumer_secret = \"iUYQ2Hk3-vTQVd0zOFnvloWPivA\"\n",
    "    token = \"FZnep4FiFmwrrifuNm6M-_K661Wb3J02\"\n",
    "    token_secret = \"CRvBo_fO-r4pE_-p2UrnN_mxBlc\"\n",
    "   \n",
    "    urlbase = \"http://api.yelp.com/v2/search\"\n",
    "    params = ({\"term\": term})\n",
    "    \n",
    "    criteria = criteria.lower()\n",
    "    \n",
    "    if criteria == \"distance\":\n",
    "        params.update({\"location\": location, \"sort\": \"1\", \"cll\" : \"latitude,longitude\"})\n",
    "    else:\n",
    "        params.update({\"location\": location, \"sort\": \"2\", \"cll\" : \"latitude,longitude\"})\n",
    "    session = OAuth1Session(consumer_key, consumer_secret,token,token_secret)\n",
    "     \n",
    "    request = session.get(urlbase,params=params)\n",
    "   \n",
    "    #Transforms JSON API response into dictionary\n",
    "    data = request.json()\n",
    "    session.close()\n",
    "    output = data\n",
    "    \n",
    "    if \"businesses\" not in output:\n",
    "        return {}\n",
    "    \n",
    "    else:\n",
    "        return output[\"businesses\"]\n"
   ]
  },
  {
   "cell_type": "code",
   "execution_count": 4,
   "metadata": {
    "collapsed": true
   },
   "outputs": [],
   "source": [
    "def extract(url):\n",
    "    \"\"\"\n",
    "    extract\n",
    "    \"\"\"\n",
    "    info = requests.get(url).content\n",
    "    wikisoup = BeautifulSoup(info, 'lxml')\n",
    "    city_data = wikisoup.findAll(\"th\", {\"scope\": \"row\"})\n",
    "    population_data = wikisoup.findAll(\"td\", {\"align\":\"right\"})\n",
    "    city = [city.text for city in city_data]\n",
    "    city = city[1:-8]\n",
    "    population_data = wikisoup.findAll(\"td\", {\"align\":\"right\"})\n",
    "    population_data = \"\\n\".join([population.text for population in population_data])\n",
    "    population_split = population_data.split(\"\\n\")\n",
    "    population = population_split[0::2]\n",
    "    info_dict = {\"city\": city, \"population\": population}\n",
    "    return info_dict"
   ]
  },
  {
   "cell_type": "code",
   "execution_count": 5,
   "metadata": {
    "collapsed": false
   },
   "outputs": [],
   "source": [
    "url = \"https://en.wikipedia.org/wiki/List_of_cities_and_towns_in_California\"\n",
    "url_output = extract(url)\n",
    "pd_scrape = pd.DataFrame(url_output)"
   ]
  },
  {
   "cell_type": "code",
   "execution_count": 6,
   "metadata": {
    "collapsed": false
   },
   "outputs": [],
   "source": [
    "# this excel provide latitude and longitude information\n",
    "pd_location = pd.read_excel(\"/Users/Stephanie/Desktop/calcities.xlsx\", header = 0)"
   ]
  },
  {
   "cell_type": "code",
   "execution_count": 7,
   "metadata": {
    "collapsed": false
   },
   "outputs": [],
   "source": [
    "pd_location_1 = pd_location.rename(columns = {'Name':'city'})\n",
    "pd_geo = pd.merge(pd_scrape, pd_location_1, on = \"city\")"
   ]
  },
  {
   "cell_type": "code",
   "execution_count": 8,
   "metadata": {
    "collapsed": false
   },
   "outputs": [],
   "source": [
    "pd_geo['city'] = pd_geo['city'] + ', CA'"
   ]
  },
  {
   "cell_type": "code",
   "execution_count": 9,
   "metadata": {
    "collapsed": true
   },
   "outputs": [],
   "source": [
    "def search(keyterm, city, criteria):\n",
    "    result = yelp_search(keyterm, city, criteria)\n",
    "    df_result = pd.DataFrame(result)\n",
    "    df_result[\"city\"] = city\n",
    "    return df_result"
   ]
  },
  {
   "cell_type": "code",
   "execution_count": 10,
   "metadata": {
    "collapsed": false
   },
   "outputs": [],
   "source": [
    "keyterm = \"restaurants\"\n",
    "criteria = \"Distance\"\n",
    "yelp_restaurants = [search(keyterm, \"%s, CA\" %city, criteria) for city in pd_scrape[\"city\"]]"
   ]
  },
  {
   "cell_type": "code",
   "execution_count": 11,
   "metadata": {
    "collapsed": true
   },
   "outputs": [],
   "source": [
    "df_restaurants = pd.concat(yelp_restaurants, ignore_index = True)"
   ]
  },
  {
   "cell_type": "code",
   "execution_count": 12,
   "metadata": {
    "collapsed": false
   },
   "outputs": [],
   "source": [
    "df_food_drop = df_restaurants.drop([\"deals\", \"gift_certificates\", \"image_url\", \"location\", \"menu_date_updated\", \"menu_provider\", \"phone\", \"rating_img_url\", \"rating_img_url_large\", \"rating_img_url_small\", \"snippet_image_url\"], 1)\n",
    "df_food_final = pd.merge(df_food_drop, pd_geo, on = \"city\", how = \"inner\")"
   ]
  },
  {
   "cell_type": "code",
   "execution_count": 13,
   "metadata": {
    "collapsed": false
   },
   "outputs": [
    {
     "name": "stderr",
     "output_type": "stream",
     "text": [
      "/Users/stephanie/anaconda/lib/python2.7/site-packages/ipykernel/__main__.py:4: SettingWithCopyWarning: \n",
      "A value is trying to be set on a copy of a slice from a DataFrame\n",
      "\n",
      "See the caveats in the documentation: http://pandas.pydata.org/pandas-docs/stable/indexing.html#indexing-view-versus-copy\n"
     ]
    }
   ],
   "source": [
    "#change category thats 'Nan' to 'Unknown'\n",
    "for i in range(0,len(df_food_final)):\n",
    "    if type(df_food_final['categories'][i]) == float:\n",
    "        df_food_final['categories'][i] = [[u'Unknown']]"
   ]
  },
  {
   "cell_type": "code",
   "execution_count": 14,
   "metadata": {
    "collapsed": false
   },
   "outputs": [],
   "source": [
    "keyterm = \"hotels\"\n",
    "yelp_hotels = [search(keyterm, \"%s, CA\" %city, criteria) for city in pd_scrape[\"city\"]]\n",
    "df_hotels = pd.concat(yelp_hotels)"
   ]
  },
  {
   "cell_type": "code",
   "execution_count": 15,
   "metadata": {
    "collapsed": false
   },
   "outputs": [],
   "source": [
    "df_hotel_drop = df_hotels.drop([\"deals\", \"gift_certificates\", \"image_url\", \"location\", \"menu_date_updated\", \"menu_provider\", \"phone\", \"rating_img_url\", \"rating_img_url_large\", \"rating_img_url_small\", \"snippet_image_url\"], 1)"
   ]
  },
  {
   "cell_type": "code",
   "execution_count": 16,
   "metadata": {
    "collapsed": false
   },
   "outputs": [],
   "source": [
    "df_hotels_final = pd.merge(df_hotel_drop, pd_geo, on = \"city\", how = \"inner\")"
   ]
  },
  {
   "cell_type": "code",
   "execution_count": 17,
   "metadata": {
    "collapsed": false
   },
   "outputs": [
    {
     "name": "stderr",
     "output_type": "stream",
     "text": [
      "/Users/stephanie/anaconda/lib/python2.7/site-packages/ipykernel/__main__.py:3: SettingWithCopyWarning: \n",
      "A value is trying to be set on a copy of a slice from a DataFrame\n",
      "\n",
      "See the caveats in the documentation: http://pandas.pydata.org/pandas-docs/stable/indexing.html#indexing-view-versus-copy\n",
      "  app.launch_new_instance()\n"
     ]
    }
   ],
   "source": [
    "for i in range(0,len(df_hotels_final)):\n",
    "    if type(df_hotels_final['categories'][i]) == float:\n",
    "        df_hotels_final['categories'][i] = [[u'Unknown']]"
   ]
  },
  {
   "cell_type": "markdown",
   "metadata": {},
   "source": [
    "### Analying data and plotting:"
   ]
  },
  {
   "cell_type": "code",
   "execution_count": 193,
   "metadata": {
    "collapsed": true
   },
   "outputs": [],
   "source": [
    "import plotly\n",
    "import plotly.plotly as py  \n",
    "import plotly.tools as tls   \n",
    "from plotly.graph_objs import *\n",
    "import numpy as np  \n",
    "import plotly.graph_objs as go\n",
    "\n",
    "tls.set_credentials_file(\n",
    "    username = 'stephanielamm',\n",
    "    api_key = 'HnrMArVz1Vf4GhtGFMmv')"
   ]
  },
  {
   "cell_type": "code",
   "execution_count": 19,
   "metadata": {
    "collapsed": false
   },
   "outputs": [],
   "source": [
    "from collections import Counter\n",
    "\n",
    "#get the most frequent category labels (Overall)\n",
    "def freq_cat(dataframe):\n",
    "    count = []\n",
    "    for i in range(0,len(dataframe)):\n",
    "        data = dataframe['categories'][i][0][0]\n",
    "        count.append(data)\n",
    "        freq = Counter(count)\n",
    "        \n",
    "    count_df = pd.DataFrame(freq.most_common()[0:10])\n",
    "    return count_df"
   ]
  },
  {
   "cell_type": "code",
   "execution_count": 20,
   "metadata": {
    "collapsed": false
   },
   "outputs": [
    {
     "data": {
      "text/html": [
       "<iframe id=\"igraph\" scrolling=\"no\" style=\"border:none;\" seamless=\"seamless\" src=\"https://plot.ly/~stephanielam/6.embed\" height=\"525px\" width=\"100%\"></iframe>"
      ],
      "text/plain": [
       "<plotly.tools.PlotlyDisplay object>"
      ]
     },
     "execution_count": 20,
     "metadata": {},
     "output_type": "execute_result"
    }
   ],
   "source": [
    "count_df = freq_cat(df_food_final)\n",
    "\n",
    "#plot\n",
    "data = [go.Bar(x= count_df[0],y= count_df[1])]\n",
    "layout = go.Layout(title='Top 10 most frequent category')\n",
    "fig = go.Figure(data=data, layout=layout)\n",
    "py.iplot(fig, filename = 'Top 10 most frequent category')"
   ]
  },
  {
   "cell_type": "code",
   "execution_count": 21,
   "metadata": {
    "collapsed": false
   },
   "outputs": [],
   "source": [
    "#get star count by each category\n",
    "def get_count(category):\n",
    "    count_list =[]\n",
    "    for i in range(len(df_food_final)):\n",
    "        if df_food_final['categories'][i][0][0] == category:\n",
    "            count_list.append(df_food_final['rating'][i])       \n",
    "    labels, values = zip(*Counter(count_list).items()) \n",
    "    count_list =[] \n",
    "    return labels, values\n",
    "\n",
    "cat_count = []\n",
    "def get_cat_count(dataframe):\n",
    "    for i in range(0, len(dataframe[0])):\n",
    "        count = get_count(dataframe[0][i])\n",
    "        cat_count.append(count)\n",
    "    \n",
    "    return cat_count\n",
    "\n",
    "cat_count = get_cat_count(count_df)"
   ]
  },
  {
   "cell_type": "code",
   "execution_count": 22,
   "metadata": {
    "collapsed": false
   },
   "outputs": [
    {
     "data": {
      "text/html": [
       "<iframe id=\"igraph\" scrolling=\"no\" style=\"border:none;\" seamless=\"seamless\" src=\"https://plot.ly/~stephanielam/2.embed\" height=\"525px\" width=\"100%\"></iframe>"
      ],
      "text/plain": [
       "<plotly.tools.PlotlyDisplay object>"
      ]
     },
     "execution_count": 22,
     "metadata": {},
     "output_type": "execute_result"
    }
   ],
   "source": [
    "#plot of Distribution of stars(by category)\n",
    "\n",
    "for i in range(0, len(cat_count)):\n",
    "    locals()['trace%s' % i] = go.Bar(x = cat_count[i][0], y=cat_count[i][1], name= count_df[0][i])\n",
    "\n",
    "data = [trace0, trace1, trace2, trace3, trace4, trace5, trace6, trace7, trace8, trace9]\n",
    "layout = go.Layout(barmode = 'stack', title ='Rating stars distribution (by categeory)'\n",
    ")\n",
    "\n",
    "fig = go.Figure(data=data, layout=layout)\n",
    "py.iplot(fig, filename='Rating stars distribution (by categeory)')"
   ]
  },
  {
   "cell_type": "code",
   "execution_count": 74,
   "metadata": {
    "collapsed": false
   },
   "outputs": [
    {
     "data": {
      "text/html": [
       "<div>\n",
       "<table border=\"1\" class=\"dataframe\">\n",
       "  <thead>\n",
       "    <tr style=\"text-align: right;\">\n",
       "      <th></th>\n",
       "      <th>city</th>\n",
       "      <th>rating</th>\n",
       "      <th>review_count</th>\n",
       "      <th>population</th>\n",
       "      <th>Latitude</th>\n",
       "      <th>Longitude</th>\n",
       "    </tr>\n",
       "  </thead>\n",
       "  <tbody>\n",
       "    <tr>\n",
       "      <th>0</th>\n",
       "      <td>Adelanto, CA</td>\n",
       "      <td>3.575</td>\n",
       "      <td>27.90</td>\n",
       "      <td>31,765</td>\n",
       "      <td>34.582769</td>\n",
       "      <td>-117.409214</td>\n",
       "    </tr>\n",
       "    <tr>\n",
       "      <th>1</th>\n",
       "      <td>Agoura Hills, CA</td>\n",
       "      <td>4.050</td>\n",
       "      <td>231.30</td>\n",
       "      <td>20,330</td>\n",
       "      <td>34.153339</td>\n",
       "      <td>-118.761675</td>\n",
       "    </tr>\n",
       "    <tr>\n",
       "      <th>2</th>\n",
       "      <td>Alameda, CA</td>\n",
       "      <td>4.100</td>\n",
       "      <td>465.50</td>\n",
       "      <td>73,812</td>\n",
       "      <td>37.765206</td>\n",
       "      <td>-122.241636</td>\n",
       "    </tr>\n",
       "    <tr>\n",
       "      <th>3</th>\n",
       "      <td>Albany, CA</td>\n",
       "      <td>4.150</td>\n",
       "      <td>257.95</td>\n",
       "      <td>18,539</td>\n",
       "      <td>37.886869</td>\n",
       "      <td>-122.297747</td>\n",
       "    </tr>\n",
       "    <tr>\n",
       "      <th>4</th>\n",
       "      <td>Alhambra, CA</td>\n",
       "      <td>4.050</td>\n",
       "      <td>492.40</td>\n",
       "      <td>83,089</td>\n",
       "      <td>34.095286</td>\n",
       "      <td>-118.127014</td>\n",
       "    </tr>\n",
       "  </tbody>\n",
       "</table>\n",
       "</div>"
      ],
      "text/plain": [
       "               city  rating  review_count population  Latitude    Longitude\n",
       "0      Adelanto, CA   3.575         27.90     31,765  34.582769 -117.409214\n",
       "1  Agoura Hills, CA   4.050        231.30     20,330  34.153339 -118.761675\n",
       "2       Alameda, CA   4.100        465.50     73,812  37.765206 -122.241636\n",
       "3        Albany, CA   4.150        257.95     18,539  37.886869 -122.297747\n",
       "4      Alhambra, CA   4.050        492.40     83,089  34.095286 -118.127014"
      ]
     },
     "execution_count": 74,
     "metadata": {},
     "output_type": "execute_result"
    }
   ],
   "source": [
    "#get the average star rating (by City)\n",
    "def average_star_city(dataframe, category):\n",
    "    average_rate = dataframe.groupby('city')[category].mean()\n",
    "    average_rate = average_rate.reset_index()\n",
    "    average_rate = pd.DataFrame(average_rate)\n",
    "    return average_rate\n",
    "    \n",
    "rating_star = average_star_city(df_food_final, 'rating')\n",
    "average_review = average_star_city(df_food_final, 'review_count')\n",
    "rating_star = pd.merge(rating_star, average_review, on= 'city')\n",
    "rating_star = pd.merge(rating_star, pd_geo, on='city')\n",
    "rating_star.head()"
   ]
  },
  {
   "cell_type": "code",
   "execution_count": 81,
   "metadata": {
    "collapsed": false,
    "scrolled": false
   },
   "outputs": [
    {
     "data": {
      "text/html": [
       "<iframe id=\"igraph\" scrolling=\"no\" style=\"border:none;\" seamless=\"seamless\" src=\"https://plot.ly/~stephanielam/4.embed\" height=\"525px\" width=\"100%\"></iframe>"
      ],
      "text/plain": [
       "<plotly.tools.PlotlyDisplay object>"
      ]
     },
     "execution_count": 81,
     "metadata": {},
     "output_type": "execute_result"
    }
   ],
   "source": [
    "rating_star['text'] = 'City:' + rating_star['city'] + ' \\nRating: ' + rating_star['rating'].astype(np.str) +' star' + '<br>Average Reviews count: ' + hotel_rating['review_count'].astype(np.str)\n",
    "limits = [(1,3),(3,3.5),(3.5,4),(4,4.5),(4.5,5)]\n",
    "colors = [\"lightgrey\",\"lightgreen\",\"lightblue\",\"lightyellow\",\"red\"]\n",
    "cities = []\n",
    "scale = 2\n",
    "\n",
    "for i in range(len(limits)):\n",
    "    lim = limits[i]\n",
    "    rate_sub = rating_star.query('%f' %lim[0] +'<= rating < %f' %lim[1])\n",
    "    city = dict(\n",
    "        type = 'scattergeo',\n",
    "        locationmode = 'USA-states',\n",
    "        lon = rate_sub['Longitude'],\n",
    "        lat = rate_sub['Latitude '],\n",
    "        text = rate_sub['text'],\n",
    "        marker = dict(\n",
    "            size = rate_sub['review_count'] / scale,\n",
    "            color = colors[i],\n",
    "            line = dict(width=0.5, color='rgb(40,40,40)'),\n",
    "            sizemode = 'area'\n",
    "        ),\n",
    "        name = '{0} - {1} stars'.format(lim[0],lim[1]))\n",
    "    cities.append(city)\n",
    "\n",
    "layout = dict(\n",
    "        title = 'Restaurant Average Rating by City<br>(Click legend to toggle traces)',\n",
    "        showlegend = True,\n",
    "        geo = dict(\n",
    "            scope='usa',\n",
    "            projection=dict( type='albers usa' ),\n",
    "            showland = True,\n",
    "            landcolor = 'rgb(217, 217, 217)',\n",
    "            subunitwidth=1,\n",
    "            countrywidth=1,\n",
    "            subunitcolor=\"rgb(255, 255, 255)\",\n",
    "            countrycolor=\"rgb(255, 255, 255)\"\n",
    "        ),\n",
    "    )\n",
    "\n",
    "fig = dict( data=cities, layout=layout )\n",
    "py.iplot(fig, validate=False, filename='d3-bubble-map' )"
   ]
  },
  {
   "cell_type": "code",
   "execution_count": 26,
   "metadata": {
    "collapsed": false
   },
   "outputs": [
    {
     "data": {
      "text/html": [
       "<iframe id=\"igraph\" scrolling=\"no\" style=\"border:none;\" seamless=\"seamless\" src=\"https://plot.ly/~stephanielam/14.embed\" height=\"525px\" width=\"100%\"></iframe>"
      ],
      "text/plain": [
       "<plotly.tools.PlotlyDisplay object>"
      ]
     },
     "execution_count": 26,
     "metadata": {},
     "output_type": "execute_result"
    }
   ],
   "source": [
    "#rating vs review_count\n",
    "data = go.Scatter(\n",
    "    x = df_food_final['rating'],\n",
    "    y = df_food_final['review_count'],\n",
    "    mode = 'markers'\n",
    ")\n",
    "\n",
    "layout = go.Layout(\n",
    "    title='Scatter plot of Restaurant\\'s rating vs review count',\n",
    "    xaxis=dict(\n",
    "        title='Rating',\n",
    "        gridcolor='rgb(255, 255, 255)',\n",
    "    ),\n",
    "    yaxis=dict(\n",
    "        title='Review Count',\n",
    "        gridcolor='rgb(255, 255, 255)',\n",
    "    ),\n",
    "    paper_bgcolor='rgb(243, 243, 243)',\n",
    "    plot_bgcolor='rgb(243, 243, 243)',\n",
    ")\n",
    "\n",
    "fig = dict(data=[data], layout=layout)\n",
    "py.iplot(fig, filename='Scatter plot of rating vs review count')"
   ]
  },
  {
   "cell_type": "code",
   "execution_count": 27,
   "metadata": {
    "collapsed": false
   },
   "outputs": [],
   "source": [
    "#top 5 restaurants:\n",
    "best_5 = df_food_final.groupby('rating')['review_count'].nlargest(5).reset_index()\n",
    "best_5 = pd.DataFrame(best_5)"
   ]
  },
  {
   "cell_type": "code",
   "execution_count": 147,
   "metadata": {
    "collapsed": false
   },
   "outputs": [],
   "source": [
    "df_best_5 = pd.DataFrame()\n",
    "for i in range(0,len(best_5)):\n",
    "    if best_5['rating'][i] == 5.0:\n",
    "        data = df_food_final.iloc[[best_5['level_1'][i]]]\n",
    "        df_best_5 = pd.concat([data,df_best_5],ignore_index = True)\n",
    "        \n",
    "df_best_5 = df_best_5.iloc[::-1]\n",
    "#df_best_5[1:2]"
   ]
  },
  {
   "cell_type": "code",
   "execution_count": 181,
   "metadata": {
    "collapsed": false,
    "scrolled": true
   },
   "outputs": [
    {
     "data": {
      "text/html": [
       "<div>\n",
       "<table border=\"1\" class=\"dataframe\">\n",
       "  <thead>\n",
       "    <tr style=\"text-align: right;\">\n",
       "      <th></th>\n",
       "      <th>categories</th>\n",
       "      <th>city</th>\n",
       "      <th>display_phone</th>\n",
       "      <th>id</th>\n",
       "      <th>is_claimed</th>\n",
       "      <th>is_closed</th>\n",
       "      <th>mobile_url</th>\n",
       "      <th>name</th>\n",
       "      <th>rating</th>\n",
       "      <th>review_count</th>\n",
       "      <th>snippet_text</th>\n",
       "      <th>url</th>\n",
       "      <th>population</th>\n",
       "      <th>Latitude</th>\n",
       "      <th>Longitude</th>\n",
       "      <th>text</th>\n",
       "    </tr>\n",
       "  </thead>\n",
       "  <tbody>\n",
       "    <tr>\n",
       "      <th>4</th>\n",
       "      <td>[[Bakeries, bakeries], [Lebanese, lebanese], [...</td>\n",
       "      <td>Murrieta, CA</td>\n",
       "      <td>+1-951-894-4544</td>\n",
       "      <td>sultan-bakery-and-grill-murrieta-4</td>\n",
       "      <td>True</td>\n",
       "      <td>False</td>\n",
       "      <td>https://m.yelp.com/biz/sultan-bakery-and-grill...</td>\n",
       "      <td>Sultan Bakery and Grill</td>\n",
       "      <td>5.0</td>\n",
       "      <td>425</td>\n",
       "      <td>So delicious! Will have to come back and try m...</td>\n",
       "      <td>https://www.yelp.com/biz/sultan-bakery-and-gri...</td>\n",
       "      <td>103,466</td>\n",
       "      <td>33.553914</td>\n",
       "      <td>-117.213922</td>\n",
       "      <td>City:Murrieta, CA&lt;br&gt;Rating: 5.0 star&lt;br&gt;Avera...</td>\n",
       "    </tr>\n",
       "    <tr>\n",
       "      <th>3</th>\n",
       "      <td>[[Japanese, japanese], [Asian Fusion, asianfus...</td>\n",
       "      <td>Cypress, CA</td>\n",
       "      <td>+1-714-252-1160</td>\n",
       "      <td>poki-roll-cypress</td>\n",
       "      <td>True</td>\n",
       "      <td>False</td>\n",
       "      <td>https://m.yelp.com/biz/poki-roll-cypress?adjus...</td>\n",
       "      <td>Poki Roll</td>\n",
       "      <td>5.0</td>\n",
       "      <td>363</td>\n",
       "      <td>Great yelp find!! Got the special combo that c...</td>\n",
       "      <td>https://www.yelp.com/biz/poki-roll-cypress?adj...</td>\n",
       "      <td>47,802</td>\n",
       "      <td>37.320531</td>\n",
       "      <td>-121.962242</td>\n",
       "      <td>City:Cypress, CA&lt;br&gt;Rating: 5.0 star&lt;br&gt;Averag...</td>\n",
       "    </tr>\n",
       "    <tr>\n",
       "      <th>2</th>\n",
       "      <td>[[Japanese, japanese], [Asian Fusion, asianfus...</td>\n",
       "      <td>La Palma, CA</td>\n",
       "      <td>+1-714-252-1160</td>\n",
       "      <td>poki-roll-cypress</td>\n",
       "      <td>True</td>\n",
       "      <td>False</td>\n",
       "      <td>https://m.yelp.com/biz/poki-roll-cypress?adjus...</td>\n",
       "      <td>Poki Roll</td>\n",
       "      <td>5.0</td>\n",
       "      <td>363</td>\n",
       "      <td>Great yelp find!! Got the special combo that c...</td>\n",
       "      <td>https://www.yelp.com/biz/poki-roll-cypress?adj...</td>\n",
       "      <td>15,568</td>\n",
       "      <td>33.846403</td>\n",
       "      <td>-118.046731</td>\n",
       "      <td>City:La Palma, CA&lt;br&gt;Rating: 5.0 star&lt;br&gt;Avera...</td>\n",
       "    </tr>\n",
       "    <tr>\n",
       "      <th>1</th>\n",
       "      <td>[[Meat Shops, meats], [Halal, halal]]</td>\n",
       "      <td>Bell, CA</td>\n",
       "      <td>+1-323-771-2400</td>\n",
       "      <td>fatimas-halal-meat-market-and-grill-bell</td>\n",
       "      <td>True</td>\n",
       "      <td>False</td>\n",
       "      <td>https://m.yelp.com/biz/fatimas-halal-meat-mark...</td>\n",
       "      <td>Fatima's Halal Meat Market &amp; Grill</td>\n",
       "      <td>5.0</td>\n",
       "      <td>323</td>\n",
       "      <td>I enjoy middle eastern cuisine very much it's ...</td>\n",
       "      <td>https://www.yelp.com/biz/fatimas-halal-meat-ma...</td>\n",
       "      <td>35,477</td>\n",
       "      <td>33.977514</td>\n",
       "      <td>-118.187017</td>\n",
       "      <td>City:Bell, CA&lt;br&gt;Rating: 5.0 star&lt;br&gt;Average R...</td>\n",
       "    </tr>\n",
       "    <tr>\n",
       "      <th>0</th>\n",
       "      <td>[[Meat Shops, meats], [Halal, halal]]</td>\n",
       "      <td>Bell Gardens, CA</td>\n",
       "      <td>+1-323-771-2400</td>\n",
       "      <td>fatimas-halal-meat-market-and-grill-bell</td>\n",
       "      <td>True</td>\n",
       "      <td>False</td>\n",
       "      <td>https://m.yelp.com/biz/fatimas-halal-meat-mark...</td>\n",
       "      <td>Fatima's Halal Meat Market &amp; Grill</td>\n",
       "      <td>5.0</td>\n",
       "      <td>323</td>\n",
       "      <td>I enjoy middle eastern cuisine very much it's ...</td>\n",
       "      <td>https://www.yelp.com/biz/fatimas-halal-meat-ma...</td>\n",
       "      <td>42,072</td>\n",
       "      <td>33.965292</td>\n",
       "      <td>-118.151458</td>\n",
       "      <td>City:Bell Gardens, CA&lt;br&gt;Rating: 5.0 star&lt;br&gt;A...</td>\n",
       "    </tr>\n",
       "  </tbody>\n",
       "</table>\n",
       "</div>"
      ],
      "text/plain": [
       "                                          categories              city  \\\n",
       "4  [[Bakeries, bakeries], [Lebanese, lebanese], [...      Murrieta, CA   \n",
       "3  [[Japanese, japanese], [Asian Fusion, asianfus...       Cypress, CA   \n",
       "2  [[Japanese, japanese], [Asian Fusion, asianfus...      La Palma, CA   \n",
       "1              [[Meat Shops, meats], [Halal, halal]]          Bell, CA   \n",
       "0              [[Meat Shops, meats], [Halal, halal]]  Bell Gardens, CA   \n",
       "\n",
       "     display_phone                                        id is_claimed  \\\n",
       "4  +1-951-894-4544        sultan-bakery-and-grill-murrieta-4       True   \n",
       "3  +1-714-252-1160                         poki-roll-cypress       True   \n",
       "2  +1-714-252-1160                         poki-roll-cypress       True   \n",
       "1  +1-323-771-2400  fatimas-halal-meat-market-and-grill-bell       True   \n",
       "0  +1-323-771-2400  fatimas-halal-meat-market-and-grill-bell       True   \n",
       "\n",
       "  is_closed                                         mobile_url  \\\n",
       "4     False  https://m.yelp.com/biz/sultan-bakery-and-grill...   \n",
       "3     False  https://m.yelp.com/biz/poki-roll-cypress?adjus...   \n",
       "2     False  https://m.yelp.com/biz/poki-roll-cypress?adjus...   \n",
       "1     False  https://m.yelp.com/biz/fatimas-halal-meat-mark...   \n",
       "0     False  https://m.yelp.com/biz/fatimas-halal-meat-mark...   \n",
       "\n",
       "                                 name  rating  review_count  \\\n",
       "4             Sultan Bakery and Grill     5.0           425   \n",
       "3                           Poki Roll     5.0           363   \n",
       "2                           Poki Roll     5.0           363   \n",
       "1  Fatima's Halal Meat Market & Grill     5.0           323   \n",
       "0  Fatima's Halal Meat Market & Grill     5.0           323   \n",
       "\n",
       "                                        snippet_text  \\\n",
       "4  So delicious! Will have to come back and try m...   \n",
       "3  Great yelp find!! Got the special combo that c...   \n",
       "2  Great yelp find!! Got the special combo that c...   \n",
       "1  I enjoy middle eastern cuisine very much it's ...   \n",
       "0  I enjoy middle eastern cuisine very much it's ...   \n",
       "\n",
       "                                                 url population  Latitude   \\\n",
       "4  https://www.yelp.com/biz/sultan-bakery-and-gri...    103,466  33.553914   \n",
       "3  https://www.yelp.com/biz/poki-roll-cypress?adj...     47,802  37.320531   \n",
       "2  https://www.yelp.com/biz/poki-roll-cypress?adj...     15,568  33.846403   \n",
       "1  https://www.yelp.com/biz/fatimas-halal-meat-ma...     35,477  33.977514   \n",
       "0  https://www.yelp.com/biz/fatimas-halal-meat-ma...     42,072  33.965292   \n",
       "\n",
       "    Longitude                                               text  \n",
       "4 -117.213922  City:Murrieta, CA<br>Rating: 5.0 star<br>Avera...  \n",
       "3 -121.962242  City:Cypress, CA<br>Rating: 5.0 star<br>Averag...  \n",
       "2 -118.046731  City:La Palma, CA<br>Rating: 5.0 star<br>Avera...  \n",
       "1 -118.187017  City:Bell, CA<br>Rating: 5.0 star<br>Average R...  \n",
       "0 -118.151458  City:Bell Gardens, CA<br>Rating: 5.0 star<br>A...  "
      ]
     },
     "execution_count": 181,
     "metadata": {},
     "output_type": "execute_result"
    }
   ],
   "source": [
    "df_best_5"
   ]
  },
  {
   "cell_type": "code",
   "execution_count": 239,
   "metadata": {
    "collapsed": false
   },
   "outputs": [
    {
     "data": {
      "text/html": [
       "<iframe id=\"igraph\" scrolling=\"no\" style=\"border:none;\" seamless=\"seamless\" src=\"https://plot.ly/~stephanielamm/24.embed\" height=\"525px\" width=\"100%\"></iframe>"
      ],
      "text/plain": [
       "<plotly.tools.PlotlyDisplay object>"
      ]
     },
     "execution_count": 239,
     "metadata": {},
     "output_type": "execute_result"
    }
   ],
   "source": [
    "#top 5 \n",
    "mapbox_access_token = 'pk.eyJ1Ijoic3RhMTQxcHJvamVjdCIsImEiOiJjaXpxYWUyOHEwMTZ1MzNuNHp6b21zY2Y5In0.Vr6h57ZVuRRgfJ4RwW9wGw'\n",
    "\n",
    "def best_5_map(dataframe, kind_of_data):\n",
    "    dataframe['text'] = 'Name: ' + dataframe['name'] + '<br>City:' + dataframe['city'] +'<br>Rating: ' + dataframe['rating'].astype(np.str)+ ' star' + '<br>Reviews count: ' + dataframe['review_count'].astype(np.str) + '<br>Category: ' + [dataframe['categories'][i][0][0] for i in reversed(range(0, len(df_best_5['categories'])))]\n",
    "\n",
    "    data = Data([\n",
    "        Scattermapbox(\n",
    "            lat=dataframe['Latitude '],\n",
    "            lon=dataframe['Longitude'],\n",
    "            mode='markers',\n",
    "            marker=Marker(\n",
    "                size=17,\n",
    "                color='rgb(255, 0, 0)',\n",
    "                opacity=0.7\n",
    "            ),\n",
    "            text=dataframe['text'],\n",
    "        )\n",
    "    ])\n",
    "\n",
    "    layout = Layout(\n",
    "        title = 'Top %s in California'%kind_of_data ,\n",
    "        autosize=True,\n",
    "        hovermode='closest',\n",
    "        mapbox=dict(\n",
    "            accesstoken=mapbox_access_token,\n",
    "            bearing=0,\n",
    "            center=dict(\n",
    "                lat=35,\n",
    "                lon=-120\n",
    "            ),\n",
    "            pitch=0,\n",
    "            zoom=4.5\n",
    "        ),\n",
    "    )\n",
    "\n",
    "    fig = dict(data=data, layout=layout)\n",
    "    return py.iplot(fig, filename='Top 5 %s'%kind_of_data, validate=False)\n",
    "\n",
    "best_5_map(df_best_5, 'Restaurant')"
   ]
  },
  {
   "cell_type": "markdown",
   "metadata": {},
   "source": [
    "### Hotels"
   ]
  },
  {
   "cell_type": "code",
   "execution_count": 29,
   "metadata": {
    "collapsed": true
   },
   "outputs": [],
   "source": [
    "#get the most frequent category labels (Overall)\n",
    "count_df = freq_cat(df_hotels_final)"
   ]
  },
  {
   "cell_type": "code",
   "execution_count": 94,
   "metadata": {
    "collapsed": false
   },
   "outputs": [
    {
     "data": {
      "text/html": [
       "<iframe id=\"igraph\" scrolling=\"no\" style=\"border:none;\" seamless=\"seamless\" src=\"https://plot.ly/~stephanielam/6.embed\" height=\"525px\" width=\"100%\"></iframe>"
      ],
      "text/plain": [
       "<plotly.tools.PlotlyDisplay object>"
      ]
     },
     "execution_count": 94,
     "metadata": {},
     "output_type": "execute_result"
    }
   ],
   "source": [
    "#plot\n",
    "data = [go.Bar(x= count_df[0],y= count_df[1],\n",
    "        marker=dict(\n",
    "            color=['rgba(222,45,38,0.8)', 'grey', 'grey', 'grey', 'grey', 'grey',\n",
    "                   'grey', 'grey','grey', 'grey',]))]\n",
    "layout = go.Layout(title='Top 10 most frequent category')\n",
    "fig = go.Figure(data=data, layout=layout)\n",
    "py.iplot(fig, filename = 'Top 10 most frequent category')"
   ]
  },
  {
   "cell_type": "code",
   "execution_count": 32,
   "metadata": {
    "collapsed": false
   },
   "outputs": [],
   "source": [
    "#restrict to only the category 'Hotels'\n",
    "df_limit_hotels = pd.DataFrame()\n",
    "for i in range(0, len(df_hotels_final)):\n",
    "    for j in range(0, len(df_hotels_final['categories'][i])):\n",
    "        if df_hotels_final['categories'][i][j] == [u'Hotels', u'hotels']:\n",
    "            df_limit_hotels = pd.concat([df_hotels_final.iloc[[i]],df_limit_hotels], ignore_index = True)"
   ]
  },
  {
   "cell_type": "code",
   "execution_count": 124,
   "metadata": {
    "collapsed": false
   },
   "outputs": [
    {
     "data": {
      "text/html": [
       "<iframe id=\"igraph\" scrolling=\"no\" style=\"border:none;\" seamless=\"seamless\" src=\"https://plot.ly/~stephanielam/22.embed\" height=\"525px\" width=\"100%\"></iframe>"
      ],
      "text/plain": [
       "<plotly.tools.PlotlyDisplay object>"
      ]
     },
     "execution_count": 124,
     "metadata": {},
     "output_type": "execute_result"
    }
   ],
   "source": [
    "#star distribution in the category 'Hotels'\n",
    "labels, values = zip(*Counter(df_limit_hotels['rating']).items()) \n",
    "\n",
    "fig = {\n",
    "    'data': [{'labels': labels,\n",
    "              'values': values,\n",
    "              'type': 'pie',\n",
    "             }],\n",
    "    'layout': {'title': \"Pie chart of star distribution in the category 'Hotels'\"}\n",
    "     }\n",
    "py.iplot(fig, filename = \"star distribution in the category Hotels\")"
   ]
  },
  {
   "cell_type": "code",
   "execution_count": 33,
   "metadata": {
    "collapsed": false
   },
   "outputs": [],
   "source": [
    "#get the average star rating (by City)\n",
    "hotel_rating = average_star_city(df_limit_hotels, 'rating')\n",
    "average_review = average_star_city(df_limit_hotels, 'review_count')"
   ]
  },
  {
   "cell_type": "code",
   "execution_count": 34,
   "metadata": {
    "collapsed": false
   },
   "outputs": [],
   "source": [
    "hotel_rating = pd.merge(hotel_rating, average_review, on= 'city')\n",
    "hotel_rating = pd.merge(hotel_rating, pd_geo, on='city')"
   ]
  },
  {
   "cell_type": "code",
   "execution_count": 70,
   "metadata": {
    "collapsed": false,
    "scrolled": true
   },
   "outputs": [
    {
     "data": {
      "text/html": [
       "<iframe id=\"igraph\" scrolling=\"no\" style=\"border:none;\" seamless=\"seamless\" src=\"https://plot.ly/~stephanielam/8.embed\" height=\"525px\" width=\"100%\"></iframe>"
      ],
      "text/plain": [
       "<plotly.tools.PlotlyDisplay object>"
      ]
     },
     "execution_count": 70,
     "metadata": {},
     "output_type": "execute_result"
    }
   ],
   "source": [
    "hotel_rating['text'] = 'City:' + hotel_rating['city'] + '<br>Rating: ' + hotel_rating['rating'].astype(np.str)+' star' + '<br>Average Reviews count: ' + hotel_rating['review_count'].astype(np.str)\n",
    "limits = [(1,3),(3,3.5),(3.5,4),(4,4.5),(4.5,5)]\n",
    "colors = [\"lightgrey\",\"lightgreen\",\"lightblue\",\"lightyellow\",\"red\"]\n",
    "cities = []\n",
    "\n",
    "for i in range(len(limits)):\n",
    "    lim = limits[i]\n",
    "    rate_sub = hotel_rating.query('%f' %lim[0] +'<= rating < %f' %lim[1])\n",
    "    city = dict(\n",
    "        type = 'scattergeo',\n",
    "        locationmode = 'ISO-3',\n",
    "        lon = rate_sub['Longitude'],\n",
    "        lat = rate_sub['Latitude '],\n",
    "        text = rate_sub['text'],\n",
    "        marker = dict(\n",
    "            size = rate_sub['review_count'],\n",
    "            color = colors[i],\n",
    "            line = dict(width=0.5, color='rgb(40,40,40)'),\n",
    "            sizemode = 'area'\n",
    "        ),\n",
    "        name = '{0} - {1} stars'.format(lim[0],lim[1]))\n",
    "    cities.append(city)\n",
    "\n",
    "layout = dict(\n",
    "        title = 'Hotel Average Rating by City<br>(Click legend to toggle traces)',\n",
    "        showlegend = True,\n",
    "        geo = dict(\n",
    "            scope='usa',\n",
    "            projection=dict( type='albers usa' ),\n",
    "            showland = True,\n",
    "            landcolor = 'rgb(217, 217, 217)',\n",
    "            subunitwidth=1,\n",
    "            countrywidth=1,\n",
    "            subunitcolor=\"rgb(255, 255, 255)\",\n",
    "            countrycolor=\"rgb(255, 255, 255)\"\n",
    "        ),\n",
    "    )\n",
    "\n",
    "fig = dict( data=cities, layout=layout )\n",
    "py.iplot(fig, validate=False, filename='hotel average rating' )"
   ]
  },
  {
   "cell_type": "code",
   "execution_count": 83,
   "metadata": {
    "collapsed": false
   },
   "outputs": [
    {
     "data": {
      "text/html": [
       "<iframe id=\"igraph\" scrolling=\"no\" style=\"border:none;\" seamless=\"seamless\" src=\"https://plot.ly/~stephanielam/16.embed\" height=\"525px\" width=\"100%\"></iframe>"
      ],
      "text/plain": [
       "<plotly.tools.PlotlyDisplay object>"
      ]
     },
     "execution_count": 83,
     "metadata": {},
     "output_type": "execute_result"
    }
   ],
   "source": [
    "#rating vs review_count\n",
    "data = go.Scatter(\n",
    "    x = df_hotels_final['rating'],\n",
    "    y = df_hotels_final['review_count'],\n",
    "    mode = 'markers'\n",
    ")\n",
    "\n",
    "layout = go.Layout(\n",
    "    title='Scatter plot of Restaurant\\'s rating vs review count',\n",
    "    xaxis=dict(\n",
    "        title='Rating',\n",
    "        gridcolor='rgb(255, 255, 255)',\n",
    "    ),\n",
    "    yaxis=dict(\n",
    "        title='Review Count',\n",
    "        gridcolor='rgb(255, 255, 255)',\n",
    "    ),\n",
    "    paper_bgcolor='rgb(243, 243, 243)',\n",
    "    plot_bgcolor='rgb(243, 243, 243)',\n",
    ")\n",
    "\n",
    "fig = dict(data=[data], layout=layout)\n",
    "py.iplot(fig, filename='Scatter plot of rating vs review count2')"
   ]
  },
  {
   "cell_type": "code",
   "execution_count": 211,
   "metadata": {
    "collapsed": false,
    "scrolled": true
   },
   "outputs": [],
   "source": [
    "#Top five hotels:\n",
    "hotel_best_5 = df_limit_hotels.groupby('rating')['review_count'].nlargest(5).reset_index()\n",
    "hotel_best_5 = pd.DataFrame(hotel_best_5)\n",
    "\n",
    "df_hotel_best_5 = pd.DataFrame()\n",
    "for i in range(0,len(hotel_best_5)):\n",
    "    if hotel_best_5['rating'][i] == 5.0:\n",
    "        data = df_limit_hotels.iloc[[hotel_best_5['level_1'][i]]]\n",
    "        df_hotel_best_5 = pd.concat([data,df_hotel_best_5],ignore_index = True)\n",
    "        \n",
    "df_hotel_best_5 = df_hotel_best_5.iloc[::-1]"
   ]
  },
  {
   "cell_type": "code",
   "execution_count": 240,
   "metadata": {
    "collapsed": false,
    "scrolled": false
   },
   "outputs": [
    {
     "data": {
      "text/html": [
       "<iframe id=\"igraph\" scrolling=\"no\" style=\"border:none;\" seamless=\"seamless\" src=\"https://plot.ly/~stephanielamm/26.embed\" height=\"525px\" width=\"100%\"></iframe>"
      ],
      "text/plain": [
       "<plotly.tools.PlotlyDisplay object>"
      ]
     },
     "execution_count": 240,
     "metadata": {},
     "output_type": "execute_result"
    }
   ],
   "source": [
    "#Best 5 hotel map\n",
    "best_5_map(df_hotel_best_5, 'Hotels')"
   ]
  },
  {
   "cell_type": "code",
   "execution_count": 40,
   "metadata": {
    "collapsed": true
   },
   "outputs": [],
   "source": [
    "# Add Landmarks\n",
    "keyterm = \"landmarks\"\n",
    "yelp_landmarks = [search(keyterm, \"%s, CA\" %city, criteria) for city in pd_scrape[\"city\"]]\n",
    "df_landmarks = pd.concat(yelp_landmarks)\n",
    "df_landmarks_drop = df_landmarks.drop([\"deals\", \"gift_certificates\", \"image_url\", \"location\", \"menu_date_updated\", \"menu_provider\", \"phone\", \"rating_img_url\", \"rating_img_url_large\", \"rating_img_url_small\", \"snippet_image_url\"], 1)\n",
    "df_landmarks_final = pd.merge(df_landmarks_drop, pd_geo, on = \"city\", how = \"inner\")\n"
   ]
  },
  {
   "cell_type": "code",
<<<<<<< HEAD
   "execution_count": 9,
=======
   "execution_count": 41,
>>>>>>> dae8a1793c2d98608ebdf7fb6ba67c9292137737
   "metadata": {
    "collapsed": true
   },
   "outputs": [],
   "source": [
    "import json, ast\n",
    "import pandas as pd\n",
    "from django.utils.encoding import smart_str, smart_unicode"
   ]
  },
  {
   "cell_type": "code",
<<<<<<< HEAD
   "execution_count": 113,
=======
   "execution_count": 42,
>>>>>>> dae8a1793c2d98608ebdf7fb6ba67c9292137737
   "metadata": {
    "collapsed": true
   },
   "outputs": [],
   "source": [
    "requests_cache.install_cache(\"cache\")\n",
    "def modify(city):\n",
    "    \"\"\"\n",
    "    modify the input\n",
    "    \n",
    "    Argument: city\n",
    "    \n",
    "    Return: soup from the url link\n",
    "    \"\"\"\n",
    "    # capitalize the first letter of each word in a string\n",
    "    city = city.title()\n",
    "    # replace the empty space with the _\n",
    "    city = city.strip().replace(' ', '_')\n",
    "    url = \"https://en.wikipedia.org/wiki/\" + str(city) +\",_California\"\n",
    "    info = requests.get(url).content\n",
    "    wikisoup = BeautifulSoup(info, 'lxml')\n",
    "    return wikisoup"
   ]
  },
  {
   "cell_type": "code",
<<<<<<< HEAD
   "execution_count": 114,
=======
   "execution_count": 43,
>>>>>>> dae8a1793c2d98608ebdf7fb6ba67c9292137737
   "metadata": {
    "collapsed": false
   },
   "outputs": [],
   "source": [
    "def extract_overview(city):\n",
    "    \"\"\"\n",
    "    extract a brief overview from the wikipedia page\n",
    "    \n",
    "    Argument: city\n",
    "    \n",
    "    Return: print the overview description\n",
    "    \"\"\"\n",
    "    wikisoup = modify(city)\n",
    "    content = wikisoup.findAll(\"p\")\n",
    "    brief = content[0].text\n",
    "    brief = ast.literal_eval(json.dumps(brief))\n",
    "    print brief"
   ]
  },
  {
   "cell_type": "code",
<<<<<<< HEAD
   "execution_count": 115,
   "metadata": {
    "collapsed": true
   },
   "outputs": [],
   "source": [
    "import re\n",
    "\n",
    "trim_function = lambda x : re.findall(\"^\\s*(.*?)\\s*$\",str(x))[0]"
   ]
  },
  {
   "cell_type": "code",
   "execution_count": 156,
=======
   "execution_count": 44,
>>>>>>> dae8a1793c2d98608ebdf7fb6ba67c9292137737
   "metadata": {
    "collapsed": false
   },
   "outputs": [],
   "source": [
    "def extract_info(city):\n",
    "    \"\"\"\n",
    "    extract the basic information of the city\n",
    "    \n",
    "    Argument: city\n",
    "    \n",
    "    Return: a dataframe with the basic information\n",
    "    \"\"\"\n",
    "    wikisoup = modify(city)\n",
    "    data1 = wikisoup.findAll(\"tr\", {\"class\": \"mergedrow\"})\n",
    "    data = [dat.text for dat in data1]\n",
    "    split = [dat.strip(\"\\n\") for dat in data]\n",
    "    split = [dat.replace(u\"•\", \"\") for dat in data] \n",
    "    pd_info = pd.DataFrame(split)\n",
    "    pd_info.rename(columns = {list(pd_info)[0]: 'info'}, inplace = True)\n",
    "\n",
    "    #remove []\n",
    "    pd_info['info'] = pd_info['info'].map(lambda x: re.sub(\"(\\[).*?([\\]])\", \"\", x))\n",
    "    #remove unwanted characters\n",
    "    pd_info['info'] = pd_info['info'].map(lambda x: re.sub(ur'[\\•]', ' ', x))\n",
    "    pd_info['info'] = pd_info['info'].str.strip(\"\\n\")\n",
    "    # how to only get one colon\n",
    "    pd_info['info'] = pd_info['info'].str.replace(\"\\n\", \" : \")\n",
    "    return pd_info"
   ]
  },
  {
   "cell_type": "code",
<<<<<<< HEAD
   "execution_count": 157,
=======
   "execution_count": 46,
   "metadata": {
    "collapsed": false
   },
   "outputs": [
    {
     "name": "stdout",
     "output_type": "stream",
     "text": [
      "California\n"
     ]
    }
   ],
   "source": [
    "output = extract_overview(\"San Francisco\")\n",
    "# how to change the \\u2013\n",
    "output"
   ]
  },
  {
   "cell_type": "code",
   "execution_count": 57,
   "metadata": {
    "collapsed": false
   },
   "outputs": [],
   "source": [
    "city = \"San Francisco\"\n",
    "wikisoup = modify(city)\n",
    "content = wikisoup.findAll(\"p\")\n",
    "#print content[0:1].text"
   ]
  },
  {
   "cell_type": "code",
   "execution_count": 48,
   "metadata": {
    "collapsed": true
   },
   "outputs": [],
   "source": [
    "brief = content[0].text\n",
    "brief = ast.literal_eval(json.dumps(brief))"
   ]
  },
  {
   "cell_type": "code",
   "execution_count": 58,
>>>>>>> dae8a1793c2d98608ebdf7fb6ba67c9292137737
   "metadata": {
    "collapsed": false
   },
   "outputs": [
    {
     "data": {
      "text/html": [
       "<div>\n",
       "<table border=\"1\" class=\"dataframe\">\n",
       "  <thead>\n",
       "    <tr style=\"text-align: right;\">\n",
       "      <th></th>\n",
       "      <th>info</th>\n",
       "    </tr>\n",
       "  </thead>\n",
       "  <tbody>\n",
       "    <tr>\n",
       "      <th>0</th>\n",
       "      <td>Motto: Oro en Paz, Fierro en Guerra (Spanish) ...</td>\n",
       "    </tr>\n",
       "    <tr>\n",
       "      <th>1</th>\n",
       "      <td>State :  : California</td>\n",
       "    </tr>\n",
       "    <tr>\n",
       "      <th>2</th>\n",
       "      <td>CSA : San Jose–San Francisco–Oakland</td>\n",
       "    </tr>\n",
       "    <tr>\n",
       "      <th>3</th>\n",
       "      <td>Metro : San Francisco–Oakland–Hayward</td>\n",
       "    </tr>\n",
       "    <tr>\n",
       "      <th>4</th>\n",
       "      <td>Incorporated : April 15, 1850</td>\n",
       "    </tr>\n",
       "    <tr>\n",
       "      <th>5</th>\n",
       "      <td>Founded by : José Joaquin Moraga : Francisco P...</td>\n",
       "    </tr>\n",
       "    <tr>\n",
       "      <th>6</th>\n",
       "      <td>Named for : St. Francis of Assisi</td>\n",
       "    </tr>\n",
       "    <tr>\n",
       "      <th>7</th>\n",
       "      <td>Type : Mayor-council</td>\n",
       "    </tr>\n",
       "    <tr>\n",
       "      <th>8</th>\n",
       "      <td>Body : Board of Supervisors</td>\n",
       "    </tr>\n",
       "    <tr>\n",
       "      <th>9</th>\n",
       "      <td>Mayor : Edwin M. Lee (D)</td>\n",
       "    </tr>\n",
       "    <tr>\n",
       "      <th>10</th>\n",
       "      <td>Supervisors :  :  : List :  : Sandra Lee Few...</td>\n",
       "    </tr>\n",
       "    <tr>\n",
       "      <th>11</th>\n",
       "      <td>Assembly members : David Chiu (D) : Phil Tin...</td>\n",
       "    </tr>\n",
       "    <tr>\n",
       "      <th>12</th>\n",
       "      <td>State senator : Scott Wiener (D)</td>\n",
       "    </tr>\n",
       "    <tr>\n",
       "      <th>13</th>\n",
       "      <td>United States Representatives : Nancy Pelosi...</td>\n",
       "    </tr>\n",
       "    <tr>\n",
       "      <th>14</th>\n",
       "      <td>City and county : 231.89 sq mi (600.6 km2)</td>\n",
       "    </tr>\n",
       "    <tr>\n",
       "      <th>15</th>\n",
       "      <td>Land : 46.87 sq mi (121.4 km2)</td>\n",
       "    </tr>\n",
       "    <tr>\n",
       "      <th>16</th>\n",
       "      <td>Water : 185.02 sq mi (479.2 km2)  80.00%</td>\n",
       "    </tr>\n",
       "    <tr>\n",
       "      <th>17</th>\n",
       "      <td>Metro : 3,524.4 sq mi (9,128 km2)</td>\n",
       "    </tr>\n",
       "    <tr>\n",
       "      <th>18</th>\n",
       "      <td>City and county : 864,816</td>\n",
       "    </tr>\n",
       "    <tr>\n",
       "      <th>19</th>\n",
       "      <td>Rank : 13th, U.S.</td>\n",
       "    </tr>\n",
       "    <tr>\n",
       "      <th>20</th>\n",
       "      <td>Density : 18,451/sq mi (7,124/km2)</td>\n",
       "    </tr>\n",
       "    <tr>\n",
       "      <th>21</th>\n",
       "      <td>Metro : 4,656,132 (11th)</td>\n",
       "    </tr>\n",
       "    <tr>\n",
       "      <th>22</th>\n",
       "      <td>CSA : 8,713,914 (5th)</td>\n",
       "    </tr>\n",
       "    <tr>\n",
       "      <th>23</th>\n",
       "      <td>Summer (DST) : Pacific Daylight Time (UTC−7)</td>\n",
       "    </tr>\n",
       "    <tr>\n",
       "      <th>24</th>\n",
       "      <td>Area codes : 415/628</td>\n",
       "    </tr>\n",
       "    <tr>\n",
       "      <th>25</th>\n",
       "      <td>GNIS feature IDs : 277593, 2411786</td>\n",
       "    </tr>\n",
       "  </tbody>\n",
       "</table>\n",
       "</div>"
      ],
      "text/plain": [
       "                                                 info\n",
       "0   Motto: Oro en Paz, Fierro en Guerra (Spanish) ...\n",
       "1                               State :  : California\n",
       "2                CSA : San Jose–San Francisco–Oakland\n",
       "3               Metro : San Francisco–Oakland–Hayward\n",
       "4                       Incorporated : April 15, 1850\n",
       "5   Founded by : José Joaquin Moraga : Francisco P...\n",
       "6                   Named for : St. Francis of Assisi\n",
       "7                                Type : Mayor-council\n",
       "8                         Body : Board of Supervisors\n",
       "9                            Mayor : Edwin M. Lee (D)\n",
       "10    Supervisors :  :  : List :  : Sandra Lee Few...\n",
       "11    Assembly members : David Chiu (D) : Phil Tin...\n",
       "12                   State senator : Scott Wiener (D)\n",
       "13    United States Representatives : Nancy Pelosi...\n",
       "14         City and county : 231.89 sq mi (600.6 km2)\n",
       "15                     Land : 46.87 sq mi (121.4 km2)\n",
       "16           Water : 185.02 sq mi (479.2 km2)  80.00%\n",
       "17                  Metro : 3,524.4 sq mi (9,128 km2)\n",
       "18                          City and county : 864,816\n",
       "19                                  Rank : 13th, U.S.\n",
       "20                 Density : 18,451/sq mi (7,124/km2)\n",
       "21                           Metro : 4,656,132 (11th)\n",
       "22                              CSA : 8,713,914 (5th)\n",
       "23       Summer (DST) : Pacific Daylight Time (UTC−7)\n",
       "24                               Area codes : 415/628\n",
       "25                 GNIS feature IDs : 277593, 2411786"
      ]
     },
<<<<<<< HEAD
     "execution_count": 157,
=======
     "execution_count": 58,
>>>>>>> dae8a1793c2d98608ebdf7fb6ba67c9292137737
     "metadata": {},
     "output_type": "execute_result"
    }
   ],
   "source": [
    "a = extract_info(\"san francisco\")\n",
    "a"
   ]
  },
  {
   "cell_type": "code",
   "execution_count": null,
   "metadata": {
    "collapsed": false
   },
   "outputs": [],
   "source": [
    "output = extract_overview(\"San Francisco\")\n",
    "# how to change the \\u2013\n",
    "output"
   ]
  },
  {
   "cell_type": "code",
   "execution_count": 71,
   "metadata": {
    "collapsed": false
   },
   "outputs": [
    {
     "name": "stdout",
     "output_type": "stream",
     "text": [
      "[u'California', u'San Francisco (SF) (/s\\xe6n fr\\u0259n\\u02c8s\\u026asko\\u028a/) (Spanish for Saint Francis) officially the City and County of San Francisco, is the cultural, commercial, and financial center of Northern California. It is the birthplace of the United Nations.[23][24][25] Located at the north end of the San Francisco Peninsula, San Francisco is about 47.9 square miles (124\\xa0km2)[17] in area, making it the smallest county\\u2014and the only consolidated city-county[26]\\u2014within the state of California. With a density of about 18,451 people per square mile (7,124 people per km2), San Francisco is the most densely settled large city (population greater than 200,000) in California and the second-most densely populated major city in the United States after New York City.[27] San Francisco is the fourth-most populous city in California, after Los Angeles, San Diego, and San Jose, and the 13th-most populous city in the United States\\u2014with a census-estimated 2015 population of 864,816.[20] The city and its surrounding areas are known as the San Francisco Bay Area, and are a part of the larger OMB-designated San Jose-San Francisco-Oakland combined statistical area, the fifth most populous in the nation with an estimated population of 8.7 million.', u'San Francisco (Spanish for Saint Francis) was founded on June 29, 1776, when colonists from Spain established Presidio of San Francisco at the Golden Gate and Mission San Francisco de As\\xeds named for St. Francis of Assisi a few miles away.[8] The California Gold Rush of 1849 brought rapid growth, making it the largest city on the West Coast at the time. San Francisco became a consolidated city-county in 1856.[28] After three-quarters of the city was destroyed by the 1906 earthquake and fire,[29] San Francisco was quickly rebuilt, hosting the Panama-Pacific International Exposition nine years later. In World War II, San Francisco was the port of embarkation for service members shipping out to the Pacific Theater.[30] After the war, the confluence of returning servicemen, massive immigration, liberalizing attitudes, along with the rise of the \"hippie\" counterculture, the Sexual Revolution, the Peace Movement growing from opposition to United States involvement in the Vietnam War, and other factors led to the Summer of Love and the gay rights movement, cementing San Francisco as a center of liberal activism in the United States. Politically, the city votes strongly along liberal Democratic Party lines.', u'A popular tourist destination,[31] San Francisco is known for its cool summers, fog, steep rolling hills, eclectic mix of architecture, and landmarks, including the Golden Gate Bridge, cable cars, the former Alcatraz Federal Penitentiary, Fisherman\\'s Wharf, and its Chinatown district. San Francisco is also the headquarters of five major banking institutions and various other companies such as Levi Strauss & Co., Gap Inc., Salesforce.com, Dropbox, Reddit, Square, Inc., Dolby, Airbnb, Weebly, Pacific Gas and Electric Company, Yelp, Pinterest, Twitter, Uber, Lyft, Mozilla, Wikimedia Foundation, and Craigslist. It has several nicknames, including \"The City by the Bay\", \"Fog City\", \"San Fran\", and \"Frisco\", as well as older ones like \"The City that Knows How\", \"Baghdad by the Bay\", \"The Paris of the West\", or simply \"The City\".[32] As of 2016[update], San Francisco is ranked high on world liveability rankings.[33]', u'', u'', u' Spanish Empire 1776\\u20131821\\n First Mexican Empire 1821\\u20131823\\n United Mexican States 1823\\u20131848\\n\\xa0United States 1848\\u2013present', u'The earliest archaeological evidence of human habitation of the territory of the city of San Francisco dates to 3000\\xa0BC.[34] The Yelamu group of the Ohlone people resided in a few small villages when an overland Spanish exploration party, led by Don Gaspar de Portol\\xe0, arrived on November 2, 1769, the first documented European visit to San Francisco Bay.[35] Seven years later, on March 28, 1776, the Spanish established the Presidio of San Francisco, followed by a mission, Mission San Francisco de As\\xeds (Mission Dolores), established by the Spanish explorer Juan Bautista de Anza.[8]', u'Upon independence from Spain in 1821, the area became part of Mexico. Under Mexican rule, the mission system gradually ended, and its lands became privatized. In 1835, Englishman William Richardson erected the first independent homestead,[36] near a boat anchorage around what is today Portsmouth Square. Together with Alcalde Francisco de Haro, he laid out a street plan for the expanded settlement, and the town, named Yerba Buena, began to attract American settlers. Commodore John D. Sloat claimed California for the United States on July 7, 1846, during the Mexican\\u2013American War, and Captain John B. Montgomery arrived to claim Yerba Buena two days later. Yerba Buena was renamed San Francisco on January 30 of the next year, and Mexico officially ceded the territory to the United States at the end of the war. Despite its attractive location as a port and naval base, San Francisco was still a small settlement with inhospitable geography.[37]', u'The California Gold Rush brought a flood of treasure seekers (known as \"forty-niners\", as in \"1849\"). With their sourdough bread in tow,[38] prospectors accumulated in San Francisco over rival Benicia,[39] raising the population from 1,000 in 1848 to 25,000 by December 1849.[40] The promise of fabulous riches was so strong that crews on arriving vessels deserted and rushed off to the gold fields, leaving behind a forest of masts in San Francisco harbor.[41] Some of these approximately 500 abandoned ships were used at times as storeships, saloons and hotels; many were left to rot and some were sunk to establish title to the underwater lot. By 1851 the harbor was extended out into the bay by wharves while buildings were erected on piles among the ships. By 1870 Yerba Buena Cove had been filled to create new land. Buried ships are occasionally exposed when foundations are dug for new buildings.[42]', u'California was quickly granted statehood, and the U.S. military built Fort Point at the Golden Gate and a fort on Alcatraz Island to secure the San Francisco Bay. Silver discoveries, including the Comstock Lode in 1859, further drove rapid population growth.[43] With hordes of fortune seekers streaming through the city, lawlessness was common, and the Barbary Coast section of town gained notoriety as a haven for criminals, prostitution, and gambling.[44]', u'Entrepreneurs sought to capitalize on the wealth generated by the Gold Rush. Early winners were the banking industry, with the founding of Wells Fargo in 1852 and the Bank of California in 1864. Development of the Port of San Francisco and the establishment in 1869 of overland access to the eastern U.S. rail system via the newly completed Pacific Railroad (the construction of which the city only reluctantly helped support[45]) helped make the Bay Area a center for trade. Catering to the needs and tastes of the growing population, Levi Strauss opened a dry goods business and Domingo Ghirardelli began manufacturing chocolate. Immigrant laborers made the city a polyglot culture, with Chinese Railroad Workers, drawn to \"Old Gold Mountain\", creating the city\\'s Chinatown quarter. In 1870, Asians made up 8% of the population.[46] The first cable cars carried San Franciscans up Clay Street in 1873. The city\\'s sea of Victorian houses began to take shape, and civic leaders campaigned for a spacious public park, resulting in plans for Golden Gate Park. San Franciscans built schools, churches, theaters, and all the hallmarks of civic life. The Presidio developed into the most important American military installation on the Pacific coast.[47] By 1890, San Francisco\\'s population approached 300,000, making it the eighth-largest city in the United States at the time. Around 1901, San Francisco was a major city known for its flamboyant style, stately hotels, ostentatious mansions on Nob Hill, and a thriving arts scene.[48] The first North American plague epidemic was the San Francisco plague of 1900\\u20131904.[49]', u\"At 5:12\\xa0am on April 18, 1906, a major earthquake struck San Francisco and northern California. As buildings collapsed from the shaking, ruptured gas lines ignited fires that spread across the city and burned out of control for several days. With water mains out of service, the Presidio Artillery Corps attempted to contain the inferno by dynamiting blocks of buildings to create firebreaks.[50] More than three-quarters of the city lay in ruins, including almost all of the downtown core.[29] Contemporary accounts reported that 498 people lost their lives, though modern estimates put the number in the several thousands.[51] More than half of the city's population of 400,000 was left homeless.[52] Refugees settled temporarily in makeshift tent villages in Golden Gate Park, the Presidio, on the beaches, and elsewhere. Many fled permanently to the East Bay.\", u\"Rebuilding was rapid and performed on a grand scale. Rejecting calls to completely remake the street grid, San Franciscans opted for speed.[54] Amadeo Giannini's Bank of Italy, later to become Bank of America, provided loans for many of those whose livelihoods had been devastated. The influential San Francisco Planning and Urban Research Association or SPUR was founded in 1910 to address the quality of housing after the earthquake.[55] The earthquake hastened development of western neighborhoods that survived the fire, including Pacific Heights, where many of the city's wealthy rebuilt their homes.[56] In turn, the destroyed mansions of Nob Hill became grand hotels. City Hall rose again in splendid Beaux Arts style, and the city celebrated its rebirth at the Panama-Pacific International Exposition in 1915.[57]\", u\"It was during this period San Francisco built some of its most important infrastructure. Civil Engineer Michael O'Shaughnessy was hired by San Francisco Mayor James Rolph as chief engineer for the city in September 1912 to supervise the construction of the Twin Peaks Reservoir, the Stockton Street Tunnel, the Twin Peaks Tunnel, the San Francisco Municipal Railway, the Auxiliary Water Supply System, and new sewers. San Francisco's streetcar system, of which the J, K, L, M, and N lines survive today, was pushed to completion by O'Shaughnessy between 1915 and 1927. It was the O'Shaughnessy Dam, Hetch Hetchy Reservoir, and Hetch Hetchy Aqueduct that would have the largest effect on San Francisco.[58] An abundant water supply enabled San Francisco to develop into the city it has become today.\", u\"In ensuing years, the city solidified its standing as a financial capital; in the wake of the 1929 stock market crash, not a single San Francisco-based bank failed.[59] Indeed, it was at the height of the Great Depression that San Francisco undertook two great civil engineering projects, simultaneously constructing the San Francisco\\u2013Oakland Bay Bridge and the Golden Gate Bridge, completing them in 1936 and 1937 respectively. It was in this period that the island of Alcatraz, a former military stockade, began its service as a federal maximum security prison, housing notorious inmates such as Al Capone, and Robert Franklin Stroud, The Birdman of Alcatraz. San Francisco later celebrated its regained grandeur with a World's fair, the Golden Gate International Exposition in 1939\\u201340, creating Treasure Island in the middle of the bay to house it.\", u'During World War II, the Hunters Point Naval Shipyard became a hub of activity, and Fort Mason became the primary port of embarkation for service members shipping out to the Pacific Theater of Operations.[30] The explosion of jobs drew many people, especially African Americans from the South, to the area. After the end of the war, many military personnel returning from service abroad and civilians who had originally come to work decided to stay. The United Nations Charter creating the United Nations was drafted and signed in San Francisco in 1945 and, in 1951, the Treaty of San Francisco officially ended the war with Japan.', u\"Urban planning projects in the 1950s and 1960s involved widespread destruction and redevelopment of west-side neighborhoods and the construction of new freeways, of which only a series of short segments were built before being halted by citizen-led opposition.[60] The onset of containerization made San Francisco's small piers obsolete, and cargo activity moved to the larger Port of Oakland.[61] The city began to lose industrial jobs and turned to tourism as the most important segment of its economy.[62] The suburbs experienced rapid growth, and San Francisco underwent significant demographic change, as large segments of the white population left the city, supplanted by an increasing wave of immigration from Asia and Latin America.[63][64] From 1950 to 1980, the city lost over 10 percent of its population.\", u\"Over this period, San Francisco became a magnet for America's counterculture. Beat Generation writers fueled the San Francisco Renaissance and centered on the North Beach neighborhood in the 1950s.[65] Hippies flocked to Haight-Ashbury in the 1960s, reaching a peak with the 1967 Summer of Love.[66] In 1974, the Zebra murders left at least 16 people dead.[67] In the 1970s, the city became a center of the gay rights movement, with the emergence of The Castro as an urban gay village, the election of Harvey Milk to the Board of Supervisors, and his assassination, along with that of Mayor George Moscone, in 1978.[68]\", u'Bank of America completed 555 California Street in 1969 and the Transamerica Pyramid was completed in 1972,[69] igniting a wave of \"Manhattanization\" that lasted until the late 1980s, a period of extensive high-rise development downtown.[70] The 1980s also saw a dramatic increase in the number of homeless people in the city, an issue that remains today, despite many attempts to address it.[71] The 1989 Loma Prieta earthquake caused destruction and loss of life throughout the Bay Area. In San Francisco, the quake severely damaged structures in the Marina and South of Market districts and precipitated the demolition of the damaged Embarcadero Freeway and much of the damaged Central Freeway, allowing the city to reclaim The Embarcadero as its historic downtown waterfront and revitalizing the Hayes Valley neighborhood.', u\"The last 20 years have seen two booms driven by the internet industry. First was the dot-com boom of the late 1990s, startup companies invigorated the San Francisco economy. Large numbers of entrepreneurs and computer application developers moved into the city, followed by marketing, design, and sales professionals, changing the social landscape as once-poorer neighborhoods became increasingly gentrified.[72] Demand for new housing and office space ignited a second wave of high-rise development, this time in the South of Market district.[73] By 2000, the city's population reached new highs, surpassing the previous record set in 1950. When the bubble burst in 2001, many of these companies folded and their employees were laid off. Yet high technology and entrepreneurship remain mainstays of the San Francisco economy. By the mid 2000s (decade), the social media boom had begun, with San Francisco becoming a popular location for tech offices and a popular place to live for people employed in Silicon Valley companies such as Apple and Google.[74]\", u'San Francisco is located on the West Coast of the United States at the north end of the San Francisco Peninsula and includes significant stretches of the Pacific Ocean and San Francisco Bay within its boundaries. Several picturesque islands\\u2014Alcatraz, Treasure Island and the adjacent Yerba Buena Island, and small portions of Alameda Island, Red Rock Island, and Angel Island\\u2014are part of the city. Also included are the uninhabited Farallon Islands, 27 miles (43\\xa0km) offshore in the Pacific Ocean. The mainland within the city limits roughly forms a \"seven-by-seven-mile square\", a common local colloquialism referring to the city\\'s shape, though its total area, including water, is nearly 232 square miles (600\\xa0km2).', u\"There are more than 50 hills within city limits.[75] Some neighborhoods are named after the hill on which they are situated, including Nob Hill, Potrero Hill, and Russian Hill. Near the geographic center of the city, southwest of the downtown area, are a series of less densely populated hills. Twin Peaks, a pair of hills forming one of the city's highest points, forms a popular overlook spot. San Francisco's tallest hill, Mount Davidson, is 928 feet (283\\xa0m) high and is capped with a 103-foot (31\\xa0m) tall cross built in 1934.[76] Dominating this area is Sutro Tower, a large red and white radio and television transmission tower.\", u\"The nearby San Andreas and Hayward Faults are responsible for much earthquake activity, although neither physically passes through the city itself. The San Andreas Fault caused the earthquakes in 1906 and 1989. Minor earthquakes occur on a regular basis. The threat of major earthquakes plays a large role in the city's infrastructure development. The city constructed an auxiliary water supply system and has repeatedly upgraded its building codes, requiring retrofits for older buildings and higher engineering standards for new construction.[77] However, there are still thousands of smaller buildings that remain vulnerable to quake damage.[78] USGS has released the California earthquake forecast which models earthquake occurrence in California.[79]\", u\"San Francisco's shoreline has grown beyond its natural limits. Entire neighborhoods such as the Marina, Mission Bay, and Hunters Point, as well as large sections of the Embarcadero, sit on areas of landfill. Treasure Island was constructed from material dredged from the bay as well as material resulting from tunneling through Yerba Buena Island during the construction of the Bay Bridge. Such land tends to be unstable during earthquakes. The resulting liquefaction causes extensive damage to property built upon it, as was evidenced in the Marina district during the 1989 Loma Prieta earthquake.[80] Most of the city's natural watercourses, such as Islais Creek and Mission Creek, have been culverted and built over, although the Public Utilities Commission is studying proposals to daylight or restore some creeks.[81]\", u\"The historic center of San Francisco is the northeast quadrant of the city anchored by Market Street and the waterfront. It is here that the Financial District is centered, with Union Square, the principal shopping and hotel district, and the Tenderloin nearby. Cable cars carry riders up steep inclines to the summit of Nob Hill, once the home of the city's business tycoons, and down to the waterfront tourist attractions of Fisherman's Wharf, and Pier 39, where many restaurants feature Dungeness crab from a still-active fishing industry. Also in this quadrant are Russian Hill, a residential neighborhood with the famously crooked Lombard Street; North Beach, the city's Little Italy and the former center of the Beat Generation; and Telegraph Hill, which features Coit Tower. Abutting Russian Hill and North Beach is San Francisco's Chinatown, the oldest Chinatown in North America.[82][83][84][85] The South of Market, which was once San Francisco's industrial core, has seen significant redevelopment following the construction of AT&T Park and an infusion of startup companies. New skyscrapers, live-work lofts, and condominiums dot the area. Further development is taking place just to the south in Mission Bay area, a former railroad yard, which now has a second campus of the University of California, San Francisco, and where the new Warrior's stadium will be built.[86]\", u'West of downtown, across Van Ness Avenue, lies the large Western Addition neighborhood, which became established with a large African American population after World War II. The Western Addition is usually divided into smaller neighborhoods including Hayes Valley, the Fillmore, and Japantown, which was once the largest Japantown in North America but suffered when its Japanese American residents were forcibly removed and interned during World War II. The Western Addition survived the 1906 earthquake with its Victorians largely intact, including the famous \"Painted Ladies\", standing alongside Alamo Square. To the south, near the geographic center of the city is Haight-Ashbury, famously associated with 1960s hippie culture. The Haight is now home to some expensive boutiques[87] and a few controversial chain stores,[88] although it still retains some bohemian character. North of the Western Addition is Pacific Heights, an affluent neighborhood that features the homes built by wealthy San Franciscans in the wake of the 1906 earthquake. Directly north of Pacific Heights facing the waterfront is the Marina, a neighborhood popular with young professionals that was largely built on reclaimed land from the Bay.[89]', u\"In the south-east quadrant of the city is the Mission District\\u2014populated in the 19th century by Californios and working-class immigrants from Germany, Ireland, Italy, and Scandinavia. In the 1910s, a wave of Central American immigrants settled in the Mission and, in the 1950s, immigrants from Mexico began to predominate.[90] In recent years, gentrification has changed the demographics of parts of the Mission from Latino, to twenty-something professionals. Noe Valley to the southwest and Bernal Heights to the south are both increasingly popular among young families with children. East of the Mission is the Potrero Hill neighborhood, a mostly residential neighborhood that features sweeping views of downtown San Francisco. West of the Mission, the area historically known as Eureka Valley, now popularly called the Castro, was once a working-class Scandinavian and Irish area. It has become North America's first and best known gay village, and is now the center of gay life in the city.[91] Located near the city's southern border, the Excelsior District is one of the most ethnically diverse neighborhoods in San Francisco. The predominantly African American Bayview-Hunters Point in the far southeast corner of the city is one of the poorest neighborhoods and suffers from a high rate of crime, though the area has been the focus of several revitalizing and controversial urban renewal projects.\", u'The construction of the Twin Peaks Tunnel in 1918 connected southwest neighborhoods to downtown via streetcar, hastening the development of West Portal, and nearby affluent Forest Hill and St. Francis Wood. Further west, stretching all the way to the Pacific Ocean and north to Golden Gate Park lies the vast Sunset District, a large middle class area with a predominantly Asian population.[92] The northwestern quadrant of the city contains the Richmond, also a mostly middle-class neighborhood north of Golden Gate Park, home to immigrants from other parts of Asia as well as many Russian and Ukrainian immigrants. Together, these areas are known as The Avenues. These two districts are each sometimes further divided into two regions: the Outer Richmond and Outer Sunset can refer to the more western portions of their respective district and the Inner Richmond and Inner Sunset can refer to the more eastern portions.', u'Many piers remained derelict for years until the demolition of the Embarcadero Freeway reopened the downtown waterfront, allowing for redevelopment. The centerpiece of the port, the Ferry Building, while still receiving commuter ferry traffic, has been restored and redeveloped as a gourmet marketplace.', u\"San Francisco has a warm-summer Mediterranean climate (K\\xf6ppen Csb) characteristic of California's coast, with moist mild winters and dry summers.[93] San Francisco's weather is strongly influenced by the cool currents of the Pacific Ocean on the west side of the city, and the water of San Francisco Bay to the north and east. This moderates temperature swings and produces a remarkably mild year-round climate with little seasonal temperature variation.\", u\"Among major U.S. cities, San Francisco has the coolest daily mean, maximum, and minimum temperatures for June, July, and August.[94] During the summer, rising hot air in California's interior valleys creates a low pressure area that draws winds from the North Pacific High through the Golden Gate, which creates the city's characteristic cool winds and fog.[95] The fog is less pronounced in eastern neighborhoods and during the late summer and early fall, which is the warmest time of the year.\", u'Because of its sharp topography and maritime influences, San Francisco exhibits a multitude of distinct microclimates. The high hills in the geographic center of the city are responsible for a 20% variance in annual rainfall between different parts of the city. They also protect neighborhoods directly to their east from the foggy and sometimes very cold and windy conditions experienced in the Sunset District; for those who live on the eastern side of the city, San Francisco is sunnier, with an average of 260 clear days, and only 105 cloudy days per year.', u'Temperatures reach or exceed 80\\xa0\\xb0F (27\\xa0\\xb0C) on an average of only 21 and 23\\xa0days a year at downtown and San Francisco International Airport (SFO), respectively.[96] The dry period of May to October is mild to warm, with the normal monthly mean temperature peaking in September at 62.7\\xa0\\xb0F (17.1\\xa0\\xb0C).[96] The rainy period of November to April is slightly cooler, with the normal monthly mean temperature reaching its lowest in January at 51.3\\xa0\\xb0F (10.7\\xa0\\xb0C).[96] On average, there are 73 rainy days a year, and annual precipitation averages 23.65 inches (601\\xa0mm).[96] Variation in precipitation from year to year is high. Above average rain years are often associated with warm El Ni\\xf1o conditions in the Pacific while dry years often occur in cold water La Ni\\xf1a periods. In 2013 (a \"La Ni\\xf1a\" year), a record low 5.59\\xa0in (142\\xa0mm) of rainfall was recorded at downtown San Francisco, where records have been kept since 1849.[96] Snowfall in the city is very rare, with only 10 measurable accumulations recorded since 1852, most recently in 1976 when up to 5 inches (130\\xa0mm) fell on Twin Peaks.[97][98]', u\"The highest recorded temperature at the official National Weather Service office was 103\\xa0\\xb0F (39\\xa0\\xb0C) on July 17, 1988, and June 14, 2000. The lowest recorded temperature was 27\\xa0\\xb0F (\\u22123\\xa0\\xb0C) on December 11, 1932.[99] The National Weather Service provides a helpful visual aid[100] graphing the information in the table below to display visually by month the annual typical temperatures, the past year's temperatures, and record temperatures.\", u'San Francisco falls under the USDA 10a Plant Hardiness zone.[101][102]', u'', u'The 2010 United States Census[108] reported that San Francisco had a population of 805,235. With a population density of 17,160 per square mile (6,632/km2), San Francisco is the second-most densely populated major American city behind only New York (among cities greater than 200,000 population).[27]', u\"San Francisco is the traditional focal point of the San Francisco Bay Area and forms part of the five-county San Francisco\\u2013Oakland\\u2013Hayward, CA Metropolitan Statistical Area, a region of 4.6 million people. It is also part of the greater 12-county San Jose-San Francisco-Oakland, CA Combined Statistical Area, whose population is over 8.7 million, making it the fifth-largest in the United States as of July 1, 2015.[109] The U.S. Census Bureau estimates San Francisco's population increased to 864,816 as of July 1, 2015.[20]\", u'San Francisco has a minority-majority population, as non-Hispanic whites comprise less than half of the population, 41.9%, down from 92.5% in 1940.[46] As of the 2010 census, the ethnic makeup and population of San Francisco included: 390,387 Whites (48%), 267,915 Asians (33%), 48,870 African Americans (6%), and others. There were 121,744 Hispanics or Latinos of any race (15%).', u\"In 2010, residents of Chinese ethnicity constituted the largest single ethnic minority group in San Francisco at 21% of the population; the other Asian groups are Filipinos (5%) and Vietnamese (2%).[110] The population of Chinese ancestry is most heavily concentrated in Chinatown, Sunset District, and Richmond District, whereas Filipinos are most concentrated in the Crocker-Amazon (which is contiguous with the Filipino community of Daly City, which has one of the highest concentrations of Filipinos in North America), as well as in SoMa.[110][111] The Tenderloin District is home to a large portion of the city's Vietnamese population as well as businesses and restaurants, which is known as the city's Little Saigon.[110]\", u\"The principal Hispanic groups in the city were those of Mexican (7%) and Salvadoran (2%) ancestry. The Hispanic population is most heavily concentrated in the Mission District, Tenderloin District, and Excelsior District.[112] The city's percentage of Hispanic residents is less than half of that of the state. San Francisco's African American population has declined to 6% of the city's population.[46][113] The percentage of African Americans in San Francisco is similar to that of California.[113] The majority of the city's black population reside within the neighborhoods of Bayview-Hunters Point, and Visitacion Valley, and in the Fillmore District.[112]\", u\"Only 38% of the city's residents were born in California, while 25% were born in a different U.S. state, and 36% were born outside the United States.[113]\", u\"As of 2010[update], 55% (411,728) of San Francisco residents spoke English at home as a primary language, while 19% (140,302) spoke a variety of Chinese (mostly Taishanese and Cantonese[118][119]), 12% (88,147) Spanish, 3% (25,767) Tagalog, and 2% (14,017) Russian. In total, 45% (342,693) of San Francisco's population spoke a mother language other than English.[120]\", u\"Of all major cities in the United States, San Francisco has the second-highest percentage of residents with a college degree, behind only Seattle. Over 44% of adults have a bachelor's or higher degree.[121] San Francisco had the highest rate at 7,031 per square mile, or over 344,000 total graduates in the city's 46.7 square miles (121\\xa0km2).[122]\", u'San Francisco has the highest percentage of gay and lesbian individuals of any of the 50 largest U.S. cities, at 15%.[123] San Francisco also has the highest percentage of same-sex households of any American county, with the Bay Area having a higher concentration than any other metropolitan area.[124]', u\"San Francisco ranks third of American cities in median household income[128] with a 2007 value of $65,519.[113] Median family income is $81,136.[113] An emigration of middle-class families has left the city with a lower proportion of children, 15%, than any other large American city.[129] The city's poverty rate is 12%, lower than the national average.[130] Homelessness has been a chronic problem for San Francisco since the early 1970s.[131] The city is believed to have the highest number of homeless inhabitants per capita of any major U.S. city.[132][133]\", u'There are 345,811 households in the city, out of which: 133,366 households (39%) were individuals, 109,437 (32%) were opposite-sex married couples, 63,577 (18%) had children under the age of 18 living in them, 21,677 (6%) were unmarried opposite-sex partnerships, and 10,384 (3%) were same-sex married couples or partnerships. The average household size was 2.26; the average family size was 3.11. 452,986 people (56%) lived in rental housing units, and 327,985 people (41%) lived in owner-occupied housing units. The median age of the city population is 38 years.', u'Homelessness, historically, has been a major problem in the city and remains a growing problem in modern times.[134] The homeless population is estimated to be 13,500 with 6,500 living on the streets.[135]', u'San Francisco has a diversified service economy, with employment spread across a wide range of professional services, including financial services, tourism, and (increasingly) high technology.[136] In 2012, approximately 25% of workers were employed in professional business services; 16% in government services; 15% in leisure and hospitality; 11% in education and health care; and 9% in financial activities.[136] In 2013, GDP in the five-county San Francisco metropolitan area was US$388.3 billion.[137]', u'The legacy of the California Gold Rush turned San Francisco into the principal banking and finance center of the West Coast in the early twentieth century.[138] Montgomery Street in the Financial District became known as the \"Wall Street of the West\", home to the Federal Reserve Bank of San Francisco, the Wells Fargo corporate headquarters, and the site of the now-defunct Pacific Coast Stock Exchange.[138] Bank of America, a pioneer in making banking services accessible to the middle class, was founded in San Francisco and in the 1960s, built the landmark modern skyscraper at 555 California Street for its corporate headquarters. Many large financial institutions, multinational banks, and venture capital firms are based in or have regional headquarters in the city. With over 30 international financial institutions,[139] six Fortune 500 companies,[140] and a large support infrastructure of professional services\\u2014including law, public relations, architecture and design\\u2014San Francisco is designated as an Alpha(-) World City.[141] In March 2014 it was ranked in 10th place among the top global financial centers.[142]', u\"Since the 1990s, San Francisco's economy has diversified away from finance and tourism towards the growing fields of high tech, biotechnology, and medical research.[144] Technology jobs accounted for just 1 percent of San Francisco's economy in 1990, growing to 4 percent in 2010 and an estimated 8 percent by the end of 2013.[145] San Francisco became an epicenter of Internet start-up companies during the dot-com bubble of the 1990s and the subsequent social media boom of the late 2000s (decade).[146] Since 2010, San Francisco proper has attracted an increasing share of venture capital investments as compared to nearby Silicon Valley, attracting 423 financings worth US$4.58 billion in 2013.[147][148][149] In 2004, the city approved a payroll tax exemption for biotechnology companies[150] to foster growth in the Mission Bay neighborhood, site of a second campus and hospital of the University of California, San Francisco (UCSF). Mission Bay hosts the California Institute for Regenerative Medicine, California Institute for Quantitative Biosciences, and Gladstone Institutes,[151] as well as more than 40 private-sector life sciences companies.[152]\", u\"The top employer in the city is the city government itself, employing 5.3% (25,000+ people) of the city's population, followed by UCSF with over 22,000 employees. Third\\u2014at 1.8% (8,500+ people)\\u2014is California Pacific Medical Center, the largest private-sector employer.[153] Small businesses with fewer than 10 employees and self-employed firms make up 85% of city establishments,[154] and the number of San Franciscans employed by firms of more than 1,000 employees has fallen by half since 1977.[155] The growth of national big box and formula retail chains into the city has been made intentionally difficult by political and civic consensus. In an effort to buoy small privately owned businesses in San Francisco and preserve the unique retail personality of the city, the Small Business Commission started a publicity campaign in 2004 to keep a larger share of retail dollars in the local economy,[156] and the Board of Supervisors has used the planning code to limit the neighborhoods where formula retail establishments can set up shop,[157] an effort affirmed by San Francisco voters.[158] However, by 2016, San Francisco was rated low by small businesses in a Business Friendliness Survey.[159]\", u\"Like many U.S. cities, San Francisco once had a significant manufacturing sector employing nearly 60,000 workers in 1969, but nearly all production left for cheaper locations by the 1980s.[160] As of 2014[update], San Francisco has seen a small resurgence in manufacturing, with more than 4,000 manufacturing jobs across 500 companies, doubling since 2011. The city's largest manufacturing employer is Anchor Brewing Company, and the largest by revenue is Timbuk2.[160]\", u\"Tourism is one of the city's largest private-sector industries, accounting for more than one out of seven jobs in the city.[144][161] The city's frequent portrayal in music, film, and popular culture has made the city and its landmarks recognizable worldwide. It attracts the fifth-highest number of foreign tourists of any city in the United States[162] and is one of the 100 most visited cities worldwide.[163] More than 18\\xa0million visitors arrived in San Francisco in 2014, injecting US$10.67\\xa0billion into the economy.[164] With a large hotel infrastructure and a world-class convention facility in the Moscone Center, San Francisco is a popular destination for annual conventions and conferences.[165]\", u'Some of the most popular tourist attractions in San Francisco noted by the Travel Channel include the Golden Gate Bridge and Alamo Square Park, which is home to the famous \"Painted Ladies\". Both of these locations were often used as landscape shots for the hit American sitcom Full House. There is also Lombard Street, known for its \"crookedness\" and beautiful views. Tourists also flood to Pier 39, which offers dining, shopping, entertainment, and beautiful views of the bay, sun-bathing seals, and the famous Alcatraz Island.[166]', u'San Francisco also offers tourists cultural and unique nightlife in its neighborhoods.[167]', u'The port currently uses Pier 35 to handle the 60\\u201380 cruise ship calls and 200,000 passengers that come to San Francisco.[168] Itineraries from San Francisco usually include round trip cruises to Alaska and Mexico. The new Terminal Project at Pier 27 is scheduled to open 2014 as a replacement. The existing primary terminal at Pier 35 has neither the sufficient capacity to allow for the increasing size of new cruise ships nor the amenities needed for an international cruise terminal.[169]', u'A heightened interest in conventioneering in San Francisco, marked by the establishment of convention centers such as Yerba Buena, acted as a feeder into the local tourist economy and resulted in an increase in the hotel industry: \"In 1959, the city had fewer than thirty-three hundred first-class hotel rooms; by 1970, the number was nine thousand; and by 1999, there were more than thirty thousand.\"[170] The commodification of the Castro District has contributed to San Francisco\\'s tourist economy.[171]', u'Although the Financial District, Union Square, and Fisherman\\'s Wharf are well-known around the world, San Francisco is also characterized by its numerous culturally rich streetscapes featuring mixed-use neighborhoods anchored around central commercial corridors to which residents and visitors alike can walk. Because of these characteristics, San Francisco is ranked the second \"most walkable\" city in the United States by Walkscore.com.[172] Many neighborhoods feature a mix of businesses, restaurants and venues that cater to both the daily needs of local residents while also serving many visitors and tourists. Some neighborhoods are dotted with boutiques, caf\\xe9s and nightlife such as Union Street in Cow Hollow, 24th Street in Noe Valley, Valencia Street in the Mission, Grant Avenue in North Beach, and Irving Street in the Inner Sunset. This approach especially has influenced the continuing South of Market neighborhood redevelopment with businesses and neighborhood services rising alongside high-rise residences.[173]', u\"Since the 1990s, the demand for skilled information technology workers from local startups and nearby Silicon Valley has attracted white-collar workers from all over the world and created a high standard of living in San Francisco.[174] Many neighborhoods that were once blue-collar, middle, and lower class have been gentrifying, as many of the city's traditional business and industrial districts have experienced a renaissance driven by the redevelopment of the Embarcadero, including the neighborhoods South Beach and Mission Bay. The city's property values and household income have risen to among the highest in the nation,[175][176][177] creating a large and upscale restaurant, retail, and entertainment scene. According to a 2014 quality of life survey of global cities, San Francisco has the highest quality of living of any U.S. city.[178] However, due to the exceptionally high cost of living, many of the city's middle and lower-class families have been leaving the city for the outer suburbs of the Bay Area, or for California's Central Valley.[179] By June 2, 2015, the median rent was reported to be as high as $4,225.[180] The high cost of living is due in part to restrictive planning laws which limit new residential construction.[181]\", u'The international character that San Francisco has enjoyed since its founding is continued today by large numbers of immigrants from Asia and Latin America. With 39% of its residents born overseas,[155] San Francisco has numerous neighborhoods filled with businesses and civic institutions catering to new arrivals. In particular, the arrival of many ethnic Chinese, which accelerated beginning in the 1970s, has complemented the long-established community historically based in Chinatown throughout the city and has transformed the annual Chinese New Year Parade into the largest event of its kind outside China.[182]', u'With the arrival of the \"beat\" writers and artists of the 1950s and societal changes culminating in the Summer of Love in the Haight-Ashbury district during the 1960s, San Francisco became a center of liberal activism and of the counterculture that arose at that time. The Democrats and to a lesser extent the Green Party have dominated city politics since the late 1970s, after the last serious Republican challenger for city office lost the 1975 mayoral election by a narrow margin. San Francisco has not voted more than 20% for a Republican presidential or senatorial candidate since 1988.[183] In 2007, the city expanded its Medicaid and other indigent medical programs into the \"Healthy San Francisco\" program,[184] which subsidizes certain medical services for eligible residents.[185][186][187]', u\"San Francisco also has had a very active environmental community. Starting with the founding of the Sierra Club in 1892 to the establishment of the non-profit Friends of the Urban Forest in 1981, San Francisco has been at the forefront of many global discussions regarding our natural environment.[188][189] The 1980 San Francisco Recycling Program was one of the earliest curbside recycling programs.[190] The city's GoSolarSF incentive promotes solar installations and the San Francisco Public Utilities Commission is rolling out the CleanPowerSF program to sell electricity from local renewable sources.[191][192] SF Greasecycle is a program to recycle used cooking oil for conversion to biodiesel.[193]\", u\"The Sunset Reservoir Solar Project, completed in 2010, installed 24,000 solar panels on the roof of the reservoir. The 5-megawatt plant more than tripled the city's 2-megawatt solar generation capacity when it opened in December 2010.[194][195]\", u\"San Francisco has long had an LGBT-friendly history. It was home to the first lesbian-rights organization in the United States, Daughters of Bilitis; the first openly gay person to run for public office in the United States, Jos\\xe9 Sarria; the first openly gay man to be elected to public office in California, Harvey Milk; the first openly lesbian judge appointed in the U.S., Mary C. Morgan; and the first transgender police commissioner, Theresa Sparks. The city's large gay population has created and sustained a politically and culturally active community over many decades, developing a powerful presence in San Francisco's civic life. One of the most popular destinations for gay tourists internationally, the city hosts San Francisco Pride, one of the largest and oldest pride parades.\", u'San Francisco Pride events have been held continuously since 1972. The events are themed and a new theme is created each year. In 2013, over 1.5 million people attended, around 500,000 more than the previous year.[196]', u\"San Francisco's War Memorial and Performing Arts Center hosts some of the most enduring performing-arts companies in the country. The War Memorial Opera House houses the San Francisco Opera, the second-largest opera company in North America[197] as well as the San Francisco Ballet, while the San Francisco Symphony plays in Davies Symphony Hall.\", u'The Fillmore is a music venue located in the Western Addition. It is the second incarnation of the historic venue that gained fame in the 1960s, housing the stage where now-famous musicians such as the Grateful Dead, Janis Joplin, Led Zeppelin and Jefferson Airplane first performed, fostering the San Francisco Sound.', u'San Francisco has a large number of theaters and live performance venues. Local theater companies have been noted for risk taking and innovation.[198] The Tony Award-winning non-profit American Conservatory Theater (A.C.T.) is a member of the national League of Resident Theatres. Other local winners of the Regional Theatre Tony Award include the San Francisco Mime Troupe.[199] San Francisco theaters frequently host pre-Broadway engagements and tryout runs,[200] and some original San Francisco productions have later moved to Broadway.[201]', u\"The San Francisco Museum of Modern Art (SFMOMA) houses 20th century and contemporary works of art. It moved to its current building in the South of Market neighborhood in 1995 and attracted more than 600,000 visitors annually.[202] SFMOMA closed for renovation and expansion in 2013. The museum reopened on May 14, 2016 with an addition, designed by Sn\\xf8hetta, that has doubled the museum's size.[203]\", u'The Palace of the Legion of Honor holds primarily European antiquities and works of art at its Lincoln Park building modeled after its Parisian namesake. The de Young Museum in Golden Gate Park features American decorative pieces and anthropological holdings from Africa, Oceania and the Americas, while Asian art is housed in the Asian Art Museum. Opposite the de Young stands the California Academy of Sciences, a natural history museum that also hosts the Morrison Planetarium and Steinhart Aquarium. Located on Pier 15 on the Embarcadero, the Exploratorium is an interactive science museum. The Contemporary Jewish Museum is a non-collecting institution that hosts a broad array of temporary exhibitions. On Nob Hill, the Cable Car Museum is a working museum featuring the cable car power house, which drives the cables.[204]', u\"Major League Baseball's San Francisco Giants have played in San Francisco since moving from New York in 1958. The Giants play at AT&T Park, which opened in 2000.[205] The Giants won World Series titles in 2010, 2012, and in 2014. The Giants have boasted such stars as Willie Mays, Willie McCovey and Barry Bonds. In 2012, San Francisco was ranked #1 in a study that examined which U.S. metro areas have produced the most Major Leaguers since 1920.[206]\", u\"The San Francisco 49ers of the National Football League (NFL) were the longest-tenured major professional sports franchise in the city until moving in 2013. The team began play in 1946 as an All-America Football Conference (AAFC) league charter member, moved to the NFL in 1950 and into Candlestick Park in 1971. The team began playing its home games at Levi's Stadium in Santa Clara in 2014, closer to the city of San Jose.[207][208] The 49ers won five Super Bowl titles in the 1980s and 1990s.\", u\"The San Francisco Warriors played in the NBA from 1962\\u20131971, before being renamed the Golden State Warriors prior to the 1971\\u20131972 season in an attempt to present the team as a representation of the whole state of California.[209] The Warrior's stadium, Oracle Arena, is currently located in Oakland, California.[210] They have won 4 championships,[211] including their most recent in 2015.\", u\"At the collegiate level, the San Francisco Dons compete in NCAA Division I. Bill Russell led the Don's basketball team to NCAA championships in 1955 and 1956. There is also the San Francisco State Gators, who compete in NCAA Division II.[212] AT&T Park hosted the annual Fight Hunger Bowl college football game from 2002 through 2013 before it moved to Santa Clara.\", u\"The Bay to Breakers footrace, held annually since 1912, is best known for colorful costumes and a celebratory community spirit.[213] The San Francisco Marathon attracts more than 21,000 participants.[214] The Escape from Alcatraz triathlon has, since 1980, attracted 2,000 top professional and amateur triathletes for its annual race.[215] The Olympic Club, founded in 1860, is the oldest athletic club in the United States. Its private golf course has hosted the U.S. Open on five occasions. San Francisco hosted the 2013 America's Cup yacht racing competition.[216]\", u'With an ideal climate for outdoor activities, San Francisco has ample resources and opportunities for amateur and participatory sports and recreation. There are more than 200 miles (320\\xa0km) of bicycle paths, lanes and bike routes in the city.[217] San Francisco residents have often ranked among the fittest in the country.[218] Golden Gate Park has miles of paved and unpaved running trails as well as a golf course and disc golf course. Boating, sailing, windsurfing and kitesurfing are among the popular activities on San Francisco Bay, and the city maintains a yacht harbor in the Marina District.', u\"Several of San Francisco's parks and nearly all of its beaches form part of the regional Golden Gate National Recreation Area, one of the most visited units of the National Park system in the United States with over 13\\xa0million visitors a year. Among the GGNRA's attractions within the city are Ocean Beach, which runs along the Pacific Ocean shoreline and is frequented by a vibrant surfing community, and Baker Beach, which is located in a cove west of the Golden Gate and part of the Presidio, a former military base. Also within the Presidio is Crissy Field, a former airfield that was restored to its natural salt marsh ecosystem. The GGNRA also administers Fort Funston, Lands End, Fort Mason, and Alcatraz. The National Park Service separately administers the San Francisco Maritime National Historical Park \\u2013 a fleet of historic ships and waterfront property around Aquatic Park.\", u\"There are more than 220 parks maintained by the San Francisco Recreation & Parks Department.[219] The largest and best-known city park is Golden Gate Park,[220] which stretches from the center of the city west to the Pacific Ocean. Once covered in native grasses and sand dunes, the park was conceived in the 1860s and was created by the extensive planting of thousands of non-native trees and plants. The large park is rich with cultural and natural attractions such as the Conservatory of Flowers, Japanese Tea Garden and San Francisco Botanical Garden. Lake Merced is a fresh-water lake surrounded by parkland and near the San Francisco Zoo, a city-owned park that houses more than 250 animal species, many of which are endangered.[221] The only park managed by the California State Park system located principally in San Francisco, Candlestick Point was the state's first urban recreation area.[222]\", u'San Francisco\\u2014officially known as the City and County of San Francisco\\u2014is a consolidated city-county, a status it has held since the 1856 secession of what is now San Mateo County.[28] It is the only such consolidation in California.[26] The mayor is also the county executive, and the county Board of Supervisors acts as the city council. The government of San Francisco is a charter city and is constituted of two co-equal branches. The executive branch is headed by the mayor and includes other citywide elected and appointed officials as well as the civil service. The 11-member Board of Supervisors, the legislative branch, is headed by a president and is responsible for passing laws and budgets, though San Franciscans also make use of direct ballot initiatives to pass legislation.[223]', u'The members of the Board of Supervisors are elected as representatives of specific districts within the city.[224] Upon the death or resignation of mayor, the President of the Board of Supervisors becomes acting mayor until the full Board elects an interim replacement for the remainder of the term. In 1978, Dianne Feinstein assumed the office following the assassination of George Moscone and was later selected by the board to finish the term. In 2011, Edwin M. Lee was selected by the board to finish the term of Gavin Newsom, who resigned to take office as Lieutenant Governor of California.[225]', u'Because of its unique city-county status, local government exercises jurisdiction over property that would otherwise be located outside of its corporation limit. San Francisco International Airport, though located in San Mateo County, is owned and operated by the City and County of San Francisco. San Francisco also has a county jail complex located in San Mateo County, in an unincorporated area adjacent to San Bruno. San Francisco was also granted a perpetual leasehold over the Hetch Hetchy Valley and watershed in Yosemite National Park by the Raker Act in 1913.[26]', u'San Francisco serves as the regional hub for many arms of the federal bureaucracy, including the U.S. Court of Appeals, the Federal Reserve Bank, and the U.S. Mint. Until decommissioning in the early 1990s, the city had major military installations at the Presidio, Treasure Island, and Hunters Point\\u2014a legacy still reflected in the annual celebration of Fleet Week. The State of California uses San Francisco as the home of the state supreme court and other state agencies. Foreign governments maintain more than seventy consulates in San Francisco.[226]', u'The municipal budget for fiscal year 2013\\u201314 was $7.9\\xa0billion.[227] The city employs around 27,000 workers.[228]', u'The following table includes the number of incidents reported and the rate per 1,000 persons for each type of offense.', u\"In 2011, 50 murders were reported, which is 6.1 per 100,000 people.[230] There were about 134 rapes, 3,142 robberies, and about 2,139 assaults. There were about 4,469 burglaries, 25,100 thefts, and 4,210 motor vehicle thefts.[231] The Tenderloin area has the highest crime rate in San Francisco: 70% of the city's violent crimes, and around one-fourth of the city's murders, occur in this neighborhood. The Tenderloin also sees high rates of drug abuse, gang violence, and prostitution.[232] Another area with high crime rates is the Bayview-Hunters Point area. In the first six months of 2015 there were 25 murders compared to 14 in the first six months of 2014. However, the murder rate is still much lower than in past decades.[233] That rate, though, did rise again by the close of 2016. According to the San Francisco Police Department, there were 59 murders in the city in 2016, an annual total that marked a 13.5% increase in the number of homicides (52) from 2015.[234]\", u'Several street gangs operate in the city, including MS-13,[235] the Sure\\xf1os and Norte\\xf1os in the Mission District,.[236] African-American street gangs familiar in other cities, including the Crips, have struggled to establish footholds in San Francisco,[237] while police and prosecutors have been accused of liberally labeling young African-American males as gang members.[238] Criminal gangs with shotcallers in China, including Triad groups such as the Wo Hop To, have been reported active in San Francisco.[239] In 1977, an ongoing rivalry between two Chinese gangs led to a shooting attack at the Golden Dragon restaurant in Chinatown, which left 5 people dead and 11 wounded. None of the victims in this attack were gang members. Five members of the Joe Boys gang were arrested and convicted of the crime.[240] In 1990, a gang-related shooting killed one man and wounded six others outside a nightclub near Chinatown.[241] In 1998, six teenagers were shot and wounded at the Chinese Playground; a 16-year-old boy was subsequently arrested.[242]', u'The San Francisco Police Department was founded in 1849.[243] The portions of Golden Gate National Recreation Area located within the city, including the Presidio and Ocean Beach, are patrolled by the United States Park Police.', u'The San Francisco Fire Department provides both fire suppression and emergency medical services to the city.[244]', u\"The University of California, San Francisco is the sole campus of the University of California system entirely dedicated to graduate education in health and biomedical sciences. It is ranked among the top five medical schools in the United States[245] and operates the UCSF Medical Center, which ranks among the top 15 hospitals in the country.[246] UCSF is a major local employer, second in size only to the city and county government.[247][248][249] A 43-acre (170,000\\xa0m2) Mission Bay campus was opened in 2003, complementing its original facility in Parnassus Heights. It contains research space and facilities to foster biotechnology and life sciences entrepreneurship and will double the size of UCSF's research enterprise.[250] All in all, UCSF operates more than 20 facilities across San Francisco.[251] The University of California, Hastings College of the Law, founded in Civic Center in 1878, is the oldest law school in California and claims more judges on the state bench than any other institution.[252] San Francisco's two University of California institutions have recently formed an official affiliation in the UCSF/UC Hastings Consortium on Law, Science & Health Policy.[253]\", u\"San Francisco State University is part of the California State University system and is located near Lake Merced.[254] The school has approximately 30,000 students and awards undergraduate, master's and doctoral degrees in more than 100 disciplines.[254] The City College of San Francisco, with its main facility in the Ingleside district, is one of the largest two-year community colleges in the country. It has an enrollment of about 100,000 students and offers an extensive continuing education program.[255]\", u'Founded in 1855, the University of San Francisco, a private Jesuit university located on Lone Mountain, is the oldest institution of higher education in San Francisco and one of the oldest universities established west of the Mississippi River.[256] Golden Gate University is a private, nonsectarian, coeducational university formed in 1901 and located in the Financial District. With an enrollment of 13,000 students, the Academy of Art University is the largest institute of art and design in the nation.[257] Founded in 1871, the San Francisco Art Institute is the oldest art school west of the Mississippi.[258] The California College of the Arts, located north of Potrero Hill, has programs in architecture, fine arts, design, and writing.[259] The San Francisco Conservatory of Music, the only independent music school on the West Coast, grants degrees in orchestral instruments, chamber music, composition, and conducting. The California Culinary Academy, associated with the Le Cordon Bleu program, offers programs in the culinary arts, baking and pastry arts, and hospitality and restaurant management. California Institute of Integral Studies, founded in 1968, offers a variety of graduate programs in its Schools of Professional Psychology & Health, and Consciousness and Transformation.', u\"Public schools are run by the San Francisco Unified School District as well as the State Board of Education for some charter schools. Lowell High School, the oldest public high school in the U.S. west of the Mississippi,[260] and the smaller School of the Arts High School are two of San Francisco's magnet schools at the secondary level. Public school students attend schools based on an assignment system rather than neighborhood proximity.[261]\", u\"Just under 30% of the city's school-age population attends one of San Francisco's more than 100 private or parochial schools, compared to a 10% rate nationwide.[262] Nearly 40 of those schools are Catholic schools managed by the Archdiocese of San Francisco.[263]\", u'The major daily newspaper in San Francisco is the San Francisco Chronicle, which is currently Northern California\\'s most widely circulated newspaper.[264] The Chronicle is most famous for a former columnist, the late Herb Caen, whose daily musings attracted critical acclaim and represented the \"voice of San Francisco\". The San Francisco Examiner, once the cornerstone of William Randolph Hearst\\'s media empire and the home of Ambrose Bierce, declined in circulation over the years and now takes the form of a free daily tabloid, under new ownership.[265][266] Sing Tao Daily claims to be the largest of several Chinese language dailies that serve the Bay Area.[267] SF\\xa0Weekly is the city\\'s alternative weekly newspaper. San Francisco Magazine and 7x7 are major glossy magazines about San Francisco. The national newsmagazine Mother Jones is also based in San Francisco.', u\"The San Francisco Bay Area is the sixth-largest TV\\xa0market[268] and the fourth-largest radio market[269] in the U.S. The city's oldest radio station, KCBS (AM), began as an experimental station in San Jose in 1909, before the beginning of commercial broadcasting. KALW was the city's first FM radio station when it signed on the air in 1941. The city's first television station was KPIX, which began broadcasting in 1948.\", u'All major U.S. television networks have affiliates serving the region, with most of them based in the city. CNN, MSNBC, BBC, Al Jazeera America, Russia Today, and CCTV America also have regional news bureaus in San Francisco. Bloomberg West was launched in 2011 from a studio on the Embarcadero and CNBC broadcasts from One Market Plaza since 2015. ESPN uses the local ABC studio for their broadcasting. The regional sports network, Comcast SportsNet Bay Area and its sister station Comcast SportsNet California, are both located in San Francisco. The Pac-12 Network is also based in San Francisco.', u'Public broadcasting outlets include both a television station and a radio station, both broadcasting under the call letters KQED from a facility near the Potrero Hill neighborhood. KQED-FM is the most-listened-to National Public Radio affiliate in the country.[270] Another local broadcaster, KPOO, is an independent, African-American owned and operated noncommercial radio station established in 1971.[271] CNET, founded 1994, and Salon.com, 1995, are based in San Francisco.', u\"San Francisco-based inventors made important contributions to modern media. During the 1870s, Eadweard Muybridge began recording motion photographically and invented a zoopraxiscope with which to view his recordings. These were the first motion pictures. Then in 1927, Philo Farnsworth's image dissector camera tube transmitted its first image. This was the first television.\", u'Due to its unique geography, and the freeway revolts of the late 1950s,[272]', u'Interstate 80 begins at the approach to the Bay Bridge and is the only direct automobile link to the East Bay. U.S. Route 101 connects to the western terminus of Interstate 80 and provides access to the south of the city along San Francisco Bay toward Silicon Valley. Northward, the routing for U.S. 101 uses arterial streets to connect to the Golden Gate Bridge, the only direct automobile link to Marin County and the North Bay.', u\"State Route 1 also enters San Francisco from the north via the Golden Gate Bridge and bisects the city as the 19th Avenue arterial thoroughfare, joining with Interstate 280 at the city's southern border. Interstate 280 continues south from San Francisco, and also turns to the east along the southern edge of the city, terminating just south of the Bay Bridge in the South of Market neighborhood. After the 1989 Loma Prieta earthquake, city leaders demolished the Embarcadero Freeway and a portion of the Central Freeway, converting them into street-level boulevards.[272]\", u'State Route 35 enters the city from the south as Skyline Boulevard and terminates at its intersection with Highway 1. State Route 82 enters San Francisco from the south as Mission Street, and terminates shortly thereafter at its junction with 280.', u\"The Western Terminus of the historic transcontinental Lincoln Highway, the first road across America, is in San Francisco's Lincoln Park.\", u\"32% of San Francisco residents use public transportation in daily commuting to work, ranking it first on the West Coast and third overall in the United States.[273] The San Francisco Municipal Railway, known as Muni, is the primary public transit system of San Francisco. Muni is the seventh-largest transit system in the United States, with 210,848,310 rides in 2006.[274] The system operates both a combined light rail and subway system, the Muni Metro, and a large bus network.[275] Additionally, it runs a historic streetcar line, which runs on Market Street from Castro Street to Fisherman's Wharf.[275] It also operates the famous cable cars,[275] which have been designated as a National Historic Landmark and are a major tourist attraction.[276]\", u'BART, a regional Rapid Transit system, connects San Francisco with the East Bay through the underwater Transbay Tube. The line runs under Market Street to Civic Center where it turns south to the Mission District, the southern part of the city, and through northern San Mateo County, to the San Francisco International Airport, and Millbrae.[275]', u'Another Commuter Rail system, Caltrain, runs from San Francisco along the San Francisco Peninsula to San Jose.[275] Historically, trains operated by Southern Pacific Lines ran from San Francisco to Los Angeles, via Palo Alto and San Jose.', u'Amtrak California Thruway Motorcoach runs a shuttle bus from San Francisco to its rail station across the Bay in Emeryville.[277] Lines from Emeryville Station include the Capitol Corridor, San Joaquin, California Zephyr, and Coast Starlight. Thruway service also runs south to San Luis Obispo, California with connection to the Pacific Surfliner.', u'San Francisco Bay Ferry operates from the Ferry Building and Pier 39 to points in Oakland, Alameda, Bay Farm Island, South San Francisco, and north to Vallejo in Solano County.[278] The Golden Gate Ferry is the other ferry operator with service between San Francisco and Marin County.[279] Soltrans runs supplemental bus service between the Ferry Building and Vallejo.', u'San Francisco was an early adopter of carsharing in America. The non profit City Carshare opened in 2001.[280] Zipcar closely followed.[281]', u'To accommodate the large amount of San Francisco citizens who commute to the Silicon Valley daily, companies like Google and Apple have begun to provide private bus transportation for their employees, from San Francisco locations to the tech start-up hotspot. These buses have quickly become a heated topic of debate within the city, as protesters claim they block bus lanes and delay public buses.[282]', u'Though located 13 miles (21\\xa0km) south of downtown in unincorporated San Mateo County, San Francisco International Airport (SFO) is under the jurisdiction of the City and County of San Francisco. SFO is a hub for United Airlines[283] and Virgin America.[284] SFO is a major international gateway to Asia and Europe, with the largest international terminal in North America.[285] In 2011, SFO was the 8th busiest airport in the U.S. and 22nd busiest in the world, handling over 40.9\\xa0million passengers.[286]', u'Located across the bay, Oakland International Airport is a popular, low-cost alternative to SFO. Geographically, Oakland Airport is approximately the same distance from downtown San Francisco as SFO, but due to its location across San Francisco Bay, it is greater driving distance from San Francisco.', u'Cycling is a popular mode of transportation in San Francisco. 75,000 residents commute by bicycle per day.[287] Bay Area Bike Share launched in August 2013 with 700 bikes in downtown San Francisco and selected cities south to San Jose. The San Francisco Municipal Transportation Agency and Bay Area Air Quality Management District are responsible for the operation with management provided by Alta Bicycle Share.[288] The system will be expanded in the future.[289] Pedestrian traffic is a major mode of transport. In 2015, Walk Score ranked San Francisco the second-most walkable city in the United States.[290][291][292]', u'San Francisco has significantly higher rates of pedestrian and bicyclist traffic deaths than the United States on average. In 2013, 21 pedestrians were killed in vehicle collisions, the highest since 2001,[293] which is 2.5 deaths per 100,000 population \\u2013 70% higher than the national average of 1.5 deaths per 100,000 population.[294]', u'Cycling is growing in San Francisco. Annual bicycle counts conducted by the Municipal Transportation Agency (MTA) in 2010 showed the number of cyclists at 33 locations had increased 58% from the 2006 baseline counts.[295] In 2008, the MTA estimated that about 128,000 trips were made by bicycle each day in the city, or 6% of total trips.[296] Since 2002, improvements in cycling infrastructure in recent years, including additional bike lanes and parking racks, have made cycling in San Francisco safer and more convenient.[297] Since 2006, San Francisco has received a Bicycle Friendly Community status of \"Gold\" from the League of American Bicyclists.[298]', u'San Francisco participates in the Sister Cities program.[299] A total of 41 consulates general and 23 honorary consulates have offices in the San Francisco Bay Area.[300]', u'(not including other types of municipal partnerships such as \"friendship cities\")']\n"
     ]
    }
   ],
   "source": [
    "city = \"San Francisco\"\n",
    "wikisoup = modify(city)\n",
    "content = wikisoup.findAll(\"p\")\n",
    "data = [con.text for con in content]\n",
    "print data"
   ]
  },
  {
   "cell_type": "code",
   "execution_count": 16,
   "metadata": {
    "collapsed": true
   },
   "outputs": [],
   "source": [
    "brief = content[0].text\n",
    "brief = ast.literal_eval(json.dumps(brief))"
   ]
  },
  {
   "cell_type": "code",
   "execution_count": 38,
   "metadata": {
    "collapsed": false
   },
   "outputs": [
    {
     "data": {
      "text/plain": [
       "info     • Type : Mayor-council\n",
       "Name: 7, dtype: object"
      ]
     },
     "execution_count": 38,
     "metadata": {},
     "output_type": "execute_result"
    }
   ],
   "source": [
    "a.iloc[7, :]"
   ]
  },
  {
   "cell_type": "code",
<<<<<<< HEAD
   "execution_count": 158,
=======
   "execution_count": 59,
>>>>>>> dae8a1793c2d98608ebdf7fb6ba67c9292137737
   "metadata": {
    "collapsed": false
   },
   "outputs": [],
   "source": [
    "from IPython.display import display\n",
    "from ipywidgets import widgets\n",
    "\n",
    "inputText = widgets.Text()\n",
    "\n",
    "def modify_input(sender):\n",
    "    outputText.value = \"Welcome to The City of \" + inputText.value.title()+ \"!\"\n",
    "\n",
    "inputText.on_submit(modify_input)\n",
    "inputText\n"
   ]
  },
  {
   "cell_type": "code",
<<<<<<< HEAD
   "execution_count": 160,
=======
   "execution_count": 60,
>>>>>>> dae8a1793c2d98608ebdf7fb6ba67c9292137737
   "metadata": {
    "collapsed": true
   },
   "outputs": [],
   "source": [
    "outputText = widgets.Text()\n",
    "outputText"
   ]
  },
  {
<<<<<<< HEAD
   "cell_type": "markdown",
=======
   "cell_type": "code",
   "execution_count": 61,
>>>>>>> dae8a1793c2d98608ebdf7fb6ba67c9292137737
   "metadata": {
    "collapsed": false,
    "scrolled": true
   },
<<<<<<< HEAD
=======
   "outputs": [
    {
     "ename": "KeyboardInterrupt",
     "evalue": "",
     "output_type": "error",
     "traceback": [
      "\u001b[0;31m---------------------------------------------------------------------------\u001b[0m",
      "\u001b[0;31mKeyboardInterrupt\u001b[0m                         Traceback (most recent call last)",
      "\u001b[0;32m<ipython-input-61-65f268a0af0f>\u001b[0m in \u001b[0;36m<module>\u001b[0;34m()\u001b[0m\n\u001b[0;32m----> 1\u001b[0;31m \u001b[0mcity\u001b[0m \u001b[0;34m=\u001b[0m \u001b[0mraw_input\u001b[0m\u001b[0;34m(\u001b[0m\u001b[0;34m\"Please enter the city that you want to visit: \"\u001b[0m\u001b[0;34m)\u001b[0m\u001b[0;34m\u001b[0m\u001b[0m\n\u001b[0m\u001b[1;32m      2\u001b[0m \u001b[0;32mprint\u001b[0m \u001b[0;34m\"Welcome to The City of\"\u001b[0m\u001b[0;34m,\u001b[0m \u001b[0mcity\u001b[0m\u001b[0;34m.\u001b[0m\u001b[0mtitle\u001b[0m\u001b[0;34m(\u001b[0m\u001b[0;34m)\u001b[0m\u001b[0;34m,\u001b[0m\u001b[0;34m\"\\nHere is a brief overview of the city.\"\u001b[0m\u001b[0;34m\u001b[0m\u001b[0m\n",
      "\u001b[0;32m/Users/stephanie/anaconda/lib/python2.7/site-packages/ipykernel/kernelbase.pyc\u001b[0m in \u001b[0;36mraw_input\u001b[0;34m(self, prompt)\u001b[0m\n\u001b[1;32m    688\u001b[0m             \u001b[0mself\u001b[0m\u001b[0;34m.\u001b[0m\u001b[0m_parent_ident\u001b[0m\u001b[0;34m,\u001b[0m\u001b[0;34m\u001b[0m\u001b[0m\n\u001b[1;32m    689\u001b[0m             \u001b[0mself\u001b[0m\u001b[0;34m.\u001b[0m\u001b[0m_parent_header\u001b[0m\u001b[0;34m,\u001b[0m\u001b[0;34m\u001b[0m\u001b[0m\n\u001b[0;32m--> 690\u001b[0;31m             \u001b[0mpassword\u001b[0m\u001b[0;34m=\u001b[0m\u001b[0mFalse\u001b[0m\u001b[0;34m,\u001b[0m\u001b[0;34m\u001b[0m\u001b[0m\n\u001b[0m\u001b[1;32m    691\u001b[0m         )\n\u001b[1;32m    692\u001b[0m \u001b[0;34m\u001b[0m\u001b[0m\n",
      "\u001b[0;32m/Users/stephanie/anaconda/lib/python2.7/site-packages/ipykernel/kernelbase.pyc\u001b[0m in \u001b[0;36m_input_request\u001b[0;34m(self, prompt, ident, parent, password)\u001b[0m\n\u001b[1;32m    718\u001b[0m             \u001b[0;32mexcept\u001b[0m \u001b[0mKeyboardInterrupt\u001b[0m\u001b[0;34m:\u001b[0m\u001b[0;34m\u001b[0m\u001b[0m\n\u001b[1;32m    719\u001b[0m                 \u001b[0;31m# re-raise KeyboardInterrupt, to truncate traceback\u001b[0m\u001b[0;34m\u001b[0m\u001b[0;34m\u001b[0m\u001b[0m\n\u001b[0;32m--> 720\u001b[0;31m                 \u001b[0;32mraise\u001b[0m \u001b[0mKeyboardInterrupt\u001b[0m\u001b[0;34m\u001b[0m\u001b[0m\n\u001b[0m\u001b[1;32m    721\u001b[0m             \u001b[0;32melse\u001b[0m\u001b[0;34m:\u001b[0m\u001b[0;34m\u001b[0m\u001b[0m\n\u001b[1;32m    722\u001b[0m                 \u001b[0;32mbreak\u001b[0m\u001b[0;34m\u001b[0m\u001b[0m\n",
      "\u001b[0;31mKeyboardInterrupt\u001b[0m: "
     ]
    }
   ],
>>>>>>> dae8a1793c2d98608ebdf7fb6ba67c9292137737
   "source": [
    "### Here is a brief overview of the city."
   ]
  },
  {
   "cell_type": "code",
<<<<<<< HEAD
   "execution_count": 21,
=======
   "execution_count": 62,
>>>>>>> dae8a1793c2d98608ebdf7fb6ba67c9292137737
   "metadata": {
    "collapsed": false
   },
   "outputs": [
    {
     "name": "stdout",
     "output_type": "stream",
     "text": [
      "California\n"
     ]
    }
   ],
   "source": [
    "extract_overview(\"San Francisco\")"
   ]
  },
  {
   "cell_type": "code",
<<<<<<< HEAD
   "execution_count": 22,
   "metadata": {
    "collapsed": false
   },
   "outputs": [
    {
     "ename": "NameError",
     "evalue": "name 'input_city' is not defined",
     "output_type": "error",
     "traceback": [
      "\u001b[0;31m---------------------------------------------------------------------------\u001b[0m",
      "\u001b[0;31mNameError\u001b[0m                                 Traceback (most recent call last)",
      "\u001b[0;32m<ipython-input-22-5e813dc35ff6>\u001b[0m in \u001b[0;36m<module>\u001b[0;34m()\u001b[0m\n\u001b[0;32m----> 1\u001b[0;31m \u001b[0mextract_info\u001b[0m\u001b[0;34m(\u001b[0m\u001b[0minput_city\u001b[0m\u001b[0;34m)\u001b[0m\u001b[0;34m\u001b[0m\u001b[0m\n\u001b[0m",
      "\u001b[0;31mNameError\u001b[0m: name 'input_city' is not defined"
     ]
    }
   ],
=======
   "execution_count": null,
   "metadata": {
    "collapsed": false
   },
   "outputs": [],
>>>>>>> dae8a1793c2d98608ebdf7fb6ba67c9292137737
   "source": [
    "extract_info(input_city)"
   ]
  },
  {
   "cell_type": "code",
<<<<<<< HEAD
   "execution_count": 23,
=======
   "execution_count": null,
>>>>>>> dae8a1793c2d98608ebdf7fb6ba67c9292137737
   "metadata": {
    "collapsed": true
   },
   "outputs": [],
   "source": [
    "def ask_input():\n",
    "    city = raw_input(\"Please enter the city that you want to visit: \")\n",
    "    print \"\\nWelcome to The City of\", city.title(),\"\\n\\nHere is a brief overview of the city:\\n\"\n",
    "    input_city = city.title()\n",
    "    overview = extract_overview(input_city)\n",
    "    info = extract_info(input_city)\n",
    "    print overview\n",
    "    return info"
   ]
  },
  {
   "cell_type": "code",
<<<<<<< HEAD
   "execution_count": 24,
   "metadata": {
    "collapsed": false
   },
   "outputs": [
    {
     "name": "stdout",
     "output_type": "stream",
     "text": [
      "Please enter the city that you want to visit: san francisco\n",
      "\n",
      "Welcome to The City of San Francisco \n",
      "\n",
      "Here is a brief overview of the city:\n",
      "\n",
      "California\n",
      "None\n"
     ]
    },
    {
     "data": {
      "text/html": [
       "<div>\n",
       "<table border=\"1\" class=\"dataframe\">\n",
       "  <thead>\n",
       "    <tr style=\"text-align: right;\">\n",
       "      <th></th>\n",
       "      <th>info</th>\n",
       "    </tr>\n",
       "  </thead>\n",
       "  <tbody>\n",
       "    <tr>\n",
       "      <th>0</th>\n",
       "      <td>Motto: Oro en Paz, Fierro en Guerra (Spanish) ...</td>\n",
       "    </tr>\n",
       "    <tr>\n",
       "      <th>1</th>\n",
       "      <td>State :  : California</td>\n",
       "    </tr>\n",
       "    <tr>\n",
       "      <th>2</th>\n",
       "      <td>CSA : San Jose–San Francisco–Oakland</td>\n",
       "    </tr>\n",
       "    <tr>\n",
       "      <th>3</th>\n",
       "      <td>Metro : San Francisco–Oakland–Hayward</td>\n",
       "    </tr>\n",
       "    <tr>\n",
       "      <th>4</th>\n",
       "      <td>Incorporated : April 15, 1850[9]</td>\n",
       "    </tr>\n",
       "    <tr>\n",
       "      <th>5</th>\n",
       "      <td>Founded by : José Joaquin Moraga : Francisco P...</td>\n",
       "    </tr>\n",
       "    <tr>\n",
       "      <th>6</th>\n",
       "      <td>Named for : St. Francis of Assisi</td>\n",
       "    </tr>\n",
       "    <tr>\n",
       "      <th>7</th>\n",
       "      <td>• Type : Mayor-council</td>\n",
       "    </tr>\n",
       "    <tr>\n",
       "      <th>8</th>\n",
       "      <td>• Body : Board of Supervisors</td>\n",
       "    </tr>\n",
       "    <tr>\n",
       "      <th>9</th>\n",
       "      <td>• Mayor : Edwin M. Lee (D)[10]</td>\n",
       "    </tr>\n",
       "    <tr>\n",
       "      <th>10</th>\n",
       "      <td>• Supervisors[12] :  :  : List :  : Sandra Le...</td>\n",
       "    </tr>\n",
       "    <tr>\n",
       "      <th>11</th>\n",
       "      <td>• Assembly members[13][14] : David Chiu (D) :...</td>\n",
       "    </tr>\n",
       "    <tr>\n",
       "      <th>12</th>\n",
       "      <td>• State senator : Scott Wiener (D)[11]</td>\n",
       "    </tr>\n",
       "    <tr>\n",
       "      <th>13</th>\n",
       "      <td>• United States Representatives[15][16] : Nan...</td>\n",
       "    </tr>\n",
       "    <tr>\n",
       "      <th>14</th>\n",
       "      <td>• City and county : 231.89 sq mi (600.6 km2)</td>\n",
       "    </tr>\n",
       "    <tr>\n",
       "      <th>15</th>\n",
       "      <td>• Land : 46.87 sq mi (121.4 km2)</td>\n",
       "    </tr>\n",
       "    <tr>\n",
       "      <th>16</th>\n",
       "      <td>• Water : 185.02 sq mi (479.2 km2)  80.00%</td>\n",
       "    </tr>\n",
       "    <tr>\n",
       "      <th>17</th>\n",
       "      <td>• Metro : 3,524.4 sq mi (9,128 km2)</td>\n",
       "    </tr>\n",
       "    <tr>\n",
       "      <th>18</th>\n",
       "      <td>• City and county : 864,816</td>\n",
       "    </tr>\n",
       "    <tr>\n",
       "      <th>19</th>\n",
       "      <td>• Rank : 13th, U.S.</td>\n",
       "    </tr>\n",
       "    <tr>\n",
       "      <th>20</th>\n",
       "      <td>• Density : 18,451/sq mi (7,124/km2)</td>\n",
       "    </tr>\n",
       "    <tr>\n",
       "      <th>21</th>\n",
       "      <td>• Metro : 4,656,132 (11th)</td>\n",
       "    </tr>\n",
       "    <tr>\n",
       "      <th>22</th>\n",
       "      <td>• CSA : 8,713,914 (5th)</td>\n",
       "    </tr>\n",
       "    <tr>\n",
       "      <th>23</th>\n",
       "      <td>• Summer (DST) : Pacific Daylight Time (UTC−7)</td>\n",
       "    </tr>\n",
       "    <tr>\n",
       "      <th>24</th>\n",
       "      <td>Area codes : 415/628[22]</td>\n",
       "    </tr>\n",
       "    <tr>\n",
       "      <th>25</th>\n",
       "      <td>GNIS feature IDs : 277593, 2411786</td>\n",
       "    </tr>\n",
       "  </tbody>\n",
       "</table>\n",
       "</div>"
      ],
      "text/plain": [
       "                                                 info\n",
       "0   Motto: Oro en Paz, Fierro en Guerra (Spanish) ...\n",
       "1                               State :  : California\n",
       "2                CSA : San Jose–San Francisco–Oakland\n",
       "3               Metro : San Francisco–Oakland–Hayward\n",
       "4                    Incorporated : April 15, 1850[9]\n",
       "5   Founded by : José Joaquin Moraga : Francisco P...\n",
       "6                   Named for : St. Francis of Assisi\n",
       "7                              • Type : Mayor-council\n",
       "8                       • Body : Board of Supervisors\n",
       "9                      • Mayor : Edwin M. Lee (D)[10]\n",
       "10   • Supervisors[12] :  :  : List :  : Sandra Le...\n",
       "11   • Assembly members[13][14] : David Chiu (D) :...\n",
       "12             • State senator : Scott Wiener (D)[11]\n",
       "13   • United States Representatives[15][16] : Nan...\n",
       "14       • City and county : 231.89 sq mi (600.6 km2)\n",
       "15                   • Land : 46.87 sq mi (121.4 km2)\n",
       "16         • Water : 185.02 sq mi (479.2 km2)  80.00%\n",
       "17                • Metro : 3,524.4 sq mi (9,128 km2)\n",
       "18                        • City and county : 864,816\n",
       "19                                • Rank : 13th, U.S.\n",
       "20               • Density : 18,451/sq mi (7,124/km2)\n",
       "21                         • Metro : 4,656,132 (11th)\n",
       "22                            • CSA : 8,713,914 (5th)\n",
       "23     • Summer (DST) : Pacific Daylight Time (UTC−7)\n",
       "24                           Area codes : 415/628[22]\n",
       "25                 GNIS feature IDs : 277593, 2411786"
      ]
     },
     "execution_count": 24,
     "metadata": {},
     "output_type": "execute_result"
    }
   ],
=======
   "execution_count": null,
   "metadata": {
    "collapsed": false
   },
   "outputs": [],
>>>>>>> dae8a1793c2d98608ebdf7fb6ba67c9292137737
   "source": [
    "ask_input()"
   ]
  },
  {
   "cell_type": "code",
   "execution_count": null,
   "metadata": {
    "collapsed": true
   },
   "outputs": [],
   "source": [
    "# Q1: How to replace city.title() with outputText\n",
    "# How to remove dot from the dataframe\n",
    "# how to extract the first paragraph from wikipedia\n",
    "# Scrape Yelp"
   ]
  }
 ],
 "metadata": {
  "anaconda-cloud": {},
  "kernelspec": {
   "display_name": "Python 2",
   "language": "python",
   "name": "python2"
  },
  "language_info": {
   "codemirror_mode": {
    "name": "ipython",
    "version": 2
   },
   "file_extension": ".py",
   "mimetype": "text/x-python",
   "name": "python",
   "nbconvert_exporter": "python",
   "pygments_lexer": "ipython2",
<<<<<<< HEAD
   "version": "2.7.12"
  },
  "widgets": {
   "state": {
    "098aad44b37e42f3a26395ca1965c023": {
     "views": [
      {
       "cell_index": 58
      }
     ]
    },
    "80c93463dd424520820a0bab0eb5b6cd": {
     "views": [
      {
       "cell_index": 57
      }
     ]
    }
   },
   "version": "1.2.0"
=======
   "version": "2.7.13"
>>>>>>> dae8a1793c2d98608ebdf7fb6ba67c9292137737
  }
 },
 "nbformat": 4,
 "nbformat_minor": 1
}

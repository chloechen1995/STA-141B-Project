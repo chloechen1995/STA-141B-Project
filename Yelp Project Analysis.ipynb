{
 "cells": [
  {
   "cell_type": "code",
   "execution_count": 1,
   "metadata": {
    "collapsed": false
   },
   "outputs": [],
   "source": [
    "import json\n",
    "import os\n",
    "import glob\n",
    "import pandas as pd\n"
   ]
  },
  {
   "cell_type": "code",
   "execution_count": 2,
   "metadata": {
    "collapsed": false
   },
   "outputs": [],
   "source": [
    "def readfile(f):\n",
    "    # open the file, 'rb' is used when opening non-text files\n",
    "    with open(path, 'rb') as f:\n",
    "        data = f.readlines()\n",
    "\n",
    "    data = map(lambda x: x.rstrip(), data)\n",
    "\n",
    "    # add square brackets at the beginning and end create a big array of JSON Objects\n",
    "    # separate the data with comma\n",
    "    data_str = \"[\" + ','.join(data) + \"]\"\n",
    "\n",
    "    # use pandas to read the files\n",
    "    df = pd.read_json(data_str)\n",
    "    return df"
   ]
  },
  {
   "cell_type": "code",
   "execution_count": 3,
   "metadata": {
    "collapsed": true
   },
   "outputs": [],
   "source": [
    "def fixdf(newlist):\n",
    "    \"\"\"\n",
    "    Fix the dataframe return from the readfile function\n",
    "    \n",
    "    Args:\n",
    "        a list\n",
    "    \n",
    "    Returns:\n",
    "        dataframe\n",
    "    \"\"\"\n",
    "    new_df = pd.concat(newlist, axis = 0)\n",
    "    return new_df"
   ]
  },
  {
   "cell_type": "code",
   "execution_count": 7,
   "metadata": {
    "collapsed": false
   },
   "outputs": [],
   "source": [
    "path = \"/Users/Stephanie/Desktop/STA141B/yelp_dataset_challenge_round9\"\n",
    "yelplist = []\n",
    "files = glob.glob(os.path.join(path,\".json\"))\n",
    "\n",
    "\n"
   ]
  },
  {
   "cell_type": "code",
   "execution_count": 59,
   "metadata": {
    "collapsed": false
   },
   "outputs": [],
   "source": [
    "import requests\n",
    "import urllib2\n",
    "import requests_cache\n",
    "requests_cache.install_cache(\"cache\")\n",
    "from urllib2 import Request, urlopen\n",
    "import json"
   ]
  },
  {
   "cell_type": "code",
   "execution_count": 60,
   "metadata": {
    "collapsed": true
   },
   "outputs": [],
   "source": [
    "import rauth"
   ]
  },
  {
   "cell_type": "code",
   "execution_count": 61,
   "metadata": {
    "collapsed": true
   },
   "outputs": [],
   "source": [
    "def get_data(term, location):\n",
    "    consumer_key = \"uFKYftN0fu4pD6guW2cYng\"\n",
    "    consumer_secret = \"iUYQ2Hk3-vTQVd0zOFnvloWPivA\"\n",
    "    token = \"FZnep4FiFmwrrifuNm6M-_K661Wb3J02\"\n",
    "    token_secret = \"CRvBo_fO-r4pE_-p2UrnN_mxBlc\"\n",
    "   \n",
    "    urlbase = \"http://api.yelp.com/v2/search\"\n",
    "    params = ({\"term\": term})\n",
    "    params.update({\"location\": location})\n",
    "    params.update({\"sort\": \"1\"})\n",
    "    \n",
    "    session = rauth.OAuth1Session(\n",
    "        consumer_key = consumer_key, \n",
    "        consumer_secret = consumer_secret,\n",
    "        access_token = token,\n",
    "        access_token_secret = token_secret)\n",
    "     \n",
    "    request = session.get(urlbase,params=params)\n",
    "   \n",
    "    #Transforms JSON API response into dictionary\n",
    "    data = request.json()\n",
    "    session.close()\n",
    "   \n",
    "    return data"
   ]
  },
  {
   "cell_type": "code",
   "execution_count": 76,
   "metadata": {
    "collapsed": false
   },
   "outputs": [],
   "source": [
    "test = get_data(\"food\", \"San Francisco\")"
   ]
  }
 ],
 "metadata": {
  "anaconda-cloud": {},
  "kernelspec": {
   "display_name": "Python [default]",
   "language": "python",
   "name": "python2"
  },
  "language_info": {
   "codemirror_mode": {
    "name": "ipython",
    "version": 2
   },
   "file_extension": ".py",
   "mimetype": "text/x-python",
   "name": "python",
   "nbconvert_exporter": "python",
   "pygments_lexer": "ipython2",
   "version": "2.7.13"
  }
 },
 "nbformat": 4,
 "nbformat_minor": 1
}

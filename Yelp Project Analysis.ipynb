{
 "cells": [
  {
   "cell_type": "code",
   "execution_count": 1,
   "metadata": {
    "collapsed": false
   },
   "outputs": [],
   "source": [
    "import requests_cache\n",
    "import requests\n",
    "import pandas as pd\n",
    "from matplotlib import pyplot as plt\n",
    "plt.style.use('ggplot')\n",
    "%matplotlib inline\n",
    "from pandas.tools.plotting import scatter_matrix\n",
    "import numpy as np\n",
    "import seaborn as sns\n",
    "from requests_oauthlib import OAuth1Session\n",
    "import glob\n",
    "import json\n",
    "import os\n",
    "import urllib2\n",
    "from urllib2 import Request, urlopen\n",
    "from requests_oauthlib import OAuth1Session\n",
    "from bs4 import BeautifulSoup"
   ]
  },
  {
   "cell_type": "markdown",
   "metadata": {
    "collapsed": false,
    "scrolled": true
   },
   "source": [
    "### Data Wrangling Part 2 (From yelp dataset challenge):"
   ]
  },
  {
   "cell_type": "code",
   "execution_count": null,
   "metadata": {
    "collapsed": false
   },
   "outputs": [],
   "source": [
    "path = \"/Users/Stephanie/Desktop/yelp_dataset_challenge_round9\"\n",
    "files = glob.glob(os.path.join(path,\"*.json\"))\n",
    "files"
   ]
  },
  {
   "cell_type": "code",
   "execution_count": null,
   "metadata": {
    "collapsed": false
   },
   "outputs": [],
   "source": [
    "############# Copy from online(not sure if it works or not yet) ##########\n",
    "\n",
    "#Convert Yelp Academic Dataset from JSON to CSV\n",
    "import csv\n",
    "def convert(line):\n",
    "    ''' Convert a json string to a flat python dictionary\n",
    "    which can be passed into Pandas. '''\n",
    "    data = json.loads(line)\n",
    "    for k, v in data.items():\n",
    "        if isinstance(v, list):\n",
    "            data[k] = ','.join(v)\n",
    "        elif isinstance(v, dict):\n",
    "            for kk, vv in v.items():\n",
    "                data['%s_%s' % (k, kk)] = vv\n",
    "            del data[k]\n",
    "    return line\n",
    "\n",
    "\n",
    "csv_filename = 'review.csv'\n",
    "df = pd.DataFrame([convert(line) for line in file(files[2])])\n",
    "df.to_csv(csv_filename, index=False)\n"
   ]
  },
  {
   "cell_type": "code",
   "execution_count": null,
   "metadata": {
    "collapsed": false
   },
   "outputs": [],
   "source": [
    "def readfile(files):\n",
    "    # read the file into a python array\n",
    "    with open(files, 'rb') as f:\n",
    "        data = f.readlines()\n",
    "        # remove the trailing \"\\n\" from each line\n",
    "        data = map(lambda x: x.rstrip(), data)\n",
    "        data_str = \"[\" + ','.join(data) + \"]\"\n",
    "        df = pd.read_json(data_str)\n",
    "        \n",
    "        f.close()\n",
    "        return df\n",
    "     \n",
    "def fixdf(newlist):\n",
    "    new_df = pd.concat(newlist, axis = 0)\n",
    "    return new_df\n",
    "\n",
    "yelplist = []"
   ]
  },
  {
   "cell_type": "code",
   "execution_count": null,
   "metadata": {
    "collapsed": false
   },
   "outputs": [],
   "source": [
    "review_data = readfile(files[2])"
   ]
  },
  {
   "cell_type": "code",
   "execution_count": null,
   "metadata": {
    "collapsed": true
   },
   "outputs": [],
   "source": [
    "review_data.head()"
   ]
  },
  {
   "cell_type": "code",
   "execution_count": null,
   "metadata": {
    "collapsed": true
   },
   "outputs": [],
   "source": []
  },
  {
   "cell_type": "markdown",
   "metadata": {},
   "source": [
    "### Data Wrangling "
   ]
  },
  {
   "cell_type": "code",
   "execution_count": 2,
   "metadata": {
    "collapsed": true
   },
   "outputs": [],
   "source": [
    "import requests_cache\n",
    "import requests\n",
    "import pandas as pd\n",
    "from matplotlib import pyplot as plt\n",
    "plt.style.use('ggplot')\n",
    "%matplotlib inline\n",
    "from pandas.tools.plotting import scatter_matrix\n",
    "import numpy as np\n",
    "import seaborn as sns\n",
    "from requests_oauthlib import OAuth1Session\n",
    "from bs4 import BeautifulSoup\n",
    "import pandas as pd"
   ]
  },
  {
   "cell_type": "code",
   "execution_count": 3,
   "metadata": {
    "collapsed": false
   },
   "outputs": [],
   "source": [
    "requests_cache.install_cache(\"cache\")\n",
    "\n",
    "# criteria: 1=Distance, 2=Highest Rated\n",
    "\n",
    "def yelp_search(term, location, criteria):\n",
    "    \"\"\"\n",
    "    makes a search request\n",
    "    \n",
    "    Argument: search term, location\n",
    "    \n",
    "    Return: search result items as a list (for 0 items, return an empty list)\n",
    "    \"\"\"\n",
    "    consumer_key = \"uFKYftN0fu4pD6guW2cYng\"\n",
    "    consumer_secret = \"iUYQ2Hk3-vTQVd0zOFnvloWPivA\"\n",
    "    token = \"FZnep4FiFmwrrifuNm6M-_K661Wb3J02\"\n",
    "    token_secret = \"CRvBo_fO-r4pE_-p2UrnN_mxBlc\"\n",
    "   \n",
    "    urlbase = \"http://api.yelp.com/v2/search\"\n",
    "    params = ({\"term\": term})\n",
    "    \n",
    "    criteria = criteria.lower()\n",
    "    \n",
    "    if criteria == \"distance\":\n",
    "        params.update({\"location\": location, \"sort\": \"1\", \"cll\" : \"latitude,longitude\"})\n",
    "    else:\n",
    "        params.update({\"location\": location, \"sort\": \"2\", \"cll\" : \"latitude,longitude\"})\n",
    "    session = OAuth1Session(consumer_key, consumer_secret,token,token_secret)\n",
    "     \n",
    "    request = session.get(urlbase,params=params)\n",
    "   \n",
    "    #Transforms JSON API response into dictionary\n",
    "    data = request.json()\n",
    "    session.close()\n",
    "    output = data\n",
    "    \n",
    "    if \"businesses\" not in output:\n",
    "        return {}\n",
    "    \n",
    "    else:\n",
    "        return output[\"businesses\"]\n"
   ]
  },
  {
   "cell_type": "code",
   "execution_count": 4,
   "metadata": {
    "collapsed": true
   },
   "outputs": [],
   "source": [
    "def extract(url):\n",
    "    \"\"\"\n",
    "    extract\n",
    "    \"\"\"\n",
    "    info = requests.get(url).content\n",
    "    wikisoup = BeautifulSoup(info, 'lxml')\n",
    "    city_data = wikisoup.findAll(\"th\", {\"scope\": \"row\"})\n",
    "    population_data = wikisoup.findAll(\"td\", {\"align\":\"right\"})\n",
    "    city = [city.text for city in city_data]\n",
    "    city = city[1:-8]\n",
    "    population_data = wikisoup.findAll(\"td\", {\"align\":\"right\"})\n",
    "    population_data = \"\\n\".join([population.text for population in population_data])\n",
    "    population_split = population_data.split(\"\\n\")\n",
    "    population = population_split[0::2]\n",
    "    info_dict = {\"city\": city, \"population\": population}\n",
    "    return info_dict"
   ]
  },
  {
   "cell_type": "code",
   "execution_count": 5,
   "metadata": {
    "collapsed": false
   },
   "outputs": [],
   "source": [
    "url = \"https://en.wikipedia.org/wiki/List_of_cities_and_towns_in_California\"\n",
    "url_output = extract(url)\n",
    "pd_scrape = pd.DataFrame(url_output)"
   ]
  },
  {
   "cell_type": "code",
   "execution_count": 6,
   "metadata": {
    "collapsed": false
   },
   "outputs": [],
   "source": [
    "# this excel provide latitude and longitude information\n",
    "pd_location = pd.read_excel(\"/Users/Stephanie/Desktop/calcities.xlsx\", header = 0)"
   ]
  },
  {
   "cell_type": "code",
   "execution_count": 7,
   "metadata": {
    "collapsed": false
   },
   "outputs": [],
   "source": [
    "pd_location_1 = pd_location.rename(columns = {'Name':'city'})\n",
    "pd_geo = pd.merge(pd_scrape, pd_location_1, on = \"city\")"
   ]
  },
  {
   "cell_type": "code",
   "execution_count": 8,
   "metadata": {
    "collapsed": false
   },
   "outputs": [],
   "source": [
    "pd_geo['city'] = pd_geo['city'] + ', CA'"
   ]
  },
  {
   "cell_type": "code",
   "execution_count": 9,
   "metadata": {
    "collapsed": true
   },
   "outputs": [],
   "source": [
    "def search(keyterm, city, criteria):\n",
    "    result = yelp_search(keyterm, city, criteria)\n",
    "    df_result = pd.DataFrame(result)\n",
    "    df_result[\"city\"] = city\n",
    "    return df_result"
   ]
  },
  {
   "cell_type": "code",
   "execution_count": 10,
   "metadata": {
    "collapsed": false
   },
   "outputs": [],
   "source": [
    "keyterm = \"restaurants\"\n",
    "criteria = \"Distance\"\n",
    "yelp_restaurants = [search(keyterm, \"%s, CA\" %city, criteria) for city in pd_scrape[\"city\"]]"
   ]
  },
  {
   "cell_type": "code",
   "execution_count": 11,
   "metadata": {
    "collapsed": true
   },
   "outputs": [],
   "source": [
    "df_restaurants = pd.concat(yelp_restaurants, ignore_index = True)"
   ]
  },
  {
   "cell_type": "code",
   "execution_count": 12,
   "metadata": {
    "collapsed": false
   },
   "outputs": [],
   "source": [
    "df_food_drop = df_restaurants.drop([\"deals\", \"gift_certificates\", \"image_url\", \"location\", \"menu_date_updated\", \"menu_provider\", \"phone\", \"rating_img_url\", \"rating_img_url_large\", \"rating_img_url_small\", \"snippet_image_url\"], 1)\n",
    "df_food_final = pd.merge(df_food_drop, pd_geo, on = \"city\", how = \"inner\")"
   ]
  },
  {
   "cell_type": "code",
   "execution_count": 13,
   "metadata": {
    "collapsed": false
   },
   "outputs": [
    {
     "name": "stderr",
     "output_type": "stream",
     "text": [
      "/Users/stephanie/anaconda/lib/python2.7/site-packages/ipykernel/__main__.py:4: SettingWithCopyWarning: \n",
      "A value is trying to be set on a copy of a slice from a DataFrame\n",
      "\n",
      "See the caveats in the documentation: http://pandas.pydata.org/pandas-docs/stable/indexing.html#indexing-view-versus-copy\n"
     ]
    }
   ],
   "source": [
    "#change category thats 'Nan' to 'Unknown'\n",
    "for i in range(0,len(df_food_final)):\n",
    "    if type(df_food_final['categories'][i]) == float:\n",
    "        df_food_final['categories'][i] = [[u'Unknown']]"
   ]
  },
  {
   "cell_type": "code",
   "execution_count": 14,
   "metadata": {
    "collapsed": false
   },
   "outputs": [],
   "source": [
    "keyterm = \"hotels\"\n",
    "yelp_hotels = [search(keyterm, \"%s, CA\" %city, criteria) for city in pd_scrape[\"city\"]]\n",
    "df_hotels = pd.concat(yelp_hotels)"
   ]
  },
  {
   "cell_type": "code",
   "execution_count": 15,
   "metadata": {
    "collapsed": false
   },
   "outputs": [],
   "source": [
    "df_hotel_drop = df_hotels.drop([\"deals\", \"gift_certificates\", \"image_url\", \"location\", \"menu_date_updated\", \"menu_provider\", \"phone\", \"rating_img_url\", \"rating_img_url_large\", \"rating_img_url_small\", \"snippet_image_url\"], 1)"
   ]
  },
  {
   "cell_type": "code",
   "execution_count": 16,
   "metadata": {
    "collapsed": false
   },
   "outputs": [],
   "source": [
    "df_hotels_final = pd.merge(df_hotel_drop, pd_geo, on = \"city\", how = \"inner\")"
   ]
  },
  {
   "cell_type": "code",
   "execution_count": 17,
   "metadata": {
    "collapsed": false
   },
   "outputs": [
    {
     "name": "stderr",
     "output_type": "stream",
     "text": [
      "/Users/stephanie/anaconda/lib/python2.7/site-packages/ipykernel/__main__.py:3: SettingWithCopyWarning: \n",
      "A value is trying to be set on a copy of a slice from a DataFrame\n",
      "\n",
      "See the caveats in the documentation: http://pandas.pydata.org/pandas-docs/stable/indexing.html#indexing-view-versus-copy\n",
      "  app.launch_new_instance()\n"
     ]
    }
   ],
   "source": [
    "for i in range(0,len(df_hotels_final)):\n",
    "    if type(df_hotels_final['categories'][i]) == float:\n",
    "        df_hotels_final['categories'][i] = [[u'Unknown']]"
   ]
  },
  {
   "cell_type": "markdown",
   "metadata": {},
   "source": [
    "### Analying data and plotting:"
   ]
  },
  {
   "cell_type": "code",
   "execution_count": 18,
   "metadata": {
    "collapsed": true
   },
   "outputs": [],
   "source": [
    "import plotly\n",
    "import plotly.plotly as py  \n",
    "import plotly.tools as tls   \n",
    "from plotly.graph_objs import *\n",
    "import numpy as np  \n",
    "import plotly.graph_objs as go\n",
    "\n",
    "tls.set_credentials_file(\n",
    "    username = 'stephanielam',\n",
    "    api_key = 'fFDGF8NGc2K0WEpiEnSL')"
   ]
  },
  {
   "cell_type": "code",
   "execution_count": 19,
   "metadata": {
    "collapsed": false
   },
   "outputs": [],
   "source": [
    "from collections import Counter\n",
    "\n",
    "#get the most frequent category labels (Overall)\n",
    "def freq_cat(dataframe):\n",
    "    count = []\n",
    "    for i in range(0,len(dataframe)):\n",
    "        data = dataframe['categories'][i][0][0]\n",
    "        count.append(data)\n",
    "        freq = Counter(count)\n",
    "        \n",
    "    count_df = pd.DataFrame(freq.most_common()[0:10])\n",
    "    return count_df"
   ]
  },
  {
   "cell_type": "code",
   "execution_count": 20,
   "metadata": {
    "collapsed": false
   },
   "outputs": [
    {
     "data": {
      "text/html": [
       "<iframe id=\"igraph\" scrolling=\"no\" style=\"border:none;\" seamless=\"seamless\" src=\"https://plot.ly/~stephanielam/6.embed\" height=\"525px\" width=\"100%\"></iframe>"
      ],
      "text/plain": [
       "<plotly.tools.PlotlyDisplay object>"
      ]
     },
     "execution_count": 20,
     "metadata": {},
     "output_type": "execute_result"
    }
   ],
   "source": [
    "count_df = freq_cat(df_food_final)\n",
    "\n",
    "#plot\n",
    "data = [go.Bar(x= count_df[0],y= count_df[1])]\n",
    "layout = go.Layout(title='Top 10 most frequent category')\n",
    "fig = go.Figure(data=data, layout=layout)\n",
    "py.iplot(fig, filename = 'Top 10 most frequent category')"
   ]
  },
  {
   "cell_type": "code",
   "execution_count": 21,
   "metadata": {
    "collapsed": false
   },
   "outputs": [],
   "source": [
    "#get star count by each category\n",
    "def get_count(category):\n",
    "    count_list =[]\n",
    "    for i in range(len(df_food_final)):\n",
    "        if df_food_final['categories'][i][0][0] == category:\n",
    "            count_list.append(df_food_final['rating'][i])       \n",
    "    labels, values = zip(*Counter(count_list).items()) \n",
    "    count_list =[] \n",
    "    return labels, values\n",
    "\n",
    "cat_count = []\n",
    "def get_cat_count(dataframe):\n",
    "    for i in range(0, len(dataframe[0])):\n",
    "        count = get_count(dataframe[0][i])\n",
    "        cat_count.append(count)\n",
    "    \n",
    "    return cat_count\n",
    "\n",
    "cat_count = get_cat_count(count_df)"
   ]
  },
  {
   "cell_type": "code",
   "execution_count": 22,
   "metadata": {
    "collapsed": false
   },
   "outputs": [
    {
     "data": {
      "text/html": [
       "<iframe id=\"igraph\" scrolling=\"no\" style=\"border:none;\" seamless=\"seamless\" src=\"https://plot.ly/~stephanielam/2.embed\" height=\"525px\" width=\"100%\"></iframe>"
      ],
      "text/plain": [
       "<plotly.tools.PlotlyDisplay object>"
      ]
     },
     "execution_count": 22,
     "metadata": {},
     "output_type": "execute_result"
    }
   ],
   "source": [
    "#plot of Distribution of stars(by category)\n",
    "\n",
    "for i in range(0, len(cat_count)):\n",
    "    locals()['trace%s' % i] = go.Bar(x = cat_count[i][0], y=cat_count[i][1], name= count_df[0][i])\n",
    "\n",
    "data = [trace0, trace1, trace2, trace3, trace4, trace5, trace6, trace7, trace8, trace9]\n",
    "layout = go.Layout(barmode = 'stack', title ='Rating stars distribution (by categeory)'\n",
    ")\n",
    "\n",
    "fig = go.Figure(data=data, layout=layout)\n",
    "py.iplot(fig, filename='Rating stars distribution (by categeory)')"
   ]
  },
  {
   "cell_type": "code",
   "execution_count": 23,
   "metadata": {
    "collapsed": false
   },
   "outputs": [],
   "source": [
    "#get the average star rating (by City)\n",
    "def average_star_city(dataframe, category):\n",
    "    average_rate = dataframe.groupby('city')[category].mean()\n",
    "    average_rate = average_rate.reset_index()\n",
    "    average_rate = pd.DataFrame(average_rate)\n",
    "    return average_rate\n",
    "    \n",
    "rating_star = average_star_city(df_food_final, 'rating')"
   ]
  },
  {
   "cell_type": "code",
   "execution_count": 24,
   "metadata": {
    "collapsed": false
   },
   "outputs": [
    {
     "data": {
      "text/html": [
       "<div>\n",
       "<table border=\"1\" class=\"dataframe\">\n",
       "  <thead>\n",
       "    <tr style=\"text-align: right;\">\n",
       "      <th></th>\n",
       "      <th>city</th>\n",
       "      <th>rating</th>\n",
       "      <th>population</th>\n",
       "      <th>Latitude</th>\n",
       "      <th>Longitude</th>\n",
       "    </tr>\n",
       "  </thead>\n",
       "  <tbody>\n",
       "    <tr>\n",
       "      <th>0</th>\n",
       "      <td>Adelanto, CA</td>\n",
       "      <td>3.575000</td>\n",
       "      <td>31,765</td>\n",
       "      <td>34.582769</td>\n",
       "      <td>-117.409214</td>\n",
       "    </tr>\n",
       "    <tr>\n",
       "      <th>1</th>\n",
       "      <td>Agoura Hills, CA</td>\n",
       "      <td>4.050000</td>\n",
       "      <td>20,330</td>\n",
       "      <td>34.153339</td>\n",
       "      <td>-118.761675</td>\n",
       "    </tr>\n",
       "    <tr>\n",
       "      <th>2</th>\n",
       "      <td>Alameda, CA</td>\n",
       "      <td>4.100000</td>\n",
       "      <td>73,812</td>\n",
       "      <td>37.765206</td>\n",
       "      <td>-122.241636</td>\n",
       "    </tr>\n",
       "    <tr>\n",
       "      <th>3</th>\n",
       "      <td>Albany, CA</td>\n",
       "      <td>4.150000</td>\n",
       "      <td>18,539</td>\n",
       "      <td>37.886869</td>\n",
       "      <td>-122.297747</td>\n",
       "    </tr>\n",
       "    <tr>\n",
       "      <th>4</th>\n",
       "      <td>Alhambra, CA</td>\n",
       "      <td>4.050000</td>\n",
       "      <td>83,089</td>\n",
       "      <td>34.095286</td>\n",
       "      <td>-118.127014</td>\n",
       "    </tr>\n",
       "    <tr>\n",
       "      <th>5</th>\n",
       "      <td>Aliso Viejo, CA</td>\n",
       "      <td>3.925000</td>\n",
       "      <td>47,823</td>\n",
       "      <td>33.575000</td>\n",
       "      <td>-117.725556</td>\n",
       "    </tr>\n",
       "    <tr>\n",
       "      <th>6</th>\n",
       "      <td>Alturas, CA</td>\n",
       "      <td>3.500000</td>\n",
       "      <td>2,827</td>\n",
       "      <td>41.487114</td>\n",
       "      <td>-120.542456</td>\n",
       "    </tr>\n",
       "    <tr>\n",
       "      <th>7</th>\n",
       "      <td>Amador City, CA</td>\n",
       "      <td>4.175000</td>\n",
       "      <td>185</td>\n",
       "      <td>38.419356</td>\n",
       "      <td>-120.824103</td>\n",
       "    </tr>\n",
       "    <tr>\n",
       "      <th>8</th>\n",
       "      <td>American Canyon, CA</td>\n",
       "      <td>3.775000</td>\n",
       "      <td>19,454</td>\n",
       "      <td>38.174917</td>\n",
       "      <td>-122.260803</td>\n",
       "    </tr>\n",
       "    <tr>\n",
       "      <th>9</th>\n",
       "      <td>Anaheim, CA</td>\n",
       "      <td>4.225000</td>\n",
       "      <td>336,265</td>\n",
       "      <td>33.835292</td>\n",
       "      <td>-117.914503</td>\n",
       "    </tr>\n",
       "    <tr>\n",
       "      <th>10</th>\n",
       "      <td>Anderson, CA</td>\n",
       "      <td>3.575000</td>\n",
       "      <td>9,932</td>\n",
       "      <td>40.448208</td>\n",
       "      <td>-122.297783</td>\n",
       "    </tr>\n",
       "    <tr>\n",
       "      <th>11</th>\n",
       "      <td>Angels Camp, CA</td>\n",
       "      <td>3.675000</td>\n",
       "      <td>3,836</td>\n",
       "      <td>38.067783</td>\n",
       "      <td>-120.538531</td>\n",
       "    </tr>\n",
       "    <tr>\n",
       "      <th>12</th>\n",
       "      <td>Antioch, CA</td>\n",
       "      <td>4.075000</td>\n",
       "      <td>102,372</td>\n",
       "      <td>38.004922</td>\n",
       "      <td>-121.805789</td>\n",
       "    </tr>\n",
       "    <tr>\n",
       "      <th>13</th>\n",
       "      <td>Arcadia, CA</td>\n",
       "      <td>3.975000</td>\n",
       "      <td>56,364</td>\n",
       "      <td>34.139728</td>\n",
       "      <td>-118.035344</td>\n",
       "    </tr>\n",
       "    <tr>\n",
       "      <th>14</th>\n",
       "      <td>Arcata, CA</td>\n",
       "      <td>3.850000</td>\n",
       "      <td>17,231</td>\n",
       "      <td>40.866517</td>\n",
       "      <td>-124.082839</td>\n",
       "    </tr>\n",
       "    <tr>\n",
       "      <th>15</th>\n",
       "      <td>Arroyo Grande, CA</td>\n",
       "      <td>4.300000</td>\n",
       "      <td>17,252</td>\n",
       "      <td>35.118586</td>\n",
       "      <td>-120.590725</td>\n",
       "    </tr>\n",
       "    <tr>\n",
       "      <th>16</th>\n",
       "      <td>Artesia, CA</td>\n",
       "      <td>4.250000</td>\n",
       "      <td>16,522</td>\n",
       "      <td>33.865847</td>\n",
       "      <td>-118.083122</td>\n",
       "    </tr>\n",
       "    <tr>\n",
       "      <th>17</th>\n",
       "      <td>Arvin, CA</td>\n",
       "      <td>3.525000</td>\n",
       "      <td>19,304</td>\n",
       "      <td>35.201800</td>\n",
       "      <td>-118.833106</td>\n",
       "    </tr>\n",
       "    <tr>\n",
       "      <th>18</th>\n",
       "      <td>Atascadero, CA</td>\n",
       "      <td>4.025000</td>\n",
       "      <td>28,310</td>\n",
       "      <td>35.489417</td>\n",
       "      <td>-120.670725</td>\n",
       "    </tr>\n",
       "    <tr>\n",
       "      <th>19</th>\n",
       "      <td>Atwater, CA</td>\n",
       "      <td>3.550000</td>\n",
       "      <td>28,168</td>\n",
       "      <td>37.347717</td>\n",
       "      <td>-120.609083</td>\n",
       "    </tr>\n",
       "    <tr>\n",
       "      <th>20</th>\n",
       "      <td>Auburn, CA</td>\n",
       "      <td>4.175000</td>\n",
       "      <td>13,330</td>\n",
       "      <td>38.896564</td>\n",
       "      <td>-121.076889</td>\n",
       "    </tr>\n",
       "    <tr>\n",
       "      <th>21</th>\n",
       "      <td>Avalon, CA</td>\n",
       "      <td>3.350000</td>\n",
       "      <td>3,728</td>\n",
       "      <td>33.342819</td>\n",
       "      <td>-118.328228</td>\n",
       "    </tr>\n",
       "    <tr>\n",
       "      <th>22</th>\n",
       "      <td>Avenal, CA</td>\n",
       "      <td>3.150000</td>\n",
       "      <td>15,505</td>\n",
       "      <td>36.004122</td>\n",
       "      <td>-120.129028</td>\n",
       "    </tr>\n",
       "    <tr>\n",
       "      <th>23</th>\n",
       "      <td>Azusa, CA</td>\n",
       "      <td>4.200000</td>\n",
       "      <td>46,361</td>\n",
       "      <td>34.133619</td>\n",
       "      <td>-117.907564</td>\n",
       "    </tr>\n",
       "    <tr>\n",
       "      <th>24</th>\n",
       "      <td>Bakersfield, CA</td>\n",
       "      <td>4.275000</td>\n",
       "      <td>347,483</td>\n",
       "      <td>35.373292</td>\n",
       "      <td>-119.018711</td>\n",
       "    </tr>\n",
       "    <tr>\n",
       "      <th>25</th>\n",
       "      <td>Baldwin Park, CA</td>\n",
       "      <td>4.300000</td>\n",
       "      <td>75,390</td>\n",
       "      <td>34.085286</td>\n",
       "      <td>-117.960897</td>\n",
       "    </tr>\n",
       "    <tr>\n",
       "      <th>26</th>\n",
       "      <td>Banning, CA</td>\n",
       "      <td>3.850000</td>\n",
       "      <td>29,603</td>\n",
       "      <td>33.925572</td>\n",
       "      <td>-116.876411</td>\n",
       "    </tr>\n",
       "    <tr>\n",
       "      <th>27</th>\n",
       "      <td>Barstow, CA</td>\n",
       "      <td>3.750000</td>\n",
       "      <td>22,639</td>\n",
       "      <td>34.895797</td>\n",
       "      <td>-117.017283</td>\n",
       "    </tr>\n",
       "    <tr>\n",
       "      <th>28</th>\n",
       "      <td>Beaumont, CA</td>\n",
       "      <td>3.950000</td>\n",
       "      <td>36,877</td>\n",
       "      <td>33.929461</td>\n",
       "      <td>-116.977247</td>\n",
       "    </tr>\n",
       "    <tr>\n",
       "      <th>29</th>\n",
       "      <td>Bell Gardens, CA</td>\n",
       "      <td>4.375000</td>\n",
       "      <td>42,072</td>\n",
       "      <td>33.965292</td>\n",
       "      <td>-118.151458</td>\n",
       "    </tr>\n",
       "    <tr>\n",
       "      <th>...</th>\n",
       "      <td>...</td>\n",
       "      <td>...</td>\n",
       "      <td>...</td>\n",
       "      <td>...</td>\n",
       "      <td>...</td>\n",
       "    </tr>\n",
       "    <tr>\n",
       "      <th>429</th>\n",
       "      <td>Vernon, CA</td>\n",
       "      <td>4.225000</td>\n",
       "      <td>112</td>\n",
       "      <td>34.003903</td>\n",
       "      <td>-118.230072</td>\n",
       "    </tr>\n",
       "    <tr>\n",
       "      <th>430</th>\n",
       "      <td>Victorville, CA</td>\n",
       "      <td>4.375000</td>\n",
       "      <td>115,903</td>\n",
       "      <td>34.536108</td>\n",
       "      <td>-117.291158</td>\n",
       "    </tr>\n",
       "    <tr>\n",
       "      <th>431</th>\n",
       "      <td>Villa Park, CA</td>\n",
       "      <td>4.150000</td>\n",
       "      <td>5,812</td>\n",
       "      <td>33.814461</td>\n",
       "      <td>-117.813111</td>\n",
       "    </tr>\n",
       "    <tr>\n",
       "      <th>432</th>\n",
       "      <td>Visalia, CA</td>\n",
       "      <td>4.000000</td>\n",
       "      <td>124,442</td>\n",
       "      <td>36.330228</td>\n",
       "      <td>-119.292058</td>\n",
       "    </tr>\n",
       "    <tr>\n",
       "      <th>433</th>\n",
       "      <td>Vista, CA</td>\n",
       "      <td>4.275000</td>\n",
       "      <td>93,834</td>\n",
       "      <td>33.200036</td>\n",
       "      <td>-117.242536</td>\n",
       "    </tr>\n",
       "    <tr>\n",
       "      <th>434</th>\n",
       "      <td>Walnut Creek, CA</td>\n",
       "      <td>4.050000</td>\n",
       "      <td>64,173</td>\n",
       "      <td>37.910078</td>\n",
       "      <td>-122.065183</td>\n",
       "    </tr>\n",
       "    <tr>\n",
       "      <th>435</th>\n",
       "      <td>Walnut, CA</td>\n",
       "      <td>4.100000</td>\n",
       "      <td>29,172</td>\n",
       "      <td>34.020289</td>\n",
       "      <td>-117.865339</td>\n",
       "    </tr>\n",
       "    <tr>\n",
       "      <th>436</th>\n",
       "      <td>Wasco, CA</td>\n",
       "      <td>3.550000</td>\n",
       "      <td>25,545</td>\n",
       "      <td>35.594125</td>\n",
       "      <td>-119.340947</td>\n",
       "    </tr>\n",
       "    <tr>\n",
       "      <th>437</th>\n",
       "      <td>Waterford, CA</td>\n",
       "      <td>3.875000</td>\n",
       "      <td>8,456</td>\n",
       "      <td>37.641319</td>\n",
       "      <td>-120.760483</td>\n",
       "    </tr>\n",
       "    <tr>\n",
       "      <th>438</th>\n",
       "      <td>Watsonville, CA</td>\n",
       "      <td>3.850000</td>\n",
       "      <td>51,199</td>\n",
       "      <td>36.910231</td>\n",
       "      <td>-121.756894</td>\n",
       "    </tr>\n",
       "    <tr>\n",
       "      <th>439</th>\n",
       "      <td>Weed, CA</td>\n",
       "      <td>3.350000</td>\n",
       "      <td>2,967</td>\n",
       "      <td>41.422650</td>\n",
       "      <td>-122.386128</td>\n",
       "    </tr>\n",
       "    <tr>\n",
       "      <th>440</th>\n",
       "      <td>West Covina, CA</td>\n",
       "      <td>4.125000</td>\n",
       "      <td>106,098</td>\n",
       "      <td>34.068622</td>\n",
       "      <td>-117.938953</td>\n",
       "    </tr>\n",
       "    <tr>\n",
       "      <th>441</th>\n",
       "      <td>West Hollywood, CA</td>\n",
       "      <td>4.075000</td>\n",
       "      <td>34,399</td>\n",
       "      <td>34.090008</td>\n",
       "      <td>-118.361744</td>\n",
       "    </tr>\n",
       "    <tr>\n",
       "      <th>442</th>\n",
       "      <td>West Sacramento, CA</td>\n",
       "      <td>4.100000</td>\n",
       "      <td>48,744</td>\n",
       "      <td>38.580461</td>\n",
       "      <td>-121.530233</td>\n",
       "    </tr>\n",
       "    <tr>\n",
       "      <th>443</th>\n",
       "      <td>Westlake Village, CA</td>\n",
       "      <td>4.125000</td>\n",
       "      <td>8,270</td>\n",
       "      <td>34.145839</td>\n",
       "      <td>-118.805647</td>\n",
       "    </tr>\n",
       "    <tr>\n",
       "      <th>444</th>\n",
       "      <td>Westminster, CA</td>\n",
       "      <td>4.275000</td>\n",
       "      <td>89,701</td>\n",
       "      <td>33.751342</td>\n",
       "      <td>-117.993992</td>\n",
       "    </tr>\n",
       "    <tr>\n",
       "      <th>445</th>\n",
       "      <td>Westmorland, CA</td>\n",
       "      <td>3.425000</td>\n",
       "      <td>2,225</td>\n",
       "      <td>33.037267</td>\n",
       "      <td>-115.621383</td>\n",
       "    </tr>\n",
       "    <tr>\n",
       "      <th>446</th>\n",
       "      <td>Wheatland, CA</td>\n",
       "      <td>4.156250</td>\n",
       "      <td>3,456</td>\n",
       "      <td>39.009894</td>\n",
       "      <td>-121.423014</td>\n",
       "    </tr>\n",
       "    <tr>\n",
       "      <th>447</th>\n",
       "      <td>Whittier, CA</td>\n",
       "      <td>4.200000</td>\n",
       "      <td>85,331</td>\n",
       "      <td>33.979178</td>\n",
       "      <td>-118.032844</td>\n",
       "    </tr>\n",
       "    <tr>\n",
       "      <th>448</th>\n",
       "      <td>Wildomar, CA</td>\n",
       "      <td>3.925000</td>\n",
       "      <td>32,176</td>\n",
       "      <td>33.598914</td>\n",
       "      <td>-117.280036</td>\n",
       "    </tr>\n",
       "    <tr>\n",
       "      <th>449</th>\n",
       "      <td>Williams, CA</td>\n",
       "      <td>3.421053</td>\n",
       "      <td>5,123</td>\n",
       "      <td>39.154614</td>\n",
       "      <td>-122.149419</td>\n",
       "    </tr>\n",
       "    <tr>\n",
       "      <th>450</th>\n",
       "      <td>Willits, CA</td>\n",
       "      <td>3.850000</td>\n",
       "      <td>4,888</td>\n",
       "      <td>39.409608</td>\n",
       "      <td>-123.355567</td>\n",
       "    </tr>\n",
       "    <tr>\n",
       "      <th>451</th>\n",
       "      <td>Willows, CA</td>\n",
       "      <td>3.125000</td>\n",
       "      <td>6,166</td>\n",
       "      <td>39.524325</td>\n",
       "      <td>-122.193592</td>\n",
       "    </tr>\n",
       "    <tr>\n",
       "      <th>452</th>\n",
       "      <td>Winters, CA</td>\n",
       "      <td>3.750000</td>\n",
       "      <td>6,624</td>\n",
       "      <td>38.524906</td>\n",
       "      <td>-121.970803</td>\n",
       "    </tr>\n",
       "    <tr>\n",
       "      <th>453</th>\n",
       "      <td>Woodlake, CA</td>\n",
       "      <td>4.062500</td>\n",
       "      <td>7,279</td>\n",
       "      <td>36.413561</td>\n",
       "      <td>-119.098717</td>\n",
       "    </tr>\n",
       "    <tr>\n",
       "      <th>454</th>\n",
       "      <td>Woodland, CA</td>\n",
       "      <td>3.950000</td>\n",
       "      <td>55,468</td>\n",
       "      <td>38.678517</td>\n",
       "      <td>-121.773297</td>\n",
       "    </tr>\n",
       "    <tr>\n",
       "      <th>455</th>\n",
       "      <td>Yorba Linda, CA</td>\n",
       "      <td>4.050000</td>\n",
       "      <td>64,234</td>\n",
       "      <td>33.888625</td>\n",
       "      <td>-117.813111</td>\n",
       "    </tr>\n",
       "    <tr>\n",
       "      <th>456</th>\n",
       "      <td>Yreka, CA</td>\n",
       "      <td>3.650000</td>\n",
       "      <td>7,765</td>\n",
       "      <td>41.735419</td>\n",
       "      <td>-122.634472</td>\n",
       "    </tr>\n",
       "    <tr>\n",
       "      <th>457</th>\n",
       "      <td>Yuba City, CA</td>\n",
       "      <td>3.850000</td>\n",
       "      <td>64,925</td>\n",
       "      <td>39.140447</td>\n",
       "      <td>-121.616911</td>\n",
       "    </tr>\n",
       "    <tr>\n",
       "      <th>458</th>\n",
       "      <td>Yucaipa, CA</td>\n",
       "      <td>4.200000</td>\n",
       "      <td>51,367</td>\n",
       "      <td>34.033625</td>\n",
       "      <td>-117.043086</td>\n",
       "    </tr>\n",
       "  </tbody>\n",
       "</table>\n",
       "<p>459 rows × 5 columns</p>\n",
       "</div>"
      ],
      "text/plain": [
       "                     city    rating population  Latitude    Longitude\n",
       "0            Adelanto, CA  3.575000     31,765  34.582769 -117.409214\n",
       "1        Agoura Hills, CA  4.050000     20,330  34.153339 -118.761675\n",
       "2             Alameda, CA  4.100000     73,812  37.765206 -122.241636\n",
       "3              Albany, CA  4.150000     18,539  37.886869 -122.297747\n",
       "4            Alhambra, CA  4.050000     83,089  34.095286 -118.127014\n",
       "5         Aliso Viejo, CA  3.925000     47,823  33.575000 -117.725556\n",
       "6             Alturas, CA  3.500000      2,827  41.487114 -120.542456\n",
       "7         Amador City, CA  4.175000        185  38.419356 -120.824103\n",
       "8     American Canyon, CA  3.775000     19,454  38.174917 -122.260803\n",
       "9             Anaheim, CA  4.225000    336,265  33.835292 -117.914503\n",
       "10           Anderson, CA  3.575000      9,932  40.448208 -122.297783\n",
       "11        Angels Camp, CA  3.675000      3,836  38.067783 -120.538531\n",
       "12            Antioch, CA  4.075000    102,372  38.004922 -121.805789\n",
       "13            Arcadia, CA  3.975000     56,364  34.139728 -118.035344\n",
       "14             Arcata, CA  3.850000     17,231  40.866517 -124.082839\n",
       "15      Arroyo Grande, CA  4.300000     17,252  35.118586 -120.590725\n",
       "16            Artesia, CA  4.250000     16,522  33.865847 -118.083122\n",
       "17              Arvin, CA  3.525000     19,304  35.201800 -118.833106\n",
       "18         Atascadero, CA  4.025000     28,310  35.489417 -120.670725\n",
       "19            Atwater, CA  3.550000     28,168  37.347717 -120.609083\n",
       "20             Auburn, CA  4.175000     13,330  38.896564 -121.076889\n",
       "21             Avalon, CA  3.350000      3,728  33.342819 -118.328228\n",
       "22             Avenal, CA  3.150000     15,505  36.004122 -120.129028\n",
       "23              Azusa, CA  4.200000     46,361  34.133619 -117.907564\n",
       "24        Bakersfield, CA  4.275000    347,483  35.373292 -119.018711\n",
       "25       Baldwin Park, CA  4.300000     75,390  34.085286 -117.960897\n",
       "26            Banning, CA  3.850000     29,603  33.925572 -116.876411\n",
       "27            Barstow, CA  3.750000     22,639  34.895797 -117.017283\n",
       "28           Beaumont, CA  3.950000     36,877  33.929461 -116.977247\n",
       "29       Bell Gardens, CA  4.375000     42,072  33.965292 -118.151458\n",
       "..                    ...       ...        ...        ...         ...\n",
       "429            Vernon, CA  4.225000        112  34.003903 -118.230072\n",
       "430       Victorville, CA  4.375000    115,903  34.536108 -117.291158\n",
       "431        Villa Park, CA  4.150000      5,812  33.814461 -117.813111\n",
       "432           Visalia, CA  4.000000    124,442  36.330228 -119.292058\n",
       "433             Vista, CA  4.275000     93,834  33.200036 -117.242536\n",
       "434      Walnut Creek, CA  4.050000     64,173  37.910078 -122.065183\n",
       "435            Walnut, CA  4.100000     29,172  34.020289 -117.865339\n",
       "436             Wasco, CA  3.550000     25,545  35.594125 -119.340947\n",
       "437         Waterford, CA  3.875000      8,456  37.641319 -120.760483\n",
       "438       Watsonville, CA  3.850000     51,199  36.910231 -121.756894\n",
       "439              Weed, CA  3.350000      2,967  41.422650 -122.386128\n",
       "440       West Covina, CA  4.125000    106,098  34.068622 -117.938953\n",
       "441    West Hollywood, CA  4.075000     34,399  34.090008 -118.361744\n",
       "442   West Sacramento, CA  4.100000     48,744  38.580461 -121.530233\n",
       "443  Westlake Village, CA  4.125000      8,270  34.145839 -118.805647\n",
       "444       Westminster, CA  4.275000     89,701  33.751342 -117.993992\n",
       "445       Westmorland, CA  3.425000      2,225  33.037267 -115.621383\n",
       "446         Wheatland, CA  4.156250      3,456  39.009894 -121.423014\n",
       "447          Whittier, CA  4.200000     85,331  33.979178 -118.032844\n",
       "448          Wildomar, CA  3.925000     32,176  33.598914 -117.280036\n",
       "449          Williams, CA  3.421053      5,123  39.154614 -122.149419\n",
       "450           Willits, CA  3.850000      4,888  39.409608 -123.355567\n",
       "451           Willows, CA  3.125000      6,166  39.524325 -122.193592\n",
       "452           Winters, CA  3.750000      6,624  38.524906 -121.970803\n",
       "453          Woodlake, CA  4.062500      7,279  36.413561 -119.098717\n",
       "454          Woodland, CA  3.950000     55,468  38.678517 -121.773297\n",
       "455       Yorba Linda, CA  4.050000     64,234  33.888625 -117.813111\n",
       "456             Yreka, CA  3.650000      7,765  41.735419 -122.634472\n",
       "457         Yuba City, CA  3.850000     64,925  39.140447 -121.616911\n",
       "458           Yucaipa, CA  4.200000     51,367  34.033625 -117.043086\n",
       "\n",
       "[459 rows x 5 columns]"
      ]
     },
     "execution_count": 24,
     "metadata": {},
     "output_type": "execute_result"
    }
   ],
   "source": [
    "rating_star = pd.merge(rating_star, pd_geo, on='city')\n",
    "rating_star"
   ]
  },
  {
   "cell_type": "code",
   "execution_count": 25,
   "metadata": {
    "collapsed": false,
    "scrolled": false
   },
   "outputs": [
    {
     "data": {
      "text/html": [
       "<iframe id=\"igraph\" scrolling=\"no\" style=\"border:none;\" seamless=\"seamless\" src=\"https://plot.ly/~stephanielam/4.embed\" height=\"525px\" width=\"100%\"></iframe>"
      ],
      "text/plain": [
       "<plotly.tools.PlotlyDisplay object>"
      ]
     },
     "execution_count": 25,
     "metadata": {},
     "output_type": "execute_result"
    }
   ],
   "source": [
    "rating_star['text'] = 'City:' + rating_star['city'] + ' \\nRating: ' + rating_star['rating'].astype(np.str) +' star'\n",
    "limits = [(1,3),(3,3.5),(3.5,4),(4,4.5),(4.5,5)]\n",
    "colors = [\"lightgrey\",\"lightgreen\",\"lightblue\",\"lightyellow\",\"red\"]\n",
    "cities = []\n",
    "scale = 10\n",
    "\n",
    "for i in range(len(limits)):\n",
    "    lim = limits[i]\n",
    "    rate_sub = rating_star.query('%f' %lim[0] +'<= rating < %f' %lim[1])\n",
    "    city = dict(\n",
    "        type = 'scattergeo',\n",
    "        locationmode = 'USA-states',\n",
    "        lon = rate_sub['Longitude'],\n",
    "        lat = rate_sub['Latitude '],\n",
    "        text = rate_sub['text'],\n",
    "        marker = dict(\n",
    "            size = rate_sub['rating'] * scale,\n",
    "            color = colors[i],\n",
    "            line = dict(width=0.5, color='rgb(40,40,40)'),\n",
    "            sizemode = 'area'\n",
    "        ),\n",
    "        name = '{0} - {1} stars'.format(lim[0],lim[1]))\n",
    "    cities.append(city)\n",
    "\n",
    "layout = dict(\n",
    "        title = 'Restaurant Average Rating by City<br>(Click legend to toggle traces)',\n",
    "        showlegend = True,\n",
    "        geo = dict(\n",
    "            scope='usa',\n",
    "            projection=dict( type='albers usa' ),\n",
    "            showland = True,\n",
    "            landcolor = 'rgb(217, 217, 217)',\n",
    "            subunitwidth=1,\n",
    "            countrywidth=1,\n",
    "            subunitcolor=\"rgb(255, 255, 255)\",\n",
    "            countrycolor=\"rgb(255, 255, 255)\"\n",
    "        ),\n",
    "    )\n",
    "\n",
    "fig = dict( data=cities, layout=layout )\n",
    "py.iplot(fig, validate=False, filename='d3-bubble-map' )"
   ]
  },
  {
   "cell_type": "code",
   "execution_count": 26,
   "metadata": {
    "collapsed": false
   },
   "outputs": [
    {
     "data": {
      "text/html": [
       "<iframe id=\"igraph\" scrolling=\"no\" style=\"border:none;\" seamless=\"seamless\" src=\"https://plot.ly/~stephanielam/14.embed\" height=\"525px\" width=\"100%\"></iframe>"
      ],
      "text/plain": [
       "<plotly.tools.PlotlyDisplay object>"
      ]
     },
     "execution_count": 26,
     "metadata": {},
     "output_type": "execute_result"
    }
   ],
   "source": [
    "#rating vs review_count\n",
    "data = go.Scatter(\n",
    "    x = df_food_final['rating'],\n",
    "    y = df_food_final['review_count'],\n",
    "    mode = 'markers'\n",
    ")\n",
    "\n",
    "layout = go.Layout(\n",
    "    title='Scatter plot of Restaurant\\'s rating vs review count',\n",
    "    xaxis=dict(\n",
    "        title='Rating',\n",
    "        gridcolor='rgb(255, 255, 255)',\n",
    "    ),\n",
    "    yaxis=dict(\n",
    "        title='Review Count',\n",
    "        gridcolor='rgb(255, 255, 255)',\n",
    "    ),\n",
    "    paper_bgcolor='rgb(243, 243, 243)',\n",
    "    plot_bgcolor='rgb(243, 243, 243)',\n",
    ")\n",
    "\n",
    "fig = dict(data=[data], layout=layout)\n",
    "py.iplot(fig, filename='Scatter plot of rating vs review count')"
   ]
  },
  {
   "cell_type": "code",
   "execution_count": 27,
   "metadata": {
    "collapsed": false
   },
   "outputs": [],
   "source": [
    "#top 5 restaurants:\n",
    "best_5 = df_food_final.groupby('rating')['review_count'].nlargest(5).reset_index()\n",
    "best_5 = pd.DataFrame(best_5)"
   ]
  },
  {
   "cell_type": "code",
   "execution_count": 28,
   "metadata": {
    "collapsed": false
   },
   "outputs": [
    {
     "data": {
      "text/html": [
       "<div>\n",
       "<table border=\"1\" class=\"dataframe\">\n",
       "  <thead>\n",
       "    <tr style=\"text-align: right;\">\n",
       "      <th></th>\n",
       "      <th>categories</th>\n",
       "      <th>city</th>\n",
       "      <th>display_phone</th>\n",
       "      <th>id</th>\n",
       "      <th>is_claimed</th>\n",
       "      <th>is_closed</th>\n",
       "      <th>mobile_url</th>\n",
       "      <th>name</th>\n",
       "      <th>rating</th>\n",
       "      <th>review_count</th>\n",
       "      <th>snippet_text</th>\n",
       "      <th>url</th>\n",
       "      <th>population</th>\n",
       "      <th>Latitude</th>\n",
       "      <th>Longitude</th>\n",
       "    </tr>\n",
       "  </thead>\n",
       "  <tbody>\n",
       "    <tr>\n",
       "      <th>4</th>\n",
       "      <td>[[Bakeries, bakeries], [Lebanese, lebanese], [...</td>\n",
       "      <td>Murrieta, CA</td>\n",
       "      <td>+1-951-894-4544</td>\n",
       "      <td>sultan-bakery-and-grill-murrieta-4</td>\n",
       "      <td>True</td>\n",
       "      <td>False</td>\n",
       "      <td>https://m.yelp.com/biz/sultan-bakery-and-grill...</td>\n",
       "      <td>Sultan Bakery and Grill</td>\n",
       "      <td>5.0</td>\n",
       "      <td>425</td>\n",
       "      <td>So delicious! Will have to come back and try m...</td>\n",
       "      <td>https://www.yelp.com/biz/sultan-bakery-and-gri...</td>\n",
       "      <td>103,466</td>\n",
       "      <td>33.553914</td>\n",
       "      <td>-117.213922</td>\n",
       "    </tr>\n",
       "    <tr>\n",
       "      <th>3</th>\n",
       "      <td>[[Japanese, japanese], [Asian Fusion, asianfus...</td>\n",
       "      <td>Cypress, CA</td>\n",
       "      <td>+1-714-252-1160</td>\n",
       "      <td>poki-roll-cypress</td>\n",
       "      <td>True</td>\n",
       "      <td>False</td>\n",
       "      <td>https://m.yelp.com/biz/poki-roll-cypress?adjus...</td>\n",
       "      <td>Poki Roll</td>\n",
       "      <td>5.0</td>\n",
       "      <td>363</td>\n",
       "      <td>Great yelp find!! Got the special combo that c...</td>\n",
       "      <td>https://www.yelp.com/biz/poki-roll-cypress?adj...</td>\n",
       "      <td>47,802</td>\n",
       "      <td>37.320531</td>\n",
       "      <td>-121.962242</td>\n",
       "    </tr>\n",
       "    <tr>\n",
       "      <th>2</th>\n",
       "      <td>[[Japanese, japanese], [Asian Fusion, asianfus...</td>\n",
       "      <td>La Palma, CA</td>\n",
       "      <td>+1-714-252-1160</td>\n",
       "      <td>poki-roll-cypress</td>\n",
       "      <td>True</td>\n",
       "      <td>False</td>\n",
       "      <td>https://m.yelp.com/biz/poki-roll-cypress?adjus...</td>\n",
       "      <td>Poki Roll</td>\n",
       "      <td>5.0</td>\n",
       "      <td>363</td>\n",
       "      <td>Great yelp find!! Got the special combo that c...</td>\n",
       "      <td>https://www.yelp.com/biz/poki-roll-cypress?adj...</td>\n",
       "      <td>15,568</td>\n",
       "      <td>33.846403</td>\n",
       "      <td>-118.046731</td>\n",
       "    </tr>\n",
       "    <tr>\n",
       "      <th>1</th>\n",
       "      <td>[[Meat Shops, meats], [Halal, halal]]</td>\n",
       "      <td>Bell, CA</td>\n",
       "      <td>+1-323-771-2400</td>\n",
       "      <td>fatimas-halal-meat-market-and-grill-bell</td>\n",
       "      <td>True</td>\n",
       "      <td>False</td>\n",
       "      <td>https://m.yelp.com/biz/fatimas-halal-meat-mark...</td>\n",
       "      <td>Fatima's Halal Meat Market &amp; Grill</td>\n",
       "      <td>5.0</td>\n",
       "      <td>323</td>\n",
       "      <td>I enjoy middle eastern cuisine very much it's ...</td>\n",
       "      <td>https://www.yelp.com/biz/fatimas-halal-meat-ma...</td>\n",
       "      <td>35,477</td>\n",
       "      <td>33.977514</td>\n",
       "      <td>-118.187017</td>\n",
       "    </tr>\n",
       "    <tr>\n",
       "      <th>0</th>\n",
       "      <td>[[Meat Shops, meats], [Halal, halal]]</td>\n",
       "      <td>Bell Gardens, CA</td>\n",
       "      <td>+1-323-771-2400</td>\n",
       "      <td>fatimas-halal-meat-market-and-grill-bell</td>\n",
       "      <td>True</td>\n",
       "      <td>False</td>\n",
       "      <td>https://m.yelp.com/biz/fatimas-halal-meat-mark...</td>\n",
       "      <td>Fatima's Halal Meat Market &amp; Grill</td>\n",
       "      <td>5.0</td>\n",
       "      <td>323</td>\n",
       "      <td>I enjoy middle eastern cuisine very much it's ...</td>\n",
       "      <td>https://www.yelp.com/biz/fatimas-halal-meat-ma...</td>\n",
       "      <td>42,072</td>\n",
       "      <td>33.965292</td>\n",
       "      <td>-118.151458</td>\n",
       "    </tr>\n",
       "  </tbody>\n",
       "</table>\n",
       "</div>"
      ],
      "text/plain": [
       "                                          categories              city  \\\n",
       "4  [[Bakeries, bakeries], [Lebanese, lebanese], [...      Murrieta, CA   \n",
       "3  [[Japanese, japanese], [Asian Fusion, asianfus...       Cypress, CA   \n",
       "2  [[Japanese, japanese], [Asian Fusion, asianfus...      La Palma, CA   \n",
       "1              [[Meat Shops, meats], [Halal, halal]]          Bell, CA   \n",
       "0              [[Meat Shops, meats], [Halal, halal]]  Bell Gardens, CA   \n",
       "\n",
       "     display_phone                                        id is_claimed  \\\n",
       "4  +1-951-894-4544        sultan-bakery-and-grill-murrieta-4       True   \n",
       "3  +1-714-252-1160                         poki-roll-cypress       True   \n",
       "2  +1-714-252-1160                         poki-roll-cypress       True   \n",
       "1  +1-323-771-2400  fatimas-halal-meat-market-and-grill-bell       True   \n",
       "0  +1-323-771-2400  fatimas-halal-meat-market-and-grill-bell       True   \n",
       "\n",
       "  is_closed                                         mobile_url  \\\n",
       "4     False  https://m.yelp.com/biz/sultan-bakery-and-grill...   \n",
       "3     False  https://m.yelp.com/biz/poki-roll-cypress?adjus...   \n",
       "2     False  https://m.yelp.com/biz/poki-roll-cypress?adjus...   \n",
       "1     False  https://m.yelp.com/biz/fatimas-halal-meat-mark...   \n",
       "0     False  https://m.yelp.com/biz/fatimas-halal-meat-mark...   \n",
       "\n",
       "                                 name  rating  review_count  \\\n",
       "4             Sultan Bakery and Grill     5.0           425   \n",
       "3                           Poki Roll     5.0           363   \n",
       "2                           Poki Roll     5.0           363   \n",
       "1  Fatima's Halal Meat Market & Grill     5.0           323   \n",
       "0  Fatima's Halal Meat Market & Grill     5.0           323   \n",
       "\n",
       "                                        snippet_text  \\\n",
       "4  So delicious! Will have to come back and try m...   \n",
       "3  Great yelp find!! Got the special combo that c...   \n",
       "2  Great yelp find!! Got the special combo that c...   \n",
       "1  I enjoy middle eastern cuisine very much it's ...   \n",
       "0  I enjoy middle eastern cuisine very much it's ...   \n",
       "\n",
       "                                                 url population  Latitude   \\\n",
       "4  https://www.yelp.com/biz/sultan-bakery-and-gri...    103,466  33.553914   \n",
       "3  https://www.yelp.com/biz/poki-roll-cypress?adj...     47,802  37.320531   \n",
       "2  https://www.yelp.com/biz/poki-roll-cypress?adj...     15,568  33.846403   \n",
       "1  https://www.yelp.com/biz/fatimas-halal-meat-ma...     35,477  33.977514   \n",
       "0  https://www.yelp.com/biz/fatimas-halal-meat-ma...     42,072  33.965292   \n",
       "\n",
       "    Longitude  \n",
       "4 -117.213922  \n",
       "3 -121.962242  \n",
       "2 -118.046731  \n",
       "1 -118.187017  \n",
       "0 -118.151458  "
      ]
     },
     "execution_count": 28,
     "metadata": {},
     "output_type": "execute_result"
    }
   ],
   "source": [
    "df_best_5 = pd.DataFrame()\n",
    "for i in range(0,len(best_5)):\n",
    "    if best_5['rating'][i] == 5.0:\n",
    "        data = df_food_final.iloc[[best_5['level_1'][i]]]\n",
    "        df_best_5 = pd.concat([data,df_best_5],ignore_index = True)\n",
    "        \n",
    "df_best_5.iloc[::-1]"
   ]
  },
  {
   "cell_type": "markdown",
   "metadata": {},
   "source": [
    "### Hotels"
   ]
  },
  {
   "cell_type": "code",
   "execution_count": 29,
   "metadata": {
    "collapsed": true
   },
   "outputs": [],
   "source": [
    "#get the most frequent category labels (Overall)\n",
    "count_df = freq_cat(df_hotels_final)"
   ]
  },
  {
   "cell_type": "code",
   "execution_count": 30,
   "metadata": {
    "collapsed": false
   },
   "outputs": [
    {
     "data": {
      "text/html": [
       "<iframe id=\"igraph\" scrolling=\"no\" style=\"border:none;\" seamless=\"seamless\" src=\"https://plot.ly/~stephanielam/6.embed\" height=\"525px\" width=\"100%\"></iframe>"
      ],
      "text/plain": [
       "<plotly.tools.PlotlyDisplay object>"
      ]
     },
     "execution_count": 30,
     "metadata": {},
     "output_type": "execute_result"
    }
   ],
   "source": [
    "#plot\n",
    "data = [go.Bar(x= count_df[0],y= count_df[1])]\n",
    "layout = go.Layout(title='Top 10 most frequent category')\n",
    "fig = go.Figure(data=data, layout=layout)\n",
    "py.iplot(fig, filename = 'Top 10 most frequent category')"
   ]
  },
  {
   "cell_type": "code",
   "execution_count": 32,
   "metadata": {
    "collapsed": false
   },
   "outputs": [],
   "source": [
    "#restrict to only the category 'Hotels'\n",
    "df_limit_hotels = pd.DataFrame()\n",
    "for i in range(0, len(df_hotels_final)):\n",
    "    for j in range(0, len(df_hotels_final['categories'][i])):\n",
    "        if df_hotels_final['categories'][i][j] == [u'Hotels', u'hotels']:\n",
    "            df_limit_hotels = pd.concat([df_hotels_final.iloc[[i]],df_limit_hotels], ignore_index = True)"
   ]
  },
  {
   "cell_type": "code",
   "execution_count": 33,
   "metadata": {
    "collapsed": false
   },
   "outputs": [],
   "source": [
    "#get the average star rating (by City)\n",
    "hotel_rating = average_star_city(df_limit_hotels, 'rating')\n",
    "average_review = average_star_city(df_limit_hotels, 'review_count')"
   ]
  },
  {
   "cell_type": "code",
   "execution_count": 34,
   "metadata": {
    "collapsed": false
   },
   "outputs": [],
   "source": [
    "hotel_rating = pd.merge(hotel_rating, average_review, on= 'city')\n",
    "hotel_rating = pd.merge(hotel_rating, pd_geo, on='city')"
   ]
  },
  {
   "cell_type": "code",
   "execution_count": 35,
   "metadata": {
    "collapsed": false
   },
   "outputs": [
    {
     "data": {
      "text/html": [
       "<iframe id=\"igraph\" scrolling=\"no\" style=\"border:none;\" seamless=\"seamless\" src=\"https://plot.ly/~stephanielam/8.embed\" height=\"525px\" width=\"100%\"></iframe>"
      ],
      "text/plain": [
       "<plotly.tools.PlotlyDisplay object>"
      ]
     },
     "execution_count": 35,
     "metadata": {},
     "output_type": "execute_result"
    }
   ],
   "source": [
    "hotel_rating['text'] = 'City:' + hotel_rating['city'] + '<br>Rating: ' + hotel_rating['rating'].astype(np.str)+' star' + '<br>Average Reviews count: ' + hotel_rating['review_count'].astype(np.str)\n",
    "limits = [(1,3),(3,3.5),(3.5,4),(4,4.5),(4.5,5)]\n",
    "colors = [\"lightgrey\",\"lightgreen\",\"lightblue\",\"lightyellow\",\"red\"]\n",
    "cities = []\n",
    "scale = 10\n",
    "\n",
    "for i in range(len(limits)):\n",
    "    lim = limits[i]\n",
    "    rate_sub = hotel_rating.query('%f' %lim[0] +'<= rating < %f' %lim[1])\n",
    "    city = dict(\n",
    "        type = 'scattergeo',\n",
    "        locationmode = 'USA-states',\n",
    "        lon = rate_sub['Longitude'],\n",
    "        lat = rate_sub['Latitude '],\n",
    "        text = rate_sub['text'],\n",
    "        marker = dict(\n",
    "            size = rate_sub['rating'] * scale,\n",
    "            color = colors[i],\n",
    "            line = dict(width=0.5, color='rgb(40,40,40)'),\n",
    "            sizemode = 'area'\n",
    "        ),\n",
    "        name = '{0} - {1} stars'.format(lim[0],lim[1]))\n",
    "    cities.append(city)\n",
    "\n",
    "layout = dict(\n",
    "        title = 'Hotel Average Rating by City<br>(Click legend to toggle traces)',\n",
    "        showlegend = True,\n",
    "        geo = dict(\n",
    "            scope='usa',\n",
    "            projection=dict( type='albers usa' ),\n",
    "            showland = True,\n",
    "            landcolor = 'rgb(217, 217, 217)',\n",
    "            subunitwidth=1,\n",
    "            countrywidth=1,\n",
    "            subunitcolor=\"rgb(255, 255, 255)\",\n",
    "            countrycolor=\"rgb(255, 255, 255)\"\n",
    "        ),\n",
    "    )\n",
    "\n",
    "fig = dict( data=cities, layout=layout )\n",
    "py.iplot(fig, validate=False, filename='hotel average rating' )"
   ]
  },
  {
   "cell_type": "code",
   "execution_count": 38,
   "metadata": {
    "collapsed": false
   },
   "outputs": [
    {
     "data": {
      "text/html": [
       "<iframe id=\"igraph\" scrolling=\"no\" style=\"border:none;\" seamless=\"seamless\" src=\"https://plot.ly/~stephanielam/16.embed\" height=\"525px\" width=\"100%\"></iframe>"
      ],
      "text/plain": [
       "<plotly.tools.PlotlyDisplay object>"
      ]
     },
     "execution_count": 38,
     "metadata": {},
     "output_type": "execute_result"
    }
   ],
   "source": [
    "#rating vs review_count\n",
    "data = go.Scatter(\n",
    "    x = df_hotels_final['rating'],\n",
    "    y = df_hotels_final['review_count'],\n",
    "    mode = 'markers'\n",
    ")\n",
    "\n",
    "layout = go.Layout(\n",
    "    title='Scatter plot of Restaurant\\'s rating vs review count',\n",
    "    xaxis=dict(\n",
    "        title='Rating',\n",
    "        gridcolor='rgb(255, 255, 255)',\n",
    "    ),\n",
    "    yaxis=dict(\n",
    "        title='Review Count',\n",
    "        gridcolor='rgb(255, 255, 255)',\n",
    "    ),\n",
    "    paper_bgcolor='rgb(243, 243, 243)',\n",
    "    plot_bgcolor='rgb(243, 243, 243)',\n",
    ")\n",
    "\n",
    "fig = dict(data=[data], layout=layout)\n",
    "py.iplot(fig, filename='Scatter plot of rating vs review count2')"
   ]
  },
  {
   "cell_type": "code",
   "execution_count": 39,
   "metadata": {
    "collapsed": false
   },
   "outputs": [
    {
     "data": {
      "text/html": [
       "<div>\n",
       "<table border=\"1\" class=\"dataframe\">\n",
       "  <thead>\n",
       "    <tr style=\"text-align: right;\">\n",
       "      <th></th>\n",
       "      <th>categories</th>\n",
       "      <th>city</th>\n",
       "      <th>display_phone</th>\n",
       "      <th>id</th>\n",
       "      <th>is_claimed</th>\n",
       "      <th>is_closed</th>\n",
       "      <th>mobile_url</th>\n",
       "      <th>name</th>\n",
       "      <th>rating</th>\n",
       "      <th>review_count</th>\n",
       "      <th>snippet_text</th>\n",
       "      <th>url</th>\n",
       "      <th>population</th>\n",
       "      <th>Latitude</th>\n",
       "      <th>Longitude</th>\n",
       "    </tr>\n",
       "  </thead>\n",
       "  <tbody>\n",
       "    <tr>\n",
       "      <th>4</th>\n",
       "      <td>[[Hotels, hotels], [Bed &amp; Breakfast, bedbreakf...</td>\n",
       "      <td>Napa, CA</td>\n",
       "      <td>+1-707-253-1331</td>\n",
       "      <td>the-inn-on-first-napa</td>\n",
       "      <td>True</td>\n",
       "      <td>False</td>\n",
       "      <td>https://m.yelp.com/biz/the-inn-on-first-napa?a...</td>\n",
       "      <td>The Inn On First</td>\n",
       "      <td>5.0</td>\n",
       "      <td>340</td>\n",
       "      <td>My boyfriend and I recently stayed one rainy, ...</td>\n",
       "      <td>https://www.yelp.com/biz/the-inn-on-first-napa...</td>\n",
       "      <td>76,915</td>\n",
       "      <td>38.297539</td>\n",
       "      <td>-122.286864</td>\n",
       "    </tr>\n",
       "    <tr>\n",
       "      <th>3</th>\n",
       "      <td>[[Hotels, hotels], [Venues &amp; Event Spaces, ven...</td>\n",
       "      <td>Palm Springs, CA</td>\n",
       "      <td>+1-760-325-7100</td>\n",
       "      <td>the-rossi-hotel-palm-springs</td>\n",
       "      <td>True</td>\n",
       "      <td>False</td>\n",
       "      <td>https://m.yelp.com/biz/the-rossi-hotel-palm-sp...</td>\n",
       "      <td>The Rossi Hotel</td>\n",
       "      <td>5.0</td>\n",
       "      <td>127</td>\n",
       "      <td>I decided to spend 3 nights and 4 days here af...</td>\n",
       "      <td>https://www.yelp.com/biz/the-rossi-hotel-palm-...</td>\n",
       "      <td>44,552</td>\n",
       "      <td>33.830297</td>\n",
       "      <td>-116.545292</td>\n",
       "    </tr>\n",
       "    <tr>\n",
       "      <th>2</th>\n",
       "      <td>[[Hotels, hotels]]</td>\n",
       "      <td>South Lake Tahoe, CA</td>\n",
       "      <td>+1-530-544-5515</td>\n",
       "      <td>fireside-lodge-south-lake-tahoe</td>\n",
       "      <td>True</td>\n",
       "      <td>False</td>\n",
       "      <td>https://m.yelp.com/biz/fireside-lodge-south-la...</td>\n",
       "      <td>Fireside Lodge</td>\n",
       "      <td>5.0</td>\n",
       "      <td>123</td>\n",
       "      <td>We had the privilege of staying here again. An...</td>\n",
       "      <td>https://www.yelp.com/biz/fireside-lodge-south-...</td>\n",
       "      <td>21,403</td>\n",
       "      <td>38.939925</td>\n",
       "      <td>-119.977186</td>\n",
       "    </tr>\n",
       "    <tr>\n",
       "      <th>1</th>\n",
       "      <td>[[Hotels, hotels], [Bed &amp; Breakfast, bedbreakf...</td>\n",
       "      <td>Napa, CA</td>\n",
       "      <td>+1-707-252-8144</td>\n",
       "      <td>arbor-guest-house-napa</td>\n",
       "      <td>True</td>\n",
       "      <td>False</td>\n",
       "      <td>https://m.yelp.com/biz/arbor-guest-house-napa?...</td>\n",
       "      <td>Arbor Guest House</td>\n",
       "      <td>5.0</td>\n",
       "      <td>118</td>\n",
       "      <td>Magnificent Bed and Breakfast.\\n\\nThis was my ...</td>\n",
       "      <td>https://www.yelp.com/biz/arbor-guest-house-nap...</td>\n",
       "      <td>76,915</td>\n",
       "      <td>38.297539</td>\n",
       "      <td>-122.286864</td>\n",
       "    </tr>\n",
       "    <tr>\n",
       "      <th>0</th>\n",
       "      <td>[[Hotels, hotels], [Bed &amp; Breakfast, bedbreakf...</td>\n",
       "      <td>Sutter Creek, CA</td>\n",
       "      <td>+1-209-267-0747</td>\n",
       "      <td>hanford-house-inn-sutter-creek</td>\n",
       "      <td>True</td>\n",
       "      <td>False</td>\n",
       "      <td>https://m.yelp.com/biz/hanford-house-inn-sutte...</td>\n",
       "      <td>Hanford House Inn</td>\n",
       "      <td>5.0</td>\n",
       "      <td>99</td>\n",
       "      <td>Wonderful accommodations.  Staff and service w...</td>\n",
       "      <td>https://www.yelp.com/biz/hanford-house-inn-sut...</td>\n",
       "      <td>2,501</td>\n",
       "      <td>38.392967</td>\n",
       "      <td>-120.802436</td>\n",
       "    </tr>\n",
       "  </tbody>\n",
       "</table>\n",
       "</div>"
      ],
      "text/plain": [
       "                                          categories                  city  \\\n",
       "4  [[Hotels, hotels], [Bed & Breakfast, bedbreakf...              Napa, CA   \n",
       "3  [[Hotels, hotels], [Venues & Event Spaces, ven...      Palm Springs, CA   \n",
       "2                                 [[Hotels, hotels]]  South Lake Tahoe, CA   \n",
       "1  [[Hotels, hotels], [Bed & Breakfast, bedbreakf...              Napa, CA   \n",
       "0  [[Hotels, hotels], [Bed & Breakfast, bedbreakf...      Sutter Creek, CA   \n",
       "\n",
       "     display_phone                               id is_claimed is_closed  \\\n",
       "4  +1-707-253-1331            the-inn-on-first-napa       True     False   \n",
       "3  +1-760-325-7100     the-rossi-hotel-palm-springs       True     False   \n",
       "2  +1-530-544-5515  fireside-lodge-south-lake-tahoe       True     False   \n",
       "1  +1-707-252-8144           arbor-guest-house-napa       True     False   \n",
       "0  +1-209-267-0747   hanford-house-inn-sutter-creek       True     False   \n",
       "\n",
       "                                          mobile_url               name  \\\n",
       "4  https://m.yelp.com/biz/the-inn-on-first-napa?a...   The Inn On First   \n",
       "3  https://m.yelp.com/biz/the-rossi-hotel-palm-sp...    The Rossi Hotel   \n",
       "2  https://m.yelp.com/biz/fireside-lodge-south-la...     Fireside Lodge   \n",
       "1  https://m.yelp.com/biz/arbor-guest-house-napa?...  Arbor Guest House   \n",
       "0  https://m.yelp.com/biz/hanford-house-inn-sutte...  Hanford House Inn   \n",
       "\n",
       "   rating  review_count                                       snippet_text  \\\n",
       "4     5.0           340  My boyfriend and I recently stayed one rainy, ...   \n",
       "3     5.0           127  I decided to spend 3 nights and 4 days here af...   \n",
       "2     5.0           123  We had the privilege of staying here again. An...   \n",
       "1     5.0           118  Magnificent Bed and Breakfast.\\n\\nThis was my ...   \n",
       "0     5.0            99  Wonderful accommodations.  Staff and service w...   \n",
       "\n",
       "                                                 url population  Latitude   \\\n",
       "4  https://www.yelp.com/biz/the-inn-on-first-napa...     76,915  38.297539   \n",
       "3  https://www.yelp.com/biz/the-rossi-hotel-palm-...     44,552  33.830297   \n",
       "2  https://www.yelp.com/biz/fireside-lodge-south-...     21,403  38.939925   \n",
       "1  https://www.yelp.com/biz/arbor-guest-house-nap...     76,915  38.297539   \n",
       "0  https://www.yelp.com/biz/hanford-house-inn-sut...      2,501  38.392967   \n",
       "\n",
       "    Longitude  \n",
       "4 -122.286864  \n",
       "3 -116.545292  \n",
       "2 -119.977186  \n",
       "1 -122.286864  \n",
       "0 -120.802436  "
      ]
     },
     "execution_count": 39,
     "metadata": {},
     "output_type": "execute_result"
    }
   ],
   "source": [
    "#Top five hotels:\n",
    "hotel_best_5 = df_limit_hotels.groupby('rating')['review_count'].nlargest(5).reset_index()\n",
    "hotel_best_5 = pd.DataFrame(hotel_best_5)\n",
    "\n",
    "df_hotel_best_5 = pd.DataFrame()\n",
    "for i in range(0,len(hotel_best_5)):\n",
    "    if hotel_best_5['rating'][i] == 5.0:\n",
    "        data = df_limit_hotels.iloc[[hotel_best_5['level_1'][i]]]\n",
    "        df_hotel_best_5 = pd.concat([data,df_hotel_best_5],ignore_index = True)\n",
    "        \n",
    "df_hotel_best_5.iloc[::-1]"
   ]
  },
  {
   "cell_type": "code",
   "execution_count": 40,
   "metadata": {
    "collapsed": true
   },
   "outputs": [],
   "source": [
    "# Add Landmarks\n",
    "keyterm = \"landmarks\"\n",
    "yelp_landmarks = [search(keyterm, \"%s, CA\" %city, criteria) for city in pd_scrape[\"city\"]]\n",
    "df_landmarks = pd.concat(yelp_landmarks)\n",
    "df_landmarks_drop = df_landmarks.drop([\"deals\", \"gift_certificates\", \"image_url\", \"location\", \"menu_date_updated\", \"menu_provider\", \"phone\", \"rating_img_url\", \"rating_img_url_large\", \"rating_img_url_small\", \"snippet_image_url\"], 1)\n",
    "df_landmarks_final = pd.merge(df_landmarks_drop, pd_geo, on = \"city\", how = \"inner\")\n"
   ]
  },
  {
   "cell_type": "code",
   "execution_count": 41,
   "metadata": {
    "collapsed": true
   },
   "outputs": [],
   "source": [
    "import json, ast\n",
    "import pandas as pd\n",
    "from django.utils.encoding import smart_str, smart_unicode"
   ]
  },
  {
   "cell_type": "code",
   "execution_count": 42,
   "metadata": {
    "collapsed": true
   },
   "outputs": [],
   "source": [
    "def modify(city):\n",
    "    \"\"\"\n",
    "    modify the input\n",
    "    \n",
    "    Argument: city\n",
    "    \n",
    "    Return: soup from the url link\n",
    "    \"\"\"\n",
    "    # capitalize the first letter of each word in a string\n",
    "    city = city.title()\n",
    "    # replace the empty space with the _\n",
    "    city = city.strip().replace(' ', '_')\n",
    "    url = \"https://en.wikipedia.org/wiki/\" + str(city) +\",_California\"\n",
    "    info = requests.get(url).content\n",
    "    wikisoup = BeautifulSoup(info, 'lxml')\n",
    "    return wikisoup"
   ]
  },
  {
   "cell_type": "code",
   "execution_count": 43,
   "metadata": {
    "collapsed": false
   },
   "outputs": [],
   "source": [
    "def extract_overview(city):\n",
    "    \"\"\"\n",
    "    extract a brief overview from the wikipedia page\n",
    "    \n",
    "    Argument: city\n",
    "    \n",
    "    Return: print the overview description\n",
    "    \"\"\"\n",
    "    wikisoup = modify(city)\n",
    "    content = wikisoup.findAll(\"p\")\n",
    "    brief = content[0].text\n",
    "    brief = ast.literal_eval(json.dumps(brief))\n",
    "    print brief"
   ]
  },
  {
   "cell_type": "code",
   "execution_count": 44,
   "metadata": {
    "collapsed": false
   },
   "outputs": [],
   "source": [
    "def extract_info(city):\n",
    "    \"\"\"\n",
    "    extract the basic information of the city\n",
    "    \n",
    "    Argument: city\n",
    "    \n",
    "    Return: a dataframe with the basic information\n",
    "    \"\"\"\n",
    "    wikisoup = modify(city)\n",
    "    data1 = wikisoup.findAll(\"tr\", {\"class\": \"mergedrow\"})\n",
    "    data = [dat.text for dat in data1]\n",
    "    split = [dat.strip(\"\\n\") for dat in data]\n",
    "    pd_info = pd.DataFrame(split)\n",
    "    pd_info.rename(columns = {list(pd_info)[0]: 'info'}, inplace = True)\n",
    "\n",
    "    # how to remove • ???\n",
    "    pd_info['info'] = pd_info['info'].str.replace(\"\\n\", \" : \")\n",
    "    return pd_info"
   ]
  },
  {
   "cell_type": "code",
   "execution_count": 46,
   "metadata": {
    "collapsed": false
   },
   "outputs": [
    {
     "name": "stdout",
     "output_type": "stream",
     "text": [
      "California\n"
     ]
    }
   ],
   "source": [
    "output = extract_overview(\"San Francisco\")\n",
    "# how to change the \\u2013\n",
    "output"
   ]
  },
  {
   "cell_type": "code",
   "execution_count": 57,
   "metadata": {
    "collapsed": false
   },
   "outputs": [],
   "source": [
    "city = \"San Francisco\"\n",
    "wikisoup = modify(city)\n",
    "content = wikisoup.findAll(\"p\")\n",
    "#print content[0:1].text"
   ]
  },
  {
   "cell_type": "code",
   "execution_count": 48,
   "metadata": {
    "collapsed": true
   },
   "outputs": [],
   "source": [
    "brief = content[0].text\n",
    "brief = ast.literal_eval(json.dumps(brief))"
   ]
  },
  {
   "cell_type": "code",
   "execution_count": 58,
   "metadata": {
    "collapsed": false
   },
   "outputs": [
    {
     "data": {
      "text/html": [
       "<div>\n",
       "<table border=\"1\" class=\"dataframe\">\n",
       "  <thead>\n",
       "    <tr style=\"text-align: right;\">\n",
       "      <th></th>\n",
       "      <th>info</th>\n",
       "    </tr>\n",
       "  </thead>\n",
       "  <tbody>\n",
       "    <tr>\n",
       "      <th>0</th>\n",
       "      <td>Motto: Oro en Paz, Fierro en Guerra (Spanish) ...</td>\n",
       "    </tr>\n",
       "    <tr>\n",
       "      <th>1</th>\n",
       "      <td>State :  : California</td>\n",
       "    </tr>\n",
       "    <tr>\n",
       "      <th>2</th>\n",
       "      <td>CSA : San Jose–San Francisco–Oakland</td>\n",
       "    </tr>\n",
       "    <tr>\n",
       "      <th>3</th>\n",
       "      <td>Metro : San Francisco–Oakland–Hayward</td>\n",
       "    </tr>\n",
       "    <tr>\n",
       "      <th>4</th>\n",
       "      <td>Incorporated : April 15, 1850[9]</td>\n",
       "    </tr>\n",
       "    <tr>\n",
       "      <th>5</th>\n",
       "      <td>Founded by : José Joaquin Moraga : Francisco P...</td>\n",
       "    </tr>\n",
       "    <tr>\n",
       "      <th>6</th>\n",
       "      <td>Named for : St. Francis of Assisi</td>\n",
       "    </tr>\n",
       "    <tr>\n",
       "      <th>7</th>\n",
       "      <td>• Type : Mayor-council</td>\n",
       "    </tr>\n",
       "    <tr>\n",
       "      <th>8</th>\n",
       "      <td>• Body : Board of Supervisors</td>\n",
       "    </tr>\n",
       "    <tr>\n",
       "      <th>9</th>\n",
       "      <td>• Mayor : Edwin M. Lee (D)[10]</td>\n",
       "    </tr>\n",
       "    <tr>\n",
       "      <th>10</th>\n",
       "      <td>• Supervisors[12] :  :  : List :  : Sandra Le...</td>\n",
       "    </tr>\n",
       "    <tr>\n",
       "      <th>11</th>\n",
       "      <td>• Assembly members[13][14] : David Chiu (D) :...</td>\n",
       "    </tr>\n",
       "    <tr>\n",
       "      <th>12</th>\n",
       "      <td>• State senator : Scott Wiener (D)[11]</td>\n",
       "    </tr>\n",
       "    <tr>\n",
       "      <th>13</th>\n",
       "      <td>• United States Representatives[15][16] : Nan...</td>\n",
       "    </tr>\n",
       "    <tr>\n",
       "      <th>14</th>\n",
       "      <td>• City and county : 231.89 sq mi (600.6 km2)</td>\n",
       "    </tr>\n",
       "    <tr>\n",
       "      <th>15</th>\n",
       "      <td>• Land : 46.87 sq mi (121.4 km2)</td>\n",
       "    </tr>\n",
       "    <tr>\n",
       "      <th>16</th>\n",
       "      <td>• Water : 185.02 sq mi (479.2 km2)  80.00%</td>\n",
       "    </tr>\n",
       "    <tr>\n",
       "      <th>17</th>\n",
       "      <td>• Metro : 3,524.4 sq mi (9,128 km2)</td>\n",
       "    </tr>\n",
       "    <tr>\n",
       "      <th>18</th>\n",
       "      <td>• City and county : 864,816</td>\n",
       "    </tr>\n",
       "    <tr>\n",
       "      <th>19</th>\n",
       "      <td>• Rank : 13th, U.S.</td>\n",
       "    </tr>\n",
       "    <tr>\n",
       "      <th>20</th>\n",
       "      <td>• Density : 18,451/sq mi (7,124/km2)</td>\n",
       "    </tr>\n",
       "    <tr>\n",
       "      <th>21</th>\n",
       "      <td>• Metro : 4,656,132 (11th)</td>\n",
       "    </tr>\n",
       "    <tr>\n",
       "      <th>22</th>\n",
       "      <td>• CSA : 8,713,914 (5th)</td>\n",
       "    </tr>\n",
       "    <tr>\n",
       "      <th>23</th>\n",
       "      <td>• Summer (DST) : Pacific Daylight Time (UTC−7)</td>\n",
       "    </tr>\n",
       "    <tr>\n",
       "      <th>24</th>\n",
       "      <td>Area codes : 415/628[22]</td>\n",
       "    </tr>\n",
       "    <tr>\n",
       "      <th>25</th>\n",
       "      <td>GNIS feature IDs : 277593, 2411786</td>\n",
       "    </tr>\n",
       "  </tbody>\n",
       "</table>\n",
       "</div>"
      ],
      "text/plain": [
       "                                                 info\n",
       "0   Motto: Oro en Paz, Fierro en Guerra (Spanish) ...\n",
       "1                               State :  : California\n",
       "2                CSA : San Jose–San Francisco–Oakland\n",
       "3               Metro : San Francisco–Oakland–Hayward\n",
       "4                    Incorporated : April 15, 1850[9]\n",
       "5   Founded by : José Joaquin Moraga : Francisco P...\n",
       "6                   Named for : St. Francis of Assisi\n",
       "7                              • Type : Mayor-council\n",
       "8                       • Body : Board of Supervisors\n",
       "9                      • Mayor : Edwin M. Lee (D)[10]\n",
       "10   • Supervisors[12] :  :  : List :  : Sandra Le...\n",
       "11   • Assembly members[13][14] : David Chiu (D) :...\n",
       "12             • State senator : Scott Wiener (D)[11]\n",
       "13   • United States Representatives[15][16] : Nan...\n",
       "14       • City and county : 231.89 sq mi (600.6 km2)\n",
       "15                   • Land : 46.87 sq mi (121.4 km2)\n",
       "16         • Water : 185.02 sq mi (479.2 km2)  80.00%\n",
       "17                • Metro : 3,524.4 sq mi (9,128 km2)\n",
       "18                        • City and county : 864,816\n",
       "19                                • Rank : 13th, U.S.\n",
       "20               • Density : 18,451/sq mi (7,124/km2)\n",
       "21                         • Metro : 4,656,132 (11th)\n",
       "22                            • CSA : 8,713,914 (5th)\n",
       "23     • Summer (DST) : Pacific Daylight Time (UTC−7)\n",
       "24                           Area codes : 415/628[22]\n",
       "25                 GNIS feature IDs : 277593, 2411786"
      ]
     },
     "execution_count": 58,
     "metadata": {},
     "output_type": "execute_result"
    }
   ],
   "source": [
    "extract_info(\"san francisco\")"
   ]
  },
  {
   "cell_type": "code",
   "execution_count": null,
   "metadata": {
    "collapsed": true
   },
   "outputs": [],
   "source": []
  },
  {
   "cell_type": "code",
   "execution_count": 59,
   "metadata": {
    "collapsed": false
   },
   "outputs": [],
   "source": [
    "from IPython.display import display\n",
    "from ipywidgets import widgets\n",
    "\n",
    "inputText = widgets.Text()\n",
    "\n",
    "def modify_input(sender):\n",
    "    outputText.value = inputText.value.title()\n",
    "\n",
    "inputText.on_submit(modify_input)\n",
    "inputText\n"
   ]
  },
  {
   "cell_type": "code",
   "execution_count": 60,
   "metadata": {
    "collapsed": true
   },
   "outputs": [],
   "source": [
    "outputText = widgets.Text()\n",
    "outputText"
   ]
  },
  {
   "cell_type": "code",
   "execution_count": null,
   "metadata": {
    "collapsed": false
   },
   "outputs": [],
   "source": [
    "city = raw_input(\"Please enter the city that you want to visit: \")\n",
    "print \"Welcome to The City of\", city.title(),\"\\nHere is a brief overview of the city.\""
   ]
  },
  {
   "cell_type": "code",
   "execution_count": null,
   "metadata": {
    "collapsed": false
   },
   "outputs": [],
   "source": [
    "extract_overview(\"San Francisco\")"
   ]
  },
  {
   "cell_type": "code",
   "execution_count": null,
   "metadata": {
    "collapsed": false
   },
   "outputs": [],
   "source": [
    "extract_info(input_city)"
   ]
  },
  {
   "cell_type": "code",
   "execution_count": null,
   "metadata": {
    "collapsed": true
   },
   "outputs": [],
   "source": [
    "def ask_input():\n",
    "    city = raw_input(\"Please enter the city that you want to visit: \")\n",
    "    print \"\\nWelcome to The City of\", city.title(),\"\\n\\nHere is a brief overview of the city:\\n\"\n",
    "    input_city = city.title()\n",
    "    overview = extract_overview(input_city)\n",
    "    info = extract_info(input_city)\n",
    "    print overview\n",
    "    return info"
   ]
  },
  {
   "cell_type": "code",
   "execution_count": null,
   "metadata": {
    "collapsed": false
   },
   "outputs": [],
   "source": [
    "ask_input()"
   ]
  },
  {
   "cell_type": "code",
   "execution_count": null,
   "metadata": {
    "collapsed": true
   },
   "outputs": [],
   "source": []
  }
 ],
 "metadata": {
  "anaconda-cloud": {},
  "kernelspec": {
   "display_name": "Python 2",
   "language": "python",
   "name": "python2"
  },
  "language_info": {
   "codemirror_mode": {
    "name": "ipython",
    "version": 2
   },
   "file_extension": ".py",
   "mimetype": "text/x-python",
   "name": "python",
   "nbconvert_exporter": "python",
   "pygments_lexer": "ipython2",
   "version": "2.7.13"
  },
  "widgets": {
   "state": {
    "22e1faf17e674212b671ddee5b8e09ab": {
     "views": [
      {
       "cell_index": 56
      }
     ]
    },
    "6d91802b167b4eaa86d49ec5255dec5c": {
     "views": [
      {
       "cell_index": 57
      }
     ]
    }
   },
   "version": "1.2.0"
  }
 },
 "nbformat": 4,
 "nbformat_minor": 1
}

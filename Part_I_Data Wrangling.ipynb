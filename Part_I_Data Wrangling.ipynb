{
 "cells": [
  {
   "cell_type": "markdown",
   "metadata": {},
   "source": [
    "### Part I Overview:\n",
    "Goal: Extract data from the Yelp API, clean up the data and create tables for the best(highest_rated and nearby) restaurants, hotels and landmarks \n",
    "\n",
    "### Steps:\n",
    "* Create functions to do natural language processing and create graphs\n",
    "* Analyze each tables in the acoommondation database"
   ]
  },
  {
   "cell_type": "code",
   "execution_count": 1,
   "metadata": {
    "collapsed": true
   },
   "outputs": [],
   "source": [
    "import requests_cache\n",
    "import requests\n",
    "import pandas as pd\n",
    "from matplotlib import pyplot as plt\n",
    "plt.style.use('ggplot')\n",
    "%matplotlib inline\n",
    "from pandas.tools.plotting import scatter_matrix\n",
    "import numpy as np\n",
    "import seaborn as sns\n",
    "from requests_oauthlib import OAuth1Session\n",
    "import glob\n",
    "import json\n",
    "import os\n",
    "import urllib2\n",
    "from urllib2 import Request, urlopen\n",
    "from requests_oauthlib import OAuth1Session\n",
    "from bs4 import BeautifulSoup\n",
    "import sqlite3 as sql"
   ]
  },
  {
   "cell_type": "markdown",
   "metadata": {},
   "source": [
    "### Data Wrangling"
   ]
  },
  {
   "cell_type": "code",
   "execution_count": 2,
   "metadata": {
    "collapsed": false
   },
   "outputs": [],
   "source": [
    "requests_cache.install_cache(\"cache\")\n",
    "\n",
    "# criteria: 1=Distance, 2=Highest Rated\n",
    "\n",
    "def yelp_search(term, location, criteria):\n",
    "    \"\"\"\n",
    "    makes a search request\n",
    "    \n",
    "    Argument: search term, location\n",
    "    \n",
    "    Return: search result items as a list (for 0 items, return an empty list)\n",
    "    \"\"\"\n",
    "    consumer_key = \"uFKYftN0fu4pD6guW2cYng\"\n",
    "    consumer_secret = \"iUYQ2Hk3-vTQVd0zOFnvloWPivA\"\n",
    "    token = \"FZnep4FiFmwrrifuNm6M-_K661Wb3J02\"\n",
    "    token_secret = \"CRvBo_fO-r4pE_-p2UrnN_mxBlc\"\n",
    "   \n",
    "    urlbase = \"http://api.yelp.com/v2/search\"\n",
    "    params = ({\"term\": term})\n",
    "    \n",
    "    criteria = criteria.lower()\n",
    "    if criteria == \"distance\":\n",
    "        params.update({\"location\": location, \"sort\": \"1\", \"cll\" : \"latitude,longitude\"})\n",
    "    elif criteria == \"highest rated\":\n",
    "        params.update({\"location\": location, \"sort\": \"2\", \"cll\" : \"latitude,longitude\"})\n",
    "    else:\n",
    "        params.update({\"location\": location, \"sort\": \"0\", \"cll\" : \"latitude,longitude\"})\n",
    "    session = OAuth1Session(consumer_key, consumer_secret,token,token_secret)\n",
    "     \n",
    "    request = session.get(urlbase,params=params)\n",
    "   \n",
    "    #Transforms JSON API response into dictionary\n",
    "    data = request.json()\n",
    "    session.close()\n",
    "    output = data\n",
    "    \n",
    "    if \"businesses\" not in output:\n",
    "        return {}\n",
    "    \n",
    "    else:\n",
    "        return output[\"businesses\"]"
   ]
  },
  {
   "cell_type": "code",
   "execution_count": 3,
   "metadata": {
    "collapsed": true
   },
   "outputs": [],
   "source": [
    "def extract(url):\n",
    "    \"\"\"\n",
    "    extract city information from a url\n",
    "    \n",
    "    Argument: url\n",
    "    \n",
    "    Return: a dictionary with info\n",
    "    \"\"\"\n",
    "    info = requests.get(url).content\n",
    "    wikisoup = BeautifulSoup(info, 'lxml')\n",
    "    city_data = wikisoup.findAll(\"th\", {\"scope\": \"row\"})\n",
    "    population_data = wikisoup.findAll(\"td\", {\"align\":\"right\"})\n",
    "    city = [city.text for city in city_data]\n",
    "    city = city[1:-8]\n",
    "    population_data = wikisoup.findAll(\"td\", {\"align\":\"right\"})\n",
    "    population_data = \"\\n\".join([population.text for population in population_data])\n",
    "    population_split = population_data.split(\"\\n\")\n",
    "    population = population_split[0::2]\n",
    "    info_dict = {\"city\": city, \"city_population\": population}\n",
    "    return info_dict"
   ]
  },
  {
   "cell_type": "code",
   "execution_count": 4,
   "metadata": {
    "collapsed": true
   },
   "outputs": [],
   "source": [
    "# extract city info from the wikipedia page\n",
    "url = \"https://en.wikipedia.org/wiki/List_of_cities_and_towns_in_California\"\n",
    "url_output = extract(url)\n",
    "pd_scrape = pd.DataFrame(url_output)"
   ]
  },
  {
   "cell_type": "code",
   "execution_count": 5,
   "metadata": {
    "collapsed": true
   },
   "outputs": [],
   "source": [
    "# this excel provide latitude and longitude information\n",
    "pd_location = pd.read_excel(\"/Users/Chloechen/Downloads/calcities.xlsx\", header = 0)\n",
    "pd_location_1 = pd_location.rename(columns = {'Name':'city'})\n",
    "pd_geo = pd.merge(pd_scrape, pd_location_1, on = \"city\")\n",
    "pd_geo['city'] = pd_geo['city'] + ', CA'"
   ]
  },
  {
   "cell_type": "code",
   "execution_count": 6,
   "metadata": {
    "collapsed": true
   },
   "outputs": [],
   "source": [
    "def search(keyterm, city, criteria):\n",
    "    \"\"\"\n",
    "    create a dataframe with the yelp search result\n",
    "    \n",
    "    Argument: keyterm(restaurants/hotels/nightlife/landmarks), city, criteria\n",
    "    \n",
    "    Return: a dataframe\n",
    "    \"\"\"\n",
    "    result = yelp_search(keyterm, city, criteria)\n",
    "    df_result = pd.DataFrame(result)\n",
    "    df_result[\"city\"] = city\n",
    "    return df_result"
   ]
  },
  {
   "cell_type": "code",
   "execution_count": 7,
   "metadata": {
    "collapsed": true
   },
   "outputs": [],
   "source": [
    "def create_df(keyterm, criteria):\n",
    "    \"\"\"\n",
    "    create a dataframe with the yelp search result for all the cities in California\n",
    "    \n",
    "    Argument: keyterm(restaurants/hotels/nightlife/landmarks), criteria\n",
    "    \n",
    "    Return: a dataframe\n",
    "    \"\"\"\n",
    "    yelp_result = [search(keyterm, \"%s, CA\" %city, criteria) for city in pd_scrape[\"city\"]]\n",
    "    df_result = pd.concat(yelp_result, ignore_index = True)\n",
    "    df_result_final = pd.merge(df_result, pd_geo, on = \"city\", how = \"inner\")\n",
    "    df_result_final = df_result_final.drop([\"deals\", \"gift_certificates\", \"is_claimed\", \"menu_date_updated\", \"menu_provider\", \"mobile_url\", \"phone\", \"rating_img_url\", \"rating_img_url_large\",\"rating_img_url_small\", \"snippet_image_url\", \"location\"], axis=1)\n",
    "    df_result_final = df_result_final.dropna()\n",
    "    # Must remove the square brackets twice\n",
    "    df_result_final[\"categories\"] = df_result_final[\"categories\"].str.get(0)\n",
    "    df_result_final[\"categories\"] = df_result_final[\"categories\"].str.get(0)\n",
    "    return df_result_final"
   ]
  },
  {
   "cell_type": "code",
   "execution_count": 8,
   "metadata": {
    "collapsed": true
   },
   "outputs": [],
   "source": [
    "def create_table(keyterm, criteria):\n",
    "    \"\"\"\n",
    "    create tables in the database\n",
    "    \n",
    "    Argument: keyterm(restaurants/hotels/nightlife/landmarks), criteria\n",
    "    \n",
    "    Return: tables in the database (No output, but tables are created)\n",
    "    \"\"\"\n",
    "    df_result_final = create_df(keyterm, criteria)\n",
    "    conn = sql.connect(\"accommodation.sqlite\")\n",
    "    df_table = df_result_final.to_sql(\"Best_\" + keyterm, conn, if_exists = 'replace', index = False)\n",
    "    return df_table\n",
    "    conn.close()"
   ]
  },
  {
   "cell_type": "code",
   "execution_count": 9,
   "metadata": {
    "collapsed": false
   },
   "outputs": [
    {
     "name": "stderr",
     "output_type": "stream",
     "text": [
      "/Users/Chloechen/anaconda/lib/python2.7/site-packages/pandas/core/generic.py:1165: UserWarning: The spaces in these column names will not be changed. In pandas versions < 0.14, spaces were converted to underscores.\n",
      "  chunksize=chunksize, dtype=dtype)\n"
     ]
    }
   ],
   "source": [
    "travel_item = [\"Restaurants\", \"Hotels\", \"Landmarks\"]\n",
    "for item in travel_item:\n",
    "    create_table(item, \"best\")"
   ]
  },
  {
   "cell_type": "code",
   "execution_count": null,
   "metadata": {
    "collapsed": true
   },
   "outputs": [],
   "source": []
  },
  {
   "cell_type": "code",
   "execution_count": null,
   "metadata": {
    "collapsed": true
   },
   "outputs": [],
   "source": []
  }
 ],
 "metadata": {
  "anaconda-cloud": {},
  "kernelspec": {
   "display_name": "Python [default]",
   "language": "python",
   "name": "python2"
  },
  "language_info": {
   "codemirror_mode": {
    "name": "ipython",
    "version": 2
   },
   "file_extension": ".py",
   "mimetype": "text/x-python",
   "name": "python",
   "nbconvert_exporter": "python",
   "pygments_lexer": "ipython2",
   "version": "2.7.12"
  }
 },
 "nbformat": 4,
 "nbformat_minor": 1
}

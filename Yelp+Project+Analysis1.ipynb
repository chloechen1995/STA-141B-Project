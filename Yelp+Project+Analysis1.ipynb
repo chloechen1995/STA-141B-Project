{
 "cells": [
  {
   "cell_type": "code",
   "execution_count": 6,
   "metadata": {
    "collapsed": false
   },
   "outputs": [],
   "source": [
    "import requests_cache\n",
    "import requests\n",
    "import pandas as pd\n",
    "from matplotlib import pyplot as plt\n",
    "plt.style.use('ggplot')\n",
    "%matplotlib inline\n",
    "from pandas.tools.plotting import scatter_matrix\n",
    "import numpy as np\n",
    "import seaborn as sns\n",
    "from requests_oauthlib import OAuth1Session\n",
    "import glob\n",
    "import json\n",
    "import os\n",
    "import urllib2\n",
    "from urllib2 import Request, urlopen\n",
    "from requests_oauthlib import OAuth1Session\n",
    "from bs4 import BeautifulSoup"
   ]
  },
  {
   "cell_type": "markdown",
   "metadata": {
    "collapsed": false,
    "scrolled": true
   },
   "source": [
    "### Data Wrangling Part 2 (From yelp dataset challenge):"
   ]
  },
  {
   "cell_type": "code",
   "execution_count": null,
   "metadata": {
    "collapsed": false
   },
   "outputs": [],
   "source": [
    "path = \"/Users/Stephanie/Desktop/yelp_dataset_challenge_round9\"\n",
    "files = glob.glob(os.path.join(path,\"*.json\"))\n",
    "files"
   ]
  },
  {
   "cell_type": "code",
   "execution_count": null,
   "metadata": {
    "collapsed": false
   },
   "outputs": [],
   "source": [
    "############# Copy from online(not sure if it works or not yet) ##########\n",
    "\n",
    "#Convert Yelp Academic Dataset from JSON to CSV\n",
    "import csv\n",
    "def convert(line):\n",
    "    ''' Convert a json string to a flat python dictionary\n",
    "    which can be passed into Pandas. '''\n",
    "    data = json.loads(line)\n",
    "    for k, v in data.items():\n",
    "        if isinstance(v, list):\n",
    "            data[k] = ','.join(v)\n",
    "        elif isinstance(v, dict):\n",
    "            for kk, vv in v.items():\n",
    "                data['%s_%s' % (k, kk)] = vv\n",
    "            del data[k]\n",
    "    return line\n",
    "\n",
    "\n",
    "csv_filename = 'review.csv'\n",
    "df = pd.DataFrame([convert(line) for line in file(files[2])])\n",
    "df.to_csv(csv_filename, index=False)\n"
   ]
  },
  {
   "cell_type": "code",
   "execution_count": null,
   "metadata": {
    "collapsed": false
   },
   "outputs": [],
   "source": [
    "def readfile(files):\n",
    "    # read the file into a python array\n",
    "    with open(files, 'rb') as f:\n",
    "        data = f.readlines()\n",
    "        # remove the trailing \"\\n\" from each line\n",
    "        data = map(lambda x: x.rstrip(), data)\n",
    "        data_str = \"[\" + ','.join(data) + \"]\"\n",
    "        df = pd.read_json(data_str)\n",
    "        \n",
    "        f.close()\n",
    "        return df\n",
    "     \n",
    "def fixdf(newlist):\n",
    "    new_df = pd.concat(newlist, axis = 0)\n",
    "    return new_df\n",
    "\n",
    "yelplist = []\n",
    "\n",
    "\n",
    "JSON Module"
   ]
  },
  {
   "cell_type": "code",
   "execution_count": null,
   "metadata": {
    "collapsed": false
   },
   "outputs": [],
   "source": [
    "review_data = readfile(files[2])"
   ]
  },
  {
   "cell_type": "code",
   "execution_count": null,
   "metadata": {
    "collapsed": true
   },
   "outputs": [],
   "source": [
    "review_data.head()"
   ]
  },
  {
   "cell_type": "code",
   "execution_count": null,
   "metadata": {
    "collapsed": true
   },
   "outputs": [],
   "source": []
  },
  {
   "cell_type": "markdown",
   "metadata": {},
   "source": [
    "### Data Wrangling "
   ]
  },
  {
   "cell_type": "code",
   "execution_count": 2,
   "metadata": {
    "collapsed": true
   },
   "outputs": [],
   "source": [
    "import requests_cache\n",
    "import requests\n",
    "import pandas as pd\n",
    "from matplotlib import pyplot as plt\n",
    "plt.style.use('ggplot')\n",
    "%matplotlib inline\n",
    "from pandas.tools.plotting import scatter_matrix\n",
    "import numpy as np\n",
    "import seaborn as sns\n",
    "from requests_oauthlib import OAuth1Session\n",
    "from bs4 import BeautifulSoup\n",
    "import pandas as pd"
   ]
  },
  {
   "cell_type": "code",
   "execution_count": 3,
   "metadata": {
    "collapsed": false
   },
   "outputs": [],
   "source": [
    "requests_cache.install_cache(\"cache\")\n",
    "\n",
    "# criteria: 1=Distance, 2=Highest Rated\n",
    "\n",
    "def yelp_search(term, location, criteria):\n",
    "    \"\"\"\n",
    "    makes a search request\n",
    "    \n",
    "    Argument: search term, location\n",
    "    \n",
    "    Return: search result items as a list (for 0 items, return an empty list)\n",
    "    \"\"\"\n",
    "    consumer_key = \"uFKYftN0fu4pD6guW2cYng\"\n",
    "    consumer_secret = \"iUYQ2Hk3-vTQVd0zOFnvloWPivA\"\n",
    "    token = \"FZnep4FiFmwrrifuNm6M-_K661Wb3J02\"\n",
    "    token_secret = \"CRvBo_fO-r4pE_-p2UrnN_mxBlc\"\n",
    "   \n",
    "    urlbase = \"http://api.yelp.com/v2/search\"\n",
    "    params = ({\"term\": term})\n",
    "    \n",
    "    criteria = criteria.lower()\n",
    "    \n",
    "    if criteria == \"distance\":\n",
    "        params.update({\"location\": location, \"sort\": \"1\", \"cll\" : \"latitude,longitude\"})\n",
    "    else:\n",
    "        params.update({\"location\": location, \"sort\": \"2\", \"cll\" : \"latitude,longitude\"})\n",
    "    session = OAuth1Session(consumer_key, consumer_secret,token,token_secret)\n",
    "     \n",
    "    request = session.get(urlbase,params=params)\n",
    "   \n",
    "    #Transforms JSON API response into dictionary\n",
    "    data = request.json()\n",
    "    session.close()\n",
    "    output = data\n",
    "    \n",
    "    if \"businesses\" not in output:\n",
    "        return {}\n",
    "    \n",
    "    else:\n",
    "        return output[\"businesses\"]\n"
   ]
  },
  {
   "cell_type": "code",
   "execution_count": 4,
   "metadata": {
    "collapsed": true
   },
   "outputs": [],
   "source": [
    "def extract(url):\n",
    "    \"\"\"\n",
    "    extract\n",
    "    \"\"\"\n",
    "    info = requests.get(url).content\n",
    "    wikisoup = BeautifulSoup(info, 'lxml')\n",
    "    city_data = wikisoup.findAll(\"th\", {\"scope\": \"row\"})\n",
    "    population_data = wikisoup.findAll(\"td\", {\"align\":\"right\"})\n",
    "    city = [city.text for city in city_data]\n",
    "    city = city[1:-8]\n",
    "    population_data = wikisoup.findAll(\"td\", {\"align\":\"right\"})\n",
    "    population_data = \"\\n\".join([population.text for population in population_data])\n",
    "    population_split = population_data.split(\"\\n\")\n",
    "    population = population_split[0::2]\n",
    "    info_dict = {\"city\": city, \"population\": population}\n",
    "    return info_dict"
   ]
  },
  {
   "cell_type": "code",
   "execution_count": 5,
   "metadata": {
    "collapsed": false
   },
   "outputs": [],
   "source": [
    "url = \"https://en.wikipedia.org/wiki/List_of_cities_and_towns_in_California\"\n",
    "url_output = extract(url)\n",
    "pd_scrape = pd.DataFrame(url_output)"
   ]
  },
  {
   "cell_type": "code",
   "execution_count": 6,
   "metadata": {
    "collapsed": false
   },
   "outputs": [],
   "source": [
    "# this excel provide latitude and longitude information\n",
    "pd_location = pd.read_excel(\"/Users/Stephanie/Desktop/calcities.xlsx\", header = 0)"
   ]
  },
  {
   "cell_type": "code",
   "execution_count": 7,
   "metadata": {
    "collapsed": false
   },
   "outputs": [],
   "source": [
    "pd_location_1 = pd_location.rename(columns = {'Name':'city'})\n",
    "pd_geo = pd.merge(pd_scrape, pd_location_1, on = \"city\")"
   ]
  },
  {
   "cell_type": "code",
   "execution_count": 8,
   "metadata": {
    "collapsed": false
   },
   "outputs": [],
   "source": [
    "pd_geo['city'] = pd_geo['city'] + ', CA'"
   ]
  },
  {
   "cell_type": "code",
   "execution_count": 9,
   "metadata": {
    "collapsed": true
   },
   "outputs": [],
   "source": [
    "def search(keyterm, city, criteria):\n",
    "    result = yelp_search(keyterm, city, criteria)\n",
    "    df_result = pd.DataFrame(result)\n",
    "    df_result[\"city\"] = city\n",
    "    return df_result\n",
    "\n",
    "#change category thats 'Nan' to 'Unknown'\n",
    "def nan_to_unknown(df):\n",
    "    for i in range(0,len(df)):\n",
    "        if type(df['categories'][i]) == float:\n",
    "            df['categories'][i] = [[u'Unknown']]\n",
    "    return df"
   ]
  },
  {
   "cell_type": "code",
   "execution_count": 295,
   "metadata": {
    "collapsed": false
   },
   "outputs": [
    {
     "name": "stderr",
     "output_type": "stream",
     "text": [
      "/Users/stephanie/anaconda/lib/python2.7/site-packages/ipykernel/__main__.py:5: SettingWithCopyWarning:\n",
      "\n",
      "\n",
      "A value is trying to be set on a copy of a slice from a DataFrame\n",
      "\n",
      "See the caveats in the documentation: http://pandas.pydata.org/pandas-docs/stable/indexing.html#indexing-view-versus-copy\n",
      "\n"
     ]
    }
   ],
   "source": [
    "def yelp_df(keyterm, criteria):\n",
    "    yelp_keyterm = [search(keyterm, \"%s, CA\" %city, criteria) for city in pd_scrape[\"city\"]]\n",
    "    df_keyterm = pd.concat(yelp_keyterm, ignore_index = True)\n",
    "    df_drop = df_keyterm.drop([\"deals\", \"gift_certificates\", \"location\", \"menu_date_updated\", \"menu_provider\", \"phone\", \"rating_img_url\", \"rating_img_url_large\", \"rating_img_url_small\", \"snippet_image_url\"], 1)\n",
    "    df_final = pd.merge(df_drop, pd_geo, on = \"city\", how = \"inner\")\n",
    "    df_final = nan_to_unknown(df_final)\n",
    "    return df_final\n",
    "\n",
    "df_food_final = yelp_df(\"restaurants\", \"Distance\")"
   ]
  },
  {
   "cell_type": "code",
   "execution_count": 296,
   "metadata": {
    "collapsed": false
   },
   "outputs": [
    {
     "name": "stderr",
     "output_type": "stream",
     "text": [
      "/Users/stephanie/anaconda/lib/python2.7/site-packages/ipykernel/__main__.py:5: SettingWithCopyWarning:\n",
      "\n",
      "\n",
      "A value is trying to be set on a copy of a slice from a DataFrame\n",
      "\n",
      "See the caveats in the documentation: http://pandas.pydata.org/pandas-docs/stable/indexing.html#indexing-view-versus-copy\n",
      "\n"
     ]
    }
   ],
   "source": [
    "df_hotels_final = yelp_df(\"hotels\", \"Distance\")"
   ]
  },
  {
   "cell_type": "markdown",
   "metadata": {},
   "source": [
    "### Analying data and plotting:"
   ]
  },
  {
   "cell_type": "code",
   "execution_count": 304,
   "metadata": {
    "collapsed": true
   },
   "outputs": [],
   "source": [
    "import plotly\n",
    "import plotly.plotly as py  \n",
    "import plotly.tools as tls   \n",
    "from plotly.graph_objs import *\n",
    "import numpy as np  \n",
    "import plotly.graph_objs as go\n",
    "\n",
    "tls.set_credentials_file(\n",
    "    username = 'stephanielam',\n",
    "    api_key = 'CnYmsvRY60Eq3YOOul8J')"
   ]
  },
  {
   "cell_type": "code",
   "execution_count": 370,
   "metadata": {
    "collapsed": false
   },
   "outputs": [],
   "source": [
    "from collections import Counter\n",
    "\n",
    "#get the most frequent category labels (Overall)\n",
    "def freq_cat(dataframe):\n",
    "    count = []\n",
    "    for i in range(0,len(dataframe)):\n",
    "        data = dataframe['categories'][i][0][0]\n",
    "        count.append(data)\n",
    "        freq = Counter(count)\n",
    "        \n",
    "    count_df = pd.DataFrame(freq.most_common()[0:10])\n",
    "    return count_df"
   ]
  },
  {
   "cell_type": "code",
   "execution_count": 371,
   "metadata": {
    "collapsed": false
   },
   "outputs": [
    {
     "data": {
      "text/html": [
       "<iframe id=\"igraph\" scrolling=\"no\" style=\"border:none;\" seamless=\"seamless\" src=\"https://plot.ly/~stephanielam/30.embed\" height=\"525px\" width=\"100%\"></iframe>"
      ],
      "text/plain": [
       "<plotly.tools.PlotlyDisplay object>"
      ]
     },
     "execution_count": 371,
     "metadata": {},
     "output_type": "execute_result"
    }
   ],
   "source": [
    "count_df = freq_cat(df_food_final)\n",
    "\n",
    "#plot\n",
    "data = [go.Bar(x= count_df[0],y= count_df[1])]\n",
    "layout = go.Layout(title='Top 10 most frequent category for Restaurant')\n",
    "fig = go.Figure(data=data, layout=layout)\n",
    "py.iplot(fig, filename = 'Top 10 most frequent category1')"
   ]
  },
  {
   "cell_type": "code",
   "execution_count": 372,
   "metadata": {
    "collapsed": false
   },
   "outputs": [],
   "source": [
    "#get star count by each category\n",
    "def get_count(category):\n",
    "    count_list =[]\n",
    "    for i in range(len(df_food_final)):\n",
    "        if df_food_final['categories'][i][0][0] == category:\n",
    "            count_list.append(df_food_final['rating'][i])       \n",
    "    labels, values = zip(*Counter(count_list).items()) \n",
    "    count_list =[] \n",
    "    return labels, values\n",
    "\n",
    "cat_count = []\n",
    "def get_cat_count(dataframe):\n",
    "    for i in range(0, len(dataframe[0])):\n",
    "        count = get_count(dataframe[0][i])\n",
    "        cat_count.append(count)\n",
    "    \n",
    "    return cat_count\n",
    "\n",
    "cat_count = get_cat_count(count_df)"
   ]
  },
  {
   "cell_type": "code",
   "execution_count": 373,
   "metadata": {
    "collapsed": false
   },
   "outputs": [
    {
     "data": {
      "text/html": [
       "<iframe id=\"igraph\" scrolling=\"no\" style=\"border:none;\" seamless=\"seamless\" src=\"https://plot.ly/~stephanielam/2.embed\" height=\"525px\" width=\"100%\"></iframe>"
      ],
      "text/plain": [
       "<plotly.tools.PlotlyDisplay object>"
      ]
     },
     "execution_count": 373,
     "metadata": {},
     "output_type": "execute_result"
    }
   ],
   "source": [
    "#plot of Distribution of stars(by category)\n",
    "\n",
    "for i in range(0, len(cat_count)):\n",
    "    locals()['trace%s' % i] = go.Bar(x = cat_count[i][0], y=cat_count[i][1], name= count_df[0][i])\n",
    "\n",
    "data = [trace0, trace1, trace2, trace3, trace4, trace5, trace6, trace7, trace8, trace9]\n",
    "layout = go.Layout(barmode = 'stack', title ='Rating stars distribution (by categeory)'\n",
    ")\n",
    "\n",
    "fig = go.Figure(data=data, layout=layout)\n",
    "py.iplot(fig, filename='Rating stars distribution (by categeory)')"
   ]
  },
  {
   "cell_type": "code",
   "execution_count": 374,
   "metadata": {
    "collapsed": false
   },
   "outputs": [
    {
     "data": {
      "text/html": [
       "<div>\n",
       "<table border=\"1\" class=\"dataframe\">\n",
       "  <thead>\n",
       "    <tr style=\"text-align: right;\">\n",
       "      <th></th>\n",
       "      <th>city</th>\n",
       "      <th>rating</th>\n",
       "      <th>review_count</th>\n",
       "      <th>population</th>\n",
       "      <th>Latitude</th>\n",
       "      <th>Longitude</th>\n",
       "    </tr>\n",
       "  </thead>\n",
       "  <tbody>\n",
       "    <tr>\n",
       "      <th>0</th>\n",
       "      <td>Adelanto, CA</td>\n",
       "      <td>3.575</td>\n",
       "      <td>27.95</td>\n",
       "      <td>31,765</td>\n",
       "      <td>34.582769</td>\n",
       "      <td>-117.409214</td>\n",
       "    </tr>\n",
       "    <tr>\n",
       "      <th>1</th>\n",
       "      <td>Agoura Hills, CA</td>\n",
       "      <td>4.050</td>\n",
       "      <td>231.55</td>\n",
       "      <td>20,330</td>\n",
       "      <td>34.153339</td>\n",
       "      <td>-118.761675</td>\n",
       "    </tr>\n",
       "    <tr>\n",
       "      <th>2</th>\n",
       "      <td>Alameda, CA</td>\n",
       "      <td>4.100</td>\n",
       "      <td>466.05</td>\n",
       "      <td>73,812</td>\n",
       "      <td>37.765206</td>\n",
       "      <td>-122.241636</td>\n",
       "    </tr>\n",
       "    <tr>\n",
       "      <th>3</th>\n",
       "      <td>Albany, CA</td>\n",
       "      <td>4.150</td>\n",
       "      <td>258.15</td>\n",
       "      <td>18,539</td>\n",
       "      <td>37.886869</td>\n",
       "      <td>-122.297747</td>\n",
       "    </tr>\n",
       "    <tr>\n",
       "      <th>4</th>\n",
       "      <td>Alhambra, CA</td>\n",
       "      <td>4.050</td>\n",
       "      <td>493.15</td>\n",
       "      <td>83,089</td>\n",
       "      <td>34.095286</td>\n",
       "      <td>-118.127014</td>\n",
       "    </tr>\n",
       "  </tbody>\n",
       "</table>\n",
       "</div>"
      ],
      "text/plain": [
       "               city  rating  review_count population  Latitude    Longitude\n",
       "0      Adelanto, CA   3.575         27.95     31,765  34.582769 -117.409214\n",
       "1  Agoura Hills, CA   4.050        231.55     20,330  34.153339 -118.761675\n",
       "2       Alameda, CA   4.100        466.05     73,812  37.765206 -122.241636\n",
       "3        Albany, CA   4.150        258.15     18,539  37.886869 -122.297747\n",
       "4      Alhambra, CA   4.050        493.15     83,089  34.095286 -118.127014"
      ]
     },
     "execution_count": 374,
     "metadata": {},
     "output_type": "execute_result"
    }
   ],
   "source": [
    "#get the average star rating (by City)\n",
    "def average_star_city(dataframe, category):\n",
    "    average_rate = dataframe.groupby('city')[category].mean()\n",
    "    average_rate = average_rate.reset_index()\n",
    "    average_rate = pd.DataFrame(average_rate)\n",
    "    return average_rate\n",
    "    \n",
    "rating_star = average_star_city(df_food_final, 'rating')\n",
    "average_review = average_star_city(df_food_final, 'review_count')\n",
    "rating_star = pd.merge(rating_star, average_review, on= 'city')\n",
    "rating_star = pd.merge(rating_star, pd_geo, on='city')\n",
    "rating_star.head()"
   ]
  },
  {
   "cell_type": "code",
   "execution_count": 375,
   "metadata": {
    "collapsed": false,
    "scrolled": false
   },
   "outputs": [
    {
     "data": {
      "text/html": [
       "<iframe id=\"igraph\" scrolling=\"no\" style=\"border:none;\" seamless=\"seamless\" src=\"https://plot.ly/~stephanielam/26.embed\" height=\"525px\" width=\"100%\"></iframe>"
      ],
      "text/plain": [
       "<plotly.tools.PlotlyDisplay object>"
      ]
     },
     "execution_count": 375,
     "metadata": {},
     "output_type": "execute_result"
    }
   ],
   "source": [
    "def city_rating_map(df, keyterm, scale):\n",
    "    \"\"\"\n",
    "    df : dataframe\n",
    "    keyterm\n",
    "    scale : scale of markers(reflecting review count)\n",
    "    \n",
    "    \"\"\"\n",
    "    df['text'] = 'City: ' + df['city'] + ' <br>Rating: ' + df['rating'].astype(np.str) +' star' + '<br>Average Reviews count: ' + df['review_count'].astype(np.str)\n",
    "    limits = [(1,3),(3,3.5),(3.5,4),(4,4.5),(4.5,5)]\n",
    "    colors = [\"lightgrey\",\"lightgreen\",\"lightblue\",\"lightyellow\",\"red\"]\n",
    "    cities = []\n",
    "\n",
    "    for i in range(len(limits)):\n",
    "        lim = limits[i]\n",
    "        rate_sub = df.query('%f' %lim[0] +'<= rating < %f' %lim[1])\n",
    "        city = dict(\n",
    "            type = 'scattergeo',\n",
    "            locationmode = 'USA-states',\n",
    "            lon = rate_sub['Longitude'],\n",
    "            lat = rate_sub['Latitude '],\n",
    "            text = rate_sub['text'],\n",
    "            marker = dict(\n",
    "                size = rate_sub['review_count'] / scale,\n",
    "                color = colors[i],\n",
    "                line = dict(width=0.5, color='rgb(40,40,40)'),\n",
    "                sizemode = 'area'\n",
    "            ),\n",
    "            name = '{0} - {1} stars'.format(lim[0],lim[1]))\n",
    "        cities.append(city)\n",
    "\n",
    "    layout = dict(\n",
    "            title = '%s Average Rating by City<br>(Click legend to toggle traces)'%keyterm,\n",
    "            showlegend = True,\n",
    "            geo = dict(\n",
    "                scope='usa',\n",
    "                projection=dict( type='albers usa' ),\n",
    "                showland = True,\n",
    "                landcolor = 'rgb(217, 217, 217)',\n",
    "                subunitwidth=1,\n",
    "                countrywidth=1,\n",
    "                subunitcolor=\"rgb(255, 255, 255)\",\n",
    "                countrycolor=\"rgb(255, 255, 255)\"\n",
    "            ),\n",
    "        )\n",
    "\n",
    "    fig = dict( data=cities, layout=layout )\n",
    "    return py.iplot(fig, validate=False, filename='%s average rating by city'%keyterm)\n",
    "\n",
    "city_rating_map(rating_star,'Restaurant', 2.5)"
   ]
  },
  {
   "cell_type": "code",
   "execution_count": 376,
   "metadata": {
    "collapsed": false
   },
   "outputs": [
    {
     "data": {
      "text/html": [
       "<iframe id=\"igraph\" scrolling=\"no\" style=\"border:none;\" seamless=\"seamless\" src=\"https://plot.ly/~stephanielam/14.embed\" height=\"525px\" width=\"100%\"></iframe>"
      ],
      "text/plain": [
       "<plotly.tools.PlotlyDisplay object>"
      ]
     },
     "execution_count": 376,
     "metadata": {},
     "output_type": "execute_result"
    }
   ],
   "source": [
    "#rating vs review_count\n",
    "data = go.Scatter(\n",
    "    x = df_food_final['rating'],\n",
    "    y = df_food_final['review_count'],\n",
    "    mode = 'markers'\n",
    ")\n",
    "\n",
    "layout = go.Layout(\n",
    "    title='Scatter plot of Restaurant\\'s rating vs review count',\n",
    "    xaxis=dict(\n",
    "        title='Rating',\n",
    "        gridcolor='rgb(255, 255, 255)',\n",
    "    ),\n",
    "    yaxis=dict(\n",
    "        title='Review Count',\n",
    "        gridcolor='rgb(255, 255, 255)',\n",
    "    ),\n",
    "    paper_bgcolor='rgb(243, 243, 243)',\n",
    "    plot_bgcolor='rgb(243, 243, 243)',\n",
    ")\n",
    "\n",
    "fig = dict(data=[data], layout=layout)\n",
    "py.iplot(fig, filename='Scatter plot of rating vs review count')"
   ]
  },
  {
   "cell_type": "code",
   "execution_count": 377,
   "metadata": {
    "collapsed": false,
    "scrolled": true
   },
   "outputs": [],
   "source": [
    "mapbox_access_token = 'pk.eyJ1Ijoic3RhMTQxcHJvamVjdCIsImEiOiJjaXpxYWUyOHEwMTZ1MzNuNHp6b21zY2Y5In0.Vr6h57ZVuRRgfJ4RwW9wGw'"
   ]
  },
  {
   "cell_type": "code",
   "execution_count": 378,
   "metadata": {
    "collapsed": false
   },
   "outputs": [],
   "source": [
    "def find_best_5(data, df):\n",
    "    df_best_5 = pd.DataFrame()\n",
    "    for i in range(0,len(data)):\n",
    "        if data['rating'][i] == 5.0:\n",
    "            top = df.iloc[[data['level_1'][i]]]\n",
    "            df_best_5 = pd.concat([top,df_best_5],ignore_index = True)\n",
    "            df_best_5 = df_best_5.drop_duplicates(['name'])\n",
    "            if len(df_best_5) == 5:\n",
    "                break\n",
    "    return df_best_5\n",
    "\n",
    "def best_5_map(dataframe, keyterm):\n",
    "    dataframe['text'] = 'Name: ' + dataframe['name'] + '<br>City:' + dataframe['city'] +'<br>Rating: ' + dataframe['rating'].astype(np.str)+ ' star' + '<br>Reviews count: ' + dataframe['review_count'].astype(np.str) + '<br>Category: ' + [dataframe['categories'][i][0][0] for i in reversed(range(0, len(dataframe['categories'])))]\n",
    "\n",
    "    data = Data([\n",
    "        Scattermapbox(\n",
    "            lat=dataframe['Latitude '],\n",
    "            lon=dataframe['Longitude'],\n",
    "            mode='markers',\n",
    "            marker=Marker(\n",
    "                size=17,\n",
    "                color='rgb(255, 0, 0)',\n",
    "                opacity=0.7\n",
    "            ),\n",
    "            text=dataframe['text'],\n",
    "        )\n",
    "    ])\n",
    "\n",
    "    layout = Layout(\n",
    "        title = 'Top 5 %s in California'%keyterm,\n",
    "        autosize=True,\n",
    "        hovermode='closest',\n",
    "        mapbox=dict(\n",
    "            accesstoken=mapbox_access_token,\n",
    "            bearing=0,\n",
    "            center=dict(\n",
    "                lat=35,\n",
    "                lon=-120\n",
    "            ),\n",
    "            pitch=0,\n",
    "            zoom=4.5\n",
    "        ),\n",
    "    )\n",
    "\n",
    "    fig = dict(data=data, layout=layout)\n",
    "    return py.iplot(fig, filename='Top 5 %s'%keyterm, validate=False)"
   ]
  },
  {
   "cell_type": "code",
   "execution_count": 379,
   "metadata": {
    "collapsed": true
   },
   "outputs": [
    {
     "data": {
      "text/html": [
       "<div>\n",
       "<table border=\"1\" class=\"dataframe\">\n",
       "  <thead>\n",
       "    <tr style=\"text-align: right;\">\n",
       "      <th></th>\n",
       "      <th>categories</th>\n",
       "      <th>city</th>\n",
       "      <th>display_phone</th>\n",
       "      <th>id</th>\n",
       "      <th>image_url</th>\n",
       "      <th>is_claimed</th>\n",
       "      <th>is_closed</th>\n",
       "      <th>mobile_url</th>\n",
       "      <th>name</th>\n",
       "      <th>rating</th>\n",
       "      <th>review_count</th>\n",
       "      <th>snippet_text</th>\n",
       "      <th>url</th>\n",
       "      <th>population</th>\n",
       "      <th>Latitude</th>\n",
       "      <th>Longitude</th>\n",
       "    </tr>\n",
       "  </thead>\n",
       "  <tbody>\n",
       "    <tr>\n",
       "      <th>4</th>\n",
       "      <td>[[Bakeries, bakeries], [Lebanese, lebanese], [...</td>\n",
       "      <td>Murrieta, CA</td>\n",
       "      <td>+1-951-894-4544</td>\n",
       "      <td>sultan-bakery-and-grill-murrieta-4</td>\n",
       "      <td>https://s3-media3.fl.yelpcdn.com/bphoto/ULfwBj...</td>\n",
       "      <td>True</td>\n",
       "      <td>False</td>\n",
       "      <td>https://m.yelp.com/biz/sultan-bakery-and-grill...</td>\n",
       "      <td>Sultan Bakery and Grill</td>\n",
       "      <td>5.0</td>\n",
       "      <td>419</td>\n",
       "      <td>Came here with my mom and teenage son while vi...</td>\n",
       "      <td>https://www.yelp.com/biz/sultan-bakery-and-gri...</td>\n",
       "      <td>103,466</td>\n",
       "      <td>33.553914</td>\n",
       "      <td>-117.213922</td>\n",
       "    </tr>\n",
       "    <tr>\n",
       "      <th>3</th>\n",
       "      <td>[[Meat Shops, meats], [Halal, halal]]</td>\n",
       "      <td>Vernon, CA</td>\n",
       "      <td>+1-323-771-2400</td>\n",
       "      <td>fatimas-halal-meat-market-and-grill-bell</td>\n",
       "      <td>https://s3-media1.fl.yelpcdn.com/bphoto/9K74xd...</td>\n",
       "      <td>True</td>\n",
       "      <td>False</td>\n",
       "      <td>https://m.yelp.com/biz/fatimas-halal-meat-mark...</td>\n",
       "      <td>Fatima's Halal Meat Market &amp; Grill</td>\n",
       "      <td>5.0</td>\n",
       "      <td>322</td>\n",
       "      <td>Haven't even tried the food but I'm already in...</td>\n",
       "      <td>https://www.yelp.com/biz/fatimas-halal-meat-ma...</td>\n",
       "      <td>112</td>\n",
       "      <td>34.003903</td>\n",
       "      <td>-118.230072</td>\n",
       "    </tr>\n",
       "    <tr>\n",
       "      <th>2</th>\n",
       "      <td>[[Japanese, japanese]]</td>\n",
       "      <td>Rancho Mirage, CA</td>\n",
       "      <td>+1-760-779-5000</td>\n",
       "      <td>shabu-shabu-zen-and-sake-bar-rancho-mirage</td>\n",
       "      <td>https://s3-media1.fl.yelpcdn.com/bphoto/e5zr_N...</td>\n",
       "      <td>True</td>\n",
       "      <td>False</td>\n",
       "      <td>https://m.yelp.com/biz/shabu-shabu-zen-and-sak...</td>\n",
       "      <td>Shabu Shabu Zen and Sake Bar</td>\n",
       "      <td>5.0</td>\n",
       "      <td>308</td>\n",
       "      <td>Totally lived up to the hype. \\n\\nThis is the ...</td>\n",
       "      <td>https://www.yelp.com/biz/shabu-shabu-zen-and-s...</td>\n",
       "      <td>17,218</td>\n",
       "      <td>33.739744</td>\n",
       "      <td>-116.412789</td>\n",
       "    </tr>\n",
       "    <tr>\n",
       "      <th>1</th>\n",
       "      <td>[[Tapas/Small Plates, tapasmallplates], [Ameri...</td>\n",
       "      <td>Santa Ana, CA</td>\n",
       "      <td>NaN</td>\n",
       "      <td>playground-2-0-santa-ana-3</td>\n",
       "      <td>https://s3-media3.fl.yelpcdn.com/bphoto/c3bBrS...</td>\n",
       "      <td>True</td>\n",
       "      <td>False</td>\n",
       "      <td>https://m.yelp.com/biz/playground-2-0-santa-an...</td>\n",
       "      <td>Playground 2.0</td>\n",
       "      <td>5.0</td>\n",
       "      <td>299</td>\n",
       "      <td>Nobody does pairings like Rhett, and there's n...</td>\n",
       "      <td>https://www.yelp.com/biz/playground-2-0-santa-...</td>\n",
       "      <td>324,528</td>\n",
       "      <td>33.745572</td>\n",
       "      <td>-117.867833</td>\n",
       "    </tr>\n",
       "    <tr>\n",
       "      <th>0</th>\n",
       "      <td>[[Burgers, burgers], [Fast Food, hotdogs], [Am...</td>\n",
       "      <td>Irwindale, CA</td>\n",
       "      <td>+1-626-699-1188</td>\n",
       "      <td>bun-street-west-covina</td>\n",
       "      <td>https://s3-media1.fl.yelpcdn.com/bphoto/68JEPk...</td>\n",
       "      <td>True</td>\n",
       "      <td>False</td>\n",
       "      <td>https://m.yelp.com/biz/bun-street-west-covina?...</td>\n",
       "      <td>Bun Street</td>\n",
       "      <td>5.0</td>\n",
       "      <td>292</td>\n",
       "      <td>Went to check this place out for the first tim...</td>\n",
       "      <td>https://www.yelp.com/biz/bun-street-west-covin...</td>\n",
       "      <td>1,422</td>\n",
       "      <td>34.106953</td>\n",
       "      <td>-117.935342</td>\n",
       "    </tr>\n",
       "  </tbody>\n",
       "</table>\n",
       "</div>"
      ],
      "text/plain": [
       "                                          categories               city  \\\n",
       "4  [[Bakeries, bakeries], [Lebanese, lebanese], [...       Murrieta, CA   \n",
       "3              [[Meat Shops, meats], [Halal, halal]]         Vernon, CA   \n",
       "2                             [[Japanese, japanese]]  Rancho Mirage, CA   \n",
       "1  [[Tapas/Small Plates, tapasmallplates], [Ameri...      Santa Ana, CA   \n",
       "0  [[Burgers, burgers], [Fast Food, hotdogs], [Am...      Irwindale, CA   \n",
       "\n",
       "     display_phone                                          id  \\\n",
       "4  +1-951-894-4544          sultan-bakery-and-grill-murrieta-4   \n",
       "3  +1-323-771-2400    fatimas-halal-meat-market-and-grill-bell   \n",
       "2  +1-760-779-5000  shabu-shabu-zen-and-sake-bar-rancho-mirage   \n",
       "1              NaN                  playground-2-0-santa-ana-3   \n",
       "0  +1-626-699-1188                      bun-street-west-covina   \n",
       "\n",
       "                                           image_url is_claimed is_closed  \\\n",
       "4  https://s3-media3.fl.yelpcdn.com/bphoto/ULfwBj...       True     False   \n",
       "3  https://s3-media1.fl.yelpcdn.com/bphoto/9K74xd...       True     False   \n",
       "2  https://s3-media1.fl.yelpcdn.com/bphoto/e5zr_N...       True     False   \n",
       "1  https://s3-media3.fl.yelpcdn.com/bphoto/c3bBrS...       True     False   \n",
       "0  https://s3-media1.fl.yelpcdn.com/bphoto/68JEPk...       True     False   \n",
       "\n",
       "                                          mobile_url  \\\n",
       "4  https://m.yelp.com/biz/sultan-bakery-and-grill...   \n",
       "3  https://m.yelp.com/biz/fatimas-halal-meat-mark...   \n",
       "2  https://m.yelp.com/biz/shabu-shabu-zen-and-sak...   \n",
       "1  https://m.yelp.com/biz/playground-2-0-santa-an...   \n",
       "0  https://m.yelp.com/biz/bun-street-west-covina?...   \n",
       "\n",
       "                                 name  rating  review_count  \\\n",
       "4             Sultan Bakery and Grill     5.0           419   \n",
       "3  Fatima's Halal Meat Market & Grill     5.0           322   \n",
       "2        Shabu Shabu Zen and Sake Bar     5.0           308   \n",
       "1                      Playground 2.0     5.0           299   \n",
       "0                          Bun Street     5.0           292   \n",
       "\n",
       "                                        snippet_text  \\\n",
       "4  Came here with my mom and teenage son while vi...   \n",
       "3  Haven't even tried the food but I'm already in...   \n",
       "2  Totally lived up to the hype. \\n\\nThis is the ...   \n",
       "1  Nobody does pairings like Rhett, and there's n...   \n",
       "0  Went to check this place out for the first tim...   \n",
       "\n",
       "                                                 url population  Latitude   \\\n",
       "4  https://www.yelp.com/biz/sultan-bakery-and-gri...    103,466  33.553914   \n",
       "3  https://www.yelp.com/biz/fatimas-halal-meat-ma...        112  34.003903   \n",
       "2  https://www.yelp.com/biz/shabu-shabu-zen-and-s...     17,218  33.739744   \n",
       "1  https://www.yelp.com/biz/playground-2-0-santa-...    324,528  33.745572   \n",
       "0  https://www.yelp.com/biz/bun-street-west-covin...      1,422  34.106953   \n",
       "\n",
       "    Longitude  \n",
       "4 -117.213922  \n",
       "3 -118.230072  \n",
       "2 -116.412789  \n",
       "1 -117.867833  \n",
       "0 -117.935342  "
      ]
     },
     "execution_count": 379,
     "metadata": {},
     "output_type": "execute_result"
    }
   ],
   "source": [
    "#top 5 restaurants:\n",
    "best_5 = df_food_final.groupby('rating')['review_count'].nlargest(10).reset_index()\n",
    "best_5 = pd.DataFrame(best_5)\n",
    "df_best_5 = find_best_5(best_5, df_food_final)\n",
    "df_best_5 = df_best_5.iloc[::-1]\n",
    "df_best_5"
   ]
  },
  {
   "cell_type": "code",
   "execution_count": 388,
   "metadata": {
    "collapsed": false
   },
   "outputs": [
    {
     "data": {
      "image/png": "iVBORw0KGgoAAAANSUhEUgAAAGQAAABkCAIAAAD/gAIDAAA9VUlEQVR4nJ29R7MlS5Ie9rl7RKQ4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\nff25yv8PTMWWy2ImESgAAAAASUVORK5CYII=\n",
      "text/plain": [
       "<PIL.JpegImagePlugin.JpegImageFile image mode=RGB size=100x100 at 0x1360A3490>"
      ]
     },
     "metadata": {},
     "output_type": "display_data"
    },
    {
     "data": {
      "image/png": "iVBORw0KGgoAAAANSUhEUgAAAGQAAABkCAIAAAD/gAIDAABbrklEQVR4nFX9969s2ZXniW1/fPiI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\nISmlAkapzyaZlNJoYYwpigIhJLX6/wHJXmsjRVUabQAAAABJRU5ErkJggg==\n",
      "text/plain": [
       "<PIL.JpegImagePlugin.JpegImageFile image mode=RGB size=100x100 at 0x135673550>"
      ]
     },
     "metadata": {},
     "output_type": "display_data"
    },
    {
     "data": {
      "image/png": "iVBORw0KGgoAAAANSUhEUgAAAGQAAABkCAIAAAD/gAIDAABUPElEQVR4nH39V7OtW3IlhmVO+/nl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\ntHZoky0KAAAAAElFTkSuQmCC\n",
      "text/plain": [
       "<PIL.JpegImagePlugin.JpegImageFile image mode=RGB size=100x100 at 0x135673B10>"
      ]
     },
     "metadata": {},
     "output_type": "display_data"
    },
    {
     "data": {
      "image/png": "iVBORw0KGgoAAAANSUhEUgAAAGQAAABkCAIAAAD/gAIDAAA7i0lEQVR4nN296a8lS3IfFhGZWfvZ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\nfcT/A6d9DsCwhzdYAAAAAElFTkSuQmCC\n",
      "text/plain": [
       "<PIL.JpegImagePlugin.JpegImageFile image mode=RGB size=100x100 at 0x1351BB290>"
      ]
     },
     "metadata": {},
     "output_type": "display_data"
    },
    {
     "data": {
      "image/png": "iVBORw0KGgoAAAANSUhEUgAAAGQAAABkCAIAAAD/gAIDAABVmklEQVR4nFX9WbClV3YeBq61p38+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\neWM5sv8/RZNifzJtUeoAAAAASUVORK5CYII=\n",
      "text/plain": [
       "<PIL.JpegImagePlugin.JpegImageFile image mode=RGB size=100x100 at 0x135673550>"
      ]
     },
     "metadata": {},
     "output_type": "display_data"
    }
   ],
   "source": [
    "from PIL import Image\n",
    "import urllib, cStringIO\n",
    "from IPython.display import display\n",
    "\n",
    "#display top 5 image\n",
    "image_url = []\n",
    "for i in reversed(range(0, len(df_best_5))):\n",
    "    url = df_best_5['image_url'][i]\n",
    "    image_url.append(str(url))\n",
    "\n",
    "for image in image_url :\n",
    "    link = cStringIO.StringIO(urllib.urlopen(image).read())\n",
    "    img = Image.open(link) \n",
    "    display(img)"
   ]
  },
  {
   "cell_type": "code",
   "execution_count": 221,
   "metadata": {
    "collapsed": false,
    "scrolled": false
   },
   "outputs": [
    {
     "data": {
      "text/html": [
       "<iframe id=\"igraph\" scrolling=\"no\" style=\"border:none;\" seamless=\"seamless\" src=\"https://plot.ly/~stephanielamm/36.embed\" height=\"525px\" width=\"100%\"></iframe>"
      ],
      "text/plain": [
       "<plotly.tools.PlotlyDisplay object>"
      ]
     },
     "execution_count": 221,
     "metadata": {},
     "output_type": "execute_result"
    }
   ],
   "source": [
    "#top 5 plot\n",
    "best_5_map(df_best_5, 'Restaurant')"
   ]
  },
  {
   "cell_type": "markdown",
   "metadata": {},
   "source": [
    "### Hotels"
   ]
  },
  {
   "cell_type": "code",
   "execution_count": 302,
   "metadata": {
    "collapsed": true
   },
   "outputs": [],
   "source": [
    "#get the most frequent category labels (Overall)\n",
    "count_df = freq_cat(df_hotels_final)"
   ]
  },
  {
   "cell_type": "code",
   "execution_count": 305,
   "metadata": {
    "collapsed": false
   },
   "outputs": [
    {
     "data": {
      "text/html": [
       "<iframe id=\"igraph\" scrolling=\"no\" style=\"border:none;\" seamless=\"seamless\" src=\"https://plot.ly/~stephanielam/6.embed\" height=\"525px\" width=\"100%\"></iframe>"
      ],
      "text/plain": [
       "<plotly.tools.PlotlyDisplay object>"
      ]
     },
     "execution_count": 305,
     "metadata": {},
     "output_type": "execute_result"
    }
   ],
   "source": [
    "#plot\n",
    "data = [go.Bar(x= count_df[0],y= count_df[1],\n",
    "        marker=dict(\n",
    "            color=['rgba(222,45,38,0.8)', 'grey', 'grey', 'grey', 'grey', 'grey',\n",
    "                   'grey', 'grey','grey', 'grey',]))]\n",
    "layout = go.Layout(title='Top 10 most frequent category')\n",
    "fig = go.Figure(data=data, layout=layout)\n",
    "py.iplot(fig, filename = 'Top 10 most frequent category')"
   ]
  },
  {
   "cell_type": "code",
   "execution_count": 306,
   "metadata": {
    "collapsed": false
   },
   "outputs": [],
   "source": [
    "#restrict to only the category 'Hotels'\n",
    "df_limit_hotels = pd.DataFrame()\n",
    "for i in range(0, len(df_hotels_final)):\n",
    "    for j in range(0, len(df_hotels_final['categories'][i])):\n",
    "        if df_hotels_final['categories'][i][j] == [u'Hotels', u'hotels']:\n",
    "            df_limit_hotels = pd.concat([df_hotels_final.iloc[[i]],df_limit_hotels], ignore_index = True)"
   ]
  },
  {
   "cell_type": "code",
   "execution_count": 307,
   "metadata": {
    "collapsed": false
   },
   "outputs": [
    {
     "data": {
      "text/html": [
       "<iframe id=\"igraph\" scrolling=\"no\" style=\"border:none;\" seamless=\"seamless\" src=\"https://plot.ly/~stephanielam/22.embed\" height=\"525px\" width=\"100%\"></iframe>"
      ],
      "text/plain": [
       "<plotly.tools.PlotlyDisplay object>"
      ]
     },
     "execution_count": 307,
     "metadata": {},
     "output_type": "execute_result"
    }
   ],
   "source": [
    "#star distribution in the category 'Hotels'\n",
    "labels, values = zip(*Counter(df_limit_hotels['rating']).items()) \n",
    "\n",
    "fig = {'data': [{'labels': labels,\n",
    "              'values': values,\n",
    "              'type': 'pie',\n",
    "             }],\n",
    "    'layout': {'title': \"Pie chart of star distribution in the category 'Hotels'\"}\n",
    "     }\n",
    "py.iplot(fig, filename = \"star distribution in the category Hotels\")"
   ]
  },
  {
   "cell_type": "code",
   "execution_count": 308,
   "metadata": {
    "collapsed": false
   },
   "outputs": [],
   "source": [
    "#get the average star rating (by City)\n",
    "hotel_rating = average_star_city(df_limit_hotels, 'rating')\n",
    "average_review = average_star_city(df_limit_hotels, 'review_count')"
   ]
  },
  {
   "cell_type": "code",
   "execution_count": 309,
   "metadata": {
    "collapsed": false
   },
   "outputs": [],
   "source": [
    "hotel_rating = pd.merge(hotel_rating, average_review, on= 'city')\n",
    "hotel_rating = pd.merge(hotel_rating, pd_geo, on='city')"
   ]
  },
  {
   "cell_type": "code",
   "execution_count": 310,
   "metadata": {
    "collapsed": false,
    "scrolled": false
   },
   "outputs": [
    {
     "data": {
      "text/html": [
       "<iframe id=\"igraph\" scrolling=\"no\" style=\"border:none;\" seamless=\"seamless\" src=\"https://plot.ly/~stephanielam/26.embed\" height=\"525px\" width=\"100%\"></iframe>"
      ],
      "text/plain": [
       "<plotly.tools.PlotlyDisplay object>"
      ]
     },
     "execution_count": 310,
     "metadata": {},
     "output_type": "execute_result"
    }
   ],
   "source": [
    "city_rating_map(hotel_rating,'Restaurant', 1)"
   ]
  },
  {
   "cell_type": "code",
   "execution_count": null,
   "metadata": {
    "collapsed": true
   },
   "outputs": [],
   "source": []
  },
  {
   "cell_type": "code",
   "execution_count": 311,
   "metadata": {
    "collapsed": false
   },
   "outputs": [
    {
     "data": {
      "text/html": [
       "<iframe id=\"igraph\" scrolling=\"no\" style=\"border:none;\" seamless=\"seamless\" src=\"https://plot.ly/~stephanielam/16.embed\" height=\"525px\" width=\"100%\"></iframe>"
      ],
      "text/plain": [
       "<plotly.tools.PlotlyDisplay object>"
      ]
     },
     "execution_count": 311,
     "metadata": {},
     "output_type": "execute_result"
    }
   ],
   "source": [
    "#rating vs review_count\n",
    "data = go.Scatter(\n",
    "    x = df_hotels_final['rating'],\n",
    "    y = df_hotels_final['review_count'],\n",
    "    mode = 'markers'\n",
    ")\n",
    "\n",
    "layout = go.Layout(\n",
    "    title='Scatter plot of Restaurant\\'s rating vs review count',\n",
    "    xaxis=dict(\n",
    "        title='Rating',\n",
    "        gridcolor='rgb(255, 255, 255)',\n",
    "    ),\n",
    "    yaxis=dict(\n",
    "        title='Review Count',\n",
    "        gridcolor='rgb(255, 255, 255)',\n",
    "    ),\n",
    "    paper_bgcolor='rgb(243, 243, 243)',\n",
    "    plot_bgcolor='rgb(243, 243, 243)',\n",
    ")\n",
    "\n",
    "fig = dict(data=[data], layout=layout)\n",
    "py.iplot(fig, filename='Scatter plot of rating vs review count2')"
   ]
  },
  {
   "cell_type": "code",
   "execution_count": 312,
   "metadata": {
    "collapsed": false,
    "scrolled": true
   },
   "outputs": [],
   "source": [
    "#Top five hotels:\n",
    "hotel_best_5 = df_limit_hotels.groupby('rating')['review_count'].nlargest(5).reset_index()\n",
    "hotel_best_5 = pd.DataFrame(hotel_best_5)\n",
    "\n",
    "df_hotel_best_5 = pd.DataFrame()\n",
    "df_hotel_best_5 = find_best_5(hotel_best_5, df_limit_hotels)\n",
    "df_hotel_best_5 = df_hotel_best_5.iloc[::-1]"
   ]
  },
  {
   "cell_type": "code",
   "execution_count": 356,
   "metadata": {
    "collapsed": false
   },
   "outputs": [
    {
     "data": {
      "text/html": [
       "<div>\n",
       "<table border=\"1\" class=\"dataframe\">\n",
       "  <thead>\n",
       "    <tr style=\"text-align: right;\">\n",
       "      <th></th>\n",
       "      <th>categories</th>\n",
       "      <th>city</th>\n",
       "      <th>display_phone</th>\n",
       "      <th>id</th>\n",
       "      <th>image_url</th>\n",
       "      <th>is_claimed</th>\n",
       "      <th>is_closed</th>\n",
       "      <th>mobile_url</th>\n",
       "      <th>name</th>\n",
       "      <th>rating</th>\n",
       "      <th>review_count</th>\n",
       "      <th>snippet_text</th>\n",
       "      <th>url</th>\n",
       "      <th>population</th>\n",
       "      <th>Latitude</th>\n",
       "      <th>Longitude</th>\n",
       "    </tr>\n",
       "  </thead>\n",
       "  <tbody>\n",
       "    <tr>\n",
       "      <th>4</th>\n",
       "      <td>[[Hotels, hotels], [Bed &amp; Breakfast, bedbreakf...</td>\n",
       "      <td>Napa, CA</td>\n",
       "      <td>+1-707-253-1331</td>\n",
       "      <td>the-inn-on-first-napa</td>\n",
       "      <td>https://s3-media1.fl.yelpcdn.com/bphoto/Pb2fIp...</td>\n",
       "      <td>True</td>\n",
       "      <td>False</td>\n",
       "      <td>https://m.yelp.com/biz/the-inn-on-first-napa?a...</td>\n",
       "      <td>The Inn On First</td>\n",
       "      <td>5.0</td>\n",
       "      <td>340</td>\n",
       "      <td>My boyfriend and I recently stayed one rainy, ...</td>\n",
       "      <td>https://www.yelp.com/biz/the-inn-on-first-napa...</td>\n",
       "      <td>76,915</td>\n",
       "      <td>38.297539</td>\n",
       "      <td>-122.286864</td>\n",
       "    </tr>\n",
       "    <tr>\n",
       "      <th>3</th>\n",
       "      <td>[[Hotels, hotels], [Venues &amp; Event Spaces, ven...</td>\n",
       "      <td>Palm Springs, CA</td>\n",
       "      <td>+1-760-325-7100</td>\n",
       "      <td>the-rossi-hotel-palm-springs</td>\n",
       "      <td>https://s3-media4.fl.yelpcdn.com/bphoto/zkSDEn...</td>\n",
       "      <td>True</td>\n",
       "      <td>False</td>\n",
       "      <td>https://m.yelp.com/biz/the-rossi-hotel-palm-sp...</td>\n",
       "      <td>The Rossi Hotel</td>\n",
       "      <td>5.0</td>\n",
       "      <td>127</td>\n",
       "      <td>I decided to spend 3 nights and 4 days here af...</td>\n",
       "      <td>https://www.yelp.com/biz/the-rossi-hotel-palm-...</td>\n",
       "      <td>44,552</td>\n",
       "      <td>33.830297</td>\n",
       "      <td>-116.545292</td>\n",
       "    </tr>\n",
       "    <tr>\n",
       "      <th>2</th>\n",
       "      <td>[[Hotels, hotels]]</td>\n",
       "      <td>South Lake Tahoe, CA</td>\n",
       "      <td>+1-530-544-5515</td>\n",
       "      <td>fireside-lodge-south-lake-tahoe</td>\n",
       "      <td>https://s3-media3.fl.yelpcdn.com/bphoto/MO9Tq1...</td>\n",
       "      <td>True</td>\n",
       "      <td>False</td>\n",
       "      <td>https://m.yelp.com/biz/fireside-lodge-south-la...</td>\n",
       "      <td>Fireside Lodge</td>\n",
       "      <td>5.0</td>\n",
       "      <td>123</td>\n",
       "      <td>We had the privilege of staying here again. An...</td>\n",
       "      <td>https://www.yelp.com/biz/fireside-lodge-south-...</td>\n",
       "      <td>21,403</td>\n",
       "      <td>38.939925</td>\n",
       "      <td>-119.977186</td>\n",
       "    </tr>\n",
       "    <tr>\n",
       "      <th>1</th>\n",
       "      <td>[[Hotels, hotels], [Bed &amp; Breakfast, bedbreakf...</td>\n",
       "      <td>Napa, CA</td>\n",
       "      <td>+1-707-252-8144</td>\n",
       "      <td>arbor-guest-house-napa</td>\n",
       "      <td>https://s3-media1.fl.yelpcdn.com/bphoto/X_87lj...</td>\n",
       "      <td>True</td>\n",
       "      <td>False</td>\n",
       "      <td>https://m.yelp.com/biz/arbor-guest-house-napa?...</td>\n",
       "      <td>Arbor Guest House</td>\n",
       "      <td>5.0</td>\n",
       "      <td>118</td>\n",
       "      <td>Magnificent Bed and Breakfast.\\n\\nThis was my ...</td>\n",
       "      <td>https://www.yelp.com/biz/arbor-guest-house-nap...</td>\n",
       "      <td>76,915</td>\n",
       "      <td>38.297539</td>\n",
       "      <td>-122.286864</td>\n",
       "    </tr>\n",
       "    <tr>\n",
       "      <th>0</th>\n",
       "      <td>[[Hotels, hotels], [Bed &amp; Breakfast, bedbreakf...</td>\n",
       "      <td>Sutter Creek, CA</td>\n",
       "      <td>+1-209-267-0747</td>\n",
       "      <td>hanford-house-inn-sutter-creek</td>\n",
       "      <td>https://s3-media2.fl.yelpcdn.com/bphoto/jaDVwK...</td>\n",
       "      <td>True</td>\n",
       "      <td>False</td>\n",
       "      <td>https://m.yelp.com/biz/hanford-house-inn-sutte...</td>\n",
       "      <td>Hanford House Inn</td>\n",
       "      <td>5.0</td>\n",
       "      <td>99</td>\n",
       "      <td>Wonderful accommodations.  Staff and service w...</td>\n",
       "      <td>https://www.yelp.com/biz/hanford-house-inn-sut...</td>\n",
       "      <td>2,501</td>\n",
       "      <td>38.392967</td>\n",
       "      <td>-120.802436</td>\n",
       "    </tr>\n",
       "  </tbody>\n",
       "</table>\n",
       "</div>"
      ],
      "text/plain": [
       "                                          categories                  city  \\\n",
       "4  [[Hotels, hotels], [Bed & Breakfast, bedbreakf...              Napa, CA   \n",
       "3  [[Hotels, hotels], [Venues & Event Spaces, ven...      Palm Springs, CA   \n",
       "2                                 [[Hotels, hotels]]  South Lake Tahoe, CA   \n",
       "1  [[Hotels, hotels], [Bed & Breakfast, bedbreakf...              Napa, CA   \n",
       "0  [[Hotels, hotels], [Bed & Breakfast, bedbreakf...      Sutter Creek, CA   \n",
       "\n",
       "     display_phone                               id  \\\n",
       "4  +1-707-253-1331            the-inn-on-first-napa   \n",
       "3  +1-760-325-7100     the-rossi-hotel-palm-springs   \n",
       "2  +1-530-544-5515  fireside-lodge-south-lake-tahoe   \n",
       "1  +1-707-252-8144           arbor-guest-house-napa   \n",
       "0  +1-209-267-0747   hanford-house-inn-sutter-creek   \n",
       "\n",
       "                                           image_url is_claimed is_closed  \\\n",
       "4  https://s3-media1.fl.yelpcdn.com/bphoto/Pb2fIp...       True     False   \n",
       "3  https://s3-media4.fl.yelpcdn.com/bphoto/zkSDEn...       True     False   \n",
       "2  https://s3-media3.fl.yelpcdn.com/bphoto/MO9Tq1...       True     False   \n",
       "1  https://s3-media1.fl.yelpcdn.com/bphoto/X_87lj...       True     False   \n",
       "0  https://s3-media2.fl.yelpcdn.com/bphoto/jaDVwK...       True     False   \n",
       "\n",
       "                                          mobile_url               name  \\\n",
       "4  https://m.yelp.com/biz/the-inn-on-first-napa?a...   The Inn On First   \n",
       "3  https://m.yelp.com/biz/the-rossi-hotel-palm-sp...    The Rossi Hotel   \n",
       "2  https://m.yelp.com/biz/fireside-lodge-south-la...     Fireside Lodge   \n",
       "1  https://m.yelp.com/biz/arbor-guest-house-napa?...  Arbor Guest House   \n",
       "0  https://m.yelp.com/biz/hanford-house-inn-sutte...  Hanford House Inn   \n",
       "\n",
       "   rating  review_count                                       snippet_text  \\\n",
       "4     5.0           340  My boyfriend and I recently stayed one rainy, ...   \n",
       "3     5.0           127  I decided to spend 3 nights and 4 days here af...   \n",
       "2     5.0           123  We had the privilege of staying here again. An...   \n",
       "1     5.0           118  Magnificent Bed and Breakfast.\\n\\nThis was my ...   \n",
       "0     5.0            99  Wonderful accommodations.  Staff and service w...   \n",
       "\n",
       "                                                 url population  Latitude   \\\n",
       "4  https://www.yelp.com/biz/the-inn-on-first-napa...     76,915  38.297539   \n",
       "3  https://www.yelp.com/biz/the-rossi-hotel-palm-...     44,552  33.830297   \n",
       "2  https://www.yelp.com/biz/fireside-lodge-south-...     21,403  38.939925   \n",
       "1  https://www.yelp.com/biz/arbor-guest-house-nap...     76,915  38.297539   \n",
       "0  https://www.yelp.com/biz/hanford-house-inn-sut...      2,501  38.392967   \n",
       "\n",
       "    Longitude  \n",
       "4 -122.286864  \n",
       "3 -116.545292  \n",
       "2 -119.977186  \n",
       "1 -122.286864  \n",
       "0 -120.802436  "
      ]
     },
     "execution_count": 356,
     "metadata": {},
     "output_type": "execute_result"
    }
   ],
   "source": [
    "df_hotel_best_5"
   ]
  },
  {
   "cell_type": "code",
   "execution_count": 389,
   "metadata": {
    "collapsed": false,
    "scrolled": true
   },
   "outputs": [
    {
     "data": {
      "image/png": "iVBORw0KGgoAAAANSUhEUgAAAGQAAABkCAIAAAD/gAIDAAA6RklEQVR4nJW9SbMkSXImppv5Etvb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\nMeWsqnt22aNjO/ooFPcmZdmOAP5/exNjSLp1w4cAAAAASUVORK5CYII=\n",
      "text/plain": [
       "<PIL.JpegImagePlugin.JpegImageFile image mode=RGB size=100x100 at 0x135673890>"
      ]
     },
     "metadata": {},
     "output_type": "display_data"
    },
    {
     "data": {
      "image/png": "iVBORw0KGgoAAAANSUhEUgAAAGQAAABkCAIAAAD/gAIDAABVhUlEQVR4nH38SZNtWXYmhq3dn/be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\nRK5CYII=\n",
      "text/plain": [
       "<PIL.JpegImagePlugin.JpegImageFile image mode=RGB size=100x100 at 0x1245E0D10>"
      ]
     },
     "metadata": {},
     "output_type": "display_data"
    },
    {
     "data": {
      "image/png": "iVBORw0KGgoAAAANSUhEUgAAAGQAAABkCAIAAAD/gAIDAABB5klEQVR4nJW9SbBkSXYddgd3f1NE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\n",
      "text/plain": [
       "<PIL.JpegImagePlugin.JpegImageFile image mode=RGB size=100x100 at 0x135673890>"
      ]
     },
     "metadata": {},
     "output_type": "display_data"
    },
    {
     "data": {
      "image/png": "iVBORw0KGgoAAAANSUhEUgAAAGQAAABkCAIAAAD/gAIDAABE6UlEQVR4nK29WbMl2XUetoa9d05n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\nWIQIv5xY/x/jfF+jRMoJkgAAAABJRU5ErkJggg==\n",
      "text/plain": [
       "<PIL.JpegImagePlugin.JpegImageFile image mode=RGB size=100x100 at 0x13531B390>"
      ]
     },
     "metadata": {},
     "output_type": "display_data"
    },
    {
     "data": {
      "image/png": "iVBORw0KGgoAAAANSUhEUgAAAGQAAABkCAIAAAD/gAIDAABBQUlEQVR4nJW9Wa9lyZUetoaI2NMZ\n7pw3KzMrayKLTbKb1SQ1dEuCrAEQBKkhyYCgBwF+0JNf/OCfoh9gwIZgy4AGS5ZsCIYfrFZL7lY3\n1WRTTRaLNWVVTjfvcOY9xLCWH+Kcc28W2RAcSCDPPcPeESvW+K0Va+N/9w//ISJiFJXICiwSBx99\njwrWFtZaUez7vu09IhpnU0gAgIikAKiIiCoAwKiqiiAAAKIACgAAgJrgdsj+Bd7+qYi4/wZjQoBf\n/Aki4u6adz+ir7yHAgCo208RMf+Rb0Ga57Ydqpq/f/tnnr1+5aLbYSQpMaiIYWaFxXLRFO5XvvWt\n1WIxn89fXVx13dBMxgcHh70fZrN5U9V31wYAAHQ7MyFAQcT9/V7/Mt6++GUTQkT66sX5Don/f4y7\n972l1O51nh7Sa2TZT/vu/O8OU9c1EbWyVhVbuqOjozcfvvGX/6u/9ODkVAE++vTz3/7t3/7ww4+u\nZzfOFVVVITIAAIgSkuKOL/I/QURAVFAE2jLXazelr6x899tb5kJgALi74ZnElAmNdy9HAIJyd7kC\ngKh3fo66p9T2FntyQPoK7WD3Y1X9BYYAADDDMIyapizLMHSD98PQ/uzjn1/Pb/7M9//U24/fPj49\nevvdd15eXF5cXKaUqqoKQwSAvOF5qYqKSogKwIACQoiC21ntFn+7ftz9PN25yJ5wQIQ7Qux/QgCy\npdJXl8AA8e7198TcXhZ3ZELYsT8Biqrmt/asBJC/cEup7Ud3dteIwNCHonSldQphNK7D4C+vr/7X\nf/ZPjg6ORqOReEkK48k0Rul6z2gAhBABWAAYdMu2SKgJgBAFgBUU81L3/KwEKK/J7G71vygyt7TY\nkoAzI4Dinh5ZrHRLFEHF3fVkx4yKgFuORN1R+vbudzhI9jN9/SPBO/tjRvV4vV4mCcZwGDpmdM64\nunp0etJtupvZwvuoCSQpChIZBARgzXKBIoCkAkgAqsgEAsggCREBWFUziwAo6X7xDCBwZ2YAyrc0\nov3s8+/wNeJumWVHF9hp/f2ibim124lfqj3hDgelr3xBNe1F9u6vzGbTiQCTbZpaqsKHXjSZsli3\nGyauxiMXpFv3XRwIyNpCQ8wzUADc6q0sTQSgWcEDcTY6iPudQUUg3YkqIOjuBQjvFdzt2JJsP1NV\n3Jm/u7pXXiNA/gJAvlpmDQC4YzQEdxfIVN7LIwBk8YTXNf3dq5vCONM0IQyr5cZVBpBFxDmjCjFK\n6L3vgwo6W6ak3ge7VSoIAEAKuhUtBUQQJdzpGQHR7QbDVqEIIm1XSgDb/eTdXH9Rp/4JhLj98+6n\ndz66pRT+ku8LIvwSY4fyFTLlF6R3dFYMIjIAI5EJXpAUkWMABaMSBAjQCIiIogAgq+6Xi4AIhKgC\naECTAiGIEm05iAARGZLmPwEUEimoIqAgkSoqpJS2VCNGRBS91dOKWf1vZ79jGUTUPd1oK0R7Y7+d\nIO3sIKICaP41Imp6nSi0/f6eent+3CvDW2IxMxERgRIAiGjaTggACRCAEBUFUIQAJfsEgKiIyEhI\ngMqIippt1k4l7yx6TDEvfqcaRHWv+GUnnQkRUbcOyO2k7/DaXrj2Wml7I7grMllJ4k7At1/OV4as\nFvb2JvOabgmtOz/2FzjuLrHQ5EmhbN0kAFQQIiJgIhQMRKqcCEC3JgcY81CC7EeqiBCggqKCqipq\npldKut0oBQBJkChvpCRENURb52hLH7xV/Fu5UAAkkD2l9h/Ra/Kb7wsICHRLqT2Zbh2XnQuGcNdz\nziHHL/Gt4DUxjEJEpASkiKzbDTUoCBpZjSACJiAjIJrE8I7/dzujKgqQUlIFzUIn6XYeupuE5gXf\nug5EuHdot0Zx7/5Awkw7UIJ9SHCXUtuIaqeq9oZkRylJdzU3vK4ZX1dMv8BQd1zf11yHvh3I8G4A\nMhMRAoICKQgCESIbIhURIcmxnqomRRRVSCCqmlQkgd55R3OQ5Xg/Y0TlvefC7FSTagJQ2vlTqqCg\nsLOhqokBke7ECbeU2i7pNQbZWUrUO8YVb0PIvA93fnXrPO8M0S9GHbfDLJdLZrbGGWeZ2ZitFgMA\nEUlJVfJ1t95jirobCZLsSUOo2ZnS7Ddud11VZDcJBJXspWceSUkkBgCxbNigqooI0n6hsg1Ktppa\nvkKpLY+8HhjveGIf7ghAjvlhp+x2EoqveaG3k/zquCOGN9czZrbWWluY7XDIZIwREdW9QEmmEITh\ndmZZ3FBQQQkQQLb0utWjW2N3B58AVACJKsMwhKEjAixKYpO3B2/jRKWt0VPVraC+Tqm78RMopC1b\nqN7lja/AEoh6y4l3A2b85ezEd8VwsVgYY6y1xjhjXKYWoSmKQiHJrVrdshNJvOvjkULmhZQE91OF\nHH8AIqaUdmGa0NYJUAARlWEYfN8bQ85YAKM7m7TTI6gooHvzn9X/L1+S6laTvw4jCN3yyi2D/Emg\nwn9xmHvVUlVjSGkjSRG5QFMKGTGshNknUyQkJuPI2DIFUBRQke3Mtp6HKoAiZfHDLMiIqNhLigKK\nbNmUjIwqGD1LO65iOa4NMqpJIYmIqiAIIjKjAQRFkSQimmJZlqhKQFtQAzV7QEk2iGyY88aIRgBA\nAtUEkiNHRERAzqZWwQOAwn5XtoOZVVHkFszKS+A7cmnGoxIARCDGmCIEn0Jog49FVQpIAgVCICJj\n0FtEjhIRmYgyViMKWftSRlZQCTBt50GqyuSRGRlT0hAHAi4YC0NVUZJ0MfYhqkYEYmYmg9YaVUWV\nKAlAiMgaQGsVAgoqQY6QMKmoiggbYqaUYkqJiJg5E33Hj5m1MijGgIqva6U9abK6yNPesqIIAAS5\nRXLMcjln5sLYwlourNaYoqaUfIoxhRCjJJGEsdcgmqJWRYGITBaRlBCUMqUwZs8LEBGRVBUFVVWI\nlKKiCiCRKUtTVdW4AiMtSMCQIoaIUTUJCAl2GwAAYiAiRARFFQSUHBowoyUmzhEBZClDguiDH4Jz\nTjR57xG1KGxeZPYHEbdWJeuTHPGQKmCOOkFEMvS4W8JtYL/XD+bi+QsicoUpisKawhjjnHPWVhYQ\nHYDLF5IEMYoIRFBVFQkpifjsMiOl28gMMbv9mJEsFKskaLAoy2o0asqqYEypLawWzK6pQMoQ0jAM\nve9CGJDcDqWLAKhIO3BHFDJWI7oNLgBAUwyogiqFs1VViggjFIUdhgFJM6aD24gjw29w67JjRq9U\nVY0h1Z16E9mFSq95Z6YsR6pJBbo2rGKXUjDGVGWJqEVRVFVZOsfIlql2BTMP4gFAEgRJIaSw1TUx\nC0VKKpI98hxFGQayxtR1VY9H1rkY/PVi7jfXlRvqIk6qoq4KZ8tm5EZogbTfSEzeex9CiDERIBES\nkTMGERWipCTbaFIAwBgjEhGVCL3vvfcphRitdZz1A95SK6NfW7dq5/ZvicHEIhJFs9rasSQy2Szd\nzGyYXIxRRIiQkBJoCArgQwiW/cYNlpkZDbExxhpDlRrjrLXOWnVWRKIkSZBSEhGfYkoqksNLAtBx\nXVrL5KDrl7OZb9s2+RbSapHmjobSQumKqmrG43EzrovCuqIssB7VtarGGAffxcHHGGMUVNkuAJF2\ng1FiSoZINXnvnbVc1F23YVcDwJZQ2fFQ2JvBrLwBIKuRPTcZw/nTTB0iskWV30FEQ4Dee+9jWZa2\nqMjaGKOoVE0dB7/eDKBaGOssM3tE5S4ZY3ZOmcsztkRMBEAFGlVQwZQ9REVGP/g0bPq274YhqEDp\nsHTkqEbRFLr1Yrmar64ub6xj4/j87H5RFE3TlGXZVEVKLoSQQmzbVlVBRDXtPWREDdGrYFG4lGQ0\nqr/2tfen0/GTJ09evnyxd1myhssE25vp7QBC3IGsyPu3VVUFJWnXdSmlGGOM0bz/9bdevrqazRZs\nbFVVUaXrut4Pm027XrXr9ZoRJ6NmOq4dEahQoiH4dt2JACIaY5wz1tqiKpnRGIeGwZAFFBEVvHz1\n3MfBpwiI1tVlXVgDBhRFnTFsanCSEoaUYpAQ409/+sfGmMoVTdNMJpPJZDIe1XVTVnWRfPB5Y4OX\nFCXF7GQgKAL4obfGHU4np6enz758uvPwATVjkIw71XNLKaKtTkesqiZbwxhjN4S2bfu+995fz25C\nCMMweO/xb/+dv16WdRJkWxVFhURoOIS42WxeXdx8/PGnl5cXbz9+FGKr4gFSwXY6nYYQxuOxxFSW\nhYiMJ01IPouzsdaWhTEuJg0hbFZrY8lU1hWV4cIYZxgceJIVw8CQNGqMoAJKkFQYfI57ssBYNs5Z\nY8y9k9PRaFTVBUhWixBj7Pt+h/yQZouLmMWHmbd6XBMiEpkcyakqbSMWy8yaEbWUNt3Qdd1yuVwu\n123bhhBSSgLKfMtu5svPf35wcJiUAQ1xIUDOuRDl8PisqqrDg6PlYtUNIYWg4GMahGrDg/d+6JMf\nurJ0MYZmWZ2dnRAoEMQwDL4LSbOyr4uSCAwSARLnYJoQtSxLCVFCAAVmA7zNGfA2wCERQQU2ORhI\ns/llTL0fKkAhoqqq6qacjKvFaglKACQCKSVJKiIistlsrDNlWZZlaYzJSgeRy7qQBDHGzDubTbtq\nN8MwrJablLJrLIhIRGydpS1GstVZoEFTCj4iJDKoCGisNebi2XNAN6omTX1o2FlryYS2XUJ0okZS\n7ELYrNuUkgQPEvXokCwZxhBj6EOKAYGNYWZLTMyWmQmZ0RABIVlro6BGJAOEHAUkDgppZ+QJkZkg\ns4Bjquu6rJwhbtvNet2uVvPCOWPM6dk9AFJBEYhRgo8xxpTSaDSyzhSFtdYiooiklETi80+fZc4V\nkRhkGIbODyFE6wwJG9Xs9wCAIKgqA98S6/DgFNFE304PDpp6ejW7WcyWPsbR5AjE1ZWrq03hmDiJ\ndoDeOIdsXQnee2QqizpZbprSGGMtk2VjDCKaZInImiJFsmyYLLNltoREBIRGZEBENmSQEcgPPolY\nZyClLGXZ6IsIgCBh3ZRF4QhQNCQJ3ve9D9rJxdUls7GmKIqqLGtnS+Oso0Ikiepqs/beD0PX932W\nrKaqs0uTI2JXGBfKGOMweIYtxIK4hb1Vle+oOMOm6ntvbP1n/vSf+853v3d9fb1YLtu+//Lp5Wrp\n5/O+71ISbEYFGRqNWH0roMTWGEEyxlkWreu6rmvirddijFFVAYjJWzNiyrAPExGhQcz4TGJkQkZE\nSSAiZVmenB69ev4UIOusiGCMUSJisl3XxRisISIajWqRMqWUUqA+xCAhDF3XpXSdkm4jEO/ZoLVb\n9WStraqCOZt1ttYaY0AppMi99x6GYYCsKVUzUE6IQmDx1noaZbvpOwT77vu/8nf+67+9zQQjzJfh\n5cvl7/7ejzv/P1/PbqzDhH1pRv3qIsZoDCowomYMh5ldYQBUJBKAYVbVlERAsy9EtFUaRJSDDwVG\nQAWKoimpCo1GkwcP33zz/gPvfdutN5tN17USU4zSii/LMsaUUjK8VeH5agdlNQxD1w1dm93R4H2M\nMRZFYQyVZemc2YN0iBr9oMyoAiAAlGJMKaQUJqM6SIpBUkoCtxEPCu1tqPFKmxD6dn29mK/63lp0\nzgDweGKbyfGq/WbV1PHmipCTgLHWVTZsPFlHhGgynilkMzGAGUEoB23MAEBIWbfr1n1B2Tk4iMCA\nWbGLCKiQNaWkwVoes23qKYAwgTFsLHXrFYAgbdOxojHLS5RBNaWkkgCUVDGllJIaQ865orBl5bKC\nz1zv2O0moJKiSFSJCBLCICI522mIMIsBkoTbBKLpg2dnC+Ry3FRNiZCzO3HZ+aaqD46mrnLG2aKw\nQ0psjBCJCICyQSJSlGxfiZAZEVkieB9TSgB7PkJExb3nsw33sxZHYgbQFIeuG9brFkMgIjZkjGNG\ny2QsMdPJ4RERMCNo6vuubdsYI6BEJWMM0cBkmYfsUqSUnHPZAczRLjNlJwC8B4C4905EiYCZAUWE\nSCDxFlnWJAkSo73lrDCsIcUwBBRkAJItgHNUGFV482Hx3tcf/fSTn5dmst4M9eRU+ZVlI6II6Fzd\ntsPBtPEhkTUKAqhkmI3BGCUBIDMooRJkoMAgGMWcOkKVaFhDGBCtLVwEBWPL0bFzbj6fbdouQzRV\n1aBo7fHB+T0f2+nInp/b588/Xs4vDYMXMsikBiGpYAzgCgQ0bLQo7agpi9Jay9ZQRhqSMSICQaKA\nRBACEBZSUVJS1W2GBQlRlFTV6Bb8AjC5QEdVRSLk7D7lnA0AAhGcn58XzsTkS2c0hawsUkpEjIg5\nft57xIhKsI9Cf1mSGXFXtHQ77oJwx8fHzjlEwBUPQzcMQ9u2GlPfdTeXr65ePX33rfvf+sbbMWb3\nnQgydJOzB5GZLZvEYq11xu6AcjZbYm1DJeYM+iiq7qPHO/nHXdQor2V3iFFRASQL/b7ODoDAJ1CA\nr33t7WZU9t2qdDYMfZb/GKOqMGN2WJB0l6z96tiTBu8M3UW0d8iUfVL13ovIPoraO9AppYuLi5/+\n9KcvX7703vshxhhVlRkzpSwba9lato6dMaVzReFcYZwzzrK1+VPreKvvDSExECGSMmy1xE634p34\n+3YQiKKKaEwpiELUpBnORRiCV4C33n14cFi33YIo9v0yb2PGFXdJjddigp2Sur0Pwt1PtzbxK2x1\nF4DHXciSUur7fr1eL5dLRCyKgpmLojDGDMOQg1tSYFBDwIzWGGesMWQdu8JYx86wNWQMW0bLaFmN\nYcfG2C2uwLjfVERUIrpDrywFt/+IUEEUUowSQooh+T4NEVKC2EsnAIcnB/fOj2Joo18P3SqllN0o\n1VzVsH3xGgNv6xt2aRlC2EGQQFurf5etdJf1zTkOItwjJKpbp2kYhrIsnXOGHSKGEPDWLxdV5fxD\ng5aNZbJMhpUYEIEgIiZERQLewtdEDEQZkkVi2FIq7yUDMSApMN0lnDFITKAgKYU+tEPwFAAZnXOr\nYdVKJFs8fPPcWOmHVYpD399mFQlBJH4lJ3mHBHfez2mtLQYCRCZ+VQy3VA4hbANyY6qqyn5ArDyo\nWrIZLck0YosxplypIpIA1BBkerFkgQIARU2qKgK0jWG2cA0i0l3vHCnmYgikvd5QVbxTnmMMIxEg\nalDf+nbdtUkToqLhbugXF88fvPH40Vv3m5Hzmw2Btu0wbkaqklIC2ju9mXW33tx24ftbvrY9mKtr\nfokYQgIAaw0zIykRWWudcykpJKnKknQfBrH3HgEQoipDLucVRUTLGInEcM77U053CiiCUi4PAARR\n1X097rZkmBQlEyhjyrTHS2+JxcyGAECSxiH6zdD5NAgkAUgqL68vjs5OT04Pqtq1y4VlOwzDuBnB\nNiG6JdYetIa7vi8igChSLpQi2McNt2S6q0Dz7DPX5AEAzAyQsk4kJADKgfEwDITkLEISub31Ns9k\nBBjzHiRVVM3qIufsVbcl6Dk9nBPdupub7JBFzTsod2w3IeJitbJloSht6IqmiARXq8XF7PoP//MP\nybGSfOPbX/v+n/7Oaj0nlBjDzc11XdeI6L0vy9J7n5ULImZtldcmGpk5yyAiAqESKiIzG2cBAA2H\nFHOuOyZPRJnoRVFkO5hz+qpaVdUux6XW2rZticwOkwtx8DlI3tdeZUWR9V30KbupEiT4hJr2mo4U\n7ljtrMIpW7C779+K6rhuSudu2vX19eXzl8+4KhKSKdyg6fjeWcT08ur5yeTk6++/NxrVy+XcGJcV\nh0K6U9GvexfmK0O3yO0tu+XF7HLdX8kMi4iIRiIyljRQdk2AgZkl3P2S4Na65FKmzOU7tSAoKVtY\nFAXxSQXRbHFRgyQ5bMDMYwiq6EgSgKR98nhrheiOn9X3/TAMfd8vN+vVZu1TtIWbHp8sVkt0pvd9\n27bs+Dd/8zfee++9LBd5Z2AH+29pd3sD2WXo8Fbs78Tuefsyhrld7a4UCxHZ7GKLXUC3Bwn2Dkee\ngApmGCsvb59PzhhGhqtSzPgUq6IKg5oMECcf9iP6sDcaMcZsYfLItQd3jABiURSVxKZp6roEgFW7\nwX748tmLorBVXRwfHXVd9+jRo2987es//sGPsNyWuzDnsE68H7quE5E9bLany13LmD/e8/meKX5x\nZAQqY2/EWzfNWjtsr8yyZS0R1Jh3SBFARDNDgYgyYwgRAKlkBk5RA0BpnQMWksSWVFIUFiXSJJBU\nCQEN31WkqprkVmcZZwprrQnGIKWUZpc3X15crDZrdrZt2+OTw7quFzezd84ef//73/8///d/IyIx\nRgDIyURmThGGYRCRXY3VXlluy3wgl2ACIDJsfSjdj1y6uxfSYRgAIATPzmaDKAlCCHVVZT4l2kIL\nhiClhMiqWR+TqqhmSURVlJQrvmJefV1bIuf7BQCIoiQJMcaEQTSJhhRVMME+tNgGJ0zullhh8ClE\niREA6rLywEVR9N5XTa2a6qLsVu2w6rz3v/kbv/HN97/xo5/856yPQYgKZ4xJkVNKXwmsaFsDmjUH\nCCgjZ+Gy1jpHe2Ltg689MxKRcw4Ni0hRFCrYb/o9n+6UN6qKqOxgVRZNIppSigJRQEJitholhL6q\n6oPJtCzLFMU5h4gqGEWADISkoqT5CsoCUTOtt8721kZlYjGzJZs9wOPj4wnbajTpY/ri2RcKcblc\nr2eLB8fni5v5O4/e+973vv/Tjz9ChRCHfugJ1JACQAjhF2XqroeSCbEN4qy1lr7CWXtNT0TWcoza\ndl3XdQBQlY21Nss+7ODwnRRrShkSiADZodeUNLuyCCaFYK195+33vv3tb89ubn7wgx8cjnFfGK9b\nMF6TKADmlEdSyZUv2ab7NuxXYfJ/0YeubdfrVnLYpfD40aPO99eXL0D18ePHqU0G6de/88E//1f/\nYkBKbehD8IRoMYcjXyEW7gKave3daSvDzMa8ViH1ldci0nXd5fXVYrEoiuLemSUk+AUBh51zgNtD\nFCgiUSSTDCAJyxBSU4+/9a1vffPP/YXLD3/22//2dz7+8I8BGQBCSt0QBh99ElFQxZg0xpggJ0Nd\nDkVDF/dzM20UEamNndajd9/5xpPLVzjbHJXF9avZqJmevfFtSp3ddGeHJwhw/PDdt9//3s9/9oNS\n13GImy6iPfYMsV+v29WkLgjUIQqppGCwTMmooOFSxSkVWjozrZuDRjc3KQgmJAFBEQwCiYCdOp8g\ngRWwwcPQS2WNI9aYHDIkKM2IxHat+EFjjJY1YWTCLPVJNEkUyQVcdvCgwk+fX/2zf/qv/9H/+M/+\n+Ec/OTg4itfrPoT5vCNXKrtV2w0gURIYHnzwPqpiWdQHU1NVQgSz2XxfN2rG42azpna+/uLLJz/5\n8CeXq3WMfjqqTk+PTdmICKbB1SU6IwDCaCyN6krtmCSltMlGt6qKLCN32UQhqe4i0cxWZHOErDtF\noLuKvT2SIyLeeyQ6OjoyxqBIjKIxZpdFJGYOvZVugAx5oiZNAElQQBVSHLquK4qqqWw/bJ6/eLZY\nXp2eHP7W3/1b88XqyRcvZst2ttrwfBFRo8pssRpPRn039L0vSi5ray0C6GhUZ9Hp+97E1Mfoo4TN\nZnV5eTEbhrqu0NLl1asGtK7L8XRST5oo8Gx+8/zySoIHScZQUxatC533g++qwmVXS187KQp7h4uI\njHHGWeOctVZ2uEUO2BAYIHs0TGS8j4g4Gk+JaLPZJBEkBsLsFgkCgKQcMdLO0qpIzgml7JsqqtZ1\nOR03zHzv9OzXvvm1Vy+vU0p/8MP/yFQMCSbH48m9kzdUi6ZKqpfXN814ulhsnj193nXdZrN8vpip\nyunxeUpp8F0/dCaJJwvT6fjg+KhsSkyh9e2rqws1eL28mnem7Yr14uqgObbl/XIyJY3tZlHQUBb2\n/PRkvgovrzrfDyEkAJI9Z5FK3JONMh2MMcZYZgY0v+hm5boMtkZEkk+ILIpbjb7luG3uL0oKMRpI\ngcGCARBGRGRFDilFEE1SlEVZurIyQ9eK9udvvOkcfPSzj996793x9HBycHx4cs+UjQKZqmi9B+Sj\no7OhD1dX1zdX1598+tFqcX12doJQZBWZUjJJJMYokkKMm66fLRabzfrF0y8nk8nzV9fKdO9oXKg8\nOH/bFf0f/+zLUVOk0Hdpffrw0cnJmzcL70MfwiIMPvtBIqJ7vwF3Pl6GISmn0VkRVEG3VXcIQLp1\n8Tn75YPflmhlPy3GKBKjJNWEqPvaUVV1hpDQ7Gx8TzGlzmuUmJbLJZtxM6rb9eLDD39KgNOD5q23\n3mdbiPJm8N1qE0S5KFbr9nf+/e+NRlOmgpn7bvPs6ZODg9G3v/PtR/cfb5OM2XXwPq67brPp+s6z\nLeoxpKHtg08ITVOfP3pQIx+Nzj75/ObHP/n5cekw+eDbcVO9+fBRWa4++awKfhVCygf49PWToIIg\nW5wb9+pm6/hliYJcVsuQU9PeI2JKKjH5MBjClCRbWyKw1hJjrvWw1hCLNUSExhhjSQVTyjALpCQh\nppTU2SKm0HXd0cHR6em9lzcrxM3goyj2KRlXVfVoNl//h3//+yGhRrDWSvJtt/zG++9cX89S0gxD\np5SMc5Urqlp0PDqYHBwbVEQdumUIoZ4eDcGrKjGHpNdXixgFIUoKJFIwOUMxxr7tciSVJU51V4YN\nCncg5lwLiMiyrXhBRRXdFUft/Pus4zVtYbKcWFVNub7WulyVHEGJmRVEs2IXhciiFKIEL36QqikL\nZ/ouvRxmKtGwA90Mw6uLZWBmRbZFmRSMUjekJ18+nxwe+UGHTRCNzlYHB5PT09P1el2WZYZARMRs\nuiEEIbTGOBHohjD4zeL64r2vveOa0aury+RDFBqk26zX09GUrpJFVEIijD60m03XdTly3Ru4ncen\n+HqeYj9ge5R1FxgD7iIicpa934blmiTJFjVNElRVCVU1xnzehVTYp6iqmIRQRKDvU+tTPyShSEQc\n1FpSNYwaU1HWR+cjJmONMbaoBECBum548epysVgguBzMFXVxdDhVTT/72U9ns/NcikNExhjnbJm0\n++mHHz366GMpi35Yf/fXvvnozQc/+NEfxZQOD0cj6x4/eOfiZfr4kx82IocHk9Oj+0PXA8pnn31W\nliWo+iGEGAvnlFBSCpIASHWLAltm59wesdiDhcwMhHFbomgBYLPZICITiOA+7PAhdji0bWuMabt+\nPKp80NW6c5Zj3IbVAETIKbIP3Ada9a33QwgBQMrCnp3cO79fNc1xShslXLUbl2JKal3BzJvlAjUQ\nMhk0xIQS01CX47N7x2U93aNaxhjTdd2qXb17dPTrv/adhcSfffTHNzc39++dbparq9nNeubuHx49\nPHvbEIDEvu9jjMYQEy+Xy/V6nTPDirC3b3et3C07Mekuu3QHkPgqBFY4k6J2vvc+DsPgnCEyQskU\nLgmECD4CoFG2bT+sO4+IBikDh8HHrg3z5Wa16gC5qorJwdHBZNw0zWQ0KqtJH2WxWWVgyoUUQggp\n9t3w2eefpBRD2uTKOKLCILjCFoUdj8cZI8qxmrGObTTOmWHobhYz7/vKFX3nnSumk4PDSTUZjYwx\nABJjyKgus0XAxWKRK6EUTM7Q7EL2fZC8hbGYmei27FX2HinsWwZsmajrekIjIsxclTUxrtt+fnM1\nLx2wOTq7l4CvF61PxjlnGVKkZlRPJpPpaFzXtbO1kk1RyHBZFnVTFtaAxDB4VbTEblqFENZta00x\nDEPXdYT27Ows+tS1fr3q+7bzvl+v1zfXMyIIHnbxrDW+ayVGRFwsZr/7e//hy+ub8cHYv5WePXve\ne2lGB+f3TkeGhpC6ISgRAKaoKSpAWq7nwzAwFf3Q1lUTVWyuIUAlhe05CxRiQMZtBgwlQ8+qKqCk\nokAiKoBJdVeOjKoYYhKBbrWZz2dPvvisbzcPHjwYVaPnFzegyVaT0+MjYijKA2OosNYYRufAOlRC\nUFGNIoOPSSNISilChEGQXMHGlIUpy3I8JmYuy/Ltx++VRb1ara9eXV9eXq5WK9ToHBUlq6QUFVRS\nDCZ7RojqnAshGOdOTk76LtZHB8Mwa/v2+FCLmtsuDVHRlH3vt7UmiG3fAaJzLiaz1Rya/fgczd8e\nTtjqddzauD16h6AqGYRSEUkabeFS0sF7ESzK2hVVUdZA9MEHHzRN07fdbLbo+5YQ+uhvrq5iWIlE\niUF1m9fI8ntycuQKqsqiLE1dOsuGgFFwenLkbEloJWGKkkiNiU3TAMDh4cHJ0fE3v/mNbb6ahBjW\n86t9HGaIjLVOgk6n0zfffPMYzYNHDykpmmq58hfXN9PJ4eFbj2w9McUIjWvq8Wg0UcS27Wezlfe+\nQChKm4sQRTilpLSN11RVZVsblCFzEYk72FdQFBIiie7eEVmvelUcQhiPDs/P32jGY+u467rxdDIM\nQ1kdHBzft9YZwz70Ejxz0fftZj3fbNZ9163X6+vr684PP//0E4VAkAzhqC5H9bh0BQDFD9PR4cl4\nPCnL2jljrSk3zjlyzllr2VXETjSsu96HPvkwHdlMKSQ1fdsxYNu23semHvuYYlAQ/OLjJ18+vbpZ\nrmZv9utexpGFXECXFJJAu+lFpCzL0RREZLlaHYxdSilmFHyb15QMuCikPdy+hZwk5EJZQlWRBLfE\nys69McaVtSsrRYwJwNjFatO2XVnURGZIQdX7rm2aJngPTKPxdDQZGUYiCiH0ff/kyWdD3y4WN5vV\nIvbDarW66q7btq8a0/etvSpSVOecK4iNFoUZjWvDzjlXuqqum/F4PB6PqsNJO7vYu0TGGFdVTbh6\nBQCHh8fr2eJmttCowet4cqSmInbzxRr1erZq+yH+/KNPnj9//tajk8eP337/6MHGw4urV598mkK/\n2MuX5iL4nc6+xSG2VVF75C+JSm4utf/m2b0zPwjQuqoqMhyDgBEiSpIUCNmEIETkXNF1w6YfCAKh\ninhNEVGtMdmefPDBBwCS4hB9P3R9t1q/enl5dXVzefMUQFarxWKxKgo7HjeuwLpxl1fPvfdd16ek\nTVXfv//g8eNHp6enE2f39Qbmo/V43Ro/OfudP0z/8b//H8q6efD4zbe//s7Tl0+Pz0+uLtaX03bi\nDmT54q1G/ujqh/Of/6CIZcL3r4e3Czh7dA+/9eb5w2b4gz/8g3W3TNXUG42DH2IST4Vj9TB0fjzB\nqiiRIPadD7FbL6KGiIli4AgGjAyQBh+GWJjm/OzsjQfcBQkJxDAw3czniIRcLbugSYjVx4GcJEnD\nEKy1AC4qgkIUMgSa4vXNklAZwTI35XjaTB7cf0hEPaFE37br5WI2u7q8vHo1v5nNb5aQ5OrqRpOU\npYtlnF/OPvnww7ffefzX/spfFAkxJhEx3/7O931MB5PTx4/fPT2558qCLCHDN/qvrfrNJx//9POP\nP/r22w9+43u/Pnv25dPPPtLUiTBIx+hTWl1czK7C1ctnTyUliSn1Yeg7iQkFMuDJdQ1KUVLbtjIA\ngHBFAOCcA+lSSpRbHZDmrKohDr73HqKgT+BDRMMpDCIpIxbGGEQQlOCD90OBLIrMyMZmFvYxSoyF\nNQoaJaWUIhGBGkIi8kBscNQcHEymjx49Sn7ww5BC/P3f/T0ic315NZvNXGGbpjKGsnbK6XERMe98\n67tt2ztb1tNjKquqGRmLQ2iPDg/HofrV998/PRo/vHeKw9DOro0kD4OzBWMLOmOF9eK5X79sl7Pl\n9c35/Yd2xFYIGNm6VqXvhBQFNMbYdR1YLgqjCtnBAQoGgIgkSYxJJKlqU5VFWZSFDVFf3cyuXr0K\nMXrvbeHKsi6qyrmCrQGloDQkIFKNomAUQBWSiiYQYBREFYk5Ck2Emn3XISZjqHTGOXYWy7Kuq4oA\nf+u3fuvnP//kR3/4n372s59Vdfnee2+98eD8/Pw8H3nOyVDj0WDRuGqipmwHAeprNSGmcVUVlr77\na985PZw+//TTf/mP/qfly+erm2XtTGGoXb1cbW60P4W4TN186De+h1E5enz+0KdeRMjYTa+rNiw7\nMVwEL5tNZ6uyKUtDqAIiCkjGMILGFDCrT2ec5aYqfcTNZnn54vmnH/+873sfQl3XWfPWzaRs6qIq\nBSCK1IVVxbCFHBHRsFECG4MXBRXMbUkMYiJiIGedSOzasNlsCMWyWibDeH5+fn5+Bt/9zqM3Hx4d\nHTx8+EauZR3aueR6CBRTTibtumuj5+iPJtOqGZWlGVETQgdAk/FJUzfPk7l6tfrsZ08++eT5B48r\na4reb27mTyu7aUqN/WY+nyNC4ZrJaJqkHEKfENBw0YyO8KAZj5RNBO39MAweVdfrFpFjjEOMCVAF\nrLWgabGYf/LJJ81o0nfh8nrx7Nnz5c11SrHv29UcDVt2BRd1VY/qUWPKAhHl6BCzGXPOGMMMyNYg\nhRBAGRCQHWXsDDABYgBRSCmBCFFEVVQShR/96Icg0Tn34NH5+fn5dDKazW5Wqw3KsIs9wWjsX108\nffr02dHk6Jtf/xVKxxqqw4PpfNWOpxNV3fT49ru/9t/8gzd/+B9/95/84388n/+/bJNzPK7KScGg\nftV11zfaJ3jx8prs5z5sBr8KKsrOls0bj757MD05Pj8zzs2Xi65fSVivbVm7ukBbGR3VVV3UyKYb\n0vNnz/7gRz+dTKZArnCVtfb+vXtIuljMQggiMPg4LG/a5WxujBIK6MVo4pwbj8fT6bRpGuecK4y1\ntu/7XNVncr2agqiCwno5ZwIiMaQAMkTfiQeNg994700PXe+MpRB77z0ZhsCwKxgw2r2yacZ+Lq3M\nX33++U//03K+unfv3l//G3+T2G3abrVcHTTj++fvffCnR4s1/sf/eza7fMUJxs2BZbdcrRCrg3NO\nOBrAPbucpbBW8EGCIrnKD/EJABV1/eDhw6ZpQLxIOykIumVttXFcGVNVFbK5uZ4/e3nx+ZdfVGVd\nFNXpyf2DgwPnnLV8MBlZazXJMIS2G4ZhGGIYQjcMw7ztkXTh3FVTZ+wpIyo5+m3KKtcLEpqdr0RM\nYIxhipLSkHwY2ugHw1oUtiqciAxDv15T13VE5JD7fthsNl3XmT/8t/8qJNisejM5uvSrj372yWKx\nwm//eoG63qyZiqPDg771H378LA79w7e+efi3/sHv/c7/s3r1ZYWdiqZU3Hv08BtvvN1Hq1T40JP2\nVQEpDkMIzpbzNS0Wiy8//1wkHRxMxpOqKcppM5qOJxUnif1sNpvNZk3TKEBduMPDaUratu3LVy9e\nXV2qpuOjg+m4mU4nhnjclKOqTBJDCH3f9n3rseq6ruu6+XqeE+NFUZRleXBwVFVVmkxgckB1bc02\nC08MuTXT3gHMEG4IfS5sGga/XK6GwWfH21KVo4LZbIZHDx9sNj2bsl10IPSX//pvff97f/aLL583\nB6d/8a/8tXJ0fHG9UGEQ9X2/Xq5S/wy71eWTD59/8sOP/vj3p0fNX/obf9NNzzzXEQgkSFinsFIf\nQAQE+mijSopKhqeHk3tnx4eTsmD94R/8e0oDpl4lqSYRiElEJJp66P1q3V/dLIqiIeab2ZUhZITS\nFWcnJ9PxZDSqQdOmXZZlueok58NjjJt21XVdPwx972OMzhXMfDA9Oj47NcaVZXnv7D5ZNYRIYFlB\n49CtYuics4UzDKqqm81mtdqoIpOJMV69bD/99NMnT5607YD3Hr6FbB+++fbZ2cPTk/Pf+I2/8PDN\nd5588eyf/st/HdWdPXj8/T/7549P7y9n83a9addLa1TbRZo9s8P1k0//86pb/Mr3vtucvdEm7kMc\nfKexZxhYEvQh+gQWRSSkGCQVhR3VrnBM4i+efUoyoARUIQIikzHlqpm4onnyxYsf/OGPTVE/ePBo\nCB5Row9hGAyxpliX1dHxpHS2bipil1IiAkTMZ09z5dB63RZFIdsKEV2sN8aYe/fund4/zyiFc8wE\nfbsKvnWWi8ISqDEGErRtv163V5c3r15dffzxs/V63XWeGczf+/v/7WK19kG7QZ5fd//q//od0d+5\nvJ6tN8OgkNz4erG09bgNQ0QVxl5Agmqko4N73/imfXXzMqlbLjZucuQsAopaxGQwJDKRRajYCLJL\nEAVVkx/a0AeN/XQ6xdRL8gSCqMwMTABUWzuZjJ58Ntxcvaya6Xo6FVDnXEhxCMlWRUw6W61CiiJ+\nGIb3334bUJumqeq6nkyyWOWcfkgyny+vr2aX1zcvX1zEGF+9ePnGYl5V1bipjg4Ox+ORs1VTNaOm\nluBTCn3XvXzx6tNPP3/+/MXsZrFcDjGBMVBVzhhj/s2/+zEiJzTErq5G02l5fHz67Xd+9c3Hbx/f\nuz8kESUwJkLb+SGBytCX1vYA1/N1yeDKURjiZn19ROTKoqlLVee7Popna40zyQyIqOqiSJKgMUhK\nwsyMgBZJIdfw5ZaLoAQS+q7brJqqOjs/qwq32rRu5BaLVdv2VdXYoulDbIeIhAnNRx99JCJ1U02n\n0+l0ejidNE1jyH357Ol8tnjx4uLqZt62/XLlQ4L5fPX50y+dc1VVHR0eHh9MR009qqujg8nBwaTv\n2tls9uTJk88+/nS5CM7xuC4jpmw3Ukrm4fvfPzw6rptpUTfjydQZa609mEzavh/ELNYbESGizWoN\nMTGxAakKA67obmaDdkqJnFak3fULHo0qbbgoyYGAI0MMGMjlWicAAEGf3VEwfvAEgMRMDJR7+UgC\nDUljP6zaTV3XZ2fnCnR5fSNzzU6/D6mqisGnRb8pCjceN2Vh+r5frrvZYmnMi0kzMsb0ff/ixYvZ\ncr1YbvMiZMBaQLKrdUDs5rPu5tXNE0uoYA1ORnVVuH5ok/chJO/BGNjlCoUwqkiKwbz/q98r6jpE\nSULC1bzr28v581ezw8l0tfa2qKwpZteXGsJkXK9XizINNy9n68uXJvXjkTGWQXvSMKwXsZ+1XeUm\nB7YesaslgYRAaGOKKYoqIBgiAVFEsbZASLtIAqLEJDHGuEleVJZrPyQ1tnCuqOu66zpNkmJs15uh\nGy5eXl5fX7vSvvHGG6fTsnSVK5qu24TBL9p2tVpdvLhxBfuQJRuYUZERCZinEyEiALLEBOj7QULs\nuq5vN4xS1/VkUsQYU0jb4kpEQpIkpGCquhhCWKw3IaG1vYQIok1Vrlab6XhSWRdC6Ncb0khVhT5C\n7Fezq6HdTCprTWFNiD5CvzngJLGX1canNsRDW0+YitzWLVtoZmIGRJvAgyYFVfGiUQRFkk+Sz7tL\nSUMfN31CW9aj6dHRkSvLvm1//OMfM2jftn4I7WYjosa4yWTy+3/wR2+8cXh+fg6KyraqKyS33gxM\nhk0gF4PXwYeUoiIRCWMyJlkCU1TGWiyFwdZV0XZLa9gVxrAOvfchWuOcc2zrXdEsmBh9SlI6O3JV\nUmxjYoamKlALx2Z+fYMAlS2WN8trP9RlwRqPDw6q4wONvl3fDMOmpFBQmhQWwtCltBk2vQjHVDeT\nsqiRyoh92lZ/gErK9WaEKgIiJJpd6wzlStm4dXczJGVTKJD3PkMUs9msqUYnR4dsiuOze/PFYhgG\nACIHRd0E0cvLy+VsPh7VRHR1vbl//ySFGKKEKAnQOGeLkogYZgi5b2Hup5H7g+DBeNwP7dC1UFrn\njHMGkUU0+u2hD1U1bxwfd71XhAgYY/zam29eXb2yNvS9f3bzvO/SqJocNNPzh2/DMGhM5Yh6u2oX\n19APBXuDHaZF0PUyQPQDQqpYbHsN7fO6nTT1tD14TDIYwwra+hBB2BHEGH1PGkglN78NCjlcK0yj\ncbacL05PT4+Px4P3m24TY/yVX/1W1/WrdRu6taqSBYzw9OkXIdj1fHNeW1eb9pVevNrYqlEyqff3\nmuJVt7kRKKuamRmC9K0SsFHLhhBRQsHsmFEVECVhUVVlWS83S++9LQwiblo2xrIrQZPZLK6PTk5f\nvrquRweG+fLlLEZEIY1cuVFlqa5HdeEwBFVRTkkDQFJIqiHGiJQMkDUFgVoLjsA51WTbvp/Pri8v\nr2EVi6op6lFiVzCQoEgyhOAcKWpKqioAmuviSa6ublR1PB577z/77LNcT2KtPTu7F0IYfMwYrPex\nbdu+G87OqTGxtklC6xywgGhMMRJkBwLqgiJp3/e15fF4HCXkDhOMZAgQVSmJSFlWq1Vs2zbrOSKL\nYBHw7HS8Wq02m5mqmv/jn/8vf/fv/X30PcYmeYhdOjg4Xa/XKSgDW2dKwyqDSovQW6ubdqPgbcGM\npU01SyCJmFsdCvrQh34gjKpiGRDRdzfEYUidmqIaHxrCTRsBxDCisuTcUsoFy5LLAk5P733wwQfr\n9ZqQQ/TEPAyD5hPqIkjGuXI8bg4ODoio7XRYvsLuxlo7mTTBpCGiIBhLzGitSWrYFioIIH3b2apK\nEpOPiVENFIbZGkbofCcoRVnVdbNZd8vNAiAatqF72nUAAKMGzeLq5fzVCw921BxiQgsGRNtVawvH\niKgphEQQOA2MgQmYOXkQkewbEQFmrD2JI0YgEUUSAmUDFZmr5WK2ms3WfT09efS1kl2h4pFMiAIq\nkERVc4FwTk9nJ+P09N7R0ZHmklGCxWIBiCHEvu/73i+7mci2+qasp/1mgf2GGQ4OJlDqsguWdLNZ\nj4/GzrnVugtRrbG1czK02/YiIJoSoCKDITbWDcMQEkDXGS68j6BsjKvr0eK6vXcP3n337UePHpk/\n/5t/bnZ9RcWkeMMCIbH0w3I0LXMSFFENExMbdqSEkEZV2QXo4soPHeNgWRgTkKqRwlI+C42Y5sv5\n9c2iG8L1Zb/YbDZe33z3/TfiO8RGRJzlrutUFbbdKrfddQkAgdvVOoQATIhqrc2nMbNJTSLeh81m\ns16v27b33rfrRfQDRw8k1rmRMeSKwWLqFsZwWVk3hM166GXgxhrUFBMzW8sAohAlYYjIBAkwJYhB\nyiIUxgUThqFbDN35Gbz7ztn7X394fHxgptPDIHDv/Lxqys18WYxHqW3rqlqtVoycjxw7spysxiEF\n7wAadmXT2DKUjCQpDRDBN5OqW80uL5+tN9cxddez+eV1qwAxNVG0HB2MD0+IrY8xCSiSIqlEUATA\nbXvLnOo3RYw+IwQhDkPImhH2Lf2auqqr8ujwIOPiLy+upMJ+7jeLuZA048PRpPSDG9YYhs77cP/8\n5BTN1dV1t2nbDpDX+fwvMxNZUUiBBkU/KBMja4iD7zd9L4hQFfBX//KvHR4e1nUdQmuGGN98673z\nR291CfoYCoMKsGlXSGoIjSELQKIIYNEIg/VLMsIVqk+xn7ebp93m0g/rH//oCz+0m9WMKdWjCsg8\nfPz4/huPL+YAxNVoOjk5i8SDFyDOFWtIpCIoSW8r02nwnbW2qipVNYlCCDEGVKpckVKIfhj2OX5E\nZjw/P1Vfvwrrm1cXYORsOjo4OpHoFzf25uWzmPrTs4OD49PF4mh2czm/uV6uNYYUwhAjG3ZFUaoY\nScRUJoxD3yfvmxoePx49fnT//htnhxMglc1yMQyDOTo6HE2a5XotWIzHh2UxHpxoSoRoCQ2opEAx\nWJLKGuPIYhvCZrN+fnPx88uXP1vOn4SwAk39pp2Mxm88fFg3hQJezjYJG3JH3/xT38qFbj7CphsE\nlIyNfmDO/RPy4yRAMrQkSXenifuhzRTJRUve9xmNMszMlKsORGJTj9HCjTExRmfd4cH4/vlpkuHR\n/ensdHp5eUmOJW7KAh6/ee/h/YPrG38zm19dzrs2KhKIApMmdMZFwMLC/fvjb33rnbcen1Ulg4Sw\nWgsiEdVlZbxfrWbXo6Nz5MIod/ONA0cQHGHyG5B+VNB0yqi+nT+bL25efPx7X37x2dWLz4bukmBz\neFSeHE+Jyvfe/fpmubq4uHj67CICXd5008NHv/rrby0Hzf2dkigbS6qiyTKpSu4+gYZ3yVcUlMrm\nnstq2eQ6iLqs8nFg1aSiMQ1BddeyhcKwaYri8PBQCa+vFyn4ybhYLDeEcn7/+P4bp1EgJGmHtu/b\nFHQ8Hj98cDhfdBcX1y+fX2/WM2ZbuUJY+647OXbf+MZbX3/3gTVh8DPCRFTsEunJXD/7goI446oR\nG6rYWQJlIJbe1BGS79tXn3/+2Ref/eTLTz+8ubrwq6eW+fRk/ODecVEcGQNRdLP2v/3vfrfvNQRw\nDspRJeiQa+BagUVFNNc+iEoEiSpC+YEnCLpHLRUAIMZwW7cESUEBAVR2KSndHV1XRiCEpBKjZ+bR\naNS2NzdXLy9fHRALGcxFrqjEpHXJZVGJMKMDoJPj8dnx6N7x5OLl7OZmNrTr3kPTwL174+ODiiAM\n/dKHjTWkYvZFVKa7eql1VcMbJzUh6zCsfLtMw7If5hdPP/7k5z96+vSjfnNtcCiMTkt99O7bueDT\nD92r+art+66TdSuGbbcJRQn1pGpGEzDJVQ4YUAFB8ikr1AQaJCWUlE8kq+R6XFBVyYUkEHTfWTur\nMQVAAs69WXV7LJe2p5A0RiY+OTn54IMPLi8vi9JE37KBPiWWfJyfgRAYiIUsk3hEdMbW5fjkaPzW\n49P1ctN1HSPVpT06ag6PRgrBey9JlfFOs1cwR1YPHZ6WMrWbZXtx8fnHTz79yezVF0+/+Inv5mFY\nlg5Pp810XBsGlXhx8UITbDbdep0GDwKgxIT18cn9EJ9VDY1GFVtACiGtu3YO5QGJgCbRoJoo93ra\nOuwqKKDbml0FAQSmDGzBFt/aVRGafHIfZPe0nu3hYiJDAFVRvfXWW/fv3/Ohi6nvfatJkmhuv46o\nQAoGgKA2IEmSemZbFEVTV6fHNaoyE4iKxhS6ECOAISYVSLuD8apqvvcrj5Tl8skP/+gPb558+dkX\nX368WrxUvzw6cKeH9mBy6pwLg1+tVuvlpu/jqxlYAzFCTGCsdeV0cnB6enJ/Nr9etcE6jhI0BcRo\nd0iQiIIo5SKsu0UiCJpwXweYHxVitg8i0N351G3zPwLcN7KFLeMJISFBCGGxWThkQ2CJkYyCUWVS\nQN2fv08CKWmKMfcI1BS8xJBo17PAOdp1e0VmFsqdEo3ZFVMDmj/6wb9Z9+F6tXp1PZ9vlobk9GR6\ndvzm0bTo2s1sNru+WSyX0Pu8vSAEYJ21xUFzeHr/0fTg7Pz+4/fe+/q/+N/+SVBSJMMMmgpjS+tK\nY5dJRJJIfmwCqkBSEoVtiU0+9g5CKoiKCrlhgajsj0fCbgH5uCpuH3wmoqiYlCKiEU39EFCTsWoM\n5gMElBsYCQJoghQhJkji+23duaZ82thYLqzVXSuPlFIMu7wq2rsVsuazT38P2YEdTUakaNq2n13P\nQrv5+U9X3kPwIATGgaudCqakk8NDSajCZw/f+davfteVEwUbhG3RxASKQGhSCNFTaEO3GEJVbWu2\ntlqSVDGCIpCCKiRUQRTM3dJRZdsdMvcOUQRF3bdYUNq2bc/0UlUQDc4YV5ZqVIMXHZIEAkj5IUD5\njOu27bBBoroqRERS0JiQlYkcGybTdxuR7fFoVQSm3PNWd+12AcC8/c7JEHE9YFj4oe+WC48AsUsS\nwBhTVjYhJQCgohmNyrp6+Pjh0y9fvry48knr8YGrJjfXy8vZQkRDCKqG2YJEx2SxIjAhxzOy7aYH\nkCtKmRAU01aViwIqg4CC7J/oBYpIvH3UAmcZzMSS7WMfFAAIIaWQIjAwIUJSkYSWkDifQEQhzE8p\nQACkrguIyMjWOmYk1BiC931djvq+VU3MFphybq0fhtrZW2J9/GrarebrxU3XhZDAWTDWgnWezEAl\nunp6fO9gPPnJj35/2oz+6m987z/dTLvVF+X6skoPE/DTi1lloC4ASpMY7x2NJtj1EHp1WmIrc4ms\nqtsHNSRJKRBneFtUZdtnAlkBByFV1ZRyQZpuWyMSE6iKasKkAtsOYftnYokwIqj6IEIEZBihSjHE\nGGDXRmWrlQAxibV58aKkCUBAhUgVV0EQC3Zue8BTI5IxyHDnVLJ58uSJSsQUFYANAZdoajLlvePD\n6eHZ4en56OAo+OHTjz4chmG5XJ6dfW3eNL1qCAF2HT225+d2ztvdTC9u+9De1vblM9+0b3byCz22\n9E94Yt6fNPZO2t0X2zMwO2LtTnb8knvdvtg7e9tZ3Tai2HJWCIOztixGzpVkR1wccDkxtjk6uXdw\ndDw9OnVluZi/JLSD77quOz8/fzmZXIpmjGl3fjITC/IhHtmdOdx2jgNQuD39JPLVHi+vTX13luXu\nSu4uYEeI25O/+QhCrrne3+W/SKy7W6KqImn7WLvd9XMHn30PDEQ0xydTQ2zJshu75rgaveFGx8aN\ngVzEZtlRqRKF0VjUXqKvqso5p7o9RE5EILer2mL7u4bFzEyQewTe1peq5Acv3J5qR8S8r7+457cW\nE7cPsNi/+Apn6Vait8TeMbX+ArFe6zYBu3MhIgJ3njm33867zzb9/wCM6PtYd3PqZwAAAABJRU5E\nrkJggg==\n",
      "text/plain": [
       "<PIL.JpegImagePlugin.JpegImageFile image mode=RGB size=100x100 at 0x135673890>"
      ]
     },
     "metadata": {},
     "output_type": "display_data"
    }
   ],
   "source": [
    "#display top 5 image\n",
    "image_url = []\n",
    "for i in reversed(range(0, len(df_hotel_best_5))):\n",
    "    url = df_hotel_best_5['image_url'][i]\n",
    "    image_url.append(str(url))\n",
    "\n",
    "for image in image_url :\n",
    "    link = cStringIO.StringIO(urllib.urlopen(image).read())\n",
    "    img = Image.open(link) \n",
    "    display(img)"
   ]
  },
  {
   "cell_type": "code",
   "execution_count": 365,
   "metadata": {
    "collapsed": false,
    "scrolled": false
   },
   "outputs": [
    {
     "data": {
      "text/html": [
       "<iframe id=\"igraph\" scrolling=\"no\" style=\"border:none;\" seamless=\"seamless\" src=\"https://plot.ly/~stephanielam/28.embed\" height=\"525px\" width=\"100%\"></iframe>"
      ],
      "text/plain": [
       "<plotly.tools.PlotlyDisplay object>"
      ]
     },
     "execution_count": 365,
     "metadata": {},
     "output_type": "execute_result"
    }
   ],
   "source": [
    "#Best 5 hotel map\n",
    "best_5_map(df_hotel_best_5, 'Hotels')"
   ]
  },
  {
   "cell_type": "code",
   "execution_count": 297,
   "metadata": {
    "collapsed": false
   },
   "outputs": [
    {
     "name": "stderr",
     "output_type": "stream",
     "text": [
      "/Users/stephanie/anaconda/lib/python2.7/site-packages/ipykernel/__main__.py:5: SettingWithCopyWarning:\n",
      "\n",
      "\n",
      "A value is trying to be set on a copy of a slice from a DataFrame\n",
      "\n",
      "See the caveats in the documentation: http://pandas.pydata.org/pandas-docs/stable/indexing.html#indexing-view-versus-copy\n",
      "\n"
     ]
    }
   ],
   "source": [
    "# Add Landmarks\n",
    "df_landmarks_final = yelp_df(\"landmarks\", \"Distance\")"
   ]
  },
  {
   "cell_type": "code",
<<<<<<< HEAD
   "execution_count": 16,
=======
   "execution_count": 298,
   "metadata": {
    "collapsed": false
   },
   "outputs": [
    {
     "name": "stderr",
     "output_type": "stream",
     "text": [
      "/Users/stephanie/anaconda/lib/python2.7/site-packages/ipykernel/__main__.py:5: SettingWithCopyWarning:\n",
      "\n",
      "\n",
      "A value is trying to be set on a copy of a slice from a DataFrame\n",
      "\n",
      "See the caveats in the documentation: http://pandas.pydata.org/pandas-docs/stable/indexing.html#indexing-view-versus-copy\n",
      "\n"
     ]
    }
   ],
   "source": [
    "#Add Nightlife\n",
    "df_nightlife_final = yelp_df(\"nightlife\", \"Distance\")"
   ]
  },
  {
   "cell_type": "code",
   "execution_count": 253,
   "metadata": {
    "collapsed": false
   },
   "outputs": [
    {
     "data": {
      "text/html": [
       "<iframe id=\"igraph\" scrolling=\"no\" style=\"border:none;\" seamless=\"seamless\" src=\"https://plot.ly/~stephanielamm/52.embed\" height=\"525px\" width=\"100%\"></iframe>"
      ],
      "text/plain": [
       "<plotly.tools.PlotlyDisplay object>"
      ]
     },
     "execution_count": 253,
     "metadata": {},
     "output_type": "execute_result"
    }
   ],
   "source": [
    "#get the most frequent category labels (Overall)\n",
    "count_df = freq_cat(df_landmarks_final)\n",
    "\n",
    "#plot\n",
    "data = [go.Bar(x= count_df[0],y= count_df[1],\n",
    "        marker=dict(\n",
    "            color=['rgba(222,45,38,0.8)', 'grey', 'grey', 'grey', 'grey', 'grey',\n",
    "                   'grey', 'grey','grey', 'grey',]))]\n",
    "layout = go.Layout(title='Top 10 most frequent category for Landmarks')\n",
    "fig = go.Figure(data=data, layout=layout)\n",
    "py.iplot(fig, filename = 'Top 10 most frequent category3')"
   ]
  },
  {
   "cell_type": "code",
   "execution_count": null,
   "metadata": {
    "collapsed": false
   },
   "outputs": [],
   "source": []
  },
  {
   "cell_type": "code",
   "execution_count": null,
   "metadata": {
    "collapsed": true
   },
   "outputs": [],
   "source": []
  },
  {
   "cell_type": "code",
   "execution_count": null,
   "metadata": {
    "collapsed": true
   },
   "outputs": [],
   "source": []
  },
  {
   "cell_type": "code",
   "execution_count": null,
   "metadata": {
    "collapsed": true
   },
   "outputs": [],
   "source": []
  },
  {
   "cell_type": "code",
   "execution_count": null,
   "metadata": {
    "collapsed": true
   },
   "outputs": [],
   "source": []
  },
  {
   "cell_type": "code",
   "execution_count": 75,
>>>>>>> dec66a0c459316da851e9fd26bc857330509d331
   "metadata": {
    "collapsed": true
   },
   "outputs": [],
   "source": [
    "import json, ast\n",
    "import pandas as pd\n",
    "from django.utils.encoding import smart_str, smart_unicode\n",
<<<<<<< HEAD
    "import requests_cache\n",
    "import requests\n",
    "import re\n"
=======
    "import re"
>>>>>>> dec66a0c459316da851e9fd26bc857330509d331
   ]
  },
  {
   "cell_type": "code",
<<<<<<< HEAD
   "execution_count": 2,
=======
   "execution_count": 68,
>>>>>>> dec66a0c459316da851e9fd26bc857330509d331
   "metadata": {
    "collapsed": true
   },
   "outputs": [],
   "source": [
    "requests_cache.install_cache(\"cache\")\n",
    "\n",
    "def modify(city):\n",
    "    \"\"\"\n",
    "    modify the input\n",
    "    \n",
    "    Argument: city\n",
    "    \n",
    "    Return: soup from the url link\n",
    "    \"\"\"\n",
    "    # capitalize the first letter of each word in a string\n",
    "    city = city.title()\n",
    "    # replace the empty space with the _\n",
    "    city = city.strip().replace(' ', '_')\n",
    "    url = \"https://en.wikipedia.org/wiki/\" + str(city) +\",_California\"\n",
    "    info = requests.get(url).content\n",
    "    wikisoup = BeautifulSoup(info, 'lxml')\n",
    "    return wikisoup"
   ]
  },
  {
   "cell_type": "code",
<<<<<<< HEAD
   "execution_count": 60,
=======
   "execution_count": 69,
>>>>>>> dec66a0c459316da851e9fd26bc857330509d331
   "metadata": {
    "collapsed": false
   },
   "outputs": [],
   "source": [
    "def extract_overview(city):\n",
    "    \"\"\"\n",
    "    extract a brief overview from the wikipedia page\n",
    "    \n",
    "    Argument: city\n",
    "    \n",
    "    Return: print the overview description\n",
    "    \"\"\"\n",
    "    wikisoup = modify(city)\n",
    "    content = wikisoup.findAll(\"p\")\n",
    "    print content[1]\n",
    "    if content[0].text == \"California\":\n",
    "        brief = content[1].text\n",
    "    else:\n",
    "        brief = content[0].text\n",
    "    brief = ast.literal_eval(json.dumps(brief))\n",
    "    print brief"
   ]
  },
  {
   "cell_type": "code",
<<<<<<< HEAD
   "execution_count": 57,
=======
   "execution_count": 182,
>>>>>>> dec66a0c459316da851e9fd26bc857330509d331
   "metadata": {
    "collapsed": false
   },
   "outputs": [],
   "source": [
    "def extract_info(city):\n",
    "    \"\"\"\n",
    "    extract the basic information of the city\n",
    "    \n",
    "    Argument: city\n",
    "    \n",
    "    Return: a dataframe with the basic information\n",
    "    \"\"\"\n",
    "    wikisoup = modify(city)\n",
    "    data1 = wikisoup.findAll(\"tr\", {\"class\": \"mergedrow\"})\n",
    "    data = [dat.text for dat in data1]\n",
    "    split = [dat.strip(\"\\n\") for dat in data]\n",
    "    pd_info = pd.DataFrame(split)\n",
    "    pd_info.rename(columns = {list(pd_info)[0]: 'info'}, inplace = True)\n",
    "\n",
    "    #remove []\n",
    "    pd_info['info'] = pd_info['info'].map(lambda x: re.sub(\"(\\[).*?([\\]])\", \"\", x))\n",
    "    #remove unwanted characters\n",
    "    pd_info['info'] = pd_info['info'].map(lambda x: re.sub(ur'[\\•]', ' ', x))\n",
    "    pd_info['info'] = pd_info['info'].str.strip(\"\\n\")\n",
    "    pd_info['info'] = pd_info['info'].str.strip()\n",
    "    pd_info['info'] = pd_info['info'].str.replace(\"\\n\", \" : \")\n",
    "    pd_info['info'] = pd_info['info'].str.replace(\" [: ]+\", \" : \")\n",
    "    return pd_info"
   ]
  },
  {
   "cell_type": "code",
<<<<<<< HEAD
   "execution_count": 59,
=======
   "execution_count": null,
   "metadata": {
    "collapsed": true
   },
   "outputs": [],
   "source": []
  },
  {
   "cell_type": "code",
   "execution_count": 77,
   "metadata": {
    "collapsed": false
   },
   "outputs": [
    {
     "name": "stdout",
     "output_type": "stream",
     "text": [
      "California\n"
     ]
    }
   ],
   "source": [
    "output = extract_overview(\"San Francisco\")\n",
    "# how to change the \\u2013\n",
    "output"
   ]
  },
  {
   "cell_type": "code",
   "execution_count": 78,
   "metadata": {
    "collapsed": false
   },
   "outputs": [],
   "source": [
    "city = \"San Francisco\"\n",
    "wikisoup = modify(city)\n",
    "content = wikisoup.findAll(\"p\")\n",
    "#print content[0:1].text"
   ]
  },
  {
   "cell_type": "code",
   "execution_count": 79,
   "metadata": {
    "collapsed": true
   },
   "outputs": [],
   "source": [
    "brief = content[0].text\n",
    "brief = ast.literal_eval(json.dumps(brief))"
   ]
  },
  {
   "cell_type": "code",
   "execution_count": 183,
>>>>>>> dec66a0c459316da851e9fd26bc857330509d331
   "metadata": {
    "collapsed": false
   },
   "outputs": [
    {
     "data": {
      "text/html": [
       "<div>\n",
       "<table border=\"1\" class=\"dataframe\">\n",
       "  <thead>\n",
       "    <tr style=\"text-align: right;\">\n",
       "      <th></th>\n",
       "      <th>info</th>\n",
       "    </tr>\n",
       "  </thead>\n",
       "  <tbody>\n",
       "    <tr>\n",
       "      <th>0</th>\n",
       "      <td>Motto: Oro en Paz, Fierro en Guerra (Spanish) ...</td>\n",
       "    </tr>\n",
       "    <tr>\n",
       "      <th>1</th>\n",
       "      <td>State : California</td>\n",
       "    </tr>\n",
       "    <tr>\n",
       "      <th>2</th>\n",
       "      <td>CSA : San Jose–San Francisco–Oakland</td>\n",
       "    </tr>\n",
       "    <tr>\n",
       "      <th>3</th>\n",
       "      <td>Metro : San Francisco–Oakland–Hayward</td>\n",
       "    </tr>\n",
       "    <tr>\n",
       "      <th>4</th>\n",
       "      <td>Incorporated : April 15, 1850</td>\n",
       "    </tr>\n",
       "    <tr>\n",
       "      <th>5</th>\n",
       "      <td>Founded by : José Joaquin Moraga : Francisco P...</td>\n",
       "    </tr>\n",
       "    <tr>\n",
       "      <th>6</th>\n",
       "      <td>Named for : St. Francis of Assisi</td>\n",
       "    </tr>\n",
       "    <tr>\n",
       "      <th>7</th>\n",
       "      <td>Type : Mayor-council</td>\n",
       "    </tr>\n",
       "    <tr>\n",
       "      <th>8</th>\n",
       "      <td>Body : Board of Supervisors</td>\n",
       "    </tr>\n",
       "    <tr>\n",
       "      <th>9</th>\n",
       "      <td>Mayor : Edwin M. Lee (D)</td>\n",
       "    </tr>\n",
       "    <tr>\n",
       "      <th>10</th>\n",
<<<<<<< HEAD
       "      <td>Supervisors : List : Sandra Lee Fewer (D) : Ma...</td>\n",
       "    </tr>\n",
       "    <tr>\n",
       "      <th>11</th>\n",
       "      <td>Assembly members : David Chiu (D) : Phil Ting (D)</td>\n",
=======
       "      <td>Supervisors :  :  : List :  : Sandra Lee Fe...</td>\n",
       "    </tr>\n",
       "    <tr>\n",
       "      <th>11</th>\n",
       "      <td>Assembly members : David Chiu (D) : Phil Ti...</td>\n",
>>>>>>> dec66a0c459316da851e9fd26bc857330509d331
       "    </tr>\n",
       "    <tr>\n",
       "      <th>12</th>\n",
       "      <td>State senator : Scott Wiener (D)</td>\n",
       "    </tr>\n",
       "    <tr>\n",
       "      <th>13</th>\n",
<<<<<<< HEAD
       "      <td>United States Representatives : Nancy Pelosi (...</td>\n",
=======
       "      <td>United States Representatives : Nancy Pelos...</td>\n",
>>>>>>> dec66a0c459316da851e9fd26bc857330509d331
       "    </tr>\n",
       "    <tr>\n",
       "      <th>14</th>\n",
       "      <td>City and county : 231.89 sq mi (600.6 km2)</td>\n",
       "    </tr>\n",
       "    <tr>\n",
       "      <th>15</th>\n",
       "      <td>Land : 46.87 sq mi (121.4 km2)</td>\n",
       "    </tr>\n",
       "    <tr>\n",
       "      <th>16</th>\n",
       "      <td>Water : 185.02 sq mi (479.2 km2)  80.00%</td>\n",
       "    </tr>\n",
       "    <tr>\n",
       "      <th>17</th>\n",
       "      <td>Metro : 3,524.4 sq mi (9,128 km2)</td>\n",
       "    </tr>\n",
       "    <tr>\n",
       "      <th>18</th>\n",
       "      <td>City and county : 864,816</td>\n",
       "    </tr>\n",
       "    <tr>\n",
       "      <th>19</th>\n",
       "      <td>Rank : 13th, U.S.</td>\n",
       "    </tr>\n",
       "    <tr>\n",
       "      <th>20</th>\n",
       "      <td>Density : 18,451/sq mi (7,124/km2)</td>\n",
       "    </tr>\n",
       "    <tr>\n",
       "      <th>21</th>\n",
       "      <td>Metro : 4,656,132 (11th)</td>\n",
       "    </tr>\n",
       "    <tr>\n",
       "      <th>22</th>\n",
       "      <td>CSA : 8,713,914 (5th)</td>\n",
       "    </tr>\n",
       "    <tr>\n",
       "      <th>23</th>\n",
       "      <td>Summer (DST) : Pacific Daylight Time (UTC−7)</td>\n",
       "    </tr>\n",
       "    <tr>\n",
       "      <th>24</th>\n",
       "      <td>Area codes : 415/628</td>\n",
       "    </tr>\n",
       "    <tr>\n",
       "      <th>25</th>\n",
       "      <td>GNIS feature IDs : 277593, 2411786</td>\n",
       "    </tr>\n",
       "  </tbody>\n",
       "</table>\n",
       "</div>"
      ],
      "text/plain": [
       "                                                 info\n",
       "0   Motto: Oro en Paz, Fierro en Guerra (Spanish) ...\n",
       "1                                  State : California\n",
       "2                CSA : San Jose–San Francisco–Oakland\n",
       "3               Metro : San Francisco–Oakland–Hayward\n",
       "4                       Incorporated : April 15, 1850\n",
       "5   Founded by : José Joaquin Moraga : Francisco P...\n",
       "6                   Named for : St. Francis of Assisi\n",
<<<<<<< HEAD
       "7                                Type : Mayor-council\n",
       "8                         Body : Board of Supervisors\n",
       "9                            Mayor : Edwin M. Lee (D)\n",
       "10  Supervisors : List : Sandra Lee Fewer (D) : Ma...\n",
       "11  Assembly members : David Chiu (D) : Phil Ting (D)\n",
       "12                   State senator : Scott Wiener (D)\n",
       "13  United States Representatives : Nancy Pelosi (...\n",
       "14         City and county : 231.89 sq mi (600.6 km2)\n",
       "15                     Land : 46.87 sq mi (121.4 km2)\n",
       "16           Water : 185.02 sq mi (479.2 km2)  80.00%\n",
       "17                  Metro : 3,524.4 sq mi (9,128 km2)\n",
       "18                          City and county : 864,816\n",
       "19                                  Rank : 13th, U.S.\n",
       "20                 Density : 18,451/sq mi (7,124/km2)\n",
       "21                           Metro : 4,656,132 (11th)\n",
       "22                              CSA : 8,713,914 (5th)\n",
       "23       Summer (DST) : Pacific Daylight Time (UTC−7)\n",
=======
       "7                                Type : Mayor-council\n",
       "8                         Body : Board of Supervisors\n",
       "9                            Mayor : Edwin M. Lee (D)\n",
       "10     Supervisors :  :  : List :  : Sandra Lee Fe...\n",
       "11     Assembly members : David Chiu (D) : Phil Ti...\n",
       "12                   State senator : Scott Wiener (D)\n",
       "13     United States Representatives : Nancy Pelos...\n",
       "14         City and county : 231.89 sq mi (600.6 km2)\n",
       "15                     Land : 46.87 sq mi (121.4 km2)\n",
       "16           Water : 185.02 sq mi (479.2 km2)  80.00%\n",
       "17                  Metro : 3,524.4 sq mi (9,128 km2)\n",
       "18                          City and county : 864,816\n",
       "19                                  Rank : 13th, U.S.\n",
       "20                 Density : 18,451/sq mi (7,124/km2)\n",
       "21                           Metro : 4,656,132 (11th)\n",
       "22                              CSA : 8,713,914 (5th)\n",
       "23       Summer (DST) : Pacific Daylight Time (UTC−7)\n",
>>>>>>> dec66a0c459316da851e9fd26bc857330509d331
       "24                               Area codes : 415/628\n",
       "25                 GNIS feature IDs : 277593, 2411786"
      ]
     },
<<<<<<< HEAD
     "execution_count": 59,
=======
     "execution_count": 183,
>>>>>>> dec66a0c459316da851e9fd26bc857330509d331
     "metadata": {},
     "output_type": "execute_result"
    }
   ],
   "source": [
    "extract_info(\"san francisco\")"
   ]
  },
  {
   "cell_type": "code",
   "execution_count": 62,
   "metadata": {
    "collapsed": false
   },
   "outputs": [
    {
     "name": "stdout",
     "output_type": "stream",
     "text": [
      "<p><b>San Francisco</b> (SF) (<span class=\"nowrap\"><span class=\"IPA nopopups\"><a href=\"/wiki/Help:IPA_for_English\" title=\"Help:IPA for English\">/<span style=\"border-bottom:1px dotted\"><span title=\"'s' in 'sigh'\">s</span><span title=\"/æ/ short 'a' in 'bad'\">æ</span><span title=\"'n' in 'no'\">n</span></span> <span style=\"border-bottom:1px dotted\"><span title=\"'f' in 'find'\">f</span><span title=\"'r' in 'rye'\">r</span><span title=\"/ən/ 'on' in 'button'\">ən</span><span title=\"/ˈ/ primary stress follows\">ˈ</span><span title=\"'s' in 'sigh'\">s</span><span title=\"/ɪ/ short 'i' in 'bid'\">ɪ</span><span title=\"'s' in 'sigh'\">s</span><span title=\"'k' in 'kind'\">k</span><span title=\"/oʊ/ long 'o' in 'code'\">oʊ</span></span>/</a></span></span>) (Spanish for <a href=\"/wiki/Francis_of_Assisi\" title=\"Francis of Assisi\">Saint Francis</a>) officially the <b>City and County of San Francisco</b>, is the cultural, commercial, and financial center of <a href=\"/wiki/Northern_California\" title=\"Northern California\">Northern California</a>. It is the birthplace of the <a href=\"/wiki/United_Nations\" title=\"United Nations\">United Nations</a>.<sup class=\"reference\" id=\"cite_ref-24\"><a href=\"#cite_note-24\">[23]</a></sup><sup class=\"reference\" id=\"cite_ref-25\"><a href=\"#cite_note-25\">[24]</a></sup><sup class=\"reference\" id=\"cite_ref-26\"><a href=\"#cite_note-26\">[25]</a></sup> Located at the north end of the <a href=\"/wiki/San_Francisco_Peninsula\" title=\"San Francisco Peninsula\">San Francisco Peninsula</a>, San Francisco is about 47.9 square miles (124 km<sup>2</sup>)<sup class=\"reference\" id=\"cite_ref-Census_2010-GCT-PH1-density_18-1\"><a href=\"#cite_note-Census_2010-GCT-PH1-density-18\">[17]</a></sup> in area, making it the smallest county—and the only <a class=\"mw-redirect\" href=\"/wiki/Consolidated_city%E2%80%93county\" title=\"Consolidated city–county\">consolidated city-county</a><sup class=\"reference\" id=\"cite_ref-CityCounty_27-0\"><a href=\"#cite_note-CityCounty-27\">[26]</a></sup>—within the <a href=\"/wiki/U.S._state\" title=\"U.S. state\">state</a> of <a href=\"/wiki/California\" title=\"California\">California</a>. With a density of about 18,451 people per square mile (7,124 people per km<sup>2</sup>), San Francisco is the most densely settled large city (population greater than 200,000) in California and the <a href=\"/wiki/List_of_United_States_cities_by_population_density\" title=\"List of United States cities by population density\">second-most densely populated</a> major city in the United States after <a href=\"/wiki/New_York_City\" title=\"New York City\">New York City</a>.<sup class=\"reference\" id=\"cite_ref-SF_Population_Density_28-0\"><a href=\"#cite_note-SF_Population_Density-28\">[27]</a></sup> San Francisco is the <a href=\"/wiki/List_of_cities_and_towns_in_California\" title=\"List of cities and towns in California\">fourth-most populous city</a> in California, after <a href=\"/wiki/Los_Angeles\" title=\"Los Angeles\">Los Angeles</a>, <a href=\"/wiki/San_Diego\" title=\"San Diego\">San Diego</a>, and <a href=\"/wiki/San_Jose,_California\" title=\"San Jose, California\">San Jose</a>, and the <a href=\"/wiki/List_of_United_States_cities_by_population\" title=\"List of United States cities by population\">13th-most populous city</a> in the United States—with a census-estimated 2015 population of 864,816.<sup class=\"reference\" id=\"cite_ref-2015CensusEst_21-1\"><a href=\"#cite_note-2015CensusEst-21\">[20]</a></sup> The city and its surrounding areas are known as the <a href=\"/wiki/San_Francisco_Bay_Area\" title=\"San Francisco Bay Area\">San Francisco Bay Area</a>, and are a part of the larger <a href=\"/wiki/Office_of_Management_and_Budget\" title=\"Office of Management and Budget\">OMB</a>-designated <a class=\"mw-redirect\" href=\"/wiki/San_Jose-San_Francisco-Oakland\" title=\"San Jose-San Francisco-Oakland\">San Jose-San Francisco-Oakland</a> <a href=\"/wiki/Combined_statistical_area\" title=\"Combined statistical area\">combined statistical area</a>, the <a class=\"mw-redirect\" href=\"/wiki/Combined_Statistical_Area#List_of_Combined_Statistical_Areas\" title=\"Combined Statistical Area\">fifth most populous</a> in the nation with an estimated population of 8.7 million.</p>\n",
      "San Francisco (SF) (/s\\u00e6n fr\\u0259n\\u02c8s\\u026asko\\u028a/) (Spanish for Saint Francis) officially the City and County of San Francisco, is the cultural, commercial, and financial center of Northern California. It is the birthplace of the United Nations.[23][24][25] Located at the north end of the San Francisco Peninsula, San Francisco is about 47.9 square miles (124\\u00a0km2)[17] in area, making it the smallest county\\u2014and the only consolidated city-county[26]\\u2014within the state of California. With a density of about 18,451 people per square mile (7,124 people per km2), San Francisco is the most densely settled large city (population greater than 200,000) in California and the second-most densely populated major city in the United States after New York City.[27] San Francisco is the fourth-most populous city in California, after Los Angeles, San Diego, and San Jose, and the 13th-most populous city in the United States\\u2014with a census-estimated 2015 population of 864,816.[20] The city and its surrounding areas are known as the San Francisco Bay Area, and are a part of the larger OMB-designated San Jose-San Francisco-Oakland combined statistical area, the fifth most populous in the nation with an estimated population of 8.7 million.\n"
     ]
    }
   ],
   "source": [
    "output = extract_overview(\"San Francisco\")\n",
    "# how to change the \\u2013\n",
    "output"
   ]
  },
  {
   "cell_type": "code",
<<<<<<< HEAD
   "execution_count": 12,
=======
   "execution_count": 184,
>>>>>>> dec66a0c459316da851e9fd26bc857330509d331
   "metadata": {
    "collapsed": false
   },
   "outputs": [],
   "source": [
    "from IPython.display import display\n",
    "from ipywidgets import widgets\n",
    "\n",
    "inputText = widgets.Text()\n",
    "\n",
    "def modify_input(sender):\n",
    "    outputText.value = \"Welcome to The City of \" + inputText.value.title() + \"!\"\n",
    "\n",
    "inputText.on_submit(modify_input)\n",
    "inputText\n"
   ]
  },
  {
   "cell_type": "code",
<<<<<<< HEAD
   "execution_count": 13,
=======
   "execution_count": 185,
>>>>>>> dec66a0c459316da851e9fd26bc857330509d331
   "metadata": {
    "collapsed": false
   },
   "outputs": [],
   "source": [
    "outputText = widgets.Text()\n",
    "outputText"
   ]
  },
  {
   "cell_type": "markdown",
   "metadata": {
    "collapsed": false,
    "scrolled": true
   },
   "source": [
    "### Here is a brief overview of the city."
   ]
  },
  {
   "cell_type": "code",
<<<<<<< HEAD
   "execution_count": 20,
=======
   "execution_count": 186,
>>>>>>> dec66a0c459316da851e9fd26bc857330509d331
   "metadata": {
    "collapsed": false
   },
   "outputs": [
    {
     "name": "stdout",
     "output_type": "stream",
     "text": [
      "San Francisco (SF) (/s\\u00e6n fr\\u0259n\\u02c8s\\u026asko\\u028a/) (Spanish for Saint Francis) officially the City and County of San Francisco, is the cultural, commercial, and financial center of Northern California. It is the birthplace of the United Nations.[23][24][25] Located at the north end of the San Francisco Peninsula, San Francisco is about 47.9 square miles (124\\u00a0km2)[17] in area, making it the smallest county\\u2014and the only consolidated city-county[26]\\u2014within the state of California. With a density of about 18,451 people per square mile (7,124 people per km2), San Francisco is the most densely settled large city (population greater than 200,000) in California and the second-most densely populated major city in the United States after New York City.[27] San Francisco is the fourth-most populous city in California, after Los Angeles, San Diego, and San Jose, and the 13th-most populous city in the United States\\u2014with a census-estimated 2015 population of 864,816.[20] The city and its surrounding areas are known as the San Francisco Bay Area, and are a part of the larger OMB-designated San Jose-San Francisco-Oakland combined statistical area, the fifth most populous in the nation with an estimated population of 8.7 million.\n"
     ]
    }
   ],
   "source": [
    "extract_overview(\"San Francisco\")"
   ]
  },
  {
   "cell_type": "code",
<<<<<<< HEAD
   "execution_count": null,
=======
   "execution_count": 188,
>>>>>>> dec66a0c459316da851e9fd26bc857330509d331
   "metadata": {
    "collapsed": true
   },
   "outputs": [],
   "source": [
<<<<<<< HEAD
    "# git merge\n",
    "# How to scrape yelp page without being block"
=======
    "def ask_input():\n",
    "    city = raw_input(\"Please enter the city that you want to visit: \")\n",
    "    print \"\\nWelcome to The City of\", city.title(),\"\\n\\nHere is a brief overview of the city:\\n\"\n",
    "    input_city = city.title()\n",
    "    overview = extract_overview(input_city)\n",
    "    info = extract_info(input_city)\n",
    "    print overview\n",
    "    return info"
   ]
  },
  {
   "cell_type": "code",
   "execution_count": 192,
   "metadata": {
    "collapsed": false
   },
   "outputs": [
    {
     "name": "stdout",
     "output_type": "stream",
     "text": [
      "Please enter the city that you want to visit: Davis\n",
      "\n",
      "Welcome to The City of Davis \n",
      "\n",
      "Here is a brief overview of the city:\n",
      "\n",
      "Davis is a city in the U.S. state of California and the most populous city in Yolo County. It had a population of 65,622 in 2010,[9] not including the on-campus population of the University of California, Davis, which was 32,153 in 2009.\n",
      "None\n"
     ]
    },
    {
     "data": {
      "text/html": [
       "<div>\n",
       "<table border=\"1\" class=\"dataframe\">\n",
       "  <thead>\n",
       "    <tr style=\"text-align: right;\">\n",
       "      <th></th>\n",
       "      <th>info</th>\n",
       "    </tr>\n",
       "  </thead>\n",
       "  <tbody>\n",
       "    <tr>\n",
       "      <th>0</th>\n",
       "      <td>State : California</td>\n",
       "    </tr>\n",
       "    <tr>\n",
       "      <th>1</th>\n",
       "      <td>County : Yolo</td>\n",
       "    </tr>\n",
       "    <tr>\n",
       "      <th>2</th>\n",
       "      <td>Incorporated : March 28, 1917</td>\n",
       "    </tr>\n",
       "    <tr>\n",
       "      <th>3</th>\n",
       "      <td>Mayor : Robb Davis</td>\n",
       "    </tr>\n",
       "    <tr>\n",
       "      <th>4</th>\n",
       "      <td>State senator : Bill Dodd (D)</td>\n",
       "    </tr>\n",
       "    <tr>\n",
       "      <th>5</th>\n",
       "      <td>Assemblymember : Cecilia Aguiar-Curry (D)</td>\n",
       "    </tr>\n",
       "    <tr>\n",
       "      <th>6</th>\n",
       "      <td>U.S. rep. : John Garamendi (D)</td>\n",
       "    </tr>\n",
       "    <tr>\n",
       "      <th>7</th>\n",
       "      <td>Total : 9.919 sq mi (25.690 km2)</td>\n",
       "    </tr>\n",
       "    <tr>\n",
       "      <th>8</th>\n",
       "      <td>Land : 9.887 sq mi (25.608 km2)</td>\n",
       "    </tr>\n",
       "    <tr>\n",
       "      <th>9</th>\n",
       "      <td>Water : 0.032 sq mi (0.082 km2)  0.32%</td>\n",
       "    </tr>\n",
       "    <tr>\n",
       "      <th>10</th>\n",
       "      <td>Total : 65,622</td>\n",
       "    </tr>\n",
       "    <tr>\n",
       "      <th>11</th>\n",
       "      <td>Estimate (2013) : 66,205</td>\n",
       "    </tr>\n",
       "    <tr>\n",
       "      <th>12</th>\n",
       "      <td>Density : 6,600/sq mi (2,600/km2)</td>\n",
       "    </tr>\n",
       "    <tr>\n",
       "      <th>13</th>\n",
       "      <td>Summer (DST) : PDT (UTC−7)</td>\n",
       "    </tr>\n",
       "    <tr>\n",
       "      <th>14</th>\n",
       "      <td>Area code : 530</td>\n",
       "    </tr>\n",
       "    <tr>\n",
       "      <th>15</th>\n",
       "      <td>GNIS feature IDs : 277498, 2410296</td>\n",
       "    </tr>\n",
       "  </tbody>\n",
       "</table>\n",
       "</div>"
      ],
      "text/plain": [
       "                                            info\n",
       "0                             State : California\n",
       "1                                  County : Yolo\n",
       "2                  Incorporated : March 28, 1917\n",
       "3                             Mayor : Robb Davis\n",
       "4                  State senator : Bill Dodd (D)\n",
       "5      Assemblymember : Cecilia Aguiar-Curry (D)\n",
       "6                 U.S. rep. : John Garamendi (D)\n",
       "7               Total : 9.919 sq mi (25.690 km2)\n",
       "8                Land : 9.887 sq mi (25.608 km2)\n",
       "9         Water : 0.032 sq mi (0.082 km2)  0.32%\n",
       "10                                Total : 65,622\n",
       "11                      Estimate (2013) : 66,205\n",
       "12             Density : 6,600/sq mi (2,600/km2)\n",
       "13                    Summer (DST) : PDT (UTC−7)\n",
       "14                               Area code : 530\n",
       "15            GNIS feature IDs : 277498, 2410296"
      ]
     },
     "execution_count": 192,
     "metadata": {},
     "output_type": "execute_result"
    }
   ],
   "source": [
    "ask_input()"
>>>>>>> dec66a0c459316da851e9fd26bc857330509d331
   ]
  }
 ],
 "metadata": {
  "anaconda-cloud": {},
  "kernelspec": {
   "display_name": "Python 2",
   "language": "python",
   "name": "python2"
  },
  "language_info": {
   "codemirror_mode": {
    "name": "ipython",
    "version": 2
   },
   "file_extension": ".py",
   "mimetype": "text/x-python",
   "name": "python",
   "nbconvert_exporter": "python",
   "pygments_lexer": "ipython2",
<<<<<<< HEAD
   "version": "2.7.12"
  },
  "widgets": {
   "state": {
    "681ad0453e3e4af6bd614d68f72a6a0f": {
     "views": [
      {
       "cell_index": 60
      }
     ]
    },
    "69844626c4334992b09f02731b872a4b": {
     "views": [
      {
       "cell_index": 59
      }
     ]
    }
   },
   "version": "1.2.0"
=======
   "version": "2.7.13"
>>>>>>> dec66a0c459316da851e9fd26bc857330509d331
  }
 },
 "nbformat": 4,
 "nbformat_minor": 1
}

{
 "cells": [
  {
   "cell_type": "code",
   "execution_count": 1,
   "metadata": {
    "collapsed": false
   },
   "outputs": [],
   "source": [
    "import requests_cache\n",
    "import requests\n",
    "import pandas as pd\n",
    "from matplotlib import pyplot as plt\n",
    "plt.style.use('ggplot')\n",
    "%matplotlib inline\n",
    "from pandas.tools.plotting import scatter_matrix\n",
    "import numpy as np\n",
    "import seaborn as sns\n",
    "from requests_oauthlib import OAuth1Session\n",
    "import glob\n",
    "import json\n",
    "import os\n",
    "import urllib2\n",
    "from urllib2 import Request, urlopen\n",
    "from requests_oauthlib import OAuth1Session\n",
    "from bs4 import BeautifulSoup"
   ]
  },
  {
   "cell_type": "markdown",
   "metadata": {
    "collapsed": false,
    "scrolled": true
   },
   "source": [
    "### Data Wrangling Part 2 (From yelp dataset challenge):"
   ]
  },
  {
   "cell_type": "code",
   "execution_count": null,
   "metadata": {
    "collapsed": false
   },
   "outputs": [],
   "source": [
    "path = \"/Users/Stephanie/Desktop/yelp_dataset_challenge_round9\"\n",
    "files = glob.glob(os.path.join(path,\"*.json\"))\n",
    "files"
   ]
  },
  {
   "cell_type": "code",
   "execution_count": null,
   "metadata": {
    "collapsed": false
   },
   "outputs": [],
   "source": [
    "############# Copy from online(not sure if it works or not yet) ##########\n",
    "\n",
    "#Convert Yelp Academic Dataset from JSON to CSV\n",
    "import csv\n",
    "def convert(line):\n",
    "    ''' Convert a json string to a flat python dictionary\n",
    "    which can be passed into Pandas. '''\n",
    "    data = json.loads(line)\n",
    "    for k, v in data.items():\n",
    "        if isinstance(v, list):\n",
    "            data[k] = ','.join(v)\n",
    "        elif isinstance(v, dict):\n",
    "            for kk, vv in v.items():\n",
    "                data['%s_%s' % (k, kk)] = vv\n",
    "            del data[k]\n",
    "    return line\n",
    "\n",
    "\n",
    "csv_filename = 'review.csv'\n",
    "df = pd.DataFrame([convert(line) for line in file(files[2])])\n",
    "df.to_csv(csv_filename, index=False)\n"
   ]
  },
  {
   "cell_type": "code",
   "execution_count": null,
   "metadata": {
    "collapsed": false
   },
   "outputs": [],
   "source": [
    "def readfile(files):\n",
    "    # read the file into a python array\n",
    "    with open(files, 'rb') as f:\n",
    "        data = f.readlines()\n",
    "        # remove the trailing \"\\n\" from each line\n",
    "        data = map(lambda x: x.rstrip(), data)\n",
    "        data_str = \"[\" + ','.join(data) + \"]\"\n",
    "        df = pd.read_json(data_str)\n",
    "        \n",
    "        f.close()\n",
    "        return df\n",
    "     \n",
    "def fixdf(newlist):\n",
    "    new_df = pd.concat(newlist, axis = 0)\n",
    "    return new_df\n",
    "\n",
    "yelplist = []"
   ]
  },
  {
   "cell_type": "code",
   "execution_count": null,
   "metadata": {
    "collapsed": false
   },
   "outputs": [],
   "source": [
    "review_data = readfile(files[2])"
   ]
  },
  {
   "cell_type": "code",
   "execution_count": null,
   "metadata": {
    "collapsed": true
   },
   "outputs": [],
   "source": [
    "review_data.head()"
   ]
  },
  {
   "cell_type": "code",
   "execution_count": null,
   "metadata": {
    "collapsed": true
   },
   "outputs": [],
   "source": []
  },
  {
   "cell_type": "markdown",
   "metadata": {},
   "source": [
    "### Data Wrangling "
   ]
  },
  {
   "cell_type": "code",
   "execution_count": 2,
   "metadata": {
    "collapsed": true
   },
   "outputs": [],
   "source": [
    "import requests_cache\n",
    "import requests\n",
    "import pandas as pd\n",
    "from matplotlib import pyplot as plt\n",
    "plt.style.use('ggplot')\n",
    "%matplotlib inline\n",
    "from pandas.tools.plotting import scatter_matrix\n",
    "import numpy as np\n",
    "import seaborn as sns\n",
    "from requests_oauthlib import OAuth1Session\n",
    "from bs4 import BeautifulSoup\n",
    "import pandas as pd"
   ]
  },
  {
   "cell_type": "code",
   "execution_count": 3,
   "metadata": {
    "collapsed": false
   },
   "outputs": [],
   "source": [
    "requests_cache.install_cache(\"cache\")\n",
    "\n",
    "# criteria: 1=Distance, 2=Highest Rated\n",
    "\n",
    "def yelp_search(term, location, criteria):\n",
    "    \"\"\"\n",
    "    makes a search request\n",
    "    \n",
    "    Argument: search term, location\n",
    "    \n",
    "    Return: search result items as a list (for 0 items, return an empty list)\n",
    "    \"\"\"\n",
    "    consumer_key = \"uFKYftN0fu4pD6guW2cYng\"\n",
    "    consumer_secret = \"iUYQ2Hk3-vTQVd0zOFnvloWPivA\"\n",
    "    token = \"FZnep4FiFmwrrifuNm6M-_K661Wb3J02\"\n",
    "    token_secret = \"CRvBo_fO-r4pE_-p2UrnN_mxBlc\"\n",
    "   \n",
    "    urlbase = \"http://api.yelp.com/v2/search\"\n",
    "    params = ({\"term\": term})\n",
    "    \n",
    "    criteria = criteria.lower()\n",
    "    \n",
    "    if criteria == \"distance\":\n",
    "        params.update({\"location\": location, \"sort\": \"1\", \"cll\" : \"latitude,longitude\"})\n",
    "    else:\n",
    "        params.update({\"location\": location, \"sort\": \"2\", \"cll\" : \"latitude,longitude\"})\n",
    "    session = OAuth1Session(consumer_key, consumer_secret,token,token_secret)\n",
    "     \n",
    "    request = session.get(urlbase,params=params)\n",
    "   \n",
    "    #Transforms JSON API response into dictionary\n",
    "    data = request.json()\n",
    "    session.close()\n",
    "    output = data\n",
    "    \n",
    "    if \"businesses\" not in output:\n",
    "        return {}\n",
    "    \n",
    "    else:\n",
    "        return output[\"businesses\"]\n"
   ]
  },
  {
   "cell_type": "code",
   "execution_count": 4,
   "metadata": {
    "collapsed": true
   },
   "outputs": [],
   "source": [
    "def extract(url):\n",
    "    \"\"\"\n",
    "    extract\n",
    "    \"\"\"\n",
    "    info = requests.get(url).content\n",
    "    wikisoup = BeautifulSoup(info, 'lxml')\n",
    "    city_data = wikisoup.findAll(\"th\", {\"scope\": \"row\"})\n",
    "    population_data = wikisoup.findAll(\"td\", {\"align\":\"right\"})\n",
    "    city = [city.text for city in city_data]\n",
    "    city = city[1:-8]\n",
    "    population_data = wikisoup.findAll(\"td\", {\"align\":\"right\"})\n",
    "    population_data = \"\\n\".join([population.text for population in population_data])\n",
    "    population_split = population_data.split(\"\\n\")\n",
    "    population = population_split[0::2]\n",
    "    info_dict = {\"city\": city, \"population\": population}\n",
    "    return info_dict"
   ]
  },
  {
   "cell_type": "code",
   "execution_count": 5,
   "metadata": {
    "collapsed": false
   },
   "outputs": [],
   "source": [
    "url = \"https://en.wikipedia.org/wiki/List_of_cities_and_towns_in_California\"\n",
    "url_output = extract(url)\n",
    "pd_scrape = pd.DataFrame(url_output)"
   ]
  },
  {
   "cell_type": "code",
   "execution_count": 6,
   "metadata": {
    "collapsed": false
   },
   "outputs": [],
   "source": [
    "# this excel provide latitude and longitude information\n",
    "pd_location = pd.read_excel(\"/Users/Stephanie/Desktop/calcities.xlsx\", header = 0)"
   ]
  },
  {
   "cell_type": "code",
   "execution_count": 7,
   "metadata": {
    "collapsed": false
   },
   "outputs": [],
   "source": [
    "pd_location_1 = pd_location.rename(columns = {'Name':'city'})\n",
    "pd_geo = pd.merge(pd_scrape, pd_location_1, on = \"city\")"
   ]
  },
  {
   "cell_type": "code",
   "execution_count": 8,
   "metadata": {
    "collapsed": false
   },
   "outputs": [],
   "source": [
    "pd_geo['city'] = pd_geo['city'] + ', CA'"
   ]
  },
  {
   "cell_type": "code",
   "execution_count": 9,
   "metadata": {
    "collapsed": true
   },
   "outputs": [],
   "source": [
    "def search(keyterm, city, criteria):\n",
    "    result = yelp_search(keyterm, city, criteria)\n",
    "    df_result = pd.DataFrame(result)\n",
    "    df_result[\"city\"] = city\n",
    "    return df_result"
   ]
  },
  {
   "cell_type": "code",
   "execution_count": 10,
   "metadata": {
    "collapsed": false
   },
   "outputs": [],
   "source": [
    "keyterm = \"restaurants\"\n",
    "criteria = \"Distance\"\n",
    "yelp_restaurants = [search(keyterm, \"%s, CA\" %city, criteria) for city in pd_scrape[\"city\"]]"
   ]
  },
  {
   "cell_type": "code",
   "execution_count": 11,
   "metadata": {
    "collapsed": true
   },
   "outputs": [],
   "source": [
    "df_restaurants = pd.concat(yelp_restaurants, ignore_index = True)"
   ]
  },
  {
   "cell_type": "code",
   "execution_count": 12,
   "metadata": {
    "collapsed": false
   },
   "outputs": [],
   "source": [
    "df_food_drop = df_restaurants.drop([\"deals\", \"gift_certificates\", \"image_url\", \"location\", \"menu_date_updated\", \"menu_provider\", \"phone\", \"rating_img_url\", \"rating_img_url_large\", \"rating_img_url_small\", \"snippet_image_url\"], 1)\n",
    "df_food_final = pd.merge(df_food_drop, pd_geo, on = \"city\", how = \"inner\")"
   ]
  },
  {
   "cell_type": "code",
   "execution_count": 13,
   "metadata": {
    "collapsed": false
   },
   "outputs": [
    {
     "name": "stderr",
     "output_type": "stream",
     "text": [
      "/Users/stephanie/anaconda/lib/python2.7/site-packages/ipykernel/__main__.py:4: SettingWithCopyWarning: \n",
      "A value is trying to be set on a copy of a slice from a DataFrame\n",
      "\n",
      "See the caveats in the documentation: http://pandas.pydata.org/pandas-docs/stable/indexing.html#indexing-view-versus-copy\n"
     ]
    }
   ],
   "source": [
    "#change category thats 'Nan' to 'Unknown'\n",
    "for i in range(0,len(df_food_final)):\n",
    "    if type(df_food_final['categories'][i]) == float:\n",
    "        df_food_final['categories'][i] = [[u'Unknown']]"
   ]
  },
  {
   "cell_type": "code",
   "execution_count": 14,
   "metadata": {
    "collapsed": false
   },
   "outputs": [],
   "source": [
    "keyterm = \"hotels\"\n",
    "yelp_hotels = [search(keyterm, \"%s, CA\" %city, criteria) for city in pd_scrape[\"city\"]]\n",
    "df_hotels = pd.concat(yelp_hotels)"
   ]
  },
  {
   "cell_type": "code",
   "execution_count": 15,
   "metadata": {
    "collapsed": false
   },
   "outputs": [],
   "source": [
    "df_hotel_drop = df_hotels.drop([\"deals\", \"gift_certificates\", \"image_url\", \"location\", \"menu_date_updated\", \"menu_provider\", \"phone\", \"rating_img_url\", \"rating_img_url_large\", \"rating_img_url_small\", \"snippet_image_url\"], 1)"
   ]
  },
  {
   "cell_type": "code",
   "execution_count": 16,
   "metadata": {
    "collapsed": false
   },
   "outputs": [],
   "source": [
    "df_hotels_final = pd.merge(df_hotel_drop, pd_geo, on = \"city\", how = \"inner\")"
   ]
  },
  {
   "cell_type": "code",
   "execution_count": 17,
   "metadata": {
    "collapsed": false
   },
   "outputs": [
    {
     "name": "stderr",
     "output_type": "stream",
     "text": [
      "/Users/stephanie/anaconda/lib/python2.7/site-packages/ipykernel/__main__.py:3: SettingWithCopyWarning: \n",
      "A value is trying to be set on a copy of a slice from a DataFrame\n",
      "\n",
      "See the caveats in the documentation: http://pandas.pydata.org/pandas-docs/stable/indexing.html#indexing-view-versus-copy\n",
      "  app.launch_new_instance()\n"
     ]
    }
   ],
   "source": [
    "for i in range(0,len(df_hotels_final)):\n",
    "    if type(df_hotels_final['categories'][i]) == float:\n",
    "        df_hotels_final['categories'][i] = [[u'Unknown']]"
   ]
  },
  {
   "cell_type": "markdown",
   "metadata": {},
   "source": [
    "### Analying data and plotting:"
   ]
  },
  {
   "cell_type": "code",
   "execution_count": 193,
   "metadata": {
    "collapsed": true
   },
   "outputs": [],
   "source": [
    "import plotly\n",
    "import plotly.plotly as py  \n",
    "import plotly.tools as tls   \n",
    "from plotly.graph_objs import *\n",
    "import numpy as np  \n",
    "import plotly.graph_objs as go\n",
    "\n",
    "tls.set_credentials_file(\n",
    "    username = 'stephanielamm',\n",
    "    api_key = 'HnrMArVz1Vf4GhtGFMmv')"
   ]
  },
  {
   "cell_type": "code",
   "execution_count": 19,
   "metadata": {
    "collapsed": false
   },
   "outputs": [],
   "source": [
    "from collections import Counter\n",
    "\n",
    "#get the most frequent category labels (Overall)\n",
    "def freq_cat(dataframe):\n",
    "    count = []\n",
    "    for i in range(0,len(dataframe)):\n",
    "        data = dataframe['categories'][i][0][0]\n",
    "        count.append(data)\n",
    "        freq = Counter(count)\n",
    "        \n",
    "    count_df = pd.DataFrame(freq.most_common()[0:10])\n",
    "    return count_df"
   ]
  },
  {
   "cell_type": "code",
   "execution_count": 20,
   "metadata": {
    "collapsed": false
   },
   "outputs": [
    {
     "data": {
      "text/html": [
       "<iframe id=\"igraph\" scrolling=\"no\" style=\"border:none;\" seamless=\"seamless\" src=\"https://plot.ly/~stephanielam/6.embed\" height=\"525px\" width=\"100%\"></iframe>"
      ],
      "text/plain": [
       "<plotly.tools.PlotlyDisplay object>"
      ]
     },
     "execution_count": 20,
     "metadata": {},
     "output_type": "execute_result"
    }
   ],
   "source": [
    "count_df = freq_cat(df_food_final)\n",
    "\n",
    "#plot\n",
    "data = [go.Bar(x= count_df[0],y= count_df[1])]\n",
    "layout = go.Layout(title='Top 10 most frequent category')\n",
    "fig = go.Figure(data=data, layout=layout)\n",
    "py.iplot(fig, filename = 'Top 10 most frequent category')"
   ]
  },
  {
   "cell_type": "code",
   "execution_count": 21,
   "metadata": {
    "collapsed": false
   },
   "outputs": [],
   "source": [
    "#get star count by each category\n",
    "def get_count(category):\n",
    "    count_list =[]\n",
    "    for i in range(len(df_food_final)):\n",
    "        if df_food_final['categories'][i][0][0] == category:\n",
    "            count_list.append(df_food_final['rating'][i])       \n",
    "    labels, values = zip(*Counter(count_list).items()) \n",
    "    count_list =[] \n",
    "    return labels, values\n",
    "\n",
    "cat_count = []\n",
    "def get_cat_count(dataframe):\n",
    "    for i in range(0, len(dataframe[0])):\n",
    "        count = get_count(dataframe[0][i])\n",
    "        cat_count.append(count)\n",
    "    \n",
    "    return cat_count\n",
    "\n",
    "cat_count = get_cat_count(count_df)"
   ]
  },
  {
   "cell_type": "code",
   "execution_count": 22,
   "metadata": {
    "collapsed": false
   },
   "outputs": [
    {
     "data": {
      "text/html": [
       "<iframe id=\"igraph\" scrolling=\"no\" style=\"border:none;\" seamless=\"seamless\" src=\"https://plot.ly/~stephanielam/2.embed\" height=\"525px\" width=\"100%\"></iframe>"
      ],
      "text/plain": [
       "<plotly.tools.PlotlyDisplay object>"
      ]
     },
     "execution_count": 22,
     "metadata": {},
     "output_type": "execute_result"
    }
   ],
   "source": [
    "#plot of Distribution of stars(by category)\n",
    "\n",
    "for i in range(0, len(cat_count)):\n",
    "    locals()['trace%s' % i] = go.Bar(x = cat_count[i][0], y=cat_count[i][1], name= count_df[0][i])\n",
    "\n",
    "data = [trace0, trace1, trace2, trace3, trace4, trace5, trace6, trace7, trace8, trace9]\n",
    "layout = go.Layout(barmode = 'stack', title ='Rating stars distribution (by categeory)'\n",
    ")\n",
    "\n",
    "fig = go.Figure(data=data, layout=layout)\n",
    "py.iplot(fig, filename='Rating stars distribution (by categeory)')"
   ]
  },
  {
   "cell_type": "code",
   "execution_count": 74,
   "metadata": {
    "collapsed": false
   },
   "outputs": [
    {
     "data": {
      "text/html": [
       "<div>\n",
       "<table border=\"1\" class=\"dataframe\">\n",
       "  <thead>\n",
       "    <tr style=\"text-align: right;\">\n",
       "      <th></th>\n",
       "      <th>city</th>\n",
       "      <th>rating</th>\n",
       "      <th>review_count</th>\n",
       "      <th>population</th>\n",
       "      <th>Latitude</th>\n",
       "      <th>Longitude</th>\n",
       "    </tr>\n",
       "  </thead>\n",
       "  <tbody>\n",
       "    <tr>\n",
       "      <th>0</th>\n",
       "      <td>Adelanto, CA</td>\n",
       "      <td>3.575</td>\n",
       "      <td>27.90</td>\n",
       "      <td>31,765</td>\n",
       "      <td>34.582769</td>\n",
       "      <td>-117.409214</td>\n",
       "    </tr>\n",
       "    <tr>\n",
       "      <th>1</th>\n",
       "      <td>Agoura Hills, CA</td>\n",
       "      <td>4.050</td>\n",
       "      <td>231.30</td>\n",
       "      <td>20,330</td>\n",
       "      <td>34.153339</td>\n",
       "      <td>-118.761675</td>\n",
       "    </tr>\n",
       "    <tr>\n",
       "      <th>2</th>\n",
       "      <td>Alameda, CA</td>\n",
       "      <td>4.100</td>\n",
       "      <td>465.50</td>\n",
       "      <td>73,812</td>\n",
       "      <td>37.765206</td>\n",
       "      <td>-122.241636</td>\n",
       "    </tr>\n",
       "    <tr>\n",
       "      <th>3</th>\n",
       "      <td>Albany, CA</td>\n",
       "      <td>4.150</td>\n",
       "      <td>257.95</td>\n",
       "      <td>18,539</td>\n",
       "      <td>37.886869</td>\n",
       "      <td>-122.297747</td>\n",
       "    </tr>\n",
       "    <tr>\n",
       "      <th>4</th>\n",
       "      <td>Alhambra, CA</td>\n",
       "      <td>4.050</td>\n",
       "      <td>492.40</td>\n",
       "      <td>83,089</td>\n",
       "      <td>34.095286</td>\n",
       "      <td>-118.127014</td>\n",
       "    </tr>\n",
       "  </tbody>\n",
       "</table>\n",
       "</div>"
      ],
      "text/plain": [
       "               city  rating  review_count population  Latitude    Longitude\n",
       "0      Adelanto, CA   3.575         27.90     31,765  34.582769 -117.409214\n",
       "1  Agoura Hills, CA   4.050        231.30     20,330  34.153339 -118.761675\n",
       "2       Alameda, CA   4.100        465.50     73,812  37.765206 -122.241636\n",
       "3        Albany, CA   4.150        257.95     18,539  37.886869 -122.297747\n",
       "4      Alhambra, CA   4.050        492.40     83,089  34.095286 -118.127014"
      ]
     },
     "execution_count": 74,
     "metadata": {},
     "output_type": "execute_result"
    }
   ],
   "source": [
    "#get the average star rating (by City)\n",
    "def average_star_city(dataframe, category):\n",
    "    average_rate = dataframe.groupby('city')[category].mean()\n",
    "    average_rate = average_rate.reset_index()\n",
    "    average_rate = pd.DataFrame(average_rate)\n",
    "    return average_rate\n",
    "    \n",
    "rating_star = average_star_city(df_food_final, 'rating')\n",
    "average_review = average_star_city(df_food_final, 'review_count')\n",
    "rating_star = pd.merge(rating_star, average_review, on= 'city')\n",
    "rating_star = pd.merge(rating_star, pd_geo, on='city')\n",
    "rating_star.head()"
   ]
  },
  {
   "cell_type": "code",
   "execution_count": 81,
   "metadata": {
    "collapsed": false,
    "scrolled": false
   },
   "outputs": [
    {
     "data": {
      "text/html": [
       "<iframe id=\"igraph\" scrolling=\"no\" style=\"border:none;\" seamless=\"seamless\" src=\"https://plot.ly/~stephanielam/4.embed\" height=\"525px\" width=\"100%\"></iframe>"
      ],
      "text/plain": [
       "<plotly.tools.PlotlyDisplay object>"
      ]
     },
     "execution_count": 81,
     "metadata": {},
     "output_type": "execute_result"
    }
   ],
   "source": [
    "rating_star['text'] = 'City:' + rating_star['city'] + ' \\nRating: ' + rating_star['rating'].astype(np.str) +' star' + '<br>Average Reviews count: ' + hotel_rating['review_count'].astype(np.str)\n",
    "limits = [(1,3),(3,3.5),(3.5,4),(4,4.5),(4.5,5)]\n",
    "colors = [\"lightgrey\",\"lightgreen\",\"lightblue\",\"lightyellow\",\"red\"]\n",
    "cities = []\n",
    "scale = 2\n",
    "\n",
    "for i in range(len(limits)):\n",
    "    lim = limits[i]\n",
    "    rate_sub = rating_star.query('%f' %lim[0] +'<= rating < %f' %lim[1])\n",
    "    city = dict(\n",
    "        type = 'scattergeo',\n",
    "        locationmode = 'USA-states',\n",
    "        lon = rate_sub['Longitude'],\n",
    "        lat = rate_sub['Latitude '],\n",
    "        text = rate_sub['text'],\n",
    "        marker = dict(\n",
    "            size = rate_sub['review_count'] / scale,\n",
    "            color = colors[i],\n",
    "            line = dict(width=0.5, color='rgb(40,40,40)'),\n",
    "            sizemode = 'area'\n",
    "        ),\n",
    "        name = '{0} - {1} stars'.format(lim[0],lim[1]))\n",
    "    cities.append(city)\n",
    "\n",
    "layout = dict(\n",
    "        title = 'Restaurant Average Rating by City<br>(Click legend to toggle traces)',\n",
    "        showlegend = True,\n",
    "        geo = dict(\n",
    "            scope='usa',\n",
    "            projection=dict( type='albers usa' ),\n",
    "            showland = True,\n",
    "            landcolor = 'rgb(217, 217, 217)',\n",
    "            subunitwidth=1,\n",
    "            countrywidth=1,\n",
    "            subunitcolor=\"rgb(255, 255, 255)\",\n",
    "            countrycolor=\"rgb(255, 255, 255)\"\n",
    "        ),\n",
    "    )\n",
    "\n",
    "fig = dict( data=cities, layout=layout )\n",
    "py.iplot(fig, validate=False, filename='d3-bubble-map' )"
   ]
  },
  {
   "cell_type": "code",
   "execution_count": 26,
   "metadata": {
    "collapsed": false
   },
   "outputs": [
    {
     "data": {
      "text/html": [
       "<iframe id=\"igraph\" scrolling=\"no\" style=\"border:none;\" seamless=\"seamless\" src=\"https://plot.ly/~stephanielam/14.embed\" height=\"525px\" width=\"100%\"></iframe>"
      ],
      "text/plain": [
       "<plotly.tools.PlotlyDisplay object>"
      ]
     },
     "execution_count": 26,
     "metadata": {},
     "output_type": "execute_result"
    }
   ],
   "source": [
    "#rating vs review_count\n",
    "data = go.Scatter(\n",
    "    x = df_food_final['rating'],\n",
    "    y = df_food_final['review_count'],\n",
    "    mode = 'markers'\n",
    ")\n",
    "\n",
    "layout = go.Layout(\n",
    "    title='Scatter plot of Restaurant\\'s rating vs review count',\n",
    "    xaxis=dict(\n",
    "        title='Rating',\n",
    "        gridcolor='rgb(255, 255, 255)',\n",
    "    ),\n",
    "    yaxis=dict(\n",
    "        title='Review Count',\n",
    "        gridcolor='rgb(255, 255, 255)',\n",
    "    ),\n",
    "    paper_bgcolor='rgb(243, 243, 243)',\n",
    "    plot_bgcolor='rgb(243, 243, 243)',\n",
    ")\n",
    "\n",
    "fig = dict(data=[data], layout=layout)\n",
    "py.iplot(fig, filename='Scatter plot of rating vs review count')"
   ]
  },
  {
   "cell_type": "code",
   "execution_count": 27,
   "metadata": {
    "collapsed": false
   },
   "outputs": [],
   "source": [
    "#top 5 restaurants:\n",
    "best_5 = df_food_final.groupby('rating')['review_count'].nlargest(5).reset_index()\n",
    "best_5 = pd.DataFrame(best_5)"
   ]
  },
  {
   "cell_type": "code",
   "execution_count": 147,
   "metadata": {
    "collapsed": false
   },
   "outputs": [],
   "source": [
    "df_best_5 = pd.DataFrame()\n",
    "for i in range(0,len(best_5)):\n",
    "    if best_5['rating'][i] == 5.0:\n",
    "        data = df_food_final.iloc[[best_5['level_1'][i]]]\n",
    "        df_best_5 = pd.concat([data,df_best_5],ignore_index = True)\n",
    "        \n",
    "df_best_5 = df_best_5.iloc[::-1]\n",
    "#df_best_5[1:2]"
   ]
  },
  {
   "cell_type": "code",
   "execution_count": 181,
   "metadata": {
    "collapsed": false,
    "scrolled": true
   },
   "outputs": [
    {
     "data": {
      "text/html": [
       "<div>\n",
       "<table border=\"1\" class=\"dataframe\">\n",
       "  <thead>\n",
       "    <tr style=\"text-align: right;\">\n",
       "      <th></th>\n",
       "      <th>categories</th>\n",
       "      <th>city</th>\n",
       "      <th>display_phone</th>\n",
       "      <th>id</th>\n",
       "      <th>is_claimed</th>\n",
       "      <th>is_closed</th>\n",
       "      <th>mobile_url</th>\n",
       "      <th>name</th>\n",
       "      <th>rating</th>\n",
       "      <th>review_count</th>\n",
       "      <th>snippet_text</th>\n",
       "      <th>url</th>\n",
       "      <th>population</th>\n",
       "      <th>Latitude</th>\n",
       "      <th>Longitude</th>\n",
       "      <th>text</th>\n",
       "    </tr>\n",
       "  </thead>\n",
       "  <tbody>\n",
       "    <tr>\n",
       "      <th>4</th>\n",
       "      <td>[[Bakeries, bakeries], [Lebanese, lebanese], [...</td>\n",
       "      <td>Murrieta, CA</td>\n",
       "      <td>+1-951-894-4544</td>\n",
       "      <td>sultan-bakery-and-grill-murrieta-4</td>\n",
       "      <td>True</td>\n",
       "      <td>False</td>\n",
       "      <td>https://m.yelp.com/biz/sultan-bakery-and-grill...</td>\n",
       "      <td>Sultan Bakery and Grill</td>\n",
       "      <td>5.0</td>\n",
       "      <td>425</td>\n",
       "      <td>So delicious! Will have to come back and try m...</td>\n",
       "      <td>https://www.yelp.com/biz/sultan-bakery-and-gri...</td>\n",
       "      <td>103,466</td>\n",
       "      <td>33.553914</td>\n",
       "      <td>-117.213922</td>\n",
       "      <td>City:Murrieta, CA&lt;br&gt;Rating: 5.0 star&lt;br&gt;Avera...</td>\n",
       "    </tr>\n",
       "    <tr>\n",
       "      <th>3</th>\n",
       "      <td>[[Japanese, japanese], [Asian Fusion, asianfus...</td>\n",
       "      <td>Cypress, CA</td>\n",
       "      <td>+1-714-252-1160</td>\n",
       "      <td>poki-roll-cypress</td>\n",
       "      <td>True</td>\n",
       "      <td>False</td>\n",
       "      <td>https://m.yelp.com/biz/poki-roll-cypress?adjus...</td>\n",
       "      <td>Poki Roll</td>\n",
       "      <td>5.0</td>\n",
       "      <td>363</td>\n",
       "      <td>Great yelp find!! Got the special combo that c...</td>\n",
       "      <td>https://www.yelp.com/biz/poki-roll-cypress?adj...</td>\n",
       "      <td>47,802</td>\n",
       "      <td>37.320531</td>\n",
       "      <td>-121.962242</td>\n",
       "      <td>City:Cypress, CA&lt;br&gt;Rating: 5.0 star&lt;br&gt;Averag...</td>\n",
       "    </tr>\n",
       "    <tr>\n",
       "      <th>2</th>\n",
       "      <td>[[Japanese, japanese], [Asian Fusion, asianfus...</td>\n",
       "      <td>La Palma, CA</td>\n",
       "      <td>+1-714-252-1160</td>\n",
       "      <td>poki-roll-cypress</td>\n",
       "      <td>True</td>\n",
       "      <td>False</td>\n",
       "      <td>https://m.yelp.com/biz/poki-roll-cypress?adjus...</td>\n",
       "      <td>Poki Roll</td>\n",
       "      <td>5.0</td>\n",
       "      <td>363</td>\n",
       "      <td>Great yelp find!! Got the special combo that c...</td>\n",
       "      <td>https://www.yelp.com/biz/poki-roll-cypress?adj...</td>\n",
       "      <td>15,568</td>\n",
       "      <td>33.846403</td>\n",
       "      <td>-118.046731</td>\n",
       "      <td>City:La Palma, CA&lt;br&gt;Rating: 5.0 star&lt;br&gt;Avera...</td>\n",
       "    </tr>\n",
       "    <tr>\n",
       "      <th>1</th>\n",
       "      <td>[[Meat Shops, meats], [Halal, halal]]</td>\n",
       "      <td>Bell, CA</td>\n",
       "      <td>+1-323-771-2400</td>\n",
       "      <td>fatimas-halal-meat-market-and-grill-bell</td>\n",
       "      <td>True</td>\n",
       "      <td>False</td>\n",
       "      <td>https://m.yelp.com/biz/fatimas-halal-meat-mark...</td>\n",
       "      <td>Fatima's Halal Meat Market &amp; Grill</td>\n",
       "      <td>5.0</td>\n",
       "      <td>323</td>\n",
       "      <td>I enjoy middle eastern cuisine very much it's ...</td>\n",
       "      <td>https://www.yelp.com/biz/fatimas-halal-meat-ma...</td>\n",
       "      <td>35,477</td>\n",
       "      <td>33.977514</td>\n",
       "      <td>-118.187017</td>\n",
       "      <td>City:Bell, CA&lt;br&gt;Rating: 5.0 star&lt;br&gt;Average R...</td>\n",
       "    </tr>\n",
       "    <tr>\n",
       "      <th>0</th>\n",
       "      <td>[[Meat Shops, meats], [Halal, halal]]</td>\n",
       "      <td>Bell Gardens, CA</td>\n",
       "      <td>+1-323-771-2400</td>\n",
       "      <td>fatimas-halal-meat-market-and-grill-bell</td>\n",
       "      <td>True</td>\n",
       "      <td>False</td>\n",
       "      <td>https://m.yelp.com/biz/fatimas-halal-meat-mark...</td>\n",
       "      <td>Fatima's Halal Meat Market &amp; Grill</td>\n",
       "      <td>5.0</td>\n",
       "      <td>323</td>\n",
       "      <td>I enjoy middle eastern cuisine very much it's ...</td>\n",
       "      <td>https://www.yelp.com/biz/fatimas-halal-meat-ma...</td>\n",
       "      <td>42,072</td>\n",
       "      <td>33.965292</td>\n",
       "      <td>-118.151458</td>\n",
       "      <td>City:Bell Gardens, CA&lt;br&gt;Rating: 5.0 star&lt;br&gt;A...</td>\n",
       "    </tr>\n",
       "  </tbody>\n",
       "</table>\n",
       "</div>"
      ],
      "text/plain": [
       "                                          categories              city  \\\n",
       "4  [[Bakeries, bakeries], [Lebanese, lebanese], [...      Murrieta, CA   \n",
       "3  [[Japanese, japanese], [Asian Fusion, asianfus...       Cypress, CA   \n",
       "2  [[Japanese, japanese], [Asian Fusion, asianfus...      La Palma, CA   \n",
       "1              [[Meat Shops, meats], [Halal, halal]]          Bell, CA   \n",
       "0              [[Meat Shops, meats], [Halal, halal]]  Bell Gardens, CA   \n",
       "\n",
       "     display_phone                                        id is_claimed  \\\n",
       "4  +1-951-894-4544        sultan-bakery-and-grill-murrieta-4       True   \n",
       "3  +1-714-252-1160                         poki-roll-cypress       True   \n",
       "2  +1-714-252-1160                         poki-roll-cypress       True   \n",
       "1  +1-323-771-2400  fatimas-halal-meat-market-and-grill-bell       True   \n",
       "0  +1-323-771-2400  fatimas-halal-meat-market-and-grill-bell       True   \n",
       "\n",
       "  is_closed                                         mobile_url  \\\n",
       "4     False  https://m.yelp.com/biz/sultan-bakery-and-grill...   \n",
       "3     False  https://m.yelp.com/biz/poki-roll-cypress?adjus...   \n",
       "2     False  https://m.yelp.com/biz/poki-roll-cypress?adjus...   \n",
       "1     False  https://m.yelp.com/biz/fatimas-halal-meat-mark...   \n",
       "0     False  https://m.yelp.com/biz/fatimas-halal-meat-mark...   \n",
       "\n",
       "                                 name  rating  review_count  \\\n",
       "4             Sultan Bakery and Grill     5.0           425   \n",
       "3                           Poki Roll     5.0           363   \n",
       "2                           Poki Roll     5.0           363   \n",
       "1  Fatima's Halal Meat Market & Grill     5.0           323   \n",
       "0  Fatima's Halal Meat Market & Grill     5.0           323   \n",
       "\n",
       "                                        snippet_text  \\\n",
       "4  So delicious! Will have to come back and try m...   \n",
       "3  Great yelp find!! Got the special combo that c...   \n",
       "2  Great yelp find!! Got the special combo that c...   \n",
       "1  I enjoy middle eastern cuisine very much it's ...   \n",
       "0  I enjoy middle eastern cuisine very much it's ...   \n",
       "\n",
       "                                                 url population  Latitude   \\\n",
       "4  https://www.yelp.com/biz/sultan-bakery-and-gri...    103,466  33.553914   \n",
       "3  https://www.yelp.com/biz/poki-roll-cypress?adj...     47,802  37.320531   \n",
       "2  https://www.yelp.com/biz/poki-roll-cypress?adj...     15,568  33.846403   \n",
       "1  https://www.yelp.com/biz/fatimas-halal-meat-ma...     35,477  33.977514   \n",
       "0  https://www.yelp.com/biz/fatimas-halal-meat-ma...     42,072  33.965292   \n",
       "\n",
       "    Longitude                                               text  \n",
       "4 -117.213922  City:Murrieta, CA<br>Rating: 5.0 star<br>Avera...  \n",
       "3 -121.962242  City:Cypress, CA<br>Rating: 5.0 star<br>Averag...  \n",
       "2 -118.046731  City:La Palma, CA<br>Rating: 5.0 star<br>Avera...  \n",
       "1 -118.187017  City:Bell, CA<br>Rating: 5.0 star<br>Average R...  \n",
       "0 -118.151458  City:Bell Gardens, CA<br>Rating: 5.0 star<br>A...  "
      ]
     },
     "execution_count": 181,
     "metadata": {},
     "output_type": "execute_result"
    }
   ],
   "source": [
    "df_best_5"
   ]
  },
  {
   "cell_type": "code",
   "execution_count": 200,
   "metadata": {
    "collapsed": false
   },
   "outputs": [
    {
     "data": {
      "text/html": [
       "<iframe id=\"igraph\" scrolling=\"no\" style=\"border:none;\" seamless=\"seamless\" src=\"https://plot.ly/~stephanielamm/18.embed\" height=\"525px\" width=\"100%\"></iframe>"
      ],
      "text/plain": [
       "<plotly.tools.PlotlyDisplay object>"
      ]
     },
     "execution_count": 200,
     "metadata": {},
     "output_type": "execute_result"
    }
   ],
   "source": [
    "#top 5 \n",
    "mapbox_access_token = 'pk.eyJ1Ijoic3RhMTQxcHJvamVjdCIsImEiOiJjaXpxYWUyOHEwMTZ1MzNuNHp6b21zY2Y5In0.Vr6h57ZVuRRgfJ4RwW9wGw'\n",
    "df_best_5['text'] = 'Name: ' + df_best_5['name'] + '<br>City:' + df_best_5['city'] +'<br>Rating: ' + df_best_5['rating'].astype(np.str)+ ' star' + '<br>Reviews count: ' + df_best_5['review_count'].astype(np.str) + '<br>Category: ' + [df_best_5['categories'][i][0][0] for i in reversed(range(0, len(df_best_5['categories'])))]\n",
    "\n",
    "data = Data([\n",
    "    Scattermapbox(\n",
    "        lat=df_best_5['Latitude '],\n",
    "        lon=df_best_5['Longitude'],\n",
    "        mode='markers',\n",
    "        marker=Marker(\n",
    "            size=17,\n",
    "            color='rgb(255, 0, 0)',\n",
    "            opacity=0.7\n",
    "        ),\n",
    "        text=df_best_5['text'],\n",
    "    )\n",
    "])\n",
    "\n",
    "layout = Layout(\n",
    "    autosize=True,\n",
    "    hovermode='closest',\n",
    "    mapbox=dict(\n",
    "        accesstoken=mapbox_access_token,\n",
    "        bearing=0,\n",
    "        center=dict(\n",
    "            lat=35,\n",
    "            lon=-120\n",
    "        ),\n",
    "        pitch=0,\n",
    "        zoom=5\n",
    "    ),\n",
    ")\n",
    "\n",
    "fig = dict(data=data, layout=layout)\n",
    "py.iplot(fig, filename='Top 5 restaurants', validate=False)"
   ]
  },
  {
   "cell_type": "markdown",
   "metadata": {},
   "source": [
    "### Hotels"
   ]
  },
  {
   "cell_type": "code",
   "execution_count": 29,
   "metadata": {
    "collapsed": true
   },
   "outputs": [],
   "source": [
    "#get the most frequent category labels (Overall)\n",
    "count_df = freq_cat(df_hotels_final)"
   ]
  },
  {
   "cell_type": "code",
   "execution_count": 94,
   "metadata": {
    "collapsed": false
   },
   "outputs": [
    {
     "data": {
      "text/html": [
       "<iframe id=\"igraph\" scrolling=\"no\" style=\"border:none;\" seamless=\"seamless\" src=\"https://plot.ly/~stephanielam/6.embed\" height=\"525px\" width=\"100%\"></iframe>"
      ],
      "text/plain": [
       "<plotly.tools.PlotlyDisplay object>"
      ]
     },
     "execution_count": 94,
     "metadata": {},
     "output_type": "execute_result"
    }
   ],
   "source": [
    "#plot\n",
    "data = [go.Bar(x= count_df[0],y= count_df[1],\n",
    "        marker=dict(\n",
    "            color=['rgba(222,45,38,0.8)', 'grey', 'grey', 'grey', 'grey', 'grey',\n",
    "                   'grey', 'grey','grey', 'grey',]))]\n",
    "layout = go.Layout(title='Top 10 most frequent category')\n",
    "fig = go.Figure(data=data, layout=layout)\n",
    "py.iplot(fig, filename = 'Top 10 most frequent category')"
   ]
  },
  {
   "cell_type": "code",
   "execution_count": 32,
   "metadata": {
    "collapsed": false
   },
   "outputs": [],
   "source": [
    "#restrict to only the category 'Hotels'\n",
    "df_limit_hotels = pd.DataFrame()\n",
    "for i in range(0, len(df_hotels_final)):\n",
    "    for j in range(0, len(df_hotels_final['categories'][i])):\n",
    "        if df_hotels_final['categories'][i][j] == [u'Hotels', u'hotels']:\n",
    "            df_limit_hotels = pd.concat([df_hotels_final.iloc[[i]],df_limit_hotels], ignore_index = True)"
   ]
  },
  {
   "cell_type": "code",
   "execution_count": 124,
   "metadata": {
    "collapsed": false
   },
   "outputs": [
    {
     "data": {
      "text/html": [
       "<iframe id=\"igraph\" scrolling=\"no\" style=\"border:none;\" seamless=\"seamless\" src=\"https://plot.ly/~stephanielam/22.embed\" height=\"525px\" width=\"100%\"></iframe>"
      ],
      "text/plain": [
       "<plotly.tools.PlotlyDisplay object>"
      ]
     },
     "execution_count": 124,
     "metadata": {},
     "output_type": "execute_result"
    }
   ],
   "source": [
    "#star distribution in the category 'Hotels'\n",
    "labels, values = zip(*Counter(df_limit_hotels['rating']).items()) \n",
    "\n",
    "fig = {\n",
    "    'data': [{'labels': labels,\n",
    "              'values': values,\n",
    "              'type': 'pie',\n",
    "             }],\n",
    "    'layout': {'title': \"Pie chart of star distribution in the category 'Hotels'\"}\n",
    "     }\n",
    "py.iplot(fig, filename = \"star distribution in the category Hotels\")"
   ]
  },
  {
   "cell_type": "code",
   "execution_count": 33,
   "metadata": {
    "collapsed": false
   },
   "outputs": [],
   "source": [
    "#get the average star rating (by City)\n",
    "hotel_rating = average_star_city(df_limit_hotels, 'rating')\n",
    "average_review = average_star_city(df_limit_hotels, 'review_count')"
   ]
  },
  {
   "cell_type": "code",
   "execution_count": 34,
   "metadata": {
    "collapsed": false
   },
   "outputs": [],
   "source": [
    "hotel_rating = pd.merge(hotel_rating, average_review, on= 'city')\n",
    "hotel_rating = pd.merge(hotel_rating, pd_geo, on='city')"
   ]
  },
  {
   "cell_type": "code",
   "execution_count": 70,
   "metadata": {
    "collapsed": false,
    "scrolled": true
   },
   "outputs": [
    {
     "data": {
      "text/html": [
       "<iframe id=\"igraph\" scrolling=\"no\" style=\"border:none;\" seamless=\"seamless\" src=\"https://plot.ly/~stephanielam/8.embed\" height=\"525px\" width=\"100%\"></iframe>"
      ],
      "text/plain": [
       "<plotly.tools.PlotlyDisplay object>"
      ]
     },
     "execution_count": 70,
     "metadata": {},
     "output_type": "execute_result"
    }
   ],
   "source": [
    "hotel_rating['text'] = 'City:' + hotel_rating['city'] + '<br>Rating: ' + hotel_rating['rating'].astype(np.str)+' star' + '<br>Average Reviews count: ' + hotel_rating['review_count'].astype(np.str)\n",
    "limits = [(1,3),(3,3.5),(3.5,4),(4,4.5),(4.5,5)]\n",
    "colors = [\"lightgrey\",\"lightgreen\",\"lightblue\",\"lightyellow\",\"red\"]\n",
    "cities = []\n",
    "\n",
    "for i in range(len(limits)):\n",
    "    lim = limits[i]\n",
    "    rate_sub = hotel_rating.query('%f' %lim[0] +'<= rating < %f' %lim[1])\n",
    "    city = dict(\n",
    "        type = 'scattergeo',\n",
    "        locationmode = 'ISO-3',\n",
    "        lon = rate_sub['Longitude'],\n",
    "        lat = rate_sub['Latitude '],\n",
    "        text = rate_sub['text'],\n",
    "        marker = dict(\n",
    "            size = rate_sub['review_count'],\n",
    "            color = colors[i],\n",
    "            line = dict(width=0.5, color='rgb(40,40,40)'),\n",
    "            sizemode = 'area'\n",
    "        ),\n",
    "        name = '{0} - {1} stars'.format(lim[0],lim[1]))\n",
    "    cities.append(city)\n",
    "\n",
    "layout = dict(\n",
    "        title = 'Hotel Average Rating by City<br>(Click legend to toggle traces)',\n",
    "        showlegend = True,\n",
    "        geo = dict(\n",
    "            scope='usa',\n",
    "            projection=dict( type='albers usa' ),\n",
    "            showland = True,\n",
    "            landcolor = 'rgb(217, 217, 217)',\n",
    "            subunitwidth=1,\n",
    "            countrywidth=1,\n",
    "            subunitcolor=\"rgb(255, 255, 255)\",\n",
    "            countrycolor=\"rgb(255, 255, 255)\"\n",
    "        ),\n",
    "    )\n",
    "\n",
    "fig = dict( data=cities, layout=layout )\n",
    "py.iplot(fig, validate=False, filename='hotel average rating' )"
   ]
  },
  {
   "cell_type": "code",
   "execution_count": 83,
   "metadata": {
    "collapsed": false
   },
   "outputs": [
    {
     "data": {
      "text/html": [
       "<iframe id=\"igraph\" scrolling=\"no\" style=\"border:none;\" seamless=\"seamless\" src=\"https://plot.ly/~stephanielam/16.embed\" height=\"525px\" width=\"100%\"></iframe>"
      ],
      "text/plain": [
       "<plotly.tools.PlotlyDisplay object>"
      ]
     },
     "execution_count": 83,
     "metadata": {},
     "output_type": "execute_result"
    }
   ],
   "source": [
    "#rating vs review_count\n",
    "data = go.Scatter(\n",
    "    x = df_hotels_final['rating'],\n",
    "    y = df_hotels_final['review_count'],\n",
    "    mode = 'markers'\n",
    ")\n",
    "\n",
    "layout = go.Layout(\n",
    "    title='Scatter plot of Restaurant\\'s rating vs review count',\n",
    "    xaxis=dict(\n",
    "        title='Rating',\n",
    "        gridcolor='rgb(255, 255, 255)',\n",
    "    ),\n",
    "    yaxis=dict(\n",
    "        title='Review Count',\n",
    "        gridcolor='rgb(255, 255, 255)',\n",
    "    ),\n",
    "    paper_bgcolor='rgb(243, 243, 243)',\n",
    "    plot_bgcolor='rgb(243, 243, 243)',\n",
    ")\n",
    "\n",
    "fig = dict(data=[data], layout=layout)\n",
    "py.iplot(fig, filename='Scatter plot of rating vs review count2')"
   ]
  },
  {
   "cell_type": "code",
   "execution_count": 211,
   "metadata": {
    "collapsed": false,
    "scrolled": true
   },
   "outputs": [],
   "source": [
    "#Top five hotels:\n",
    "hotel_best_5 = df_limit_hotels.groupby('rating')['review_count'].nlargest(5).reset_index()\n",
    "hotel_best_5 = pd.DataFrame(hotel_best_5)\n",
    "\n",
    "df_hotel_best_5 = pd.DataFrame()\n",
    "for i in range(0,len(hotel_best_5)):\n",
    "    if hotel_best_5['rating'][i] == 5.0:\n",
    "        data = df_limit_hotels.iloc[[hotel_best_5['level_1'][i]]]\n",
    "        df_hotel_best_5 = pd.concat([data,df_hotel_best_5],ignore_index = True)\n",
    "        \n",
    "df_hotel_best_5 = df_hotel_best_5.iloc[::-1]"
   ]
  },
  {
   "cell_type": "code",
   "execution_count": 236,
   "metadata": {
    "collapsed": false,
    "scrolled": false
   },
   "outputs": [
    {
     "data": {
      "text/html": [
       "<iframe id=\"igraph\" scrolling=\"no\" style=\"border:none;\" seamless=\"seamless\" src=\"https://plot.ly/~stephanielamm/22.embed\" height=\"525px\" width=\"100%\"></iframe>"
      ],
      "text/plain": [
       "<plotly.tools.PlotlyDisplay object>"
      ]
     },
     "execution_count": 236,
     "metadata": {},
     "output_type": "execute_result"
    }
   ],
   "source": [
    "#top 5 hotels\n",
    "\n",
    "#how to plot overlap scatter points\n",
    "\n",
    "df_hotel_best_5['text'] = 'Name: ' + df_hotel_best_5['name'] + '<br>City:' + df_hotel_best_5['city'] +'<br>Rating: ' + df_hotel_best_5['rating'].astype(np.str)+ ' star' + '<br>Reviews count: ' + df_hotel_best_5['review_count'].astype(np.str) + '<br>Category: ' + [df_hotel_best_5['categories'][i][0][0] for i in reversed(range(0, len(df_hotel_best_5['categories'])))]\n",
    "\n",
    "data = Data([\n",
    "    Scattermapbox(\n",
    "        lat= df_hotel_best_5['Latitude '],\n",
    "        lon= df_hotel_best_5['Longitude'],\n",
    "        mode='markers',\n",
    "        marker=Marker(\n",
    "            size=17,\n",
    "            color='rgb(255, 0, 0)',\n",
    "            opacity=0.7\n",
    "        ),\n",
    "        text=df_hotel_best_5['text'],\n",
    "    )\n",
    "])\n",
    "\n",
    "layout = Layout(\n",
    "    title='The Top Hotels in California',\n",
    "    autosize=True,\n",
    "    hovermode='closest',\n",
    "    mapbox=dict(\n",
    "        accesstoken=mapbox_access_token,\n",
    "        bearing=0,\n",
    "        center=dict(\n",
    "            lat=36.5,\n",
    "            lon=-117\n",
    "        ),\n",
    "        pitch=0,\n",
    "        zoom=5\n",
    "    ),\n",
    ")\n",
    "\n",
    "fig = dict(data=data, layout=layout)\n",
    "py.iplot(fig, filename='Top hotels', validate=False)"
   ]
  },
  {
   "cell_type": "code",
   "execution_count": 40,
   "metadata": {
    "collapsed": true
   },
   "outputs": [],
   "source": [
    "# Add Landmarks\n",
    "keyterm = \"landmarks\"\n",
    "yelp_landmarks = [search(keyterm, \"%s, CA\" %city, criteria) for city in pd_scrape[\"city\"]]\n",
    "df_landmarks = pd.concat(yelp_landmarks)\n",
    "df_landmarks_drop = df_landmarks.drop([\"deals\", \"gift_certificates\", \"image_url\", \"location\", \"menu_date_updated\", \"menu_provider\", \"phone\", \"rating_img_url\", \"rating_img_url_large\", \"rating_img_url_small\", \"snippet_image_url\"], 1)\n",
    "df_landmarks_final = pd.merge(df_landmarks_drop, pd_geo, on = \"city\", how = \"inner\")\n"
   ]
  },
  {
   "cell_type": "code",
   "execution_count": 41,
   "metadata": {
    "collapsed": true
   },
   "outputs": [],
   "source": [
    "import json, ast\n",
    "import pandas as pd\n",
    "from django.utils.encoding import smart_str, smart_unicode"
   ]
  },
  {
   "cell_type": "code",
   "execution_count": 42,
   "metadata": {
    "collapsed": true
   },
   "outputs": [],
   "source": [
    "def modify(city):\n",
    "    \"\"\"\n",
    "    modify the input\n",
    "    \n",
    "    Argument: city\n",
    "    \n",
    "    Return: soup from the url link\n",
    "    \"\"\"\n",
    "    # capitalize the first letter of each word in a string\n",
    "    city = city.title()\n",
    "    # replace the empty space with the _\n",
    "    city = city.strip().replace(' ', '_')\n",
    "    url = \"https://en.wikipedia.org/wiki/\" + str(city) +\",_California\"\n",
    "    info = requests.get(url).content\n",
    "    wikisoup = BeautifulSoup(info, 'lxml')\n",
    "    return wikisoup"
   ]
  },
  {
   "cell_type": "code",
   "execution_count": 43,
   "metadata": {
    "collapsed": false
   },
   "outputs": [],
   "source": [
    "def extract_overview(city):\n",
    "    \"\"\"\n",
    "    extract a brief overview from the wikipedia page\n",
    "    \n",
    "    Argument: city\n",
    "    \n",
    "    Return: print the overview description\n",
    "    \"\"\"\n",
    "    wikisoup = modify(city)\n",
    "    content = wikisoup.findAll(\"p\")\n",
    "    brief = content[0].text\n",
    "    brief = ast.literal_eval(json.dumps(brief))\n",
    "    print brief"
   ]
  },
  {
   "cell_type": "code",
   "execution_count": 44,
   "metadata": {
    "collapsed": false
   },
   "outputs": [],
   "source": [
    "def extract_info(city):\n",
    "    \"\"\"\n",
    "    extract the basic information of the city\n",
    "    \n",
    "    Argument: city\n",
    "    \n",
    "    Return: a dataframe with the basic information\n",
    "    \"\"\"\n",
    "    wikisoup = modify(city)\n",
    "    data1 = wikisoup.findAll(\"tr\", {\"class\": \"mergedrow\"})\n",
    "    data = [dat.text for dat in data1]\n",
    "    split = [dat.strip(\"\\n\") for dat in data]\n",
    "    pd_info = pd.DataFrame(split)\n",
    "    pd_info.rename(columns = {list(pd_info)[0]: 'info'}, inplace = True)\n",
    "\n",
    "    # how to remove • ???\n",
    "    pd_info['info'] = pd_info['info'].str.replace(\"\\n\", \" : \")\n",
    "    return pd_info"
   ]
  },
  {
   "cell_type": "code",
   "execution_count": 46,
   "metadata": {
    "collapsed": false
   },
   "outputs": [
    {
     "name": "stdout",
     "output_type": "stream",
     "text": [
      "California\n"
     ]
    }
   ],
   "source": [
    "output = extract_overview(\"San Francisco\")\n",
    "# how to change the \\u2013\n",
    "output"
   ]
  },
  {
   "cell_type": "code",
   "execution_count": 57,
   "metadata": {
    "collapsed": false
   },
   "outputs": [],
   "source": [
    "city = \"San Francisco\"\n",
    "wikisoup = modify(city)\n",
    "content = wikisoup.findAll(\"p\")\n",
    "#print content[0:1].text"
   ]
  },
  {
   "cell_type": "code",
   "execution_count": 48,
   "metadata": {
    "collapsed": true
   },
   "outputs": [],
   "source": [
    "brief = content[0].text\n",
    "brief = ast.literal_eval(json.dumps(brief))"
   ]
  },
  {
   "cell_type": "code",
   "execution_count": 58,
   "metadata": {
    "collapsed": false
   },
   "outputs": [
    {
     "data": {
      "text/html": [
       "<div>\n",
       "<table border=\"1\" class=\"dataframe\">\n",
       "  <thead>\n",
       "    <tr style=\"text-align: right;\">\n",
       "      <th></th>\n",
       "      <th>info</th>\n",
       "    </tr>\n",
       "  </thead>\n",
       "  <tbody>\n",
       "    <tr>\n",
       "      <th>0</th>\n",
       "      <td>Motto: Oro en Paz, Fierro en Guerra (Spanish) ...</td>\n",
       "    </tr>\n",
       "    <tr>\n",
       "      <th>1</th>\n",
       "      <td>State :  : California</td>\n",
       "    </tr>\n",
       "    <tr>\n",
       "      <th>2</th>\n",
       "      <td>CSA : San Jose–San Francisco–Oakland</td>\n",
       "    </tr>\n",
       "    <tr>\n",
       "      <th>3</th>\n",
       "      <td>Metro : San Francisco–Oakland–Hayward</td>\n",
       "    </tr>\n",
       "    <tr>\n",
       "      <th>4</th>\n",
       "      <td>Incorporated : April 15, 1850[9]</td>\n",
       "    </tr>\n",
       "    <tr>\n",
       "      <th>5</th>\n",
       "      <td>Founded by : José Joaquin Moraga : Francisco P...</td>\n",
       "    </tr>\n",
       "    <tr>\n",
       "      <th>6</th>\n",
       "      <td>Named for : St. Francis of Assisi</td>\n",
       "    </tr>\n",
       "    <tr>\n",
       "      <th>7</th>\n",
       "      <td>• Type : Mayor-council</td>\n",
       "    </tr>\n",
       "    <tr>\n",
       "      <th>8</th>\n",
       "      <td>• Body : Board of Supervisors</td>\n",
       "    </tr>\n",
       "    <tr>\n",
       "      <th>9</th>\n",
       "      <td>• Mayor : Edwin M. Lee (D)[10]</td>\n",
       "    </tr>\n",
       "    <tr>\n",
       "      <th>10</th>\n",
       "      <td>• Supervisors[12] :  :  : List :  : Sandra Le...</td>\n",
       "    </tr>\n",
       "    <tr>\n",
       "      <th>11</th>\n",
       "      <td>• Assembly members[13][14] : David Chiu (D) :...</td>\n",
       "    </tr>\n",
       "    <tr>\n",
       "      <th>12</th>\n",
       "      <td>• State senator : Scott Wiener (D)[11]</td>\n",
       "    </tr>\n",
       "    <tr>\n",
       "      <th>13</th>\n",
       "      <td>• United States Representatives[15][16] : Nan...</td>\n",
       "    </tr>\n",
       "    <tr>\n",
       "      <th>14</th>\n",
       "      <td>• City and county : 231.89 sq mi (600.6 km2)</td>\n",
       "    </tr>\n",
       "    <tr>\n",
       "      <th>15</th>\n",
       "      <td>• Land : 46.87 sq mi (121.4 km2)</td>\n",
       "    </tr>\n",
       "    <tr>\n",
       "      <th>16</th>\n",
       "      <td>• Water : 185.02 sq mi (479.2 km2)  80.00%</td>\n",
       "    </tr>\n",
       "    <tr>\n",
       "      <th>17</th>\n",
       "      <td>• Metro : 3,524.4 sq mi (9,128 km2)</td>\n",
       "    </tr>\n",
       "    <tr>\n",
       "      <th>18</th>\n",
       "      <td>• City and county : 864,816</td>\n",
       "    </tr>\n",
       "    <tr>\n",
       "      <th>19</th>\n",
       "      <td>• Rank : 13th, U.S.</td>\n",
       "    </tr>\n",
       "    <tr>\n",
       "      <th>20</th>\n",
       "      <td>• Density : 18,451/sq mi (7,124/km2)</td>\n",
       "    </tr>\n",
       "    <tr>\n",
       "      <th>21</th>\n",
       "      <td>• Metro : 4,656,132 (11th)</td>\n",
       "    </tr>\n",
       "    <tr>\n",
       "      <th>22</th>\n",
       "      <td>• CSA : 8,713,914 (5th)</td>\n",
       "    </tr>\n",
       "    <tr>\n",
       "      <th>23</th>\n",
       "      <td>• Summer (DST) : Pacific Daylight Time (UTC−7)</td>\n",
       "    </tr>\n",
       "    <tr>\n",
       "      <th>24</th>\n",
       "      <td>Area codes : 415/628[22]</td>\n",
       "    </tr>\n",
       "    <tr>\n",
       "      <th>25</th>\n",
       "      <td>GNIS feature IDs : 277593, 2411786</td>\n",
       "    </tr>\n",
       "  </tbody>\n",
       "</table>\n",
       "</div>"
      ],
      "text/plain": [
       "                                                 info\n",
       "0   Motto: Oro en Paz, Fierro en Guerra (Spanish) ...\n",
       "1                               State :  : California\n",
       "2                CSA : San Jose–San Francisco–Oakland\n",
       "3               Metro : San Francisco–Oakland–Hayward\n",
       "4                    Incorporated : April 15, 1850[9]\n",
       "5   Founded by : José Joaquin Moraga : Francisco P...\n",
       "6                   Named for : St. Francis of Assisi\n",
       "7                              • Type : Mayor-council\n",
       "8                       • Body : Board of Supervisors\n",
       "9                      • Mayor : Edwin M. Lee (D)[10]\n",
       "10   • Supervisors[12] :  :  : List :  : Sandra Le...\n",
       "11   • Assembly members[13][14] : David Chiu (D) :...\n",
       "12             • State senator : Scott Wiener (D)[11]\n",
       "13   • United States Representatives[15][16] : Nan...\n",
       "14       • City and county : 231.89 sq mi (600.6 km2)\n",
       "15                   • Land : 46.87 sq mi (121.4 km2)\n",
       "16         • Water : 185.02 sq mi (479.2 km2)  80.00%\n",
       "17                • Metro : 3,524.4 sq mi (9,128 km2)\n",
       "18                        • City and county : 864,816\n",
       "19                                • Rank : 13th, U.S.\n",
       "20               • Density : 18,451/sq mi (7,124/km2)\n",
       "21                         • Metro : 4,656,132 (11th)\n",
       "22                            • CSA : 8,713,914 (5th)\n",
       "23     • Summer (DST) : Pacific Daylight Time (UTC−7)\n",
       "24                           Area codes : 415/628[22]\n",
       "25                 GNIS feature IDs : 277593, 2411786"
      ]
     },
     "execution_count": 58,
     "metadata": {},
     "output_type": "execute_result"
    }
   ],
   "source": [
    "extract_info(\"san francisco\")"
   ]
  },
  {
   "cell_type": "code",
   "execution_count": null,
   "metadata": {
    "collapsed": true
   },
   "outputs": [],
   "source": []
  },
  {
   "cell_type": "code",
   "execution_count": 59,
   "metadata": {
    "collapsed": false
   },
   "outputs": [],
   "source": [
    "from IPython.display import display\n",
    "from ipywidgets import widgets\n",
    "\n",
    "inputText = widgets.Text()\n",
    "\n",
    "def modify_input(sender):\n",
    "    outputText.value = inputText.value.title()\n",
    "\n",
    "inputText.on_submit(modify_input)\n",
    "inputText\n"
   ]
  },
  {
   "cell_type": "code",
   "execution_count": 60,
   "metadata": {
    "collapsed": true
   },
   "outputs": [],
   "source": [
    "outputText = widgets.Text()\n",
    "outputText"
   ]
  },
  {
   "cell_type": "code",
   "execution_count": 61,
   "metadata": {
    "collapsed": false,
    "scrolled": true
   },
   "outputs": [
    {
     "ename": "KeyboardInterrupt",
     "evalue": "",
     "output_type": "error",
     "traceback": [
      "\u001b[0;31m---------------------------------------------------------------------------\u001b[0m",
      "\u001b[0;31mKeyboardInterrupt\u001b[0m                         Traceback (most recent call last)",
      "\u001b[0;32m<ipython-input-61-65f268a0af0f>\u001b[0m in \u001b[0;36m<module>\u001b[0;34m()\u001b[0m\n\u001b[0;32m----> 1\u001b[0;31m \u001b[0mcity\u001b[0m \u001b[0;34m=\u001b[0m \u001b[0mraw_input\u001b[0m\u001b[0;34m(\u001b[0m\u001b[0;34m\"Please enter the city that you want to visit: \"\u001b[0m\u001b[0;34m)\u001b[0m\u001b[0;34m\u001b[0m\u001b[0m\n\u001b[0m\u001b[1;32m      2\u001b[0m \u001b[0;32mprint\u001b[0m \u001b[0;34m\"Welcome to The City of\"\u001b[0m\u001b[0;34m,\u001b[0m \u001b[0mcity\u001b[0m\u001b[0;34m.\u001b[0m\u001b[0mtitle\u001b[0m\u001b[0;34m(\u001b[0m\u001b[0;34m)\u001b[0m\u001b[0;34m,\u001b[0m\u001b[0;34m\"\\nHere is a brief overview of the city.\"\u001b[0m\u001b[0;34m\u001b[0m\u001b[0m\n",
      "\u001b[0;32m/Users/stephanie/anaconda/lib/python2.7/site-packages/ipykernel/kernelbase.pyc\u001b[0m in \u001b[0;36mraw_input\u001b[0;34m(self, prompt)\u001b[0m\n\u001b[1;32m    688\u001b[0m             \u001b[0mself\u001b[0m\u001b[0;34m.\u001b[0m\u001b[0m_parent_ident\u001b[0m\u001b[0;34m,\u001b[0m\u001b[0;34m\u001b[0m\u001b[0m\n\u001b[1;32m    689\u001b[0m             \u001b[0mself\u001b[0m\u001b[0;34m.\u001b[0m\u001b[0m_parent_header\u001b[0m\u001b[0;34m,\u001b[0m\u001b[0;34m\u001b[0m\u001b[0m\n\u001b[0;32m--> 690\u001b[0;31m             \u001b[0mpassword\u001b[0m\u001b[0;34m=\u001b[0m\u001b[0mFalse\u001b[0m\u001b[0;34m,\u001b[0m\u001b[0;34m\u001b[0m\u001b[0m\n\u001b[0m\u001b[1;32m    691\u001b[0m         )\n\u001b[1;32m    692\u001b[0m \u001b[0;34m\u001b[0m\u001b[0m\n",
      "\u001b[0;32m/Users/stephanie/anaconda/lib/python2.7/site-packages/ipykernel/kernelbase.pyc\u001b[0m in \u001b[0;36m_input_request\u001b[0;34m(self, prompt, ident, parent, password)\u001b[0m\n\u001b[1;32m    718\u001b[0m             \u001b[0;32mexcept\u001b[0m \u001b[0mKeyboardInterrupt\u001b[0m\u001b[0;34m:\u001b[0m\u001b[0;34m\u001b[0m\u001b[0m\n\u001b[1;32m    719\u001b[0m                 \u001b[0;31m# re-raise KeyboardInterrupt, to truncate traceback\u001b[0m\u001b[0;34m\u001b[0m\u001b[0;34m\u001b[0m\u001b[0m\n\u001b[0;32m--> 720\u001b[0;31m                 \u001b[0;32mraise\u001b[0m \u001b[0mKeyboardInterrupt\u001b[0m\u001b[0;34m\u001b[0m\u001b[0m\n\u001b[0m\u001b[1;32m    721\u001b[0m             \u001b[0;32melse\u001b[0m\u001b[0;34m:\u001b[0m\u001b[0;34m\u001b[0m\u001b[0m\n\u001b[1;32m    722\u001b[0m                 \u001b[0;32mbreak\u001b[0m\u001b[0;34m\u001b[0m\u001b[0m\n",
      "\u001b[0;31mKeyboardInterrupt\u001b[0m: "
     ]
    }
   ],
   "source": [
    "city = raw_input(\"Please enter the city that you want to visit: \")\n",
    "print \"Welcome to The City of\", city.title(),\"\\nHere is a brief overview of the city.\""
   ]
  },
  {
   "cell_type": "code",
   "execution_count": 62,
   "metadata": {
    "collapsed": false
   },
   "outputs": [
    {
     "name": "stdout",
     "output_type": "stream",
     "text": [
      "California\n"
     ]
    }
   ],
   "source": [
    "extract_overview(\"San Francisco\")"
   ]
  },
  {
   "cell_type": "code",
   "execution_count": null,
   "metadata": {
    "collapsed": false
   },
   "outputs": [],
   "source": [
    "extract_info(input_city)"
   ]
  },
  {
   "cell_type": "code",
   "execution_count": null,
   "metadata": {
    "collapsed": true
   },
   "outputs": [],
   "source": [
    "def ask_input():\n",
    "    city = raw_input(\"Please enter the city that you want to visit: \")\n",
    "    print \"\\nWelcome to The City of\", city.title(),\"\\n\\nHere is a brief overview of the city:\\n\"\n",
    "    input_city = city.title()\n",
    "    overview = extract_overview(input_city)\n",
    "    info = extract_info(input_city)\n",
    "    print overview\n",
    "    return info"
   ]
  },
  {
   "cell_type": "code",
   "execution_count": null,
   "metadata": {
    "collapsed": false
   },
   "outputs": [],
   "source": [
    "ask_input()"
   ]
  },
  {
   "cell_type": "code",
   "execution_count": null,
   "metadata": {
    "collapsed": true
   },
   "outputs": [],
   "source": []
  }
 ],
 "metadata": {
  "anaconda-cloud": {},
  "kernelspec": {
   "display_name": "Python 2",
   "language": "python",
   "name": "python2"
  },
  "language_info": {
   "codemirror_mode": {
    "name": "ipython",
    "version": 2
   },
   "file_extension": ".py",
   "mimetype": "text/x-python",
   "name": "python",
   "nbconvert_exporter": "python",
   "pygments_lexer": "ipython2",
   "version": "2.7.13"
  }
 },
 "nbformat": 4,
 "nbformat_minor": 1
}

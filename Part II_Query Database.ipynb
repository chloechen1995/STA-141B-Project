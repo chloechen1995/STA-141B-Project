{
 "cells": [
  {
   "cell_type": "markdown",
   "metadata": {},
   "source": [
    "### Part II Overview:\n",
    "Goal: create different plots for analysis for Restaurant, hotel, and landmarks\n",
    "    \n",
    "### Steps:\n",
    "* create functions to extract infomations I needed\n",
    "* use plotly to make interactive plots so that the user would be able to look at the plot more specifically\n",
    "* use map to display the Top restaurants/hotels/landmarks"
   ]
  },
  {
   "cell_type": "code",
   "execution_count": 64,
   "metadata": {
    "collapsed": true
   },
   "outputs": [],
   "source": [
    "import sqlite3 as sql\n",
    "import pandas as pd\n",
    "from matplotlib import pyplot as plt\n",
    "plt.style.use('ggplot')\n",
    "%matplotlib inline\n",
    "import numpy as np\n",
    "import plotly\n",
    "import plotly.plotly as py  \n",
    "import plotly.tools as tls   \n",
    "from plotly.graph_objs import *\n",
    "import numpy as np  \n",
    "import plotly.graph_objs as go\n",
    "import colorlover as cl\n",
    "from collections import Counter\n",
    "\n",
    "tls.set_credentials_file(\n",
    "    username = 'stephanielamm',\n",
    "    api_key = 'TWptiEW5ErM8ceWXqlaj')\n",
    "mapbox_access_token = 'pk.eyJ1Ijoic3RhMTQxcHJvamVjdCIsImEiOiJjaXpxYWUyOHEwMTZ1MzNuNHp6b21zY2Y5In0.Vr6h57ZVuRRgfJ4RwW9wGw'"
   ]
  },
  {
   "cell_type": "code",
   "execution_count": 4,
   "metadata": {
    "collapsed": true
   },
   "outputs": [],
   "source": [
    "def get_df(keyterm):\n",
    "    conn = sql.connect(\"accommodation.sqlite\")\n",
    "    df_graph = pd.read_sql(\"SELECT * FROM Best_\" + keyterm, conn)\n",
    "    return df_graph"
   ]
  },
  {
   "cell_type": "code",
   "execution_count": 8,
   "metadata": {
    "collapsed": false
   },
   "outputs": [],
   "source": [
    "df_food_final = get_df(\"Restaurants\")"
   ]
  },
  {
   "cell_type": "code",
   "execution_count": 166,
   "metadata": {
    "collapsed": true
   },
   "outputs": [
    {
     "data": {
      "text/html": [
       "<div>\n",
       "<table border=\"1\" class=\"dataframe\">\n",
       "  <thead>\n",
       "    <tr style=\"text-align: right;\">\n",
       "      <th></th>\n",
       "      <th>categories</th>\n",
       "      <th>city</th>\n",
       "      <th>display_phone</th>\n",
       "      <th>id</th>\n",
       "      <th>image_url</th>\n",
       "      <th>is_closed</th>\n",
       "      <th>name</th>\n",
       "      <th>rating</th>\n",
       "      <th>review_count</th>\n",
       "      <th>snippet_text</th>\n",
       "      <th>url</th>\n",
       "      <th>city_population</th>\n",
       "      <th>Latitude</th>\n",
       "      <th>Longitude</th>\n",
       "    </tr>\n",
       "  </thead>\n",
       "  <tbody>\n",
       "    <tr>\n",
       "      <th>0</th>\n",
       "      <td>Thai</td>\n",
       "      <td>Adelanto, CA</td>\n",
       "      <td>+1-760-246-8122</td>\n",
       "      <td>thai-siam-restaurant-adelanto</td>\n",
       "      <td>https://s3-media2.fl.yelpcdn.com/bphoto/W_GP2k...</td>\n",
       "      <td>0</td>\n",
       "      <td>Thai-Siam Restaurant</td>\n",
       "      <td>4.5</td>\n",
       "      <td>42</td>\n",
       "      <td>So I wanted to listen to \"In the Aeroplane Ove...</td>\n",
       "      <td>https://www.yelp.com/biz/thai-siam-restaurant-...</td>\n",
       "      <td>31,765</td>\n",
       "      <td>34.582769</td>\n",
       "      <td>-117.409214</td>\n",
       "    </tr>\n",
       "    <tr>\n",
       "      <th>1</th>\n",
       "      <td>Mexican</td>\n",
       "      <td>Adelanto, CA</td>\n",
       "      <td>+1-760-530-2800</td>\n",
       "      <td>rauls-mexican-food-adelanto</td>\n",
       "      <td>https://s3-media2.fl.yelpcdn.com/bphoto/giLLG1...</td>\n",
       "      <td>0</td>\n",
       "      <td>Raul's Mexican Food</td>\n",
       "      <td>4.0</td>\n",
       "      <td>32</td>\n",
       "      <td>Agreed with the good reviews here.  Good place...</td>\n",
       "      <td>https://www.yelp.com/biz/rauls-mexican-food-ad...</td>\n",
       "      <td>31,765</td>\n",
       "      <td>34.582769</td>\n",
       "      <td>-117.409214</td>\n",
       "    </tr>\n",
       "    <tr>\n",
       "      <th>2</th>\n",
       "      <td>Mexican</td>\n",
       "      <td>Adelanto, CA</td>\n",
       "      <td>+1-760-246-4751</td>\n",
       "      <td>miguelitos-family-restaurant-adelanto</td>\n",
       "      <td>https://s3-media4.fl.yelpcdn.com/bphoto/aHMsj-...</td>\n",
       "      <td>0</td>\n",
       "      <td>Miguelitos Family Restaurant</td>\n",
       "      <td>4.0</td>\n",
       "      <td>14</td>\n",
       "      <td>This is the place to come to after a night out...</td>\n",
       "      <td>https://www.yelp.com/biz/miguelitos-family-res...</td>\n",
       "      <td>31,765</td>\n",
       "      <td>34.582769</td>\n",
       "      <td>-117.409214</td>\n",
       "    </tr>\n",
       "    <tr>\n",
       "      <th>3</th>\n",
       "      <td>American (New)</td>\n",
       "      <td>Adelanto, CA</td>\n",
       "      <td>+1-760-246-8400</td>\n",
       "      <td>fat-boyz-grill-adelanto</td>\n",
       "      <td>https://s3-media3.fl.yelpcdn.com/bphoto/H2QJry...</td>\n",
       "      <td>0</td>\n",
       "      <td>Fat Boyz Grill</td>\n",
       "      <td>3.5</td>\n",
       "      <td>27</td>\n",
       "      <td>Great place nice atmosphere wonderful staff fr...</td>\n",
       "      <td>https://www.yelp.com/biz/fat-boyz-grill-adelan...</td>\n",
       "      <td>31,765</td>\n",
       "      <td>34.582769</td>\n",
       "      <td>-117.409214</td>\n",
       "    </tr>\n",
       "    <tr>\n",
       "      <th>4</th>\n",
       "      <td>Mexican</td>\n",
       "      <td>Adelanto, CA</td>\n",
       "      <td>+1-760-530-9161</td>\n",
       "      <td>rubios-adelanto-3</td>\n",
       "      <td>https://s3-media1.fl.yelpcdn.com/bphoto/pwqZeG...</td>\n",
       "      <td>0</td>\n",
       "      <td>Rubio's</td>\n",
       "      <td>4.0</td>\n",
       "      <td>82</td>\n",
       "      <td>I love this place! Food is always amazing and ...</td>\n",
       "      <td>https://www.yelp.com/biz/rubios-adelanto-3?adj...</td>\n",
       "      <td>31,765</td>\n",
       "      <td>34.582769</td>\n",
       "      <td>-117.409214</td>\n",
       "    </tr>\n",
       "  </tbody>\n",
       "</table>\n",
       "</div>"
      ],
      "text/plain": [
       "       categories          city    display_phone  \\\n",
       "0            Thai  Adelanto, CA  +1-760-246-8122   \n",
       "1         Mexican  Adelanto, CA  +1-760-530-2800   \n",
       "2         Mexican  Adelanto, CA  +1-760-246-4751   \n",
       "3  American (New)  Adelanto, CA  +1-760-246-8400   \n",
       "4         Mexican  Adelanto, CA  +1-760-530-9161   \n",
       "\n",
       "                                      id  \\\n",
       "0          thai-siam-restaurant-adelanto   \n",
       "1            rauls-mexican-food-adelanto   \n",
       "2  miguelitos-family-restaurant-adelanto   \n",
       "3                fat-boyz-grill-adelanto   \n",
       "4                      rubios-adelanto-3   \n",
       "\n",
       "                                           image_url  is_closed  \\\n",
       "0  https://s3-media2.fl.yelpcdn.com/bphoto/W_GP2k...          0   \n",
       "1  https://s3-media2.fl.yelpcdn.com/bphoto/giLLG1...          0   \n",
       "2  https://s3-media4.fl.yelpcdn.com/bphoto/aHMsj-...          0   \n",
       "3  https://s3-media3.fl.yelpcdn.com/bphoto/H2QJry...          0   \n",
       "4  https://s3-media1.fl.yelpcdn.com/bphoto/pwqZeG...          0   \n",
       "\n",
       "                           name  rating  review_count  \\\n",
       "0          Thai-Siam Restaurant     4.5            42   \n",
       "1           Raul's Mexican Food     4.0            32   \n",
       "2  Miguelitos Family Restaurant     4.0            14   \n",
       "3                Fat Boyz Grill     3.5            27   \n",
       "4                       Rubio's     4.0            82   \n",
       "\n",
       "                                        snippet_text  \\\n",
       "0  So I wanted to listen to \"In the Aeroplane Ove...   \n",
       "1  Agreed with the good reviews here.  Good place...   \n",
       "2  This is the place to come to after a night out...   \n",
       "3  Great place nice atmosphere wonderful staff fr...   \n",
       "4  I love this place! Food is always amazing and ...   \n",
       "\n",
       "                                                 url city_population  \\\n",
       "0  https://www.yelp.com/biz/thai-siam-restaurant-...          31,765   \n",
       "1  https://www.yelp.com/biz/rauls-mexican-food-ad...          31,765   \n",
       "2  https://www.yelp.com/biz/miguelitos-family-res...          31,765   \n",
       "3  https://www.yelp.com/biz/fat-boyz-grill-adelan...          31,765   \n",
       "4  https://www.yelp.com/biz/rubios-adelanto-3?adj...          31,765   \n",
       "\n",
       "   Latitude    Longitude  \n",
       "0  34.582769 -117.409214  \n",
       "1  34.582769 -117.409214  \n",
       "2  34.582769 -117.409214  \n",
       "3  34.582769 -117.409214  \n",
       "4  34.582769 -117.409214  "
      ]
     },
     "execution_count": 166,
     "metadata": {},
     "output_type": "execute_result"
    }
   ],
   "source": [
    "df_food_final.head()"
   ]
  },
  {
   "cell_type": "markdown",
   "metadata": {},
   "source": [
    "* Since there are many different categories in restaurants, we will only focus on the top 10 most frequent cateogries"
   ]
  },
  {
   "cell_type": "code",
   "execution_count": 14,
   "metadata": {
    "collapsed": false
   },
   "outputs": [],
   "source": [
    "def freq_cat(df):\n",
    "    \"\"\"\n",
    "    get the Top 10 most frequent category labels (Overall)\n",
    "    argument: dataframe\n",
    "    return: dataframe of top 10 category\n",
    "    \"\"\"\n",
    "    count = []\n",
    "    for i in range(0,len(df)):\n",
    "        data = df['categories'][i]\n",
    "        count.append(data)\n",
    "        freq = Counter(count)\n",
    "        \n",
    "    count_df = pd.DataFrame(freq.most_common()[0:10])\n",
    "    return count_df"
   ]
  },
  {
   "cell_type": "code",
   "execution_count": 15,
   "metadata": {
    "collapsed": true
   },
   "outputs": [],
   "source": [
    "def freq_bar_plot(df, keyterm, colors):\n",
    "    \"\"\"\n",
    "    Argument: dataframe, keyterm, colors\n",
    "    Return: bar plot of the top 10 most frequent category\n",
    "    \"\"\"\n",
    "    data = [go.Bar(x= count_df[0],y= count_df[1],\n",
    "            marker=dict(color = colors))]\n",
    "    layout = go.Layout(title='Top 10 Most Frequent Category of %s' %keyterm)\n",
    "    fig = go.Figure(data=data, layout=layout)\n",
    "    \n",
    "    return py.iplot(fig, filename = 'Top 10 most frequent category of %s' %keyterm)"
   ]
  },
  {
   "cell_type": "code",
   "execution_count": 16,
   "metadata": {
    "collapsed": false
   },
   "outputs": [
    {
     "data": {
      "text/html": [
       "<iframe id=\"igraph\" scrolling=\"no\" style=\"border:none;\" seamless=\"seamless\" src=\"https://plot.ly/~stephanielamm/62.embed\" height=\"525px\" width=\"100%\"></iframe>"
      ],
      "text/plain": [
       "<plotly.tools.PlotlyDisplay object>"
      ]
     },
     "execution_count": 16,
     "metadata": {},
     "output_type": "execute_result"
    }
   ],
   "source": [
    "#get the most frequent category labels\n",
    "count_df = freq_cat(df_food_final)\n",
    "\n",
    "#most frequent category for Restaurant\n",
    "colors = cl.scales['10']['div']['RdYlBu']\n",
    "freq_bar_plot(count_df, \"Restaurant\", colors)"
   ]
  },
  {
   "cell_type": "markdown",
   "metadata": {},
   "source": [
    "From the bar plot, we can see that Mexican food is the most popular. \n",
    "\n",
    "The functions below are for having a better understanding of how the categories are distributed in differnt rating."
   ]
  },
  {
   "cell_type": "code",
   "execution_count": 18,
   "metadata": {
    "collapsed": true
   },
   "outputs": [],
   "source": [
    "def get_count(category, df):\n",
    "    \"\"\"count the rating\n",
    "    return: the labels and values\"\"\"\n",
    "    count_list =[]\n",
    "    for i in range(len(df)):\n",
    "        if df['categories'][i] == category:\n",
    "            count_list.append(df['rating'][i])       \n",
    "    labels, values = zip(*Counter(count_list).items()) \n",
    "    count_list =[] \n",
    "    return labels, values\n",
    "\n",
    "\n",
    "def get_cat_count(dataframe, df):\n",
    "    \"\"\"loop through the categories and get all the rating count by category\"\"\"\n",
    "    cat_count = []\n",
    "    for i in range(0, len(dataframe[0])):\n",
    "        count = get_count(dataframe[0][i], df)\n",
    "        cat_count.append(count)\n",
    "    return cat_count"
   ]
  },
  {
   "cell_type": "code",
   "execution_count": 19,
   "metadata": {
    "collapsed": true
   },
   "outputs": [],
   "source": [
    "def star_dist_plot(df, keyterm):\n",
    "    \"\"\"stack plot of the Distribution of stars(by category)\"\"\"\n",
    "    count_df = freq_cat(df)\n",
    "    cat_count = get_cat_count(count_df, df)\n",
    "    trace = dict()\n",
    "    \n",
    "    for i in range(0, len(cat_count)):\n",
    "        trace[i] = go.Bar(x = cat_count[i][0], y=cat_count[i][1], name= count_df[0][i])\n",
    "\n",
    "    data = [trace[i] for i in trace]\n",
    "    layout = go.Layout(barmode = 'stack', title ='Rating stars distribution (by categeory) for %s' %keyterm\n",
    "    )\n",
    "\n",
    "    fig = go.Figure(data=data, layout=layout)\n",
    "    return py.iplot(fig, filename='Rating stars distribution (by categeory) for %s' %keyterm)"
   ]
  },
  {
   "cell_type": "code",
   "execution_count": 20,
   "metadata": {
    "collapsed": false
   },
   "outputs": [
    {
     "data": {
      "text/html": [
       "<iframe id=\"igraph\" scrolling=\"no\" style=\"border:none;\" seamless=\"seamless\" src=\"https://plot.ly/~stephanielamm/78.embed\" height=\"525px\" width=\"100%\"></iframe>"
      ],
      "text/plain": [
       "<plotly.tools.PlotlyDisplay object>"
      ]
     },
     "execution_count": 20,
     "metadata": {},
     "output_type": "execute_result"
    }
   ],
   "source": [
    "#stack plot\n",
    "star_dist_plot(df_food_final, \"Restaurant\")"
   ]
  },
  {
   "cell_type": "markdown",
   "metadata": {},
   "source": [
    "We can see that most of the restaurants have 4 stars rating or higher, so we can tell that, CA overall has pretty posh restaurants."
   ]
  },
  {
   "cell_type": "code",
   "execution_count": 59,
   "metadata": {
    "collapsed": true
   },
   "outputs": [],
   "source": [
    "def average_city(dataframe, category):\n",
    "    \"\"\"get the average star rating (by City)\"\"\"\n",
    "    average_rate = dataframe.groupby('city')[category].mean()\n",
    "    average_rate = average_rate.reset_index()\n",
    "    average_rate = pd.DataFrame(average_rate)\n",
    "    return average_rate\n",
    "\n",
    "def city_rating(df):\n",
    "    \"\"\"return dataframe of both average rating and review count\"\"\"\n",
    "    rating_star = average_city(df, 'rating')\n",
    "    average_review = average_city(df, 'review_count')\n",
    "    \n",
    "    rating_star = pd.merge(rating_star, average_review, on= 'city')\n",
    "    \n",
    "    #subset the city, latitude, and longitude from the df and create new df\n",
    "    pd_geo = df[['city','Latitude ','Longitude']]\n",
    "    pd_geo = pd_geo.drop_duplicates()\n",
    "    pd_geo = pd_geo.reset_index()\n",
    "    \n",
    "    #combine the dataframes together by city name\n",
    "    rating_star = pd.merge(rating_star, pd_geo, on='city')\n",
    "    return rating_star"
   ]
  },
  {
   "cell_type": "code",
   "execution_count": 60,
   "metadata": {
    "collapsed": true
   },
   "outputs": [],
   "source": [
    "def city_rating_map(df, keyterm, scale):\n",
    "    \"\"\"\n",
    "    function created to plot the map of average rating by city\n",
    "    \"\"\"\n",
    "    df['text'] = 'City: ' + df['city'] + ' <br>Rating: ' + df['rating'].astype(np.str) +' star' + '<br>Average Reviews count: ' + df['review_count'].astype(np.str)\n",
    "    limits = [(1,3),(3,3.5),(3.5,4),(4,4.5),(4.5,5)]\n",
    "    colors = [\"lightgrey\",\"lightgreen\",\"lightblue\",\"lightyellow\",\"red\"]\n",
    "    cities = []\n",
    "\n",
    "    for i in range(len(limits)):\n",
    "        lim = limits[i]\n",
    "        rate_sub = df.query('%f' %lim[0] +'<= rating < %f' %lim[1])\n",
    "        city = dict(\n",
    "            type = 'scattergeo',\n",
    "            locationmode = 'USA-states',\n",
    "            lon = rate_sub['Longitude'],\n",
    "            lat = rate_sub['Latitude '],\n",
    "            text = rate_sub['text'],\n",
    "            marker = dict(\n",
    "                size = rate_sub['review_count'] / scale,\n",
    "                color = colors[i],\n",
    "                line = dict(width=0.5, color='rgb(40,40,40)'),\n",
    "                sizemode = 'area'\n",
    "            ),\n",
    "            name = '{0} - {1} stars'.format(lim[0],lim[1]))\n",
    "        cities.append(city)\n",
    "\n",
    "    layout = dict(\n",
    "            title = '%s Average Rating by City<br>(Click legend to toggle traces)'%keyterm,\n",
    "            showlegend = True,\n",
    "            geo = dict(\n",
    "                scope='usa',\n",
    "                projection=dict( type='albers usa' ),\n",
    "                showland = True,\n",
    "                landcolor = 'rgb(217, 217, 217)',\n",
    "                subunitwidth=1,\n",
    "                countrywidth=1,\n",
    "                subunitcolor=\"rgb(255, 255, 255)\",\n",
    "                countrycolor=\"rgb(255, 255, 255)\",\n",
    "                lonaxis = dict( range= [ -124.5, -114.0 ] ),\n",
    "                lataxis = dict( range= [ 32.0, 42.0 ] )\n",
    "            ),\n",
    "        \n",
    "        )\n",
    "\n",
    "    fig = dict( data=cities, layout=layout )\n",
    "    return py.iplot(fig, validate=False, filename='%s average rating by city'%keyterm)"
   ]
  },
  {
   "cell_type": "code",
   "execution_count": 61,
   "metadata": {
    "collapsed": false
   },
   "outputs": [
    {
     "data": {
      "text/html": [
       "<iframe id=\"igraph\" scrolling=\"no\" style=\"border:none;\" seamless=\"seamless\" src=\"https://plot.ly/~stephanielamm/54.embed\" height=\"525px\" width=\"100%\"></iframe>"
      ],
      "text/plain": [
       "<plotly.tools.PlotlyDisplay object>"
      ]
     },
     "execution_count": 61,
     "metadata": {},
     "output_type": "execute_result"
    }
   ],
   "source": [
    "rating_star = city_rating(df_food_final)\n",
    "city_rating_map(rating_star,'Restaurant', 2.5)"
   ]
  },
  {
   "cell_type": "markdown",
   "metadata": {},
   "source": [
    "In the map, the bigger dots indicate higher average review count.\n",
    "we see that most of the restaurants in different cities are between 4 and 4.5 stars. \n",
    "And there are currently no city that has a average rating higher than 4.5."
   ]
  },
  {
   "cell_type": "code",
   "execution_count": 67,
   "metadata": {
    "collapsed": true
   },
   "outputs": [],
   "source": [
    "def limit_data(df):\n",
    "    \"\"\"restrict to top 10 category \"\"\"\n",
    "    restricted_data = pd.DataFrame()\n",
    "    for i in range(0, len(df)):\n",
    "        for j in range(0, len(count_df)):\n",
    "            # restrict to top 10 category\n",
    "            if df['categories'][i] == count_df[0][j]:\n",
    "                data = df.iloc[i]\n",
    "                restricted_data = restricted_data.append(data ,ignore_index=True)\n",
    "    return restricted_data"
   ]
  },
  {
   "cell_type": "code",
   "execution_count": 146,
   "metadata": {
    "collapsed": false
   },
   "outputs": [],
   "source": [
    "restricted_food = limit_data(df_food_final)"
   ]
  },
  {
   "cell_type": "markdown",
   "metadata": {},
   "source": [
    "We want the users to be able to look at where are the top 3 restaurants located by the category they want.\n",
    "We created a function to extract the top 3 restaurants by categories and then plot the locations on a map."
   ]
  },
  {
   "cell_type": "code",
   "execution_count": 116,
   "metadata": {
    "collapsed": true
   },
   "outputs": [],
   "source": [
    "def top3by_cat(category, df, keyterm):\n",
    "    \"\"\"top 3 restaurant by category\"\"\"\n",
    "    temp = pd.DataFrame()\n",
    "    for i in range(0, len(df)):\n",
    "        if keyterm == 'restaurant':\n",
    "            cat = df['categories'][i]\n",
    "        elif keyterm == 'hotels':\n",
    "            cat = df['type'][i]\n",
    "               \n",
    "        if cat == category:\n",
    "            data = df.iloc[i]\n",
    "            temp = temp.append(data, ignore_index=True)\n",
    "\n",
    "    best_3 = temp.groupby('rating')['review_count'].nlargest(10).reset_index()\n",
    "    best_3 = pd.DataFrame(best_3)\n",
    "    df_best3 = pd.DataFrame()\n",
    "    for i in range(0,len(best_3)):\n",
    "        if best_3['rating'][i] == 5.0:\n",
    "            top = temp.iloc[[best_3['level_1'][i]]]\n",
    "            df_best3 = pd.concat([top,df_best3],ignore_index = True)\n",
    "            df_best3 = df_best3.drop_duplicates(['name'])\n",
    "            if len(df_best3) == 3:\n",
    "                break\n",
    "    if len(df_best3) < 3:\n",
    "        for i in range(0, len(best_3)):\n",
    "            if best_3['rating'][i] == 4.5:\n",
    "                top = temp.iloc[[best_3['level_1'][i]]]\n",
    "                df_best3 = pd.concat([top,df_best3],ignore_index = True)\n",
    "                df_best3 = df_best3.drop_duplicates(['name'])\n",
    "                if len(df_best3) == 3:\n",
    "                    break\n",
    "            else:\n",
    "                break\n",
    "    return df_best3"
   ]
  },
  {
   "cell_type": "code",
   "execution_count": 121,
   "metadata": {
    "collapsed": false,
    "scrolled": true
   },
   "outputs": [
    {
     "data": {
      "text/html": [
       "<iframe id=\"igraph\" scrolling=\"no\" style=\"border:none;\" seamless=\"seamless\" src=\"https://plot.ly/~stephanielamm/80.embed\" height=\"525px\" width=\"100%\"></iframe>"
      ],
      "text/plain": [
       "<plotly.tools.PlotlyDisplay object>"
      ]
     },
     "execution_count": 121,
     "metadata": {},
     "output_type": "execute_result"
    }
   ],
   "source": [
    "def top3_map(categories, df, keyterm):\n",
    "    \"\"\"plot the map of the top 3 restaurant for each category\"\"\"\n",
    "    trace = dict()\n",
    "    color = cl.scales['10']['div']['Spectral']\n",
    "    for i in range(0, len(categories)-1):\n",
    "        df_best3 =  top3by_cat(categories[i], df, keyterm)\n",
    "        df_best3 = df_best3.iloc[::-1] \n",
    "        df_best3['text'] = 'Name: ' + df_best3['name'] + '<br>City: ' + df_best3['city'] +'<br>Rating: ' + df_best3['rating'].astype(np.str)+ ' star' + '<br>Reviews count: ' + df_best3['review_count'].astype(np.str)  \n",
    "        trace[i] =  Scattermapbox(\n",
    "                        lat=df_best3['Latitude '],\n",
    "                        lon=df_best3['Longitude'],\n",
    "                        mode='markers',\n",
    "                        marker = Marker(\n",
    "                            size=15,\n",
    "                            color= color[i],\n",
    "                            opacity=0.7),\n",
    "                        text=df_best3['text'],\n",
    "                        name = '%s' %categories[i]\n",
    "                    ) \n",
    "\n",
    "    data = Data([trace[i] for i in trace])\n",
    "\n",
    "    layout = Layout(\n",
    "        title = 'Top 3 %s in California by category'%keyterm,\n",
    "        autosize=True,\n",
    "        hovermode='closest',\n",
    "        mapbox=dict(\n",
    "            accesstoken=mapbox_access_token,\n",
    "            bearing=0,\n",
    "            center=dict(\n",
    "                lat=36.5,\n",
    "                lon=-120\n",
    "            ),\n",
    "            pitch=0,\n",
    "            zoom=4.8\n",
    "        ),\n",
    "    )\n",
    "    fig = dict(data=data, layout=layout)\n",
    "    return py.iplot(fig, filename='Top 5 %s by category'%keyterm, validate=False)\n",
    "\n",
    "top3_map(count_df[0], restricted_data, 'restaurant')"
   ]
  },
  {
   "cell_type": "markdown",
   "metadata": {},
   "source": [
    "Most of the top 3 restaurants are located near San Francisco and the Los Angeles to San Diego area."
   ]
  },
  {
   "cell_type": "code",
   "execution_count": 126,
   "metadata": {
    "collapsed": true
   },
   "outputs": [],
   "source": [
    "from PIL import Image\n",
    "import urllib, cStringIO\n",
    "from IPython.display import display\n",
    "\n",
    "def display_img(category, df, keyterm):\n",
    "    category = unicode(category)\n",
    "    \"\"\"image of the top 3 restaurants by category \"\"\"\n",
    "    image_url = []\n",
    "    for i in range(0, 3):\n",
    "        dfbest3 = top3by_cat(category, df, keyterm)\n",
    "        dfbest3 = dfbest3.iloc[::-1]\n",
    "        url = dfbest3['image_url'][i]\n",
    "        image_url.append(str(url))\n",
    "    print 'Image of the top 3 %s restaurants:' %category\n",
    "    for image in image_url :\n",
    "        link = cStringIO.StringIO(urllib.urlopen(image).read())\n",
    "        img = Image.open(link) \n",
    "        display(img)\n",
    "    return"
   ]
  },
  {
   "cell_type": "code",
   "execution_count": 127,
   "metadata": {
    "collapsed": true
   },
   "outputs": [
    {
     "name": "stdout",
     "output_type": "stream",
     "text": [
      "Image of the top 3 Mexican restaurants:\n"
     ]
    },
    {
     "data": {
      "image/png": "[encoded data removed]",
      "text/plain": [
       "<PIL.JpegImagePlugin.JpegImageFile image mode=RGB size=100x100 at 0x1111AC9D0>"
      ]
     },
     "metadata": {},
     "output_type": "display_data"
    },
    {
     "data": {
      "image/png": "[encoded data removed]",
      "text/plain": [
       "<PIL.JpegImagePlugin.JpegImageFile image mode=RGB size=100x100 at 0x1111ACF90>"
      ]
     },
     "metadata": {},
     "output_type": "display_data"
    },
    {
     "data": {
      "image/png": "[encoded data removed]",
      "text/plain": [
       "<PIL.JpegImagePlugin.JpegImageFile image mode=RGB size=100x100 at 0x1111AC750>"
      ]
     },
     "metadata": {},
     "output_type": "display_data"
    }
   ],
   "source": [
    "#For example:\n",
    "display_img('Mexican', restricted_food, 'restaurant')"
   ]
  },
  {
   "cell_type": "markdown",
   "metadata": {},
   "source": [
    "## Hotels"
   ]
  },
  {
   "cell_type": "code",
   "execution_count": 129,
   "metadata": {
    "collapsed": false
   },
   "outputs": [],
   "source": [
    "df_hotels_final = get_df(\"Hotels\")"
   ]
  },
  {
   "cell_type": "code",
   "execution_count": 130,
   "metadata": {
    "collapsed": true
   },
   "outputs": [
    {
     "data": {
      "text/html": [
       "<div>\n",
       "<table border=\"1\" class=\"dataframe\">\n",
       "  <thead>\n",
       "    <tr style=\"text-align: right;\">\n",
       "      <th></th>\n",
       "      <th>categories</th>\n",
       "      <th>city</th>\n",
       "      <th>display_phone</th>\n",
       "      <th>id</th>\n",
       "      <th>image_url</th>\n",
       "      <th>is_closed</th>\n",
       "      <th>name</th>\n",
       "      <th>rating</th>\n",
       "      <th>review_count</th>\n",
       "      <th>snippet_text</th>\n",
       "      <th>url</th>\n",
       "      <th>city_population</th>\n",
       "      <th>Latitude</th>\n",
       "      <th>Longitude</th>\n",
       "    </tr>\n",
       "  </thead>\n",
       "  <tbody>\n",
       "    <tr>\n",
       "      <th>0</th>\n",
       "      <td>Hotels</td>\n",
       "      <td>Adelanto, CA</td>\n",
       "      <td>+1-760-530-2200</td>\n",
       "      <td>americas-best-value-inn-adelanto</td>\n",
       "      <td>https://s3-media3.fl.yelpcdn.com/bphoto/MMsVJg...</td>\n",
       "      <td>0</td>\n",
       "      <td>Americas Best Value Inn</td>\n",
       "      <td>3.5</td>\n",
       "      <td>11</td>\n",
       "      <td>Stayed one night there. Neat, quite and comfor...</td>\n",
       "      <td>https://www.yelp.com/biz/americas-best-value-i...</td>\n",
       "      <td>31,765</td>\n",
       "      <td>34.582769</td>\n",
       "      <td>-117.409214</td>\n",
       "    </tr>\n",
       "    <tr>\n",
       "      <th>1</th>\n",
       "      <td>Hotels</td>\n",
       "      <td>Adelanto, CA</td>\n",
       "      <td>+1-760-952-1200</td>\n",
       "      <td>hilton-garden-inn-victorville-victorville</td>\n",
       "      <td>https://s3-media2.fl.yelpcdn.com/bphoto/qrmyBV...</td>\n",
       "      <td>0</td>\n",
       "      <td>Hilton Garden Inn Victorville</td>\n",
       "      <td>3.5</td>\n",
       "      <td>62</td>\n",
       "      <td>So far I only have 2 complaints about this pla...</td>\n",
       "      <td>https://www.yelp.com/biz/hilton-garden-inn-vic...</td>\n",
       "      <td>31,765</td>\n",
       "      <td>34.582769</td>\n",
       "      <td>-117.409214</td>\n",
       "    </tr>\n",
       "    <tr>\n",
       "      <th>2</th>\n",
       "      <td>Hotels</td>\n",
       "      <td>Adelanto, CA</td>\n",
       "      <td>+1-888-293-5571</td>\n",
       "      <td>hawthorn-suites-by-wyndham-victorville-victorv...</td>\n",
       "      <td>https://s3-media2.fl.yelpcdn.com/bphoto/pKLe22...</td>\n",
       "      <td>0</td>\n",
       "      <td>Hawthorn Suites By Wyndham Victorville</td>\n",
       "      <td>3.5</td>\n",
       "      <td>25</td>\n",
       "      <td>Booked this hotel for my parents,  they wanted...</td>\n",
       "      <td>https://www.yelp.com/biz/hawthorn-suites-by-wy...</td>\n",
       "      <td>31,765</td>\n",
       "      <td>34.582769</td>\n",
       "      <td>-117.409214</td>\n",
       "    </tr>\n",
       "    <tr>\n",
       "      <th>3</th>\n",
       "      <td>Hotels</td>\n",
       "      <td>Adelanto, CA</td>\n",
       "      <td>+1-760-949-9900</td>\n",
       "      <td>la-quinta-inn-and-suites-hesperia-victorville-...</td>\n",
       "      <td>https://s3-media2.fl.yelpcdn.com/bphoto/dGFxdg...</td>\n",
       "      <td>0</td>\n",
       "      <td>La Quinta Inn &amp; Suites Hesperia Victorville</td>\n",
       "      <td>4.0</td>\n",
       "      <td>24</td>\n",
       "      <td>Good clean hotel. No pet fee. Okay not great d...</td>\n",
       "      <td>https://www.yelp.com/biz/la-quinta-inn-and-sui...</td>\n",
       "      <td>31,765</td>\n",
       "      <td>34.582769</td>\n",
       "      <td>-117.409214</td>\n",
       "    </tr>\n",
       "    <tr>\n",
       "      <th>4</th>\n",
       "      <td>Venues &amp; Event Spaces</td>\n",
       "      <td>Adelanto, CA</td>\n",
       "      <td>+1-760-245-6565</td>\n",
       "      <td>holiday-inn-victorville-victorville-2</td>\n",
       "      <td>https://s3-media4.fl.yelpcdn.com/bphoto/Zv95eb...</td>\n",
       "      <td>0</td>\n",
       "      <td>Holiday Inn Victorville</td>\n",
       "      <td>3.0</td>\n",
       "      <td>36</td>\n",
       "      <td>Being a Platinum Elite member with IHG the cor...</td>\n",
       "      <td>https://www.yelp.com/biz/holiday-inn-victorvil...</td>\n",
       "      <td>31,765</td>\n",
       "      <td>34.582769</td>\n",
       "      <td>-117.409214</td>\n",
       "    </tr>\n",
       "  </tbody>\n",
       "</table>\n",
       "</div>"
      ],
      "text/plain": [
       "              categories          city    display_phone  \\\n",
       "0                 Hotels  Adelanto, CA  +1-760-530-2200   \n",
       "1                 Hotels  Adelanto, CA  +1-760-952-1200   \n",
       "2                 Hotels  Adelanto, CA  +1-888-293-5571   \n",
       "3                 Hotels  Adelanto, CA  +1-760-949-9900   \n",
       "4  Venues & Event Spaces  Adelanto, CA  +1-760-245-6565   \n",
       "\n",
       "                                                  id  \\\n",
       "0                   americas-best-value-inn-adelanto   \n",
       "1          hilton-garden-inn-victorville-victorville   \n",
       "2  hawthorn-suites-by-wyndham-victorville-victorv...   \n",
       "3  la-quinta-inn-and-suites-hesperia-victorville-...   \n",
       "4              holiday-inn-victorville-victorville-2   \n",
       "\n",
       "                                           image_url  is_closed  \\\n",
       "0  https://s3-media3.fl.yelpcdn.com/bphoto/MMsVJg...          0   \n",
       "1  https://s3-media2.fl.yelpcdn.com/bphoto/qrmyBV...          0   \n",
       "2  https://s3-media2.fl.yelpcdn.com/bphoto/pKLe22...          0   \n",
       "3  https://s3-media2.fl.yelpcdn.com/bphoto/dGFxdg...          0   \n",
       "4  https://s3-media4.fl.yelpcdn.com/bphoto/Zv95eb...          0   \n",
       "\n",
       "                                          name  rating  review_count  \\\n",
       "0                      Americas Best Value Inn     3.5            11   \n",
       "1                Hilton Garden Inn Victorville     3.5            62   \n",
       "2       Hawthorn Suites By Wyndham Victorville     3.5            25   \n",
       "3  La Quinta Inn & Suites Hesperia Victorville     4.0            24   \n",
       "4                      Holiday Inn Victorville     3.0            36   \n",
       "\n",
       "                                        snippet_text  \\\n",
       "0  Stayed one night there. Neat, quite and comfor...   \n",
       "1  So far I only have 2 complaints about this pla...   \n",
       "2  Booked this hotel for my parents,  they wanted...   \n",
       "3  Good clean hotel. No pet fee. Okay not great d...   \n",
       "4  Being a Platinum Elite member with IHG the cor...   \n",
       "\n",
       "                                                 url city_population  \\\n",
       "0  https://www.yelp.com/biz/americas-best-value-i...          31,765   \n",
       "1  https://www.yelp.com/biz/hilton-garden-inn-vic...          31,765   \n",
       "2  https://www.yelp.com/biz/hawthorn-suites-by-wy...          31,765   \n",
       "3  https://www.yelp.com/biz/la-quinta-inn-and-sui...          31,765   \n",
       "4  https://www.yelp.com/biz/holiday-inn-victorvil...          31,765   \n",
       "\n",
       "   Latitude    Longitude  \n",
       "0  34.582769 -117.409214  \n",
       "1  34.582769 -117.409214  \n",
       "2  34.582769 -117.409214  \n",
       "3  34.582769 -117.409214  \n",
       "4  34.582769 -117.409214  "
      ]
     },
     "execution_count": 130,
     "metadata": {},
     "output_type": "execute_result"
    }
   ],
   "source": [
    "df_hotels_final.head()"
   ]
  },
  {
   "cell_type": "code",
   "execution_count": 131,
   "metadata": {
    "collapsed": false
   },
   "outputs": [
    {
     "data": {
      "text/html": [
       "<iframe id=\"igraph\" scrolling=\"no\" style=\"border:none;\" seamless=\"seamless\" src=\"https://plot.ly/~stephanielamm/56.embed\" height=\"525px\" width=\"100%\"></iframe>"
      ],
      "text/plain": [
       "<plotly.tools.PlotlyDisplay object>"
      ]
     },
     "execution_count": 131,
     "metadata": {},
     "output_type": "execute_result"
    }
   ],
   "source": [
    "#get the most frequent category labels\n",
    "count_df = freq_cat(df_hotels_final)\n",
    "colors = ['rgba(222,45,38,0.8)', 'grey', 'grey', 'grey', 'grey', 'grey', 'grey', 'grey','grey', 'grey']\n",
    "freq_bar_plot(count_df, 'Hotels', colors)"
   ]
  },
  {
   "cell_type": "markdown",
   "metadata": {},
   "source": [
    "From the dataframe we got from yelp, the Hotel category doesn't contain much varieties of category. \n",
    "Therefore, to better analysis the hotel data, we will first restrict the data to those that are indeed Hotels, and look at the pie chart of the star distribution and map of average rating in each city"
   ]
  },
  {
   "cell_type": "code",
   "execution_count": 136,
   "metadata": {
    "collapsed": false
   },
   "outputs": [],
   "source": [
    "def restrict_df(df, category):\n",
    "    \"\"\"limit the dataframe to only the category we want\"\"\"\n",
    "    df_limit = pd.DataFrame()\n",
    "    for i in range(0, len(df)):\n",
    "            if df['categories'][i] == category:\n",
    "                df_limit = pd.concat([df.iloc[[i]],df_limit], ignore_index = True)\n",
    "    return df_limit\n",
    "\n",
    "category = u'Hotels'\n",
    "df_limit_hotels = restrict_df(df_hotels_final, category)"
   ]
  },
  {
   "cell_type": "code",
   "execution_count": 143,
   "metadata": {
    "collapsed": true
   },
   "outputs": [],
   "source": [
    "def star_pie(df, keyterm):\n",
    "    \"\"\"star distribution in the category 'Hotels'\"\"\"\n",
    "    labels, values = zip(*Counter(df).items()) \n",
    "\n",
    "    fig = {'data': [{'labels': labels,'values': values,'type': 'pie'}],\n",
    "    'layout': {'title': \"Pie chart of star distribution in the category '%s'\" %keyterm}}\n",
    "    return py.iplot(fig, filename = \"star distribution in the category %s\" %keyterm)"
   ]
  },
  {
   "cell_type": "code",
   "execution_count": 144,
   "metadata": {
    "collapsed": false
   },
   "outputs": [
    {
     "data": {
      "text/html": [
       "<iframe id=\"igraph\" scrolling=\"no\" style=\"border:none;\" seamless=\"seamless\" src=\"https://plot.ly/~stephanielamm/38.embed\" height=\"525px\" width=\"100%\"></iframe>"
      ],
      "text/plain": [
       "<plotly.tools.PlotlyDisplay object>"
      ]
     },
     "execution_count": 144,
     "metadata": {},
     "output_type": "execute_result"
    }
   ],
   "source": [
    "star_pie(df_limit_hotels['rating'], 'Hotels')"
   ]
  },
  {
   "cell_type": "markdown",
   "metadata": {},
   "source": [
    "From the pie chart, we can see that the majority of hotels are between 3 to 4 stars. \n",
    "There is only 3.04% of hotels are rated 5 stars while 26.7% are 3.5 stars."
   ]
  },
  {
   "cell_type": "code",
   "execution_count": 145,
   "metadata": {
    "collapsed": false
   },
   "outputs": [
    {
     "data": {
      "text/html": [
       "<iframe id=\"igraph\" scrolling=\"no\" style=\"border:none;\" seamless=\"seamless\" src=\"https://plot.ly/~stephanielamm/74.embed\" height=\"525px\" width=\"100%\"></iframe>"
      ],
      "text/plain": [
       "<plotly.tools.PlotlyDisplay object>"
      ]
     },
     "execution_count": 145,
     "metadata": {},
     "output_type": "execute_result"
    }
   ],
   "source": [
    "hotel_rating = city_rating(df_limit_hotels)\n",
    "city_rating_map(hotel_rating,'Hotels', 1)"
   ]
  },
  {
   "cell_type": "markdown",
   "metadata": {},
   "source": [
    "Compared to the restaurants category, there are actually quite a lot of cities that has a average hotel rating between 1 - 3 stars. The only 2 red dots in the map: the dot in Exeter is very small and the average reviews count is only 14, indicating that even though it has a average 4.5 rating in the city, there might be just one hotel in the city. On the other hand, the hotels in Palm Spring is very nice because the average review count is very high."
   ]
  },
  {
   "cell_type": "markdown",
   "metadata": {},
   "source": [
    "To find the top hotels in California, we wanted the user to be able to look at the top of different kinds of hotel such as hotel, motel, inn, and etc. Therefore, we group the hotels into different categories by finding the pattern within their name."
   ]
  },
  {
   "cell_type": "code",
   "execution_count": 140,
   "metadata": {
    "collapsed": true
   },
   "outputs": [],
   "source": [
    "def find_pattern(kind, df):\n",
    "    \"\"\"find the pattern in names\"\"\"\n",
    "    frame = pd.DataFrame()\n",
    "    for i in range(0, len(df)):\n",
    "        if kind in df['name'][i].lower():\n",
    "            temp = df.iloc[i]\n",
    "            frame = frame.append(temp)\n",
    "            frame = pd.DataFrame(frame)\n",
    "    return frame\n",
    "    \n",
    "hotel_group = pd.DataFrame()\n",
    "kinds = [u'hotel', u'motel', u'inn', u'suites', u'lodge', u'resort', u'villas']\n",
    "for i in range(0, len(kinds)):\n",
    "    group = find_pattern(kinds[i], df_limit_hotels)\n",
    "    group['type'] = kinds[i]\n",
    "    #create new dataframe\n",
    "    hotel_group = pd.concat([hotel_group, group], ignore_index = True)"
   ]
  },
  {
   "cell_type": "code",
   "execution_count": 142,
   "metadata": {
    "collapsed": false,
    "scrolled": false
   },
   "outputs": [
    {
     "data": {
      "text/html": [
       "<iframe id=\"igraph\" scrolling=\"no\" style=\"border:none;\" seamless=\"seamless\" src=\"https://plot.ly/~stephanielamm/82.embed\" height=\"525px\" width=\"100%\"></iframe>"
      ],
      "text/plain": [
       "<plotly.tools.PlotlyDisplay object>"
      ]
     },
     "execution_count": 142,
     "metadata": {},
     "output_type": "execute_result"
    }
   ],
   "source": [
    "top3_map(kinds, hotel_group, 'hotels')"
   ]
  },
  {
   "cell_type": "markdown",
   "metadata": {},
   "source": [
    "Same as the restaurant category, most top hotels are located near San Francisco and LA-SD area"
   ]
  },
  {
   "cell_type": "markdown",
   "metadata": {},
   "source": [
    "## Landmarks"
   ]
  },
  {
   "cell_type": "code",
   "execution_count": 147,
   "metadata": {
    "collapsed": true
   },
   "outputs": [],
   "source": [
    "df_landmarks_final = get_df(\"Landmarks\")"
   ]
  },
  {
   "cell_type": "code",
   "execution_count": 148,
   "metadata": {
    "collapsed": false
   },
   "outputs": [
    {
     "data": {
      "text/html": [
       "<iframe id=\"igraph\" scrolling=\"no\" style=\"border:none;\" seamless=\"seamless\" src=\"https://plot.ly/~stephanielamm/58.embed\" height=\"525px\" width=\"100%\"></iframe>"
      ],
      "text/plain": [
       "<plotly.tools.PlotlyDisplay object>"
      ]
     },
     "execution_count": 148,
     "metadata": {},
     "output_type": "execute_result"
    }
   ],
   "source": [
    "#get the most frequent category labels\n",
    "count_df = freq_cat(df_landmarks_final)\n",
    "#plot of the most frequent category for Landmarks\n",
    "colors = ['rgba(222,45,38,0.8)', 'grey', 'grey', 'grey', 'grey', 'grey', 'grey', 'grey','grey', 'grey']\n",
    "freq_bar_plot(count_df, 'Landmarks', colors)"
   ]
  },
  {
   "cell_type": "code",
   "execution_count": 151,
   "metadata": {
    "collapsed": false
   },
   "outputs": [],
   "source": [
    "category = u'Landmarks & Historical Buildings'\n",
    "df_limit_landmarks = restrict_df(df_landmarks_final, category)"
   ]
  },
  {
   "cell_type": "code",
   "execution_count": 152,
   "metadata": {
    "collapsed": false
   },
   "outputs": [
    {
     "data": {
      "text/html": [
       "<iframe id=\"igraph\" scrolling=\"no\" style=\"border:none;\" seamless=\"seamless\" src=\"https://plot.ly/~stephanielamm/72.embed\" height=\"525px\" width=\"100%\"></iframe>"
      ],
      "text/plain": [
       "<plotly.tools.PlotlyDisplay object>"
      ]
     },
     "execution_count": 152,
     "metadata": {},
     "output_type": "execute_result"
    }
   ],
   "source": [
    "star_pie(df_limit_landmarks['rating'], 'Landmarks')"
   ]
  },
  {
   "cell_type": "markdown",
   "metadata": {},
   "source": [
    "From the pie chart, most landmarks seem to have high rating, ranged from 4 to 5 stars. "
   ]
  },
  {
   "cell_type": "code",
   "execution_count": 153,
   "metadata": {
    "collapsed": false
   },
   "outputs": [
    {
     "data": {
      "text/html": [
       "<iframe id=\"igraph\" scrolling=\"no\" style=\"border:none;\" seamless=\"seamless\" src=\"https://plot.ly/~stephanielamm/84.embed\" height=\"525px\" width=\"100%\"></iframe>"
      ],
      "text/plain": [
       "<plotly.tools.PlotlyDisplay object>"
      ]
     },
     "execution_count": 153,
     "metadata": {},
     "output_type": "execute_result"
    }
   ],
   "source": [
    "landmark_rating = city_rating(df_limit_landmarks)\n",
    "city_rating_map(landmark_rating,'Landmarks', 1)"
   ]
  },
  {
   "cell_type": "markdown",
   "metadata": {},
   "source": [
    "From the previous plot and this map, we see that landmarks have dramatically more cities that are highly-rated. And most of them also have high average review count."
   ]
  },
  {
   "cell_type": "code",
   "execution_count": 154,
   "metadata": {
    "collapsed": false
   },
   "outputs": [
    {
     "data": {
      "text/plain": [
       "0                               City of Redlands\n",
       "1                        Lincoln Memorial Shrine\n",
       "2                  Center For Sacramento History\n",
       "3                     Rickey Ranch Pumpkin Patch\n",
       "4    Marshall Gold Discovery State Historic Park\n",
       "5                                Old Town Auburn\n",
       "6                             Loomis Train Depot\n",
       "7                   Maidu Museum & Historic Site\n",
       "8              Sutter's Fort State Historic Park\n",
       "9    Leland Stanford Mansion State Historic Park\n",
       "Name: name, dtype: object"
      ]
     },
     "execution_count": 154,
     "metadata": {},
     "output_type": "execute_result"
    }
   ],
   "source": [
    "df_limit_landmarks['name'][0:10]"
   ]
  },
  {
   "cell_type": "markdown",
   "metadata": {},
   "source": [
    "Since we focused on only the landmarks and historical building category and there is no pattern in their names, we will find and plot the top 10 landmarks in California instead."
   ]
  },
  {
   "cell_type": "code",
   "execution_count": 155,
   "metadata": {
    "collapsed": true
   },
   "outputs": [],
   "source": [
    "def find_best_10(data, df):\n",
    "    \"\"\"get the best 10\"\"\"\n",
    "    df_best_10 = pd.DataFrame()\n",
    "    for i in range(0,len(data)):\n",
    "        if data['rating'][i] == 5.0:\n",
    "            top = df.iloc[[data['level_1'][i]]]\n",
    "            df_best_10 = pd.concat([top,df_best_10],ignore_index = True)\n",
    "            df_best_10 = df_best_10.drop_duplicates(['name'])\n",
    "            if len(df_best_10) == 10:\n",
    "                break\n",
    "        if len(df_best_10) < 10:\n",
    "            for i in range(0, len(data)):\n",
    "                if data['rating'][i] == 4.5:\n",
    "                    top = df.iloc[[data['level_1'][i]]]\n",
    "                    df_best_10 = pd.concat([top,df_best_10],ignore_index = True)\n",
    "                    df_best_10 = df_best_10.drop_duplicates(['name'])\n",
    "                    if len(df_best10) == 10:\n",
    "                        break\n",
    "                else:\n",
    "                    break\n",
    "    return df_best_10\n",
    "\n",
    "def best10(df):\n",
    "    \"\"\"dataframe of the top 10 landmarks\"\"\"\n",
    "    best_10 = df.groupby('rating')['review_count'].nlargest(10).reset_index()\n",
    "    best_10 = pd.DataFrame(best_10)\n",
    "    df_best_10 = find_best_10(best_10, df)\n",
    "    df_best_10 = df_best_10.iloc[::-1]\n",
    "    return df_best_10"
   ]
  },
  {
   "cell_type": "code",
   "execution_count": 156,
   "metadata": {
    "collapsed": true
   },
   "outputs": [],
   "source": [
    "best_10 = df_limit_landmarks.groupby('rating')['review_count'].nlargest(10).reset_index()\n",
    "df_best_10 = pd.DataFrame()\n",
    "for i in range(0,len(best_10)):\n",
    "    if best_10['rating'][i] == 5.0:\n",
    "        top = df_limit_landmarks.iloc[[best_10['level_1'][i]]]\n",
    "        df_best_10 = pd.concat([top,df_best_10],ignore_index = True)\n",
    "        df_best_10 = df_best_10.drop_duplicates(['name'])\n",
    "        if len(df_best_10) == 10:\n",
    "            break\n",
    "if len(df_best_10) < 10:\n",
    "    for i in range(0,len(best_10)):\n",
    "        if best_10['rating'][i] == 4.5:\n",
    "            top = df_limit_landmarks.iloc[[best_10['level_1'][i]]]\n",
    "            df_best_10 = pd.concat([top,df_best_10],ignore_index = True)\n",
    "            df_best_10 = df_best_10.drop_duplicates(['name'])\n",
    "            if len(df_best_10) == 10:\n",
    "                break\n",
    "                \n",
    "df_best_10 = df_best_10.iloc[::-1]"
   ]
  },
  {
   "cell_type": "code",
   "execution_count": 158,
   "metadata": {
    "collapsed": true
   },
   "outputs": [
    {
     "data": {
      "text/html": [
       "<div>\n",
       "<table border=\"1\" class=\"dataframe\">\n",
       "  <thead>\n",
       "    <tr style=\"text-align: right;\">\n",
       "      <th></th>\n",
       "      <th>index</th>\n",
       "      <th>categories</th>\n",
       "      <th>city</th>\n",
       "      <th>display_phone</th>\n",
       "      <th>id</th>\n",
       "      <th>image_url</th>\n",
       "      <th>is_closed</th>\n",
       "      <th>name</th>\n",
       "      <th>rating</th>\n",
       "      <th>review_count</th>\n",
       "      <th>snippet_text</th>\n",
       "      <th>url</th>\n",
       "      <th>city_population</th>\n",
       "      <th>Latitude</th>\n",
       "      <th>Longitude</th>\n",
       "    </tr>\n",
       "  </thead>\n",
       "  <tbody>\n",
       "    <tr>\n",
       "      <th>0</th>\n",
       "      <td>5</td>\n",
       "      <td>Landmarks &amp; Historical Buildings</td>\n",
       "      <td>Solana Beach, CA</td>\n",
       "      <td>+1-858-459-2314</td>\n",
       "      <td>mount-soledad-veterans-memorial-la-jolla</td>\n",
       "      <td>https://s3-media1.fl.yelpcdn.com/bphoto/9ZeHuP...</td>\n",
       "      <td>0</td>\n",
       "      <td>Mount Soledad Veterans Memorial</td>\n",
       "      <td>5.0</td>\n",
       "      <td>342</td>\n",
       "      <td>What a great way of paying tribute to our fall...</td>\n",
       "      <td>https://www.yelp.com/biz/mount-soledad-veteran...</td>\n",
       "      <td>12,867</td>\n",
       "      <td>32.991156</td>\n",
       "      <td>-117.271147</td>\n",
       "    </tr>\n",
       "    <tr>\n",
       "      <th>1</th>\n",
       "      <td>4</td>\n",
       "      <td>Landmarks &amp; Historical Buildings</td>\n",
       "      <td>Brisbane, CA</td>\n",
       "      <td>+1-415-556-1693</td>\n",
       "      <td>fort-point-san-francisco</td>\n",
       "      <td>https://s3-media2.fl.yelpcdn.com/bphoto/SocN3O...</td>\n",
       "      <td>0</td>\n",
       "      <td>Fort Point</td>\n",
       "      <td>5.0</td>\n",
       "      <td>302</td>\n",
       "      <td>Such a cool landmark and piece of California :...</td>\n",
       "      <td>https://www.yelp.com/biz/fort-point-san-franci...</td>\n",
       "      <td>4,282</td>\n",
       "      <td>37.680767</td>\n",
       "      <td>-122.399972</td>\n",
       "    </tr>\n",
       "    <tr>\n",
       "      <th>2</th>\n",
       "      <td>3</td>\n",
       "      <td>Landmarks &amp; Historical Buildings</td>\n",
       "      <td>King City, CA</td>\n",
       "      <td>+1-805-924-1628</td>\n",
       "      <td>friends-of-the-elephant-seals-at-piedras-blanc...</td>\n",
       "      <td>https://s3-media4.fl.yelpcdn.com/bphoto/ds_VCs...</td>\n",
       "      <td>0</td>\n",
       "      <td>Friends of the Elephant Seals at Piedras Blancas</td>\n",
       "      <td>5.0</td>\n",
       "      <td>241</td>\n",
       "      <td>Elephant seals! \\n\\nThis is a very cool experi...</td>\n",
       "      <td>https://www.yelp.com/biz/friends-of-the-elepha...</td>\n",
       "      <td>12,874</td>\n",
       "      <td>36.212744</td>\n",
       "      <td>-121.126028</td>\n",
       "    </tr>\n",
       "    <tr>\n",
       "      <th>3</th>\n",
       "      <td>2</td>\n",
       "      <td>Landmarks &amp; Historical Buildings</td>\n",
       "      <td>Larkspur, CA</td>\n",
       "      <td>+1-415-921-5858</td>\n",
       "      <td>golden-gate-bridge-san-francisco</td>\n",
       "      <td>https://s3-media1.fl.yelpcdn.com/bphoto/PbumJn...</td>\n",
       "      <td>0</td>\n",
       "      <td>Golden Gate Bridge</td>\n",
       "      <td>4.5</td>\n",
       "      <td>1479</td>\n",
       "      <td>It's a bridge. It's functional.\\n\\n5/5</td>\n",
       "      <td>https://www.yelp.com/biz/golden-gate-bridge-sa...</td>\n",
       "      <td>11,926</td>\n",
       "      <td>37.934092</td>\n",
       "      <td>-122.535253</td>\n",
       "    </tr>\n",
       "    <tr>\n",
       "      <th>4</th>\n",
       "      <td>0</td>\n",
       "      <td>Landmarks &amp; Historical Buildings</td>\n",
       "      <td>El Cerrito, CA</td>\n",
       "      <td>+1-415-563-6504</td>\n",
       "      <td>palace-of-fine-arts-san-francisco</td>\n",
       "      <td>https://s3-media3.fl.yelpcdn.com/bphoto/qrVb0N...</td>\n",
       "      <td>0</td>\n",
       "      <td>Palace Of Fine Arts</td>\n",
       "      <td>4.5</td>\n",
       "      <td>772</td>\n",
       "      <td>Of all my times coming to NorCal, I finally to...</td>\n",
       "      <td>https://www.yelp.com/biz/palace-of-fine-arts-s...</td>\n",
       "      <td>23,549</td>\n",
       "      <td>37.916133</td>\n",
       "      <td>-122.310764</td>\n",
       "    </tr>\n",
       "  </tbody>\n",
       "</table>\n",
       "</div>"
      ],
      "text/plain": [
       "   index                        categories              city    display_phone  \\\n",
       "0      5  Landmarks & Historical Buildings  Solana Beach, CA  +1-858-459-2314   \n",
       "1      4  Landmarks & Historical Buildings      Brisbane, CA  +1-415-556-1693   \n",
       "2      3  Landmarks & Historical Buildings     King City, CA  +1-805-924-1628   \n",
       "3      2  Landmarks & Historical Buildings      Larkspur, CA  +1-415-921-5858   \n",
       "4      0  Landmarks & Historical Buildings    El Cerrito, CA  +1-415-563-6504   \n",
       "\n",
       "                                                  id  \\\n",
       "0           mount-soledad-veterans-memorial-la-jolla   \n",
       "1                           fort-point-san-francisco   \n",
       "2  friends-of-the-elephant-seals-at-piedras-blanc...   \n",
       "3                   golden-gate-bridge-san-francisco   \n",
       "4                  palace-of-fine-arts-san-francisco   \n",
       "\n",
       "                                           image_url  is_closed  \\\n",
       "0  https://s3-media1.fl.yelpcdn.com/bphoto/9ZeHuP...          0   \n",
       "1  https://s3-media2.fl.yelpcdn.com/bphoto/SocN3O...          0   \n",
       "2  https://s3-media4.fl.yelpcdn.com/bphoto/ds_VCs...          0   \n",
       "3  https://s3-media1.fl.yelpcdn.com/bphoto/PbumJn...          0   \n",
       "4  https://s3-media3.fl.yelpcdn.com/bphoto/qrVb0N...          0   \n",
       "\n",
       "                                               name  rating  review_count  \\\n",
       "0                   Mount Soledad Veterans Memorial     5.0           342   \n",
       "1                                        Fort Point     5.0           302   \n",
       "2  Friends of the Elephant Seals at Piedras Blancas     5.0           241   \n",
       "3                                Golden Gate Bridge     4.5          1479   \n",
       "4                               Palace Of Fine Arts     4.5           772   \n",
       "\n",
       "                                        snippet_text  \\\n",
       "0  What a great way of paying tribute to our fall...   \n",
       "1  Such a cool landmark and piece of California :...   \n",
       "2  Elephant seals! \\n\\nThis is a very cool experi...   \n",
       "3             It's a bridge. It's functional.\\n\\n5/5   \n",
       "4  Of all my times coming to NorCal, I finally to...   \n",
       "\n",
       "                                                 url city_population  \\\n",
       "0  https://www.yelp.com/biz/mount-soledad-veteran...          12,867   \n",
       "1  https://www.yelp.com/biz/fort-point-san-franci...           4,282   \n",
       "2  https://www.yelp.com/biz/friends-of-the-elepha...          12,874   \n",
       "3  https://www.yelp.com/biz/golden-gate-bridge-sa...          11,926   \n",
       "4  https://www.yelp.com/biz/palace-of-fine-arts-s...          23,549   \n",
       "\n",
       "   Latitude    Longitude  \n",
       "0  32.991156 -117.271147  \n",
       "1  37.680767 -122.399972  \n",
       "2  36.212744 -121.126028  \n",
       "3  37.934092 -122.535253  \n",
       "4  37.916133 -122.310764  "
      ]
     },
     "execution_count": 158,
     "metadata": {},
     "output_type": "execute_result"
    }
   ],
   "source": [
    "df_landmark_best_10 = df_best_10.reset_index()\n",
    "df_landmark_best_10"
   ]
  },
  {
   "cell_type": "code",
   "execution_count": 159,
   "metadata": {
    "collapsed": false
   },
   "outputs": [
    {
     "name": "stderr",
     "output_type": "stream",
     "text": [
      "/Users/stephanie/anaconda/lib/python2.7/site-packages/ipykernel/__main__.py:5: SettingWithCopyWarning:\n",
      "\n",
      "\n",
      "A value is trying to be set on a copy of a slice from a DataFrame\n",
      "\n",
      "See the caveats in the documentation: http://pandas.pydata.org/pandas-docs/stable/indexing.html#indexing-view-versus-copy\n",
      "\n",
      "/Users/stephanie/anaconda/lib/python2.7/site-packages/ipykernel/__main__.py:6: SettingWithCopyWarning:\n",
      "\n",
      "\n",
      "A value is trying to be set on a copy of a slice from a DataFrame\n",
      "\n",
      "See the caveats in the documentation: http://pandas.pydata.org/pandas-docs/stable/indexing.html#indexing-view-versus-copy\n",
      "\n"
     ]
    }
   ],
   "source": [
    "import random\n",
    "for i in range(0, len(df_landmark_best_10)):\n",
    "    rand = dict()\n",
    "    rand[i] = random.uniform(0,0.001)\n",
    "    df_landmark_best_10['Latitude '][i] = df_landmark_best_10['Latitude '][i] + rand[i]\n",
    "    df_landmark_best_10['Longitude'][i] = df_landmark_best_10['Longitude'][i] + rand[i]"
   ]
  },
  {
   "cell_type": "code",
   "execution_count": 164,
   "metadata": {
    "collapsed": true
   },
   "outputs": [],
   "source": [
    "def best_5_map(dataframe, keyterm):\n",
    "    \"\"\"map of the top 10 landmarks\"\"\"\n",
    "    dataframe['text'] = 'Name: ' + dataframe['name'] + '<br>City:' + dataframe['city'] +'<br>Rating: ' + dataframe['rating'].astype(np.str)+ ' star' + '<br>Reviews count: ' + dataframe['review_count'].astype(np.str) \n",
    "    color = cl.scales['10']['div']['Spectral']\n",
    "    \n",
    "    data = Data([\n",
    "        Scattermapbox(\n",
    "            lat=dataframe['Latitude '],\n",
    "            lon=dataframe['Longitude'],\n",
    "            mode='markers',\n",
    "            marker=Marker(\n",
    "                size=17,\n",
    "                color=[color[i] for i in range(0, len(color))],\n",
    "                opacity=0.7\n",
    "            ),\n",
    "            text=dataframe['text'],\n",
    "        )\n",
    "    ])\n",
    "\n",
    "    layout = Layout(\n",
    "        title = 'Top 5 %s in California'%keyterm,\n",
    "        autosize=True,\n",
    "        hovermode='closest',\n",
    "        mapbox=dict(\n",
    "            accesstoken=mapbox_access_token,\n",
    "            bearing=0,\n",
    "            center=dict(\n",
    "                lat=35,\n",
    "                lon=-120\n",
    "            ),\n",
    "            pitch=0,\n",
    "            zoom=4.5\n",
    "        ),\n",
    "    )\n",
    "\n",
    "    fig = dict(data=data, layout=layout)\n",
    "    return py.iplot(fig, filename='Top 10 %s'%keyterm, validate=False)"
   ]
  },
  {
   "cell_type": "code",
   "execution_count": 165,
   "metadata": {
    "collapsed": false
   },
   "outputs": [
    {
     "data": {
      "text/html": [
       "<iframe id=\"igraph\" scrolling=\"no\" style=\"border:none;\" seamless=\"seamless\" src=\"https://plot.ly/~stephanielamm/76.embed\" height=\"525px\" width=\"100%\"></iframe>"
      ],
      "text/plain": [
       "<plotly.tools.PlotlyDisplay object>"
      ]
     },
     "execution_count": 165,
     "metadata": {},
     "output_type": "execute_result"
    }
   ],
   "source": [
    "best_5_map(df_landmark_best_10, 'Landmarks')"
   ]
  },
  {
   "cell_type": "markdown",
   "metadata": {},
   "source": [
    "Different than the restaurant and hotel category, out of the 5 top landmarks, 3 of them are located in San Francisco."
   ]
  }
 ],
 "metadata": {
  "anaconda-cloud": {},
  "kernelspec": {
   "display_name": "Python 2",
   "language": "python",
   "name": "python2"
  },
  "language_info": {
   "codemirror_mode": {
    "name": "ipython",
    "version": 2
   },
   "file_extension": ".py",
   "mimetype": "text/x-python",
   "name": "python",
   "nbconvert_exporter": "python",
   "pygments_lexer": "ipython2",
   "version": "2.7.13"
  }
 },
 "nbformat": 4,
 "nbformat_minor": 2
}
